{
 "cells": [
  {
   "attachments": {},
   "cell_type": "markdown",
   "metadata": {
    "id": "8uJCioevSmGc"
   },
   "source": [
    "# [DataViz]: Milestone 3 (80% of the final grade)\n",
    "\n",
    "**Group ID:** The Vizards\n",
    "\n",
    "**Author 1 (sciper):** Salma Ed-dahabi (282284)\n",
    "\n",
    "**Author 2 (sciper):** Antonin Faure (302686)   \n",
    "\n",
    "**Author 3 (sciper):** Lena Vogel (297026) \n",
    "\n",
    "**Due date:** 02.06.2023 (11:59 pm)\n",
    "\n",
    "[Github link] : https://github.com/com-480-data-visualization/project-2023-the-vizards"
   ]
  },
  {
   "cell_type": "code",
   "execution_count": 13,
   "metadata": {},
   "outputs": [],
   "source": [
    "import requests\n",
    "import json\n",
    "\n",
    "# Overpass API url\n",
    "overpass_url = \"http://overpass-api.de/api/interpreter\"\n",
    "\n",
    "# Overpass API Query for bus and metro routes\n",
    "overpass_query = \"\"\"\n",
    "[out:json][timeout:25];\n",
    "(\n",
    "  relation[\"route\"=\"bus\"][\"operator\"=\"TL\"](46.2212,5.9676,46.9480,7.2400);\n",
    ");\n",
    "out body;\n",
    ">;\n",
    "out skel qt;\n",
    "\"\"\"\n",
    "\n",
    "response = requests.get(overpass_url, params={'data': overpass_query})\n",
    "data = response.json()\n",
    "\n",
    "# Save the data to a JSON file\n",
    "with open('lausanne_transportation_lines.json', 'w') as outfile:\n",
    "    json.dump(data, outfile)\n"
   ]
  },
  {
   "cell_type": "code",
   "execution_count": 22,
   "metadata": {},
   "outputs": [],
   "source": [
    "import requests\n",
    "import json\n",
    "\n",
    "overpass_url = \"http://overpass-api.de/api/interpreter\"\n",
    "overpass_query = \"\"\"\n",
    "[out:json];\n",
    "(\n",
    "  way[\"building\"](46.4910,6.5139,46.5785,6.7207);\n",
    "  relation[\"building\"](46.4910,6.5139,46.5785,6.7207);\n",
    ");\n",
    "out body;\n",
    ">;\n",
    "out skel qt;\n",
    "\"\"\"\n",
    "\n",
    "response = requests.get(overpass_url, \n",
    "                        params={'data': overpass_query})\n",
    "data = response.json()\n",
    "\n",
    "# write the json to a file\n",
    "with open('lausanne_buildings.json', 'w') as f:\n",
    "    json.dump(data, f)"
   ]
  },
  {
   "cell_type": "code",
   "execution_count": null,
   "metadata": {},
   "outputs": [],
   "source": []
  }
 ],
 "metadata": {
  "colab": {
   "provenance": []
  },
  "kernelspec": {
   "display_name": "Python 3 (ipykernel)",
   "language": "python",
   "name": "python3"
  },
  "language_info": {
   "codemirror_mode": {
    "name": "ipython",
    "version": 3
   },
   "file_extension": ".py",
   "mimetype": "text/x-python",
   "name": "python",
   "nbconvert_exporter": "python",
   "pygments_lexer": "ipython3",
   "version": "3.9.0"
  }
 },
 "nbformat": 4,
 "nbformat_minor": 1
}
