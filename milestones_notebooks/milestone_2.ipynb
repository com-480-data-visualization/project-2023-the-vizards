{
 "cells": [
  {
   "attachments": {},
   "cell_type": "markdown",
   "metadata": {
    "id": "8uJCioevSmGc"
   },
   "source": [
    "# [DataViz]: Milestone 1 (10% of the final grade)\n",
    "\n",
    "**Group ID:** The Vizards\n",
    "\n",
    "**Author 1 (sciper):** Salma Ed-dahabi (282284)\n",
    "\n",
    "**Author 2 (sciper):** Antonin Faure (302686)   \n",
    "\n",
    "**Author 3 (sciper):** Lena Vogel (297026) \n",
    "\n",
    "**Due date:** 07.04.2023 (11:59 pm)\n",
    "\n",
    "[Github link] : https://github.com/com-480-data-visualization/project-2023-the-vizards"
   ]
  },
  {
   "attachments": {},
   "cell_type": "markdown",
   "metadata": {
    "id": "mpWlhTRnSmGn"
   },
   "source": [
    "---\n",
    "## Part 1 - Dataset\n",
    "\n",
    "Find a dataset (or multiple) that you will explore. Assess the quality of the data it contains and how much preprocessing / data-cleaning it will require before tackling visualization. We recommend using a standard dataset as this course is not about scraping nor data processing.\n",
    "\n",
    "- We found our dataset on https://opentransportdata.swiss/de/showcase-5/ which is a website that has data on all public transports in Switzerland. As we need to import everything in order to, afterwards, filter only the data that concerns Lausanne, it is very heavy (~15GO per month).\n",
    "\n"
   ]
  },
  {
   "cell_type": "code",
   "execution_count": 1,
   "metadata": {},
   "outputs": [],
   "source": [
    "from plotly.subplots import make_subplots\n",
    "import plotly.express as px\n",
    "import plotly.graph_objects as go\n",
    "import pandas as pd\n",
    "from pyproj import Proj, transform\n",
    "import numpy as np\n",
    "from zipfile import ZipFile\n",
    "import os\n",
    "from tqdm import tqdm"
   ]
  },
  {
   "attachments": {},
   "cell_type": "markdown",
   "metadata": {},
   "source": [
    "### 1.1) Pre processing of stops"
   ]
  },
  {
   "cell_type": "code",
   "execution_count": 2,
   "metadata": {
    "id": "1n8r-exRIa1m",
    "outputId": "73ce8f06-ec49-4c02-be3e-ce08954bb6a0"
   },
   "outputs": [],
   "source": [
    "stops = pd.read_excel('data/bav_list_current_timetable.xlsx', header=1).drop(index=[0])"
   ]
  },
  {
   "cell_type": "code",
   "execution_count": 3,
   "metadata": {},
   "outputs": [],
   "source": [
    "lausanne_box = {\n",
    "    \"lat\": [2529114.807, 2544879.291],\n",
    "    \"lon\": [1159080.496, 1149116.298]\n",
    "}\n",
    "\n",
    "# Filter stops in Lausanne area\n",
    "stops = stops[(stops['Coord. E'] < lausanne_box[\"lat\"][1])\n",
    "            & (stops['Coord. E'] > lausanne_box[\"lat\"][0])\n",
    "            & (stops['Coord. N'] < lausanne_box[\"lon\"][0])\n",
    "            & (stops['Coord. N'] > lausanne_box[\"lon\"][1])\n",
    "            ]\n",
    "\n",
    "# Keep only relevant columns\n",
    "stops = stops[[\"N° sv.85\", \"Nom (ordre alphab.)\", \"Statut\", \"Moyen de transport\", \"N° ET\", \"Sigle ET\", \"Coord. E\", \"Coord. N\", \"Altitude\"]]"
   ]
  },
  {
   "cell_type": "code",
   "execution_count": 4,
   "metadata": {},
   "outputs": [
    {
     "name": "stderr",
     "output_type": "stream",
     "text": [
      "/Applications/anaconda3/envs/dataviz/lib/python3.9/site-packages/pyproj/crs/crs.py:141: FutureWarning: '+init=<authority>:<code>' syntax is deprecated. '<authority>:<code>' is the preferred initialization method. When making the change, be mindful of axis order changes: https://pyproj4.github.io/pyproj/stable/gotchas.html#axis-order-changes-in-proj-6\n",
      "  in_crs_string = _prepare_from_proj_string(in_crs_string)\n",
      "/Applications/anaconda3/envs/dataviz/lib/python3.9/site-packages/pyproj/crs/crs.py:141: FutureWarning: '+init=<authority>:<code>' syntax is deprecated. '<authority>:<code>' is the preferred initialization method. When making the change, be mindful of axis order changes: https://pyproj4.github.io/pyproj/stable/gotchas.html#axis-order-changes-in-proj-6\n",
      "  in_crs_string = _prepare_from_proj_string(in_crs_string)\n",
      "/var/folders/st/5smyl1wx6ng57713ms1f7w1h0000gn/T/ipykernel_73910/1530203831.py:5: FutureWarning: This function is deprecated. See: https://pyproj4.github.io/pyproj/stable/gotchas.html#upgrading-to-pyproj-2-from-pyproj-1\n",
      "  lon, lat, _ = transform(pCH,pWorld, stops[\"Coord. E\"], stops[\"Coord. N\"], np.zeros(stops[\"Coord. E\"].shape))\n"
     ]
    }
   ],
   "source": [
    "pWorld = Proj(init=\"epsg:4326\")\n",
    "pCH = Proj(init=\"epsg:2056\")\n",
    "\n",
    "# Convert LV95 projection to WGS84 projection\n",
    "lon, lat, _ = transform(pCH,pWorld, stops[\"Coord. E\"], stops[\"Coord. N\"], np.zeros(stops[\"Coord. E\"].shape))\n",
    "stops[\"lon\"] = lon\n",
    "stops[\"lat\"] = lat\n",
    "stops = stops.drop(labels=[\"Coord. E\", \"Coord. N\"], axis=1)\n",
    "stops.rename({\n",
    "    \"N° sv.85\": \"stop_id\",\n",
    "    \"Nom (ordre alphab.)\": \"stop_name\",\n",
    "    \"Statut\": \"stop_status\",\n",
    "    \"Moyen de transport\": \"transport_mode\",\n",
    "    \"N° ET\": \"transport_id\",\n",
    "    \"Sigle ET\": \"company_name\",\n",
    "    \"Altitude\": \"altitude\"\n",
    "}, axis=1, inplace=True)"
   ]
  },
  {
   "attachments": {},
   "cell_type": "markdown",
   "metadata": {},
   "source": [
    "### 1.2) Pre processing of timetables"
   ]
  },
  {
   "cell_type": "code",
   "execution_count": 5,
   "metadata": {},
   "outputs": [],
   "source": [
    "keep_columns = [\n",
    "    'PRODUKT_ID',\n",
    "    'BETREIBER_ABK',\n",
    "    'LINIEN_ID',\n",
    "    'LINIEN_TEXT',\n",
    "    'BPUIC',\n",
    "    'FAELLT_AUS_TF',\n",
    "    'ANKUNFTSZEIT',\n",
    "    'AN_PROGNOSE',\n",
    "    'AN_PROGNOSE_STATUS',\n",
    "    'ABFAHRTSZEIT',\n",
    "    'AB_PROGNOSE',\n",
    "    'AB_PROGNOSE_STATUS',\n",
    "    'DURCHFAHRT_TF'\n",
    "]"
   ]
  },
  {
   "cell_type": "code",
   "execution_count": 6,
   "metadata": {},
   "outputs": [
    {
     "ename": "FileNotFoundError",
     "evalue": "[Errno 2] No such file or directory: 'data/raw'",
     "output_type": "error",
     "traceback": [
      "\u001b[0;31m---------------------------------------------------------------------------\u001b[0m",
      "\u001b[0;31mFileNotFoundError\u001b[0m                         Traceback (most recent call last)",
      "Cell \u001b[0;32mIn[6], line 2\u001b[0m\n\u001b[1;32m      1\u001b[0m \u001b[39m# Read monthly zip files, filter Lausanne area and write csv file per day\u001b[39;00m\n\u001b[0;32m----> 2\u001b[0m \u001b[39mfor\u001b[39;00m month_file \u001b[39min\u001b[39;00m os\u001b[39m.\u001b[39;49mlistdir(\u001b[39m'\u001b[39;49m\u001b[39mdata/raw\u001b[39;49m\u001b[39m'\u001b[39;49m):\n\u001b[1;32m      3\u001b[0m     \u001b[39mif\u001b[39;00m month_file\u001b[39m.\u001b[39mendswith(\u001b[39m'\u001b[39m\u001b[39m.zip\u001b[39m\u001b[39m'\u001b[39m):\n\u001b[1;32m      4\u001b[0m         \u001b[39mprint\u001b[39m(\u001b[39m'\u001b[39m\u001b[39mreading \u001b[39m\u001b[39m{}\u001b[39;00m\u001b[39m ...\u001b[39m\u001b[39m'\u001b[39m\u001b[39m.\u001b[39mformat(month_file))\n",
      "\u001b[0;31mFileNotFoundError\u001b[0m: [Errno 2] No such file or directory: 'data/raw'"
     ]
    }
   ],
   "source": [
    "# Read monthly zip files, filter Lausanne area and write csv file per day\n",
    "for month_file in os.listdir('data/raw'):\n",
    "    if month_file.endswith('.zip'):\n",
    "        print('reading {} ...'.format(month_file))\n",
    "        zip_file = ZipFile('data/raw/{}'.format(month_file))\n",
    "        for i, text_file in tqdm(enumerate(zip_file.infolist()), total=len(zip_file.infolist())):\n",
    "            if text_file.filename.endswith('.csv') and not str(text_file.filename).startswith('__MACOSX/'):\n",
    "                timetable = pd.read_csv(zip_file.open(text_file.filename), sep=\";\", low_memory=False)\n",
    "\n",
    "                # Filter Lausanne area\n",
    "                timetable = timetable[timetable[\"BPUIC\"].isin(stops['N° sv.85'].to_list())]\n",
    "\n",
    "                # Keep only relevant columns\n",
    "                timetable = timetable[keep_columns]\n",
    "                \n",
    "                timetable.to_csv('data/timetables/{}'.format(os.path.basename(text_file.filename)), sep=';', index=False)\n",
    "                del timetable"
   ]
  },
  {
   "cell_type": "code",
   "execution_count": 7,
   "metadata": {},
   "outputs": [
    {
     "name": "stderr",
     "output_type": "stream",
     "text": [
      "100%|██████████| 450/450 [56:50<00:00,  7.58s/it]\n"
     ]
    }
   ],
   "source": [
    "# Merge all days files into one BIG file\n",
    "import warnings\n",
    "warnings.simplefilter(action='ignore', category=FutureWarning)\n",
    "\n",
    "all_timetables = pd.DataFrame(columns=keep_columns)\n",
    "for month_file in tqdm(os.listdir('data/timetables')):\n",
    "    if month_file.endswith('.csv'):\n",
    "        timetable = pd.read_csv('data/timetables/{}'.format(month_file), sep=\";\", low_memory=False)\n",
    "        timetable['FAELLT_AUS_TF'] = timetable['FAELLT_AUS_TF'].astype(bool)\n",
    "        timetable['DURCHFAHRT_TF'] = timetable['DURCHFAHRT_TF'].astype(bool)\n",
    "        all_timetables = pd.concat([all_timetables, timetable])\n",
    "        del timetable\n",
    "\n",
    "all_timetables.to_csv('data/timetables.csv', sep=';', index=False)"
   ]
  },
  {
   "attachments": {},
   "cell_type": "markdown",
   "metadata": {
    "id": "3fsqzRcUIa1r"
   },
   "source": [
    "---\n",
    "## PART 2 - Problematic"
   ]
  },
  {
   "attachments": {},
   "cell_type": "markdown",
   "metadata": {
    "id": "xqbxtS5rIa1s"
   },
   "source": [
    "**Objectives overview**:\n",
    "\n",
    "Frame the general topic of your visualization and the main axis that you want to develop.\n",
    "\n",
    "**1)** What am I trying to show with my visualization? With our visualisations we would like to show: \n",
    "- Lausanne traffic depending on the day and time: the punctuality of the buses is a good estimation of the traffic.\n",
    "- Lausanne connectivity through the city and its suburbs: seing the concentration of the public transports (and not only the lines/trajectories) allows anyone to judge whether a region is well served or not.\n",
    "\n",
    "**2)** Think of an overview for the project, your motivation, and the target audience.\n",
    "- The main target audience is people who would like to move to Lausanne in a near future.\n",
    "- Another audience could be the TL themselves, as it is useful to know what are the problematic areas, which make the buses late. In general, it could be used in an analytic way for other entities such as geographists or sociologists"
   ]
  },
  {
   "attachments": {},
   "cell_type": "markdown",
   "metadata": {
    "id": "k6XdedutIa1s"
   },
   "source": [
    "---\n",
    "## Part 3 - Exploratory Data Analysis\n",
    "\n",
    "Pre-processing of the data set you chose.\n",
    "\n",
    "Show some basic statistics and get insights about the data\n",
    "\n"
   ]
  },
  {
   "cell_type": "code",
   "execution_count": 8,
   "metadata": {},
   "outputs": [
    {
     "data": {
      "application/vnd.plotly.v1+json": {
       "config": {
        "plotlyServerURL": "https://plot.ly"
       },
       "data": [
        {
         "hovertemplate": "<b>%{hovertext}</b><br><br>company_name=TL<br>lat=%{lat}<br>lon=%{lon}<extra></extra>",
         "hovertext": [
          "Aran, Pra Forny",
          "Belmont-sur-L., Arnier",
          "Belmont-sur-L., Au Devin",
          "Belmont-sur-L., Bas-Monts",
          "Belmont-sur-L., Blessoney",
          "Belmont-sur-L., Burenoz",
          "Belmont-sur-L., Chaffeises",
          "Belmont-sur-L., Chaffiause",
          "Belmont-sur-L., Champ Preveire",
          "Belmont-sur-L., Champ-Chamot",
          "Belmont-sur-L., Chapons",
          "Belmont-sur-L., Chatruffe",
          "Belmont-sur-L., Cita",
          "Belmont-sur-L., Cochène",
          "Belmont-sur-L., Courtillet",
          "Belmont-sur-L., Crau-au-Fer",
          "Belmont-sur-L., Grands Champs",
          "Belmont-sur-L., Léchire",
          "Belmont-sur-L., Malavaux",
          "Belmont-sur-L., Pertuis",
          "Belmont-sur-L., Pâquis",
          "Belmont-sur-L., Raffort",
          "Belmont-sur-L., Rouvène",
          "Belmont-sur-L., Rueyres",
          "Belmont-sur-L., Signal",
          "Belmont-sur-L., centre",
          "Bussigny VD, ch. de Rente",
          "Bussigny, Buyère",
          "Bussigny, Cocagne",
          "Bussigny, Colline",
          "Bussigny, Condémine",
          "Bussigny, Croix de Plan",
          "Bussigny, Dallaz",
          "Bussigny, Grand-Record",
          "Bussigny, Jordil",
          "Bussigny, Rente",
          "Bussigny, Riettaz",
          "Bussigny, Sauge",
          "Bussigny, Sottelles",
          "Bussigny, St-Germain",
          "Bussigny, Sullens",
          "Bussigny, Tatironne",
          "Bussigny, Vieux-Four",
          "Bussigny, gare",
          "Cery-Fleur-de-Lys, gare",
          "Chavannes-R., Berges",
          "Chavannes-R., Concorde",
          "Chavannes-R., Crochy",
          "Chavannes-R., Cèdres",
          "Chavannes-R., Dorigny",
          "Chavannes-R., Glycines",
          "Chavannes-R., Mouline",
          "Chavannes-R., Plaine",
          "Chavannes-R., Planta",
          "Chavannes-R., Préfaully",
          "Chavannes-R., Talluchet",
          "Chavannes-R., UNIL-Chamberonne",
          "Chavannes-R., UNIL-Mouline",
          "Cheseaux-sur-L., Bel-Air",
          "Cheseaux-sur-L., Châtelard",
          "Crissier, Arc-en-Ciel",
          "Crissier, Bré",
          "Crissier, Bré-Château",
          "Crissier, Casard Plan Soleil",
          "Crissier, Chicorée",
          "Crissier, Chisaz",
          "Crissier, Closalet",
          "Crissier, Couchant",
          "Crissier, Crésentine",
          "Crissier, Falaises",
          "Crissier, Feleire",
          "Crissier, Gottrause",
          "Crissier, Jura",
          "Crissier, Lentillières",
          "Crissier, Marcolet",
          "Crissier, Mongevon",
          "Crissier, Montremoën",
          "Crissier, Noutes",
          "Crissier, Pré-Fontaine",
          "Crissier, Sorge",
          "Crissier, Timonet",
          "Crissier, Zinguerie",
          "Crissier, centre",
          "Crissier, scierie",
          "Cugy VD, Cavenette",
          "Ecublens VD, Argand",
          "Ecublens VD, Bassenges",
          "Ecublens VD, Cerisaie",
          "Ecublens VD, Champs-Courbes",
          "Ecublens VD, Croset",
          "Ecublens VD, EPFL",
          "Ecublens VD, EPFL/Colladon",
          "Ecublens VD, En Enjalin",
          "Ecublens VD, Epenex",
          "Ecublens VD, Epenex/Pont-Bleu",
          "Ecublens VD, Montaney",
          "Ecublens VD, Parc",
          "Ecublens VD, Perrettes",
          "Ecublens VD, Pontet",
          "Ecublens VD, Renges",
          "Ecublens VD, Stand",
          "Ecublens VD, Suchet-Forêt",
          "Ecublens VD, UNIL-Sorge",
          "Ecublens VD, Veilloud",
          "Ecublens VD, Villars",
          "Ecublens VD, place de sport",
          "Epalinges, Ballègue",
          "Epalinges, Biolleyre",
          "Epalinges, Bois de Ban",
          "Epalinges, Bois-Murat",
          "Epalinges, Croisettes",
          "Epalinges, Croix-Blanche",
          "Epalinges, En Praz Bin",
          "Epalinges, Florimont",
          "Epalinges, Girarde",
          "Epalinges, Grand Chemin",
          "Epalinges, Lion d'Or",
          "Epalinges, Marcel Regamey",
          "Epalinges, Montéclard",
          "Epalinges, Pierraz",
          "Epalinges, Planches",
          "Epalinges, Polny",
          "Epalinges, Praz-Buchilly",
          "Epalinges, Près-les-bois",
          "Epalinges, Pré-d'Yverdon",
          "Epalinges, Raidillon",
          "Epalinges, Sylvana",
          "Epalinges, Tuileries",
          "Epalinges, Vuilletaz",
          "Grandvaux, Pra Grana",
          "Jordils",
          "Jouxtens-Mézery, gare",
          "La Conversion, gare",
          "Lausanne, Abeilles",
          "Lausanne, Allières/CHUV",
          "Lausanne, Alpes",
          "Lausanne, Aubépines",
          "Lausanne, Barre",
          "Lausanne, Batelière",
          "Lausanne, Beau-Rivage",
          "Lausanne, Beau-Site",
          "Lausanne, Beaulieu",
          "Lausanne, Beaulieu-Jomini",
          "Lausanne, Bel-Air",
          "Lausanne, Bellerive",
          "Lausanne, Bellevaux",
          "Lausanne, Belvédère",
          "Lausanne, Benj. Constant",
          "Lausanne, Bergières",
          "Lausanne, Bessières",
          "Lausanne, Blécherette",
          "Lausanne, Bois de Vaux",
          "Lausanne, Bois-Gentil",
          "Lausanne, Boissonnet",
          "Lausanne, Boisy",
          "Lausanne, Bonne-Espérance",
          "Lausanne, Bossons",
          "Lausanne, Boston",
          "Lausanne, Bourdonnette",
          "Lausanne, Bourdonnette nord",
          "Lausanne, Boveresses",
          "Lausanne, Béthanie",
          "Lausanne, Béthusy",
          "Lausanne, CHUV",
          "Lausanne, Cascades",
          "Lausanne, Chailly-Village",
          "Lausanne, Chalet à Matthey",
          "Lausanne, Chalet-à-Gobet",
          "Lausanne, Chalet-à-Gobet/Jorat",
          "Lausanne, Champ-Rond",
          "Lausanne, Champ-Soleil",
          "Lausanne, Chandolin",
          "Lausanne, Chauderon",
          "Lausanne, Chauderon-Ale",
          "Lausanne, Chevreuils",
          "Lausanne, Chocolatière",
          "Lausanne, Cigale",
          "Lausanne, Clochatte",
          "Lausanne, Closelet",
          "Lausanne, Cojonnex/EHL",
          "Lausanne, Cottages",
          "Lausanne, Couchirard",
          "Lausanne, Coudrette",
          "Lausanne, Cour",
          "Lausanne, Craivavers",
          "Lausanne, Croix d'Ouchy",
          "Lausanne, Cèdres",
          "Lausanne, Cécil",
          "Lausanne, César-Roux",
          "Lausanne, Dapples",
          "Lausanne, Denantou",
          "Lausanne, Devin",
          "Lausanne, Dranse",
          "Lausanne, Druey",
          "Lausanne, Druey-Collège",
          "Lausanne, Délices",
          "Lausanne, Désert",
          "Lausanne, EPSIC",
          "Lausanne, Ecole Commerce",
          "Lausanne, Ecole des Métiers",
          "Lausanne, Eglantine",
          "Lausanne, Elysée",
          "Lausanne, En Marin",
          "Lausanne, Entre-Bois",
          "Lausanne, Epinettes",
          "Lausanne, Esplanade",
          "Lausanne, Eugène-Rambert",
          "Lausanne, Fauconnières",
          "Lausanne, Faverges",
          "Lausanne, Figuiers",
          "Lausanne, Floreyres",
          "Lausanne, Fontenay",
          "Lausanne, Forêt",
          "Lausanne, Fourmi",
          "Lausanne, Foyer",
          "Lausanne, Gare (Fpl)",
          "Lausanne, Georgette",
          "Lausanne, Grancy",
          "Lausanne, Grand Vennes",
          "Lausanne, Grande-Borde",
          "Lausanne, Grangette",
          "Lausanne, Grattapaille",
          "Lausanne, Grey",
          "Lausanne, Grésy",
          "Lausanne, Haute Combe",
          "Lausanne, Haute-Vue",
          "Lausanne, Hermitage",
          "Lausanne, Jaman",
          "Lausanne, Jordils",
          "Lausanne, Jurigoz",
          "Lausanne, La Cure",
          "Lausanne, Lac Sauvabelin",
          "Lausanne, Languedoc",
          "Lausanne, Les Chavannes",
          "Lausanne, Libellules",
          "Lausanne, Lisière",
          "Lausanne, Maladière",
          "Lausanne, Maladière-Figuiers",
          "Lausanne, Maladière-Lac",
          "Lausanne, Maladière/chapelle",
          "Lausanne, Malley",
          "Lausanne, Mauvernay",
          "Lausanne, Mayoresses",
          "Lausanne, Mirabeau",
          "Lausanne, Molliettes",
          "Lausanne, Mon Repos",
          "Lausanne, Mont d'Or",
          "Lausanne, Mont-Blanc",
          "Lausanne, Mont-Fleuri",
          "Lausanne, Montbenon",
          "Lausanne, Montchoisi",
          "Lausanne, Montelly",
          "Lausanne, Montoie",
          "Lausanne, Montolieu",
          "Lausanne, Montétan",
          "Lausanne, Motte",
          "Lausanne, Mousquines",
          "Lausanne, Musée Olympique",
          "Lausanne, Mémise",
          "Lausanne, Oiseaux",
          "Lausanne, Ouchy-Olympique",
          "Lausanne, Ours",
          "Lausanne, Parc Bourget",
          "Lausanne, Parc Musée Olympique",
          "Lausanne, Parc Rivier",
          "Lausanne, Parc Vélodrome",
          "Lausanne, Pavement",
          "Lausanne, Petit Château",
          "Lausanne, Pierre Viret",
          "Lausanne, Pierrefleur",
          "Lausanne, Piécettes",
          "Lausanne, Pont Bessières",
          "Lausanne, Pont Chauderon",
          "Lausanne, Pont Marc Dufour",
          "Lausanne, Pont-de-Chailly",
          "Lausanne, Port-Franc",
          "Lausanne, Praz-Berthoud",
          "Lausanne, Praz-Collet",
          "Lausanne, Praz-Séchaud",
          "Lausanne, Presbytère",
          "Lausanne, Provence",
          "Lausanne, Provence nord",
          "Lausanne, Provence sud",
          "Lausanne, Prélaz",
          "Lausanne, Prélaz-les-Roses",
          "Lausanne, Pêcheurs",
          "Lausanne, Rapille",
          "Lausanne, Rasude",
          "Lausanne, Recordon",
          "Lausanne, Riant-Cour",
          "Lausanne, Riponne-M. Béjart",
          "Lausanne, Rosière",
          "Lausanne, Rouvraie",
          "Lausanne, Rozavère",
          "Lausanne, Rôtillon",
          "Lausanne, Sablons",
          "Lausanne, Sallaz",
          "Lausanne, Secrétan",
          "Lausanne, Signal",
          "Lausanne, Siège du CIO",
          "Lausanne, St-Etienne",
          "Lausanne, St-François",
          "Lausanne, St-Paul",
          "Lausanne, St-Roch",
          "Lausanne, Stade Olympique",
          "Lausanne, Stade de Coubertin",
          "Lausanne, Théâtre de Vidy",
          "Lausanne, Tivoli",
          "Lausanne, Tour Haldimand-Lac",
          "Lausanne, Trabandan",
          "Lausanne, Tunnel",
          "Lausanne, Valency",
          "Lausanne, Valentin",
          "Lausanne, Vallonnette",
          "Lausanne, Valmont",
          "Lausanne, Vennes",
          "Lausanne, Verdeil",
          "Lausanne, Vers-chez-les-Blanc",
          "Lausanne, Vert-Bois/EHL",
          "Lausanne, Victor-Ruffy",
          "Lausanne, Vidy-Port",
          "Lausanne, Vieux-Moulin",
          "Lausanne, Vigie",
          "Lausanne, Villard",
          "Lausanne, Vinet",
          "Lausanne, Virgile-Rossel",
          "Lausanne, Vuachère",
          "Lausanne, Vulliemin",
          "Lausanne, Vulliette",
          "Lausanne, avenue du Léman",
          "Lausanne, casernes",
          "Lausanne, chemin du Cap",
          "Lausanne, chemin du Village",
          "Lausanne, gare",
          "Lausanne, jardin botanique",
          "Lausanne, place du Nord",
          "Lausanne, rue Neuve",
          "Lausanne, sports UNIL-EPFL",
          "Lausanne,Vallée de la Jeunesse",
          "Lausanne-Flon",
          "Lausanne-Flon (m1)",
          "Lausanne-Flon (m2)",
          "Lausanne-Flon, pl. de l'Europe",
          "Le Mont-sur-L., Budron",
          "Le Mont-sur-L., Coppoz",
          "Le Mont-sur-L., Coppoz-Poste",
          "Le Mont-sur-L., Côtes",
          "Le Mont-sur-L., Etavez",
          "Le Mont-sur-L., Fougères",
          "Le Mont-sur-L., Grand-Mont",
          "Le Mont-sur-L., Maillefer",
          "Le Mont-sur-L., Martines",
          "Le Mont-sur-L., Petit-Mont",
          "Le Mont-sur-L., Rionzi",
          "Lutry, Bossières",
          "Lutry, Bouttettes",
          "Lutry, Bras-de-Fer",
          "Lutry, Brélaz",
          "Lutry, Brûlées",
          "Lutry, Ciblerie",
          "Lutry, Colline",
          "Lutry, Corniche",
          "Lutry, Corsy-Dessous",
          "Lutry, Corsy-Dessus",
          "Lutry, Coullènes",
          "Lutry, Croix/Lutry",
          "Lutry, Crêt-Ministre",
          "Lutry, Crêt-de-Foux",
          "Lutry, Culturaz",
          "Lutry, Echerins",
          "Lutry, Echerins/Collège",
          "Lutry, Flon-de-Vaux",
          "Lutry, Fénix",
          "Lutry, Grand-Pont",
          "Lutry, Gravesse",
          "Lutry, Jordillon",
          "Lutry, Landar",
          "Lutry, Les Champs",
          "Lutry, Les Hugonnet",
          "Lutry, Marionnettes",
          "Lutry, Mourat",
          "Lutry, Orzens",
          "Lutry, Ponfilet",
          "Lutry, Poses-Franches",
          "Lutry, Péraulaz",
          "Lutry, Rive",
          "Lutry, Sapelle",
          "Lutry, Savoie",
          "Lutry, Savuit-place",
          "Lutry, Taillepied",
          "Lutry, Voisinand",
          "Lutry, avenue William",
          "Lutry, gare",
          "Lutry, port",
          "Mex VD, En Verney",
          "Mex VD, Faraz",
          "Mex VD, Les Esserts",
          "Mex VD, Trésy",
          "Mex VD, village",
          "Montblesson, Perronnaz",
          "Ouchy",
          "Paudex, Bernadaz",
          "Paudex, Bochat",
          "Paudex, Grangette",
          "Paudex, Marronnier",
          "Paudex, Verrière",
          "Paudex, village",
          "Prilly, Cery-les-Cèdres",
          "Prilly, Cery-les-Marroniers",
          "Prilly, Chasseur",
          "Prilly, Coudraie",
          "Prilly, Flumeaux",
          "Prilly, Galicien",
          "Prilly, Galicien/aréna",
          "Prilly, Grand Vigne",
          "Prilly, Huttins",
          "Prilly, Mont-Goulin",
          "Prilly, Perréaz",
          "Prilly, centre",
          "Prilly, église",
          "Pully, Bourdonnière",
          "Pully, Boverattes",
          "Pully, Bruyère",
          "Pully, C. F. Ramuz",
          "Pully, Caudoz",
          "Pully, Chenaulaz",
          "Pully, Châtaignier",
          "Pully, Clergère",
          "Pully, Daillettes",
          "Pully, Joliette",
          "Pully, Les Liaudes",
          "Pully, Margerol",
          "Pully, Montillier",
          "Pully, Moulins",
          "Pully, Métairie",
          "Pully, Osches",
          "Pully, Pavillard",
          "Pully, Perraudettaz",
          "Pully, Pierraz-Portay",
          "Pully, Pré Pariset",
          "Pully, Préau",
          "Pully, Reymondin",
          "Pully, Rochettaz",
          "Pully, Roses",
          "Pully, Rosiaz",
          "Pully, Ruisselet",
          "Pully, Somais",
          "Pully, Tour Haldimand",
          "Pully, Val-Vert",
          "Pully, Vallon",
          "Pully, Verney",
          "Pully, Vignes",
          "Pully, centre",
          "Pully, gare",
          "Pully, port",
          "Pully,Centre Sportif Rochettaz",
          "Renens VD, 14 Avril",
          "Renens VD, 1er Août",
          "Renens VD, 1er Mai",
          "Renens VD, Avenir",
          "Renens VD, Baumettes",
          "Renens VD, Bois-Genoud",
          "Renens VD, Borjod",
          "Renens VD, Bourg-Dessus",
          "Renens VD, Broye",
          "Renens VD, Bugnon",
          "Renens VD, Caudray",
          "Renens VD, Censuy",
          "Renens VD, Chêne",
          "Renens VD, Florissant",
          "Renens VD, Follieu",
          "Renens VD, Hôtel-de-Ville",
          "Renens VD, Industrie",
          "Renens VD, Longemalle",
          "Renens VD, Perrelet",
          "Renens VD, Saugiaz",
          "Renens VD, Simplon",
          "Renens VD, Sous l'Eglise",
          "Renens VD, Sur-la-Croix",
          "Renens VD, gare",
          "Renens VD, gare nord",
          "Renens VD, gare sud",
          "Renens VD, piscine",
          "Renens VD, rue du Lac",
          "Renens VD, village",
          "Romanel-sur-Lausanne, gare",
          "St-Sulpice VD, Bochet",
          "St-Sulpice VD, Chantres",
          "St-Sulpice VD, Laviau",
          "St-Sulpice VD, Pâqueret",
          "St-Sulpice VD, Russel",
          "St-Sulpice VD, Venoge nord",
          "St-Sulpice VD, Venoge sud",
          "St-Sulpice VD, centre",
          "Vernand-Camarès, gare",
          "Villars-Ste-Croix, Colice",
          "Villars-Ste-Croix, Croix Péage",
          "Villars-Ste-Croix, En Coulaye",
          "Villars-Ste-Croix, Le Sansy",
          "Villars-Ste-Croix, village",
          "Vufflens-Aclens, zone industr.",
          "Vufflens-la-Ville, gare",
          "Vufflens-la-Ville, église"
         ],
         "lat": [
          46.50532678458773,
          46.52305581580575,
          46.52446468211856,
          46.5325223570673,
          46.51951429040544,
          46.52119209108641,
          46.514119400131484,
          46.52997418322071,
          46.52809189656725,
          46.52266391557599,
          46.51728064054513,
          46.521989758909605,
          46.518376992926015,
          46.51641239828758,
          46.52219016440284,
          46.52447493884858,
          46.522411564043395,
          46.52057175268026,
          46.52060605340596,
          46.52484295419419,
          46.5202247747951,
          46.525257139531135,
          46.52139610460443,
          46.51516852438831,
          46.52640700736733,
          46.5196035031249,
          46.55761288678051,
          46.54993792195829,
          46.554728687762726,
          46.55711311188464,
          46.55550268879044,
          46.548084343647645,
          46.552318037424726,
          46.55001888056769,
          46.552194891192315,
          46.55709031605551,
          46.55352218388738,
          46.55561953382393,
          46.55525328789784,
          46.551094404207916,
          46.55275343874691,
          46.552806966647964,
          46.55365993378149,
          46.54750272126283,
          46.54464739521724,
          46.527490230863286,
          46.53234319047164,
          46.5327148259674,
          46.53015536077547,
          46.52675727165655,
          46.53628267893119,
          46.526174021953054,
          46.52856775659137,
          46.53419552806135,
          46.53358495932187,
          46.5286519887982,
          46.524217360512054,
          46.524992115589,
          46.57848551344366,
          46.57809776024435,
          46.545373148196276,
          46.550481016654786,
          46.55290086204332,
          46.556641831286576,
          46.54075015197757,
          46.550400556925545,
          46.553492560867866,
          46.56037100489684,
          46.55853386719335,
          46.559439539055404,
          46.5514120989809,
          46.54796580431889,
          46.54200600858457,
          46.55083436327352,
          46.546930111058,
          46.54840366824515,
          46.561983899683625,
          46.54351044791146,
          46.544835159252266,
          46.54831921563849,
          46.555764390249436,
          46.54363149350905,
          46.55369333570734,
          46.54681123550014,
          46.58011316841775,
          46.52033261039717,
          46.524585950728714,
          46.52774965708209,
          46.51634077012087,
          46.53469332501055,
          46.522195910274434,
          46.518082994801574,
          46.524212950285374,
          46.537717261601294,
          46.538484956094344,
          46.51881781063148,
          46.53697338602489,
          46.52620278343009,
          46.52978772326956,
          46.52253051924507,
          46.532756154471436,
          46.53987116890483,
          46.52245077934366,
          46.531260368072424,
          46.52952505642554,
          46.53525853775226,
          46.55488205366596,
          46.55246127636371,
          46.558404415129125,
          46.54508787125119,
          46.54309457793891,
          46.54763831527978,
          46.55072797296177,
          46.54869154369357,
          46.549338106394025,
          46.5544197262136,
          46.55190556537346,
          46.54864351096376,
          46.55136664794584,
          46.55266222110063,
          46.54451515281463,
          46.55404291051965,
          46.55693853698247,
          46.56141318124414,
          46.54388926409323,
          46.54143536001568,
          46.54516382326743,
          46.54440430197531,
          46.55338209504273,
          46.50281105717795,
          46.51001994871385,
          46.54901691282579,
          46.51276507274041,
          46.54106606891823,
          46.52394442006428,
          46.51505205930223,
          46.52736002437002,
          46.5257524821664,
          46.51637502350829,
          46.50830243967109,
          46.53490929892793,
          46.528119886295514,
          46.527276262748146,
          46.522284612937064,
          46.51156687206229,
          46.538899050062625,
          46.52090332051661,
          46.519348444530195,
          46.53073728679215,
          46.52071312654871,
          46.542243969419225,
          46.51942704005188,
          46.53866252510296,
          46.53907577421805,
          46.533109494971384,
          46.51505818720106,
          46.539337206127385,
          46.52389537290391,
          46.52326604154253,
          46.52488995521233,
          46.53548068715227,
          46.53458697924103,
          46.521763414913735,
          46.52640274143966,
          46.54015574177401,
          46.52316986017707,
          46.55111231826195,
          46.56476887790925,
          46.56485438274031,
          46.531870922629835,
          46.52302177800932,
          46.517500131771406,
          46.52359458304522,
          46.52380121488649,
          46.558497303986776,
          46.53633896858626,
          46.5433012217936,
          46.54278140565042,
          46.515467061764554,
          46.56182219589809,
          46.52131051563247,
          46.5251385262109,
          46.522409285524745,
          46.51256346262688,
          46.53140180084546,
          46.51203268598026,
          46.51480959171265,
          46.52081867031925,
          46.52421904088891,
          46.514755749682884,
          46.507925102082694,
          46.530218129698476,
          46.53012833010412,
          46.529573882972365,
          46.528394080226505,
          46.512021709232314,
          46.5398683160126,
          46.52343051150601,
          46.526444546209106,
          46.52423198062482,
          46.51632993195688,
          46.510837920008086,
          46.55710988734715,
          46.54088078602391,
          46.51592670262264,
          46.52658594639388,
          46.515277191644614,
          46.524498920632126,
          46.513786168607005,
          46.516844043604806,
          46.517142090755875,
          46.5166965873729,
          46.535548243249316,
          46.53881214745034,
          46.5334045405742,
          46.51755671279107,
          46.517823780174254,
          46.51492437334445,
          46.540110032159525,
          46.52994161361113,
          46.54135899550305,
          46.53668615627192,
          46.53354827847099,
          46.52885487249888,
          46.54482586678869,
          46.52482399944258,
          46.53018001887995,
          46.520491186819825,
          46.509930277057194,
          46.51272984173198,
          46.52760642057761,
          46.53799049751208,
          46.51789838933217,
          46.53025352904524,
          46.540716204308715,
          46.532429106463084,
          46.51705113742027,
          46.51691879760633,
          46.51619383288637,
          46.51787902190735,
          46.52413444923747,
          46.56454530868879,
          46.53197187590722,
          46.51691866825786,
          46.552914705048906,
          46.5188162731332,
          46.516948632152086,
          46.53013200368531,
          46.514486327477144,
          46.51979686936535,
          46.51112293710321,
          46.521821989140996,
          46.51829510351691,
          46.54317041345758,
          46.52961363928355,
          46.53320070253599,
          46.516834532839304,
          46.50960756751623,
          46.52744197601874,
          46.531041044525836,
          46.50746864257222,
          46.521242301410474,
          46.518886472016256,
          46.507342333816055,
          46.536076564288514,
          46.53601955629556,
          46.5411224148727,
          46.52765622058895,
          46.52294004367517,
          46.53468202185869,
          46.541740223186466,
          46.52079426684668,
          46.52323169288283,
          46.51903912880191,
          46.526115441281114,
          46.52216261257571,
          46.53655623154889,
          46.5601587687898,
          46.53758139697623,
          46.529057899815236,
          46.52326153948576,
          46.524133721282595,
          46.52173831727457,
          46.5263302260593,
          46.527044583489676,
          46.50979643511763,
          46.536547703680306,
          46.517103711794164,
          46.52555167886876,
          46.515578620882536,
          46.52307026910447,
          46.520699792779155,
          46.532612421867576,
          46.52889347276936,
          46.52096277996203,
          46.522383755506134,
          46.53281388806503,
          46.51925921866468,
          46.532584792753504,
          46.517559563307216,
          46.534678062640054,
          46.519365281150634,
          46.527215018745096,
          46.52557413349889,
          46.53383201885864,
          46.515382229447354,
          46.51418805279385,
          46.52116047686537,
          46.50531972092494,
          46.51453945410806,
          46.525444845966526,
          46.53158228840231,
          46.52454936559025,
          46.52845797725128,
          46.53523486952764,
          46.54129541809084,
          46.518237667292496,
          46.554778917066386,
          46.56049787313699,
          46.53165143246211,
          46.51451422937499,
          46.533240126224825,
          46.52153705667948,
          46.519556447254814,
          46.526401957974834,
          46.52615485878501,
          46.51787814754487,
          46.527726835146744,
          46.558036579351565,
          46.51569767030391,
          46.531688572418496,
          46.514627713798546,
          46.52412233787906,
          46.517601781320366,
          46.51257970915435,
          46.52493616729147,
          46.52334337034872,
          46.52105923327656,
          46.52329046088638,
          46.52080025066909,
          46.520105676305874,
          46.52022502720642,
          46.52032443771015,
          46.57549207017127,
          46.55954118351062,
          46.55691083017309,
          46.549965662347944,
          46.56617536543164,
          46.570988391756,
          46.56300726025212,
          46.54245502339034,
          46.546332935789735,
          46.5535460514634,
          46.54345143285655,
          46.509767552913566,
          46.50891410382261,
          46.51216320135811,
          46.51318082157309,
          46.5144481849139,
          46.50497009596491,
          46.51063137806395,
          46.50069866176526,
          46.51357846864978,
          46.51487002034747,
          46.52138391879618,
          46.517110610152606,
          46.519822106023746,
          46.52110917838628,
          46.5039511391498,
          46.51846476059877,
          46.524095246504835,
          46.510912236793295,
          46.50684055537375,
          46.504111331967685,
          46.5113155356321,
          46.50910275236407,
          46.517746410542316,
          46.504753975619934,
          46.522466135527004,
          46.51265832891639,
          46.50962962738443,
          46.50698865853238,
          46.51311944210812,
          46.51906606813417,
          46.51742811670199,
          46.501372581093655,
          46.51191974255915,
          46.51611879285048,
          46.507272440565636,
          46.50443542956542,
          46.5036791422116,
          46.50942440569307,
          46.50378595916845,
          46.50181998144419,
          46.57113860694461,
          46.56621880831496,
          46.57647982712673,
          46.57542185444929,
          46.57807695710474,
          46.54241411667021,
          46.507405303624964,
          46.510904255334,
          46.50825029501874,
          46.5102517394114,
          46.50573831352869,
          46.50580771683008,
          46.506666033406646,
          46.54753508247014,
          46.544591046911414,
          46.53914268807976,
          46.54028968211488,
          46.52995899032869,
          46.52809480548804,
          46.52838278210057,
          46.53172843617945,
          46.533236523035775,
          46.538626490158926,
          46.53695301795738,
          46.53487098542631,
          46.53896920181396,
          46.506530182978196,
          46.51632480796194,
          46.52394311056897,
          46.50953701861018,
          46.5118175733702,
          46.527059227773044,
          46.50646342177073,
          46.51120658067058,
          46.52298415632625,
          46.509895962187564,
          46.51784445836702,
          46.51993471884847,
          46.51236441753664,
          46.50840961046906,
          46.510070161530635,
          46.50886837219617,
          46.51972027269215,
          46.51404139514091,
          46.509369215077946,
          46.51907658232267,
          46.51013183816817,
          46.50924339435605,
          46.51412200088896,
          46.515091941848496,
          46.52159866464487,
          46.51283435083561,
          46.50670502896354,
          46.50662756372485,
          46.521892156733315,
          46.51804258174806,
          46.506471110387395,
          46.50721850527582,
          46.51012436690546,
          46.51032141089047,
          46.50626386407182,
          46.511774333694724,
          46.539320136340585,
          46.536746999535,
          46.54073323456167,
          46.53839442206125,
          46.54378132195105,
          46.54629954148985,
          46.53959473949836,
          46.53822803817095,
          46.53541035775151,
          46.539830140776054,
          46.53172923994983,
          46.532380264052314,
          46.52905289276525,
          46.53241808569057,
          46.53967146099352,
          46.5360262475365,
          46.54105665033475,
          46.52557468991171,
          46.530144453225795,
          46.54027856159833,
          46.53429105434511,
          46.535069442065705,
          46.541035735790835,
          46.53748150120683,
          46.53754505237009,
          46.5366185621219,
          46.53040196888851,
          46.52739557884004,
          46.532675976642544,
          46.56270097712047,
          46.513337156090905,
          46.51048420043899,
          46.51128004049809,
          46.51665137152475,
          46.51513473192474,
          46.513822744949934,
          46.512829731820915,
          46.510078933017176,
          46.56995120552485,
          46.5625358454276,
          46.561162387242916,
          46.565998774056105,
          46.56815061493979,
          46.568023826242474,
          46.56477291336405,
          46.57717759642327,
          46.57700742616709
         ],
         "legendgroup": "TL",
         "lon": [
          6.711357191449387,
          6.678119533022935,
          6.685685015283394,
          6.694814629754816,
          6.683942530495115,
          6.672541826257908,
          6.67360632950752,
          6.688997219834056,
          6.684604790195125,
          6.685449447098423,
          6.676819452612047,
          6.682826261735864,
          6.680674419500143,
          6.678812437545405,
          6.680503651925828,
          6.688591268684656,
          6.67729450625041,
          6.6846836349471985,
          6.676355551149122,
          6.691192811711163,
          6.67718195434664,
          6.68175093332927,
          6.674780515652149,
          6.6771098372883815,
          6.688277715070416,
          6.67844177929674,
          6.560196350837162,
          6.563528853492319,
          6.561821168602274,
          6.553762095259925,
          6.5607001333912685,
          6.563480639591005,
          6.551441247689841,
          6.551935384515485,
          6.547205241255231,
          6.562421859745505,
          6.559363075708922,
          6.553734394699015,
          6.5506105967513575,
          6.545684698138013,
          6.561162094242082,
          6.549542385207255,
          6.557404770270198,
          6.552289609905032,
          6.605258555138089,
          6.574971260323648,
          6.574320159721631,
          6.569973444786963,
          6.572908290531759,
          6.58391119462316,
          6.576577599853879,
          6.579345568474897,
          6.572347173103805,
          6.573026073100299,
          6.579097384192819,
          6.58345109896752,
          6.584707286509311,
          6.578895151801527,
          6.605780033010988,
          6.592270104907647,
          6.567722919241006,
          6.57927193430117,
          6.580446182146427,
          6.579069602733034,
          6.579661352864632,
          6.57696520458154,
          6.569535048220824,
          6.576141021698625,
          6.573522914805662,
          6.581437814378596,
          6.5704030654405905,
          6.570301975094961,
          6.573266012562191,
          6.5724987044342695,
          6.574869151672099,
          6.573450408130734,
          6.577667313985899,
          6.57946101889275,
          6.575019984625307,
          6.567114750870033,
          6.573697672784949,
          6.570541118826243,
          6.5769909297239195,
          6.579356377964511,
          6.635670992495259,
          6.571866617930085,
          6.564590945898884,
          6.566547049552765,
          6.5500899435567765,
          6.566369825932699,
          6.566141397820636,
          6.563588375290561,
          6.557076749150455,
          6.573582382339151,
          6.5751605755214335,
          6.552785960860002,
          6.568066864709049,
          6.558451948926345,
          6.566018848936407,
          6.554745225591768,
          6.562477441880304,
          6.570549376007096,
          6.573579060234286,
          6.564496046668102,
          6.561122080620883,
          6.563831724149808,
          6.669860176634202,
          6.6684080741726275,
          6.662650327197122,
          6.654444999507224,
          6.661540363435037,
          6.670902046721354,
          6.671497074363182,
          6.659125867013801,
          6.673498766290362,
          6.684080791597088,
          6.68073860569777,
          6.674551724757159,
          6.662229832076035,
          6.663567371460315,
          6.666696030385239,
          6.665516650952148,
          6.674656083177061,
          6.6672109636595485,
          6.6725720155704495,
          6.671537750822488,
          6.676152478906678,
          6.658379364605761,
          6.676884086501259,
          6.714661037913501,
          6.627395707761079,
          6.601240272032823,
          6.678225214604862,
          6.647880459433397,
          6.647570524827549,
          6.636715539399574,
          6.619275959084076,
          6.636022403594199,
          6.612965878707177,
          6.627499653840531,
          6.620738830731777,
          6.6236048134499645,
          6.626393765314147,
          6.6290753204504425,
          6.617339266843067,
          6.633949846167843,
          6.617132251261355,
          6.637459787362871,
          6.618546949123087,
          6.637074654889013,
          6.621136273264881,
          6.599795949575213,
          6.622246426646633,
          6.646279991665431,
          6.619410391742222,
          6.650424030776439,
          6.617256152874263,
          6.622860458671855,
          6.589805203035487,
          6.58921926429905,
          6.663696485310068,
          6.613495848228103,
          6.647002945375756,
          6.641486906303485,
          6.641205792742401,
          6.655219147114283,
          6.691350919199841,
          6.6914488959938945,
          6.693508489721798,
          6.650296130595175,
          6.653318494238825,
          6.644550288469443,
          6.624819957423988,
          6.627293136689102,
          6.696726113811537,
          6.640857996474553,
          6.647182821405725,
          6.638481284974817,
          6.633073710554888,
          6.682542734530358,
          6.610036367147301,
          6.613144814490349,
          6.658423187084571,
          6.625806923746921,
          6.659218837721681,
          6.62958065195669,
          6.619153430725554,
          6.622854761021067,
          6.637987119043861,
          6.625422126873047,
          6.638971074392431,
          6.651949566098459,
          6.616444576666685,
          6.62815799566585,
          6.630495776516376,
          6.628043244829774,
          6.6123461688752965,
          6.620769157405295,
          6.6220660264450375,
          6.617146827527177,
          6.6418830346800055,
          6.632347856285145,
          6.684134498601808,
          6.63178223167561,
          6.625626043100477,
          6.656173227780459,
          6.648283751148118,
          6.649686826782073,
          6.646038214827618,
          6.610665178900451,
          6.648673491948306,
          6.618851166533257,
          6.633347945440519,
          6.651055283828123,
          6.660037250928988,
          6.629641324834573,
          6.638120934924373,
          6.628872796791183,
          6.646238751406794,
          6.631789128729018,
          6.633248308724351,
          6.618886866808718,
          6.619129995527441,
          6.66037651577529,
          6.684814534201576,
          6.66159452053987,
          6.636230378269013,
          6.649041579669948,
          6.6274361425475465,
          6.63654149860042,
          6.658048379413476,
          6.639047613383672,
          6.617099725466849,
          6.657071653541161,
          6.644156955305379,
          6.63751353659729,
          6.6045502270390495,
          6.606129078695891,
          6.605410489257411,
          6.602139616978338,
          6.602564141481339,
          6.6889216820954145,
          6.654478902585297,
          6.634798291649499,
          6.693203746657515,
          6.6410905384555505,
          6.615146406150243,
          6.626950440124362,
          6.6317852391589565,
          6.629659927476196,
          6.637021389894943,
          6.613560376509571,
          6.60857089653195,
          6.643912264792979,
          6.613702121382339,
          6.633408996996849,
          6.647140282150639,
          6.635180614707675,
          6.633234113080209,
          6.629530722056605,
          6.6266392079032865,
          6.640676801634746,
          6.5936271813162985,
          6.632895091066393,
          6.615454588844469,
          6.623759428326276,
          6.634138369099671,
          6.63553794221341,
          6.633952837750231,
          6.6166751193627755,
          6.6362673063820194,
          6.637099516404386,
          6.624395332980925,
          6.618098883229258,
          6.651878945927874,
          6.627109208609942,
          6.648767730386364,
          6.696298996859489,
          6.667016702939135,
          6.621439995641932,
          6.608651026996366,
          6.606135256458603,
          6.608257370483629,
          6.612487960977862,
          6.60683335609753,
          6.620076348066155,
          6.612201398611277,
          6.632984164258164,
          6.618013051219295,
          6.616027330490845,
          6.632022027060021,
          6.655776239366662,
          6.631644972579686,
          6.65552720805841,
          6.634216855702754,
          6.595748992522876,
          6.646189309578407,
          6.64653137197299,
          6.640457184007861,
          6.599082122614956,
          6.649055896304681,
          6.633484770943181,
          6.61788352547764,
          6.626132606292008,
          6.62606059438344,
          6.602699494227867,
          6.611604981723173,
          6.621598484730223,
          6.64074241507208,
          6.6444113458965655,
          6.634502053866643,
          6.611025966427986,
          6.631283123960737,
          6.648508093026922,
          6.6554092390517,
          6.657615948052487,
          6.649686987938624,
          6.694886320159745,
          6.684960974612129,
          6.648487473237514,
          6.607000084202864,
          6.630097425436073,
          6.623925622314335,
          6.623720895323963,
          6.628674773269505,
          6.648489627667474,
          6.65232462600375,
          6.634077080762723,
          6.681448095167026,
          6.645371663831717,
          6.628243597607884,
          6.649322684391877,
          6.657668603593549,
          6.629653681979849,
          6.623057263405928,
          6.637624595486455,
          6.631209906407486,
          6.585838873149353,
          6.6076861397778615,
          6.630335627073175,
          6.630072336725724,
          6.630409389674602,
          6.630473064616798,
          6.633535008522488,
          6.635950718460932,
          6.635455120225001,
          6.631620473740335,
          6.633986928806464,
          6.634006527775652,
          6.632508147884521,
          6.626726212506945,
          6.63185727368391,
          6.6341489597470185,
          6.632734719772801,
          6.696964888807992,
          6.705445706313886,
          6.700137446166292,
          6.697543518916793,
          6.690528635214106,
          6.688366773081561,
          6.679323674105725,
          6.694079950499464,
          6.680129264757765,
          6.686300801027735,
          6.694603009067995,
          6.702845534057115,
          6.693764393835083,
          6.6911271542988935,
          6.688003094292254,
          6.700807187250174,
          6.700652121986407,
          6.691815407488561,
          6.680145621271186,
          6.68097863319765,
          6.695692772478087,
          6.708192358563779,
          6.690026882987482,
          6.686975731357493,
          6.7032939311082815,
          6.685145821762788,
          6.686947029951744,
          6.683465929798948,
          6.689569741645611,
          6.69097296351641,
          6.681378393326585,
          6.689862756119479,
          6.704206169666001,
          6.70111286329621,
          6.693728836293221,
          6.685064993274074,
          6.68632623776471,
          6.681790182385394,
          6.690233206905465,
          6.684072255384483,
          6.552671361362223,
          6.5505085808673815,
          6.566295005245749,
          6.562085300225866,
          6.554123090944852,
          6.6792942095604015,
          6.6265880424881045,
          6.673078510923228,
          6.674392961255496,
          6.673700149980496,
          6.6754186481851585,
          6.671040026721772,
          6.672917031931324,
          6.60770443673086,
          6.60984885235948,
          6.606608021601741,
          6.609680156165988,
          6.600675261565544,
          6.6040669820982,
          6.601638164741159,
          6.603958731908137,
          6.6084196232123436,
          6.611061487005327,
          6.602444041804813,
          6.605578779841304,
          6.598932016470853,
          6.646587565580432,
          6.665847596155376,
          6.663014757261613,
          6.648185249701605,
          6.667136860272328,
          6.672797538537137,
          6.653806549568915,
          6.661972665881726,
          6.666182466748293,
          6.653235531943572,
          6.656560393923927,
          6.660948039812724,
          6.657656034183158,
          6.6700128564619146,
          6.64081563511572,
          6.654240699013003,
          6.6585401927252565,
          6.654282915974011,
          6.6434840180247665,
          6.6670202218003904,
          6.656124713598186,
          6.665623079900719,
          6.663390220221624,
          6.656600215115785,
          6.6622143183249065,
          6.664529300232438,
          6.657529319465362,
          6.642508080581786,
          6.666993060029455,
          6.667100140108697,
          6.64972839511311,
          6.665508711576938,
          6.660268285234391,
          6.658832169802723,
          6.661405254906462,
          6.670043198423991,
          6.579710157034854,
          6.582058479322789,
          6.583377242397835,
          6.583401220192054,
          6.590356474698093,
          6.584267031310514,
          6.588701312806733,
          6.594823956844971,
          6.598205155987911,
          6.596141753298179,
          6.585918180387198,
          6.583965657136456,
          6.590118389955451,
          6.598668814365065,
          6.592950165687719,
          6.58669772785952,
          6.580934140731431,
          6.596598551170598,
          6.598990912280549,
          6.586317797068468,
          6.582058297369896,
          6.588668194201955,
          6.593737128428376,
          6.578070709484813,
          6.579334238214424,
          6.579348969785698,
          6.585274347401455,
          6.592255920713682,
          6.5922123333700355,
          6.603819228749402,
          6.559469297773421,
          6.553534904003516,
          6.550616135861816,
          6.5704530798848415,
          6.5639097468692285,
          6.545622652050943,
          6.546329675355273,
          6.558102013553925,
          6.6049594094781785,
          6.5662984652092335,
          6.565512027157921,
          6.559225193984523,
          6.56528166520517,
          6.561670561000881,
          6.524746059566115,
          6.531346238984006,
          6.5393594027377135
         ],
         "marker": {
          "color": "#636efa"
         },
         "mode": "markers",
         "name": "TL",
         "showlegend": true,
         "subplot": "mapbox",
         "type": "scattermapbox"
        },
        {
         "hovertemplate": "<b>%{hovertext}</b><br><br>company_name=SBB<br>lat=%{lat}<br>lon=%{lon}<extra></extra>",
         "hovertext": [
          "Archy (bif)",
          "Archy A (bif)",
          "Bossière",
          "Bussigny",
          "Bussigny Est (bif)",
          "Bussigny-Scheuchzer (bif)",
          "Denges A (bif)",
          "Denges B (bif)",
          "Denges-Echandens",
          "La Conversion",
          "Lausanne",
          "Lausanne (bif)",
          "Lausanne Est",
          "Lausanne Paleyres",
          "Lausanne TRIDEL",
          "Lausanne-Sébeillon",
          "Lausanne-Triage",
          "Lausanne-Triage A/B",
          "Lausanne-Triage B",
          "Lausanne-Triage C",
          "Lausanne-Triage D",
          "Lausanne-Triage Est",
          "Lausanne-Triage F",
          "Lausanne-Triage K",
          "Lausanne-Triage Nord",
          "Lausanne-Triage Ouest",
          "Lausanne-Triage P1",
          "Lausanne-Triage SALT",
          "Lausanne-Triage Sud",
          "Lausanne-Triage sectionnement",
          "Lonay A (bif)",
          "Lonay B (bif)",
          "Lonay-Préverenges",
          "Lutry",
          "Lécheires (bif)",
          "Malley (B)",
          "Prilly-Malley",
          "Pully",
          "Pully-Nord",
          "Renens VD",
          "Renens VD Entrepôts",
          "Renens VD Est (bif)",
          "Renens VD Larges Pièces (embr)",
          "Renens VD Ouest (bif)",
          "Taillepied (diag)",
          "Villette VD",
          "Vufflens-la-Ville",
          "Vufflens-la-Ville coté BY (B)",
          "Vufflens-la-Ville coté COS (B)"
         ],
         "lat": [
          46.54223656919308,
          46.543489593342336,
          46.50974696958681,
          46.54758910739281,
          46.54495963492393,
          46.5448743922566,
          46.5295540485262,
          46.53077044203843,
          46.5291298673233,
          46.51308060275003,
          46.516788130312484,
          46.520877398533,
          46.51419927682214,
          46.51300753653865,
          46.533501868815236,
          46.524277511644925,
          46.527159150175734,
          46.529795898988425,
          46.52806785215011,
          46.53083925939223,
          46.53243357559069,
          46.53568200800674,
          46.52531039563873,
          46.52404503713872,
          46.539030469202295,
          46.52415457222738,
          46.525729512584185,
          46.523492791975585,
          46.52498486031701,
          46.52106855233137,
          46.52361213015707,
          46.524808514320384,
          46.523132472527486,
          46.50378845186235,
          46.53478912836078,
          46.52500076898518,
          46.526689821557035,
          46.510919478874214,
          46.51467868372707,
          46.537038269153456,
          46.53482658182527,
          46.533258214445326,
          46.54009900395771,
          46.54079152253853,
          46.505844757265386,
          46.49542356230909,
          46.57624631972226,
          46.568360796351755,
          46.57623742902407
         ],
         "legendgroup": "SBB",
         "lon": [
          6.558790521873806,
          6.563776699235143,
          6.699323529467778,
          6.55183182882155,
          6.558433263313064,
          6.555566223901557,
          6.541817325893377,
          6.544338956074314,
          6.540507874651453,
          6.678325019744914,
          6.6290924759666545,
          6.616037921973442,
          6.634434772223375,
          6.638921957883527,
          6.6455144152796555,
          6.611033544755306,
          6.539302381557789,
          6.54396403907772,
          6.53931333138261,
          6.545080809628027,
          6.547622412205052,
          6.553474213587812,
          6.529701280440317,
          6.5267248866052485,
          6.556026749623706,
          6.523568961361628,
          6.528117149450258,
          6.527411929489099,
          6.533994796961072,
          6.521301386470667,
          6.521010592512199,
          6.52433990401863,
          6.519545989368778,
          6.690610989676997,
          6.550881659503884,
          6.607829281691073,
          6.602628885254737,
          6.659462010715067,
          6.657987464321826,
          6.578938168575626,
          6.582688565698788,
          6.587067247610913,
          6.5744698919614155,
          6.5720860299064965,
          6.681905436061723,
          6.707374128307593,
          6.530761771669816,
          6.529029016785845,
          6.530774967049358
         ],
         "marker": {
          "color": "#EF553B"
         },
         "mode": "markers",
         "name": "SBB",
         "showlegend": true,
         "subplot": "mapbox",
         "type": "scattermapbox"
        },
        {
         "hovertemplate": "<b>%{hovertext}</b><br><br>company_name=LEB<br>lat=%{lat}<br>lon=%{lon}<extra></extra>",
         "hovertext": [
          "Bel-Air LEB",
          "Cery-Fleur-de-Lys",
          "Jouxtens-Mézery",
          "Lausanne-Chauderon",
          "Lausanne-Flon (LEB)",
          "Le Lussex",
          "Prilly-Chasseur",
          "Romanel-sur-Lausanne",
          "Union-Prilly",
          "Vernand-Camarès"
         ],
         "lat": [
          46.57868158691012,
          46.5445826106184,
          46.548336556726746,
          46.5232256622255,
          46.520512778210104,
          46.556877064955664,
          46.53965252624522,
          46.56247130405969,
          46.53472229379937,
          46.570939609313115
         ],
         "legendgroup": "LEB",
         "lon": [
          6.6055291277819,
          6.605011829484578,
          6.601694144856327,
          6.626063643963096,
          6.6303920549488815,
          6.600909771694075,
          6.607434536930308,
          6.603170655084413,
          6.609843768608345,
          6.6048006624075954
         ],
         "marker": {
          "color": "#00cc96"
         },
         "mode": "markers",
         "name": "LEB",
         "showlegend": true,
         "subplot": "mapbox",
         "type": "scattermapbox"
        },
        {
         "hovertemplate": "<b>%{hovertext}</b><br><br>company_name=MBC<br>lat=%{lat}<br>lon=%{lon}<extra></extra>",
         "hovertext": [
          "Bremblens, bas du village",
          "Bussigny, Bosquet",
          "Bussigny, Reculan",
          "Bussigny, Vallon",
          "Bussigny, gare sud",
          "Denges, La Pale",
          "Denges, Les Oches",
          "Denges, Pierraz-Mur",
          "Denges, Sur les Moulins",
          "Denges, village",
          "Echandens, Chocolatière",
          "Echandens, Riaz",
          "Echandens, centre",
          "Echandens, collège",
          "Echandens, poste",
          "Ecublens VD, Blévallaire",
          "Ecublens VD, Champagne",
          "Ecublens VD, Cocarde",
          "Ecublens VD, Coquerellaz",
          "Ecublens VD, EPFL (bus)",
          "Ecublens VD, EPFL Piccard",
          "Ecublens VD, Larges Pièces",
          "Ecublens VD, Motty",
          "Ecublens VD, Ormet",
          "Ecublens VD, allée de Dorigny",
          "Lonay, Carouge",
          "Lonay, Levant",
          "Lonay, Vozy",
          "Lonay, collège nord",
          "Lonay, collège sud",
          "Lonay, gare",
          "Lonay, parc",
          "Lonay, église",
          "Préverenges, Capellan",
          "Préverenges, Taudaz",
          "Préverenges, village",
          "Romanel-sur-M., Moulin-du-Choc",
          "St-Sulpice VD, Castolin",
          "St-Sulpice VD, En Champagny",
          "St-Sulpice VD, Ochettaz-Ormet",
          "St-Sulpice VD, Parc Scient.",
          "St-Sulpice VD, Pré-Fleuri"
         ],
         "lat": [
          46.54477309729398,
          46.545460350601964,
          46.54170861639217,
          46.54388403960928,
          46.54695137821474,
          46.51896019357437,
          46.52582009051334,
          46.51515483860665,
          46.51486231398977,
          46.5230582381681,
          46.53646547535169,
          46.53666401578569,
          46.53460388271974,
          46.53240031300535,
          46.53013336566367,
          46.51950107924999,
          46.518548715354825,
          46.52796337046591,
          46.523744801317626,
          46.52205759919678,
          46.520369440645275,
          46.53174277787408,
          46.525876096186195,
          46.5236061507955,
          46.52048334409464,
          46.52681067385665,
          46.522803373420544,
          46.52805334606259,
          46.52471506105015,
          46.524585906396965,
          46.523207566768235,
          46.528407782936576,
          46.52649762159605,
          46.51955767353338,
          46.517810007863964,
          46.51733936974128,
          46.56276137223725,
          46.51342401796862,
          46.51384086801552,
          46.51379942052276,
          46.51658212961912,
          46.515144438682164
         ],
         "legendgroup": "MBC",
         "lon": [
          6.514588419458228,
          6.554565725446675,
          6.554522802560195,
          6.553157326203311,
          6.55195964454019,
          6.542279767996452,
          6.541748936975763,
          6.536609135496726,
          6.541696150092352,
          6.540608748332764,
          6.5466825079489865,
          6.542194725406194,
          6.54105566769631,
          6.54111833233008,
          6.54112990501707,
          6.577262233788732,
          6.573876073802211,
          6.560430551250507,
          6.560512119238696,
          6.5668734666299855,
          6.568451543602873,
          6.555924158404736,
          6.561572328940204,
          6.558872190871431,
          6.582237988040274,
          6.526078666105348,
          6.5155764988613365,
          6.529589985647306,
          6.519453914834224,
          6.521280799698439,
          6.521043526008309,
          6.516653893770514,
          6.5207269992306225,
          6.525823157329829,
          6.517733817535222,
          6.526290657406674,
          6.521845485670724,
          6.546398052115967,
          6.550222243067489,
          6.55643863031894,
          6.563782076778428,
          6.560508462879788
         ],
         "marker": {
          "color": "#ab63fa"
         },
         "mode": "markers",
         "name": "MBC",
         "showlegend": true,
         "subplot": "mapbox",
         "type": "scattermapbox"
        },
        {
         "hovertemplate": "<b>%{hovertext}</b><br><br>company_name=PAG<br>lat=%{lat}<br>lon=%{lon}<extra></extra>",
         "hovertext": [
          "Grandvaux, Crêt-Mouton",
          "Grandvaux, Genevrey",
          "Grandvaux, Le Bougnon",
          "Grandvaux, Le Signal",
          "Lausanne, Chalet-Fontaine",
          "Lausanne, Rovéréaz",
          "Lausanne, Ste-Catherine",
          "Montblesson, Centenaire",
          "Pully, Monts-de-Pully",
          "Pully, Ravessoud",
          "Pully, Trois-Chasseurs",
          "Savigny, Claie-aux-Moines",
          "Savigny, Publoz"
         ],
         "lat": [
          46.508812882029815,
          46.498781591110706,
          46.49485734880093,
          46.50474777361107,
          46.56775559481223,
          46.53272835391005,
          46.57097103815928,
          46.536619659041655,
          46.53597190160382,
          46.539175140880765,
          46.534360928597344,
          46.54063419435301,
          46.541833189746505
         ],
         "legendgroup": "PAG",
         "lon": [
          6.717720734196449,
          6.7161870350620445,
          6.715874737132627,
          6.715065039444638,
          6.69970329215929,
          6.667724721921511,
          6.708646847049509,
          6.677798268523812,
          6.688601149867501,
          6.69691320900258,
          6.6844260634037385,
          6.704089624449201,
          6.715689569181506
         ],
         "marker": {
          "color": "#FFA15A"
         },
         "mode": "markers",
         "name": "PAG",
         "showlegend": true,
         "subplot": "mapbox",
         "type": "scattermapbox"
        },
        {
         "hovertemplate": "<b>%{hovertext}</b><br><br>company_name=CGN<br>lat=%{lat}<br>lon=%{lon}<extra></extra>",
         "hovertext": [
          "Lausanne-Ouchy (lac)",
          "Lutry (lac)",
          "Pully (lac)",
          "St-Sulpice VD (lac)"
         ],
         "lat": [
          46.505662022108694,
          46.501226125642084,
          46.505399524957625,
          46.50852124472591
         ],
         "legendgroup": "CGN",
         "lon": [
          6.626861769803414,
          6.684054487670196,
          6.661300422326532,
          6.56141082573061
         ],
         "marker": {
          "color": "#19d3f3"
         },
         "mode": "markers",
         "name": "CGN",
         "showlegend": true,
         "subplot": "mapbox",
         "type": "scattermapbox"
        },
        {
         "hovertemplate": "<b>%{hovertext}</b><br><br>company_name=TPF<br>lat=%{lat}<br>lon=%{lon}<extra></extra>",
         "hovertext": [
          "Villette (Lavaux), gare"
         ],
         "lat": [
          46.49556404007784
         ],
         "legendgroup": "TPF",
         "lon": [
          6.7068381553184215
         ],
         "marker": {
          "color": "#FF6692"
         },
         "mode": "markers",
         "name": "TPF",
         "showlegend": true,
         "subplot": "mapbox",
         "type": "scattermapbox"
        }
       ],
       "layout": {
        "autosize": true,
        "height": 800,
        "hovermode": "closest",
        "legend": {
         "title": {
          "text": "company_name"
         },
         "tracegroupgap": 0
        },
        "mapbox": {
         "bearing": 0,
         "center": {
          "lat": 46.52097182546228,
          "lon": 6.633647865079138
         },
         "domain": {
          "x": [
           0,
           1
          ],
          "y": [
           0,
           1
          ]
         },
         "pitch": 0,
         "style": "open-street-map",
         "zoom": 11
        },
        "margin": {
         "t": 60
        },
        "template": {
         "data": {
          "bar": [
           {
            "error_x": {
             "color": "#2a3f5f"
            },
            "error_y": {
             "color": "#2a3f5f"
            },
            "marker": {
             "line": {
              "color": "#E5ECF6",
              "width": 0.5
             },
             "pattern": {
              "fillmode": "overlay",
              "size": 10,
              "solidity": 0.2
             }
            },
            "type": "bar"
           }
          ],
          "barpolar": [
           {
            "marker": {
             "line": {
              "color": "#E5ECF6",
              "width": 0.5
             },
             "pattern": {
              "fillmode": "overlay",
              "size": 10,
              "solidity": 0.2
             }
            },
            "type": "barpolar"
           }
          ],
          "carpet": [
           {
            "aaxis": {
             "endlinecolor": "#2a3f5f",
             "gridcolor": "white",
             "linecolor": "white",
             "minorgridcolor": "white",
             "startlinecolor": "#2a3f5f"
            },
            "baxis": {
             "endlinecolor": "#2a3f5f",
             "gridcolor": "white",
             "linecolor": "white",
             "minorgridcolor": "white",
             "startlinecolor": "#2a3f5f"
            },
            "type": "carpet"
           }
          ],
          "choropleth": [
           {
            "colorbar": {
             "outlinewidth": 0,
             "ticks": ""
            },
            "type": "choropleth"
           }
          ],
          "contour": [
           {
            "colorbar": {
             "outlinewidth": 0,
             "ticks": ""
            },
            "colorscale": [
             [
              0,
              "#0d0887"
             ],
             [
              0.1111111111111111,
              "#46039f"
             ],
             [
              0.2222222222222222,
              "#7201a8"
             ],
             [
              0.3333333333333333,
              "#9c179e"
             ],
             [
              0.4444444444444444,
              "#bd3786"
             ],
             [
              0.5555555555555556,
              "#d8576b"
             ],
             [
              0.6666666666666666,
              "#ed7953"
             ],
             [
              0.7777777777777778,
              "#fb9f3a"
             ],
             [
              0.8888888888888888,
              "#fdca26"
             ],
             [
              1,
              "#f0f921"
             ]
            ],
            "type": "contour"
           }
          ],
          "contourcarpet": [
           {
            "colorbar": {
             "outlinewidth": 0,
             "ticks": ""
            },
            "type": "contourcarpet"
           }
          ],
          "heatmap": [
           {
            "colorbar": {
             "outlinewidth": 0,
             "ticks": ""
            },
            "colorscale": [
             [
              0,
              "#0d0887"
             ],
             [
              0.1111111111111111,
              "#46039f"
             ],
             [
              0.2222222222222222,
              "#7201a8"
             ],
             [
              0.3333333333333333,
              "#9c179e"
             ],
             [
              0.4444444444444444,
              "#bd3786"
             ],
             [
              0.5555555555555556,
              "#d8576b"
             ],
             [
              0.6666666666666666,
              "#ed7953"
             ],
             [
              0.7777777777777778,
              "#fb9f3a"
             ],
             [
              0.8888888888888888,
              "#fdca26"
             ],
             [
              1,
              "#f0f921"
             ]
            ],
            "type": "heatmap"
           }
          ],
          "heatmapgl": [
           {
            "colorbar": {
             "outlinewidth": 0,
             "ticks": ""
            },
            "colorscale": [
             [
              0,
              "#0d0887"
             ],
             [
              0.1111111111111111,
              "#46039f"
             ],
             [
              0.2222222222222222,
              "#7201a8"
             ],
             [
              0.3333333333333333,
              "#9c179e"
             ],
             [
              0.4444444444444444,
              "#bd3786"
             ],
             [
              0.5555555555555556,
              "#d8576b"
             ],
             [
              0.6666666666666666,
              "#ed7953"
             ],
             [
              0.7777777777777778,
              "#fb9f3a"
             ],
             [
              0.8888888888888888,
              "#fdca26"
             ],
             [
              1,
              "#f0f921"
             ]
            ],
            "type": "heatmapgl"
           }
          ],
          "histogram": [
           {
            "marker": {
             "pattern": {
              "fillmode": "overlay",
              "size": 10,
              "solidity": 0.2
             }
            },
            "type": "histogram"
           }
          ],
          "histogram2d": [
           {
            "colorbar": {
             "outlinewidth": 0,
             "ticks": ""
            },
            "colorscale": [
             [
              0,
              "#0d0887"
             ],
             [
              0.1111111111111111,
              "#46039f"
             ],
             [
              0.2222222222222222,
              "#7201a8"
             ],
             [
              0.3333333333333333,
              "#9c179e"
             ],
             [
              0.4444444444444444,
              "#bd3786"
             ],
             [
              0.5555555555555556,
              "#d8576b"
             ],
             [
              0.6666666666666666,
              "#ed7953"
             ],
             [
              0.7777777777777778,
              "#fb9f3a"
             ],
             [
              0.8888888888888888,
              "#fdca26"
             ],
             [
              1,
              "#f0f921"
             ]
            ],
            "type": "histogram2d"
           }
          ],
          "histogram2dcontour": [
           {
            "colorbar": {
             "outlinewidth": 0,
             "ticks": ""
            },
            "colorscale": [
             [
              0,
              "#0d0887"
             ],
             [
              0.1111111111111111,
              "#46039f"
             ],
             [
              0.2222222222222222,
              "#7201a8"
             ],
             [
              0.3333333333333333,
              "#9c179e"
             ],
             [
              0.4444444444444444,
              "#bd3786"
             ],
             [
              0.5555555555555556,
              "#d8576b"
             ],
             [
              0.6666666666666666,
              "#ed7953"
             ],
             [
              0.7777777777777778,
              "#fb9f3a"
             ],
             [
              0.8888888888888888,
              "#fdca26"
             ],
             [
              1,
              "#f0f921"
             ]
            ],
            "type": "histogram2dcontour"
           }
          ],
          "mesh3d": [
           {
            "colorbar": {
             "outlinewidth": 0,
             "ticks": ""
            },
            "type": "mesh3d"
           }
          ],
          "parcoords": [
           {
            "line": {
             "colorbar": {
              "outlinewidth": 0,
              "ticks": ""
             }
            },
            "type": "parcoords"
           }
          ],
          "pie": [
           {
            "automargin": true,
            "type": "pie"
           }
          ],
          "scatter": [
           {
            "fillpattern": {
             "fillmode": "overlay",
             "size": 10,
             "solidity": 0.2
            },
            "type": "scatter"
           }
          ],
          "scatter3d": [
           {
            "line": {
             "colorbar": {
              "outlinewidth": 0,
              "ticks": ""
             }
            },
            "marker": {
             "colorbar": {
              "outlinewidth": 0,
              "ticks": ""
             }
            },
            "type": "scatter3d"
           }
          ],
          "scattercarpet": [
           {
            "marker": {
             "colorbar": {
              "outlinewidth": 0,
              "ticks": ""
             }
            },
            "type": "scattercarpet"
           }
          ],
          "scattergeo": [
           {
            "marker": {
             "colorbar": {
              "outlinewidth": 0,
              "ticks": ""
             }
            },
            "type": "scattergeo"
           }
          ],
          "scattergl": [
           {
            "marker": {
             "colorbar": {
              "outlinewidth": 0,
              "ticks": ""
             }
            },
            "type": "scattergl"
           }
          ],
          "scattermapbox": [
           {
            "marker": {
             "colorbar": {
              "outlinewidth": 0,
              "ticks": ""
             }
            },
            "type": "scattermapbox"
           }
          ],
          "scatterpolar": [
           {
            "marker": {
             "colorbar": {
              "outlinewidth": 0,
              "ticks": ""
             }
            },
            "type": "scatterpolar"
           }
          ],
          "scatterpolargl": [
           {
            "marker": {
             "colorbar": {
              "outlinewidth": 0,
              "ticks": ""
             }
            },
            "type": "scatterpolargl"
           }
          ],
          "scatterternary": [
           {
            "marker": {
             "colorbar": {
              "outlinewidth": 0,
              "ticks": ""
             }
            },
            "type": "scatterternary"
           }
          ],
          "surface": [
           {
            "colorbar": {
             "outlinewidth": 0,
             "ticks": ""
            },
            "colorscale": [
             [
              0,
              "#0d0887"
             ],
             [
              0.1111111111111111,
              "#46039f"
             ],
             [
              0.2222222222222222,
              "#7201a8"
             ],
             [
              0.3333333333333333,
              "#9c179e"
             ],
             [
              0.4444444444444444,
              "#bd3786"
             ],
             [
              0.5555555555555556,
              "#d8576b"
             ],
             [
              0.6666666666666666,
              "#ed7953"
             ],
             [
              0.7777777777777778,
              "#fb9f3a"
             ],
             [
              0.8888888888888888,
              "#fdca26"
             ],
             [
              1,
              "#f0f921"
             ]
            ],
            "type": "surface"
           }
          ],
          "table": [
           {
            "cells": {
             "fill": {
              "color": "#EBF0F8"
             },
             "line": {
              "color": "white"
             }
            },
            "header": {
             "fill": {
              "color": "#C8D4E3"
             },
             "line": {
              "color": "white"
             }
            },
            "type": "table"
           }
          ]
         },
         "layout": {
          "annotationdefaults": {
           "arrowcolor": "#2a3f5f",
           "arrowhead": 0,
           "arrowwidth": 1
          },
          "autotypenumbers": "strict",
          "coloraxis": {
           "colorbar": {
            "outlinewidth": 0,
            "ticks": ""
           }
          },
          "colorscale": {
           "diverging": [
            [
             0,
             "#8e0152"
            ],
            [
             0.1,
             "#c51b7d"
            ],
            [
             0.2,
             "#de77ae"
            ],
            [
             0.3,
             "#f1b6da"
            ],
            [
             0.4,
             "#fde0ef"
            ],
            [
             0.5,
             "#f7f7f7"
            ],
            [
             0.6,
             "#e6f5d0"
            ],
            [
             0.7,
             "#b8e186"
            ],
            [
             0.8,
             "#7fbc41"
            ],
            [
             0.9,
             "#4d9221"
            ],
            [
             1,
             "#276419"
            ]
           ],
           "sequential": [
            [
             0,
             "#0d0887"
            ],
            [
             0.1111111111111111,
             "#46039f"
            ],
            [
             0.2222222222222222,
             "#7201a8"
            ],
            [
             0.3333333333333333,
             "#9c179e"
            ],
            [
             0.4444444444444444,
             "#bd3786"
            ],
            [
             0.5555555555555556,
             "#d8576b"
            ],
            [
             0.6666666666666666,
             "#ed7953"
            ],
            [
             0.7777777777777778,
             "#fb9f3a"
            ],
            [
             0.8888888888888888,
             "#fdca26"
            ],
            [
             1,
             "#f0f921"
            ]
           ],
           "sequentialminus": [
            [
             0,
             "#0d0887"
            ],
            [
             0.1111111111111111,
             "#46039f"
            ],
            [
             0.2222222222222222,
             "#7201a8"
            ],
            [
             0.3333333333333333,
             "#9c179e"
            ],
            [
             0.4444444444444444,
             "#bd3786"
            ],
            [
             0.5555555555555556,
             "#d8576b"
            ],
            [
             0.6666666666666666,
             "#ed7953"
            ],
            [
             0.7777777777777778,
             "#fb9f3a"
            ],
            [
             0.8888888888888888,
             "#fdca26"
            ],
            [
             1,
             "#f0f921"
            ]
           ]
          },
          "colorway": [
           "#636efa",
           "#EF553B",
           "#00cc96",
           "#ab63fa",
           "#FFA15A",
           "#19d3f3",
           "#FF6692",
           "#B6E880",
           "#FF97FF",
           "#FECB52"
          ],
          "font": {
           "color": "#2a3f5f"
          },
          "geo": {
           "bgcolor": "white",
           "lakecolor": "white",
           "landcolor": "#E5ECF6",
           "showlakes": true,
           "showland": true,
           "subunitcolor": "white"
          },
          "hoverlabel": {
           "align": "left"
          },
          "hovermode": "closest",
          "mapbox": {
           "style": "light"
          },
          "paper_bgcolor": "white",
          "plot_bgcolor": "#E5ECF6",
          "polar": {
           "angularaxis": {
            "gridcolor": "white",
            "linecolor": "white",
            "ticks": ""
           },
           "bgcolor": "#E5ECF6",
           "radialaxis": {
            "gridcolor": "white",
            "linecolor": "white",
            "ticks": ""
           }
          },
          "scene": {
           "xaxis": {
            "backgroundcolor": "#E5ECF6",
            "gridcolor": "white",
            "gridwidth": 2,
            "linecolor": "white",
            "showbackground": true,
            "ticks": "",
            "zerolinecolor": "white"
           },
           "yaxis": {
            "backgroundcolor": "#E5ECF6",
            "gridcolor": "white",
            "gridwidth": 2,
            "linecolor": "white",
            "showbackground": true,
            "ticks": "",
            "zerolinecolor": "white"
           },
           "zaxis": {
            "backgroundcolor": "#E5ECF6",
            "gridcolor": "white",
            "gridwidth": 2,
            "linecolor": "white",
            "showbackground": true,
            "ticks": "",
            "zerolinecolor": "white"
           }
          },
          "shapedefaults": {
           "line": {
            "color": "#2a3f5f"
           }
          },
          "ternary": {
           "aaxis": {
            "gridcolor": "white",
            "linecolor": "white",
            "ticks": ""
           },
           "baxis": {
            "gridcolor": "white",
            "linecolor": "white",
            "ticks": ""
           },
           "bgcolor": "#E5ECF6",
           "caxis": {
            "gridcolor": "white",
            "linecolor": "white",
            "ticks": ""
           }
          },
          "title": {
           "x": 0.05
          },
          "xaxis": {
           "automargin": true,
           "gridcolor": "white",
           "linecolor": "white",
           "ticks": "",
           "title": {
            "standoff": 15
           },
           "zerolinecolor": "white",
           "zerolinewidth": 2
          },
          "yaxis": {
           "automargin": true,
           "gridcolor": "white",
           "linecolor": "white",
           "ticks": "",
           "title": {
            "standoff": 15
           },
           "zerolinecolor": "white",
           "zerolinewidth": 2
          }
         }
        },
        "title": {
         "text": "Public transports stops in Lausanne"
        }
       }
      }
     },
     "metadata": {},
     "output_type": "display_data"
    }
   ],
   "source": [
    "fig = px.scatter_mapbox(\n",
    "    stops, lat=\"lat\",\n",
    "    lon=\"lon\",\n",
    "    color=\"company_name\", # which column to use to set the color of markers\n",
    "    hover_name=\"stop_name\", # column added to hover information,\n",
    "    zoom=3, mapbox_style='open-street-map', height=800\n",
    "    )\n",
    "\n",
    "fig.update_layout(\n",
    "    autosize=True,\n",
    "    hovermode='closest',\n",
    "    mapbox=dict(\n",
    "        bearing=0,\n",
    "        center=dict(lat=46.52097182546228, lon=6.633647865079138),\n",
    "        pitch=0,\n",
    "        zoom=11\n",
    "    ),\n",
    "    title=\"Public transports stops in Lausanne\",\n",
    ")\n",
    "fig.show()"
   ]
  },
  {
   "cell_type": "code",
   "execution_count": 9,
   "metadata": {},
   "outputs": [
    {
     "data": {
      "application/vnd.plotly.v1+json": {
       "config": {
        "plotlyServerURL": "https://plot.ly"
       },
       "data": [
        {
         "hovertemplate": "company_name=%{x}<br>altitude=%{y}<extra></extra>",
         "legendgroup": "TL",
         "marker": {
          "color": "#636efa",
          "symbol": "circle"
         },
         "mode": "markers",
         "name": "TL",
         "orientation": "v",
         "showlegend": true,
         "type": "scatter",
         "x": [
          "TL",
          "TL",
          "TL",
          "TL",
          "TL",
          "TL",
          "TL",
          "TL",
          "TL",
          "TL",
          "TL",
          "TL",
          "TL",
          "TL",
          "TL",
          "TL",
          "TL",
          "TL",
          "TL",
          "TL",
          "TL",
          "TL",
          "TL",
          "TL",
          "TL",
          "TL",
          "TL",
          "TL",
          "TL",
          "TL",
          "TL",
          "TL",
          "TL",
          "TL",
          "TL",
          "TL",
          "TL",
          "TL",
          "TL",
          "TL",
          "TL",
          "TL",
          "TL",
          "TL",
          "TL",
          "TL",
          "TL",
          "TL",
          "TL",
          "TL",
          "TL",
          "TL",
          "TL",
          "TL",
          "TL",
          "TL",
          "TL",
          "TL",
          "TL",
          "TL",
          "TL",
          "TL",
          "TL",
          "TL",
          "TL",
          "TL",
          "TL",
          "TL",
          "TL",
          "TL",
          "TL",
          "TL",
          "TL",
          "TL",
          "TL",
          "TL",
          "TL",
          "TL",
          "TL",
          "TL",
          "TL",
          "TL",
          "TL",
          "TL",
          "TL",
          "TL",
          "TL",
          "TL",
          "TL",
          "TL",
          "TL",
          "TL",
          "TL",
          "TL",
          "TL",
          "TL",
          "TL",
          "TL",
          "TL",
          "TL",
          "TL",
          "TL",
          "TL",
          "TL",
          "TL",
          "TL",
          "TL",
          "TL",
          "TL",
          "TL",
          "TL",
          "TL",
          "TL",
          "TL",
          "TL",
          "TL",
          "TL",
          "TL",
          "TL",
          "TL",
          "TL",
          "TL",
          "TL",
          "TL",
          "TL",
          "TL",
          "TL",
          "TL",
          "TL",
          "TL",
          "TL",
          "TL",
          "TL",
          "TL",
          "TL",
          "TL",
          "TL",
          "TL",
          "TL",
          "TL",
          "TL",
          "TL",
          "TL",
          "TL",
          "TL",
          "TL",
          "TL",
          "TL",
          "TL",
          "TL",
          "TL",
          "TL",
          "TL",
          "TL",
          "TL",
          "TL",
          "TL",
          "TL",
          "TL",
          "TL",
          "TL",
          "TL",
          "TL",
          "TL",
          "TL",
          "TL",
          "TL",
          "TL",
          "TL",
          "TL",
          "TL",
          "TL",
          "TL",
          "TL",
          "TL",
          "TL",
          "TL",
          "TL",
          "TL",
          "TL",
          "TL",
          "TL",
          "TL",
          "TL",
          "TL",
          "TL",
          "TL",
          "TL",
          "TL",
          "TL",
          "TL",
          "TL",
          "TL",
          "TL",
          "TL",
          "TL",
          "TL",
          "TL",
          "TL",
          "TL",
          "TL",
          "TL",
          "TL",
          "TL",
          "TL",
          "TL",
          "TL",
          "TL",
          "TL",
          "TL",
          "TL",
          "TL",
          "TL",
          "TL",
          "TL",
          "TL",
          "TL",
          "TL",
          "TL",
          "TL",
          "TL",
          "TL",
          "TL",
          "TL",
          "TL",
          "TL",
          "TL",
          "TL",
          "TL",
          "TL",
          "TL",
          "TL",
          "TL",
          "TL",
          "TL",
          "TL",
          "TL",
          "TL",
          "TL",
          "TL",
          "TL",
          "TL",
          "TL",
          "TL",
          "TL",
          "TL",
          "TL",
          "TL",
          "TL",
          "TL",
          "TL",
          "TL",
          "TL",
          "TL",
          "TL",
          "TL",
          "TL",
          "TL",
          "TL",
          "TL",
          "TL",
          "TL",
          "TL",
          "TL",
          "TL",
          "TL",
          "TL",
          "TL",
          "TL",
          "TL",
          "TL",
          "TL",
          "TL",
          "TL",
          "TL",
          "TL",
          "TL",
          "TL",
          "TL",
          "TL",
          "TL",
          "TL",
          "TL",
          "TL",
          "TL",
          "TL",
          "TL",
          "TL",
          "TL",
          "TL",
          "TL",
          "TL",
          "TL",
          "TL",
          "TL",
          "TL",
          "TL",
          "TL",
          "TL",
          "TL",
          "TL",
          "TL",
          "TL",
          "TL",
          "TL",
          "TL",
          "TL",
          "TL",
          "TL",
          "TL",
          "TL",
          "TL",
          "TL",
          "TL",
          "TL",
          "TL",
          "TL",
          "TL",
          "TL",
          "TL",
          "TL",
          "TL",
          "TL",
          "TL",
          "TL",
          "TL",
          "TL",
          "TL",
          "TL",
          "TL",
          "TL",
          "TL",
          "TL",
          "TL",
          "TL",
          "TL",
          "TL",
          "TL",
          "TL",
          "TL",
          "TL",
          "TL",
          "TL",
          "TL",
          "TL",
          "TL",
          "TL",
          "TL",
          "TL",
          "TL",
          "TL",
          "TL",
          "TL",
          "TL",
          "TL",
          "TL",
          "TL",
          "TL",
          "TL",
          "TL",
          "TL",
          "TL",
          "TL",
          "TL",
          "TL",
          "TL",
          "TL",
          "TL",
          "TL",
          "TL",
          "TL",
          "TL",
          "TL",
          "TL",
          "TL",
          "TL",
          "TL",
          "TL",
          "TL",
          "TL",
          "TL",
          "TL",
          "TL",
          "TL",
          "TL",
          "TL",
          "TL",
          "TL",
          "TL",
          "TL",
          "TL",
          "TL",
          "TL",
          "TL",
          "TL",
          "TL",
          "TL",
          "TL",
          "TL",
          "TL",
          "TL",
          "TL",
          "TL",
          "TL",
          "TL",
          "TL",
          "TL",
          "TL",
          "TL",
          "TL",
          "TL",
          "TL",
          "TL",
          "TL",
          "TL",
          "TL",
          "TL",
          "TL",
          "TL",
          "TL",
          "TL",
          "TL",
          "TL",
          "TL",
          "TL",
          "TL",
          "TL",
          "TL",
          "TL",
          "TL",
          "TL",
          "TL",
          "TL",
          "TL",
          "TL",
          "TL",
          "TL",
          "TL",
          "TL",
          "TL",
          "TL",
          "TL",
          "TL",
          "TL",
          "TL",
          "TL",
          "TL",
          "TL",
          "TL",
          "TL",
          "TL",
          "TL",
          "TL",
          "TL",
          "TL",
          "TL",
          "TL",
          "TL",
          "TL",
          "TL",
          "TL",
          "TL",
          "TL",
          "TL",
          "TL",
          "TL",
          "TL",
          "TL",
          "TL",
          "TL",
          "TL",
          "TL",
          "TL",
          "TL",
          "TL",
          "TL",
          "TL",
          "TL",
          "TL",
          "TL",
          "TL",
          "TL",
          "TL",
          "TL",
          "TL",
          "TL",
          "TL",
          "TL",
          "TL",
          "TL",
          "TL",
          "TL",
          "TL",
          "TL",
          "TL",
          "TL",
          "TL",
          "TL",
          "TL",
          "TL",
          "TL",
          "TL",
          "TL"
         ],
         "xaxis": "x",
         "y": [
          638,
          610,
          741,
          790,
          619,
          522,
          447,
          743,
          684,
          691,
          585,
          679,
          589,
          545,
          643,
          723,
          600,
          638,
          588,
          754,
          609,
          647,
          560,
          509,
          766,
          616,
          484,
          426,
          460,
          477,
          468,
          426,
          440,
          415,
          417,
          468,
          462,
          467,
          460,
          407,
          448,
          438,
          470,
          410,
          540,
          395,
          405,
          403,
          404,
          393,
          416,
          401,
          398,
          410,
          409,
          404,
          388,
          385,
          604,
          578,
          415,
          470,
          473,
          495,
          426,
          450,
          448,
          496,
          476,
          519,
          438,
          426,
          415,
          445,
          429,
          437,
          510,
          470,
          470,
          422,
          470,
          415,
          467,
          470,
          693,
          396,
          398,
          396,
          398,
          404,
          396,
          396,
          419,
          417,
          417,
          398,
          419,
          420,
          399,
          408,
          402,
          415,
          391,
          398,
          417,
          412,
          812,
          795,
          791,
          720,
          718,
          787,
          796,
          724,
          791,
          824,
          816,
          786,
          769,
          776,
          747,
          797,
          834,
          809,
          765,
          754,
          807,
          710,
          835,
          644,
          396,
          554,
          510,
          663,
          571,
          462,
          511,
          532,
          406,
          383,
          593,
          539,
          533,
          496,
          377,
          616,
          458,
          500,
          539,
          514,
          600,
          600,
          606,
          648,
          570,
          475,
          607,
          490,
          390,
          394,
          677,
          532,
          447,
          581,
          647,
          447,
          809,
          858,
          864,
          599,
          552,
          511,
          493,
          500,
          866,
          659,
          676,
          660,
          444,
          850,
          437,
          452,
          567,
          417,
          644,
          412,
          413,
          481,
          520,
          436,
          394,
          593,
          521,
          555,
          557,
          407,
          562,
          469,
          518,
          457,
          487,
          417,
          833,
          597,
          434,
          603,
          471,
          563,
          449,
          400,
          518,
          423,
          594,
          659,
          650,
          452,
          480,
          428,
          650,
          570,
          616,
          607,
          575,
          642,
          792,
          611,
          595,
          554,
          394,
          438,
          620,
          663,
          439,
          627,
          637,
          618,
          382,
          385,
          380,
          383,
          424,
          858,
          625,
          465,
          832,
          507,
          425,
          560,
          432,
          616,
          426,
          441,
          407,
          647,
          498,
          582,
          514,
          414,
          555,
          560,
          377,
          533,
          376,
          375,
          577,
          604,
          626,
          567,
          514,
          575,
          648,
          509,
          493,
          451,
          616,
          491,
          640,
          873,
          695,
          534,
          427,
          426,
          432,
          454,
          441,
          377,
          534,
          458,
          478,
          412,
          502,
          539,
          560,
          609,
          483,
          394,
          607,
          549,
          637,
          380,
          619,
          495,
          498,
          513,
          593,
          378,
          381,
          477,
          375,
          460,
          512,
          496,
          517,
          583,
          633,
          691,
          533,
          839,
          837,
          604,
          376,
          559,
          486,
          471,
          528,
          574,
          497,
          561,
          845,
          484,
          570,
          468,
          588,
          455,
          413,
          519,
          508,
          377,
          426,
          480,
          486,
          481,
          485,
          699,
          702,
          695,
          663,
          708,
          713,
          695,
          592,
          642,
          685,
          626,
          567,
          602,
          567,
          558,
          568,
          409,
          482,
          380,
          530,
          572,
          705,
          639,
          680,
          708,
          390,
          639,
          733,
          483,
          427,
          376,
          492,
          638,
          632,
          402,
          726,
          533,
          458,
          420,
          541,
          669,
          580,
          378,
          639,
          611,
          464,
          393,
          387,
          454,
          402,
          374,
          481,
          473,
          560,
          545,
          491,
          700,
          375,
          466,
          438,
          451,
          394,
          384,
          405,
          572,
          568,
          510,
          538,
          437,
          434,
          433,
          461,
          484,
          535,
          481,
          485,
          477,
          387,
          422,
          598,
          418,
          449,
          422,
          383,
          429,
          588,
          412,
          501,
          550,
          447,
          400,
          420,
          399,
          532,
          460,
          429,
          539,
          414,
          413,
          465,
          476,
          422,
          450,
          380,
          384,
          601,
          529,
          386,
          385,
          423,
          425,
          377,
          450,
          420,
          418,
          433,
          430,
          467,
          456,
          441,
          464,
          462,
          475,
          414,
          410,
          419,
          449,
          462,
          418,
          432,
          431,
          437,
          437,
          411,
          416,
          473,
          416,
          415,
          413,
          418,
          422,
          427,
          592,
          397,
          397,
          397,
          390,
          387,
          394,
          397,
          397,
          596,
          483,
          479,
          500,
          506,
          509,
          406,
          409,
          478
         ],
         "yaxis": "y"
        },
        {
         "hovertemplate": "company_name=%{x}<br>altitude=%{y}<extra></extra>",
         "legendgroup": "SBB",
         "marker": {
          "color": "#EF553B",
          "symbol": "circle"
         },
         "mode": "markers",
         "name": "SBB",
         "orientation": "v",
         "showlegend": true,
         "type": "scatter",
         "x": [
          "SBB",
          "SBB",
          "SBB",
          "SBB",
          "SBB",
          "SBB",
          "SBB",
          "SBB",
          "SBB",
          "SBB",
          "SBB",
          "SBB",
          "SBB",
          "SBB",
          "SBB",
          "SBB",
          "SBB",
          "SBB",
          "SBB",
          "SBB",
          "SBB",
          "SBB",
          "SBB",
          "SBB",
          "SBB",
          "SBB",
          "SBB",
          "SBB",
          "SBB",
          "SBB",
          "SBB",
          "SBB",
          "SBB",
          "SBB",
          "SBB",
          "SBB",
          "SBB",
          "SBB",
          "SBB",
          "SBB",
          "SBB",
          "SBB",
          "SBB",
          "SBB",
          "SBB",
          "SBB",
          "SBB",
          "SBB",
          "SBB"
         ],
         "xaxis": "x",
         "y": [
          404,
          408,
          524,
          407,
          410,
          406,
          397,
          395,
          398,
          501,
          447,
          442,
          446,
          445,
          595,
          447,
          396,
          396,
          397,
          396,
          397,
          400,
          392,
          392,
          400,
          392,
          392,
          394,
          392,
          390,
          388,
          391,
          387,
          402,
          399,
          435,
          430,
          425,
          473,
          416,
          411,
          416,
          418,
          414,
          407,
          387,
          407,
          402,
          406
         ],
         "yaxis": "y"
        },
        {
         "hovertemplate": "company_name=%{x}<br>altitude=%{y}<extra></extra>",
         "legendgroup": "LEB",
         "marker": {
          "color": "#00cc96",
          "symbol": "circle"
         },
         "mode": "markers",
         "name": "LEB",
         "orientation": "v",
         "showlegend": true,
         "type": "scatter",
         "x": [
          "LEB",
          "LEB",
          "LEB",
          "LEB",
          "LEB",
          "LEB",
          "LEB",
          "LEB",
          "LEB",
          "LEB"
         ],
         "xaxis": "x",
         "y": [
          604,
          540,
          552,
          471,
          480,
          588,
          521,
          588,
          503,
          597
         ],
         "yaxis": "y"
        },
        {
         "hovertemplate": "company_name=%{x}<br>altitude=%{y}<extra></extra>",
         "legendgroup": "MBC",
         "marker": {
          "color": "#ab63fa",
          "symbol": "circle"
         },
         "mode": "markers",
         "name": "MBC",
         "orientation": "v",
         "showlegend": true,
         "type": "scatter",
         "x": [
          "MBC",
          "MBC",
          "MBC",
          "MBC",
          "MBC",
          "MBC",
          "MBC",
          "MBC",
          "MBC",
          "MBC",
          "MBC",
          "MBC",
          "MBC",
          "MBC",
          "MBC",
          "MBC",
          "MBC",
          "MBC",
          "MBC",
          "MBC",
          "MBC",
          "MBC",
          "MBC",
          "MBC",
          "MBC",
          "MBC",
          "MBC",
          "MBC",
          "MBC",
          "MBC",
          "MBC",
          "MBC",
          "MBC",
          "MBC",
          "MBC",
          "MBC",
          "MBC",
          "MBC",
          "MBC",
          "MBC",
          "MBC",
          "MBC"
         ],
         "xaxis": "x",
         "y": [
          453,
          412,
          405,
          410,
          415,
          385,
          396,
          396,
          385,
          401,
          399,
          431,
          428,
          425,
          412,
          389,
          391,
          415,
          422,
          395,
          395,
          408,
          421,
          427,
          378,
          395,
          389,
          397,
          400,
          393,
          382,
          440,
          410,
          405,
          384,
          411,
          416,
          395,
          400,
          405,
          394,
          396
         ],
         "yaxis": "y"
        },
        {
         "hovertemplate": "company_name=%{x}<br>altitude=%{y}<extra></extra>",
         "legendgroup": "PAG",
         "marker": {
          "color": "#FFA15A",
          "symbol": "circle"
         },
         "mode": "markers",
         "name": "PAG",
         "orientation": "v",
         "showlegend": true,
         "type": "scatter",
         "x": [
          "PAG",
          "PAG",
          "PAG",
          "PAG",
          "PAG",
          "PAG",
          "PAG",
          "PAG",
          "PAG",
          "PAG",
          "PAG",
          "PAG",
          "PAG"
         ],
         "xaxis": "x",
         "y": [
          708,
          599,
          498,
          672,
          870,
          674,
          850,
          704,
          749,
          797,
          727,
          803,
          818
         ],
         "yaxis": "y"
        },
        {
         "hovertemplate": "company_name=%{x}<br>altitude=%{y}<extra></extra>",
         "legendgroup": "CGN",
         "marker": {
          "color": "#19d3f3",
          "symbol": "circle"
         },
         "mode": "markers",
         "name": "CGN",
         "orientation": "v",
         "showlegend": true,
         "type": "scatter",
         "x": [
          "CGN",
          "CGN",
          "CGN",
          "CGN"
         ],
         "xaxis": "x",
         "y": [
          373,
          373,
          373,
          373
         ],
         "yaxis": "y"
        },
        {
         "hovertemplate": "company_name=%{x}<br>altitude=%{y}<extra></extra>",
         "legendgroup": "TPF",
         "marker": {
          "color": "#FF6692",
          "symbol": "circle"
         },
         "mode": "markers",
         "name": "TPF",
         "orientation": "v",
         "showlegend": true,
         "type": "scatter",
         "x": [
          "TPF"
         ],
         "xaxis": "x",
         "y": [
          386
         ],
         "yaxis": "y"
        }
       ],
       "layout": {
        "annotations": [
         {
          "font": {
           "color": "blue"
          },
          "showarrow": false,
          "text": "Leman",
          "x": 1,
          "xanchor": "right",
          "xref": "x domain",
          "y": 372,
          "yanchor": "bottom",
          "yref": "y"
         }
        ],
        "legend": {
         "title": {
          "text": "company_name"
         },
         "tracegroupgap": 0
        },
        "shapes": [
         {
          "line": {
           "color": "blue",
           "dash": "dash",
           "width": 1
          },
          "type": "line",
          "x0": 0,
          "x1": 1,
          "xref": "x domain",
          "y0": 372,
          "y1": 372,
          "yref": "y"
         }
        ],
        "template": {
         "data": {
          "bar": [
           {
            "error_x": {
             "color": "#2a3f5f"
            },
            "error_y": {
             "color": "#2a3f5f"
            },
            "marker": {
             "line": {
              "color": "#E5ECF6",
              "width": 0.5
             },
             "pattern": {
              "fillmode": "overlay",
              "size": 10,
              "solidity": 0.2
             }
            },
            "type": "bar"
           }
          ],
          "barpolar": [
           {
            "marker": {
             "line": {
              "color": "#E5ECF6",
              "width": 0.5
             },
             "pattern": {
              "fillmode": "overlay",
              "size": 10,
              "solidity": 0.2
             }
            },
            "type": "barpolar"
           }
          ],
          "carpet": [
           {
            "aaxis": {
             "endlinecolor": "#2a3f5f",
             "gridcolor": "white",
             "linecolor": "white",
             "minorgridcolor": "white",
             "startlinecolor": "#2a3f5f"
            },
            "baxis": {
             "endlinecolor": "#2a3f5f",
             "gridcolor": "white",
             "linecolor": "white",
             "minorgridcolor": "white",
             "startlinecolor": "#2a3f5f"
            },
            "type": "carpet"
           }
          ],
          "choropleth": [
           {
            "colorbar": {
             "outlinewidth": 0,
             "ticks": ""
            },
            "type": "choropleth"
           }
          ],
          "contour": [
           {
            "colorbar": {
             "outlinewidth": 0,
             "ticks": ""
            },
            "colorscale": [
             [
              0,
              "#0d0887"
             ],
             [
              0.1111111111111111,
              "#46039f"
             ],
             [
              0.2222222222222222,
              "#7201a8"
             ],
             [
              0.3333333333333333,
              "#9c179e"
             ],
             [
              0.4444444444444444,
              "#bd3786"
             ],
             [
              0.5555555555555556,
              "#d8576b"
             ],
             [
              0.6666666666666666,
              "#ed7953"
             ],
             [
              0.7777777777777778,
              "#fb9f3a"
             ],
             [
              0.8888888888888888,
              "#fdca26"
             ],
             [
              1,
              "#f0f921"
             ]
            ],
            "type": "contour"
           }
          ],
          "contourcarpet": [
           {
            "colorbar": {
             "outlinewidth": 0,
             "ticks": ""
            },
            "type": "contourcarpet"
           }
          ],
          "heatmap": [
           {
            "colorbar": {
             "outlinewidth": 0,
             "ticks": ""
            },
            "colorscale": [
             [
              0,
              "#0d0887"
             ],
             [
              0.1111111111111111,
              "#46039f"
             ],
             [
              0.2222222222222222,
              "#7201a8"
             ],
             [
              0.3333333333333333,
              "#9c179e"
             ],
             [
              0.4444444444444444,
              "#bd3786"
             ],
             [
              0.5555555555555556,
              "#d8576b"
             ],
             [
              0.6666666666666666,
              "#ed7953"
             ],
             [
              0.7777777777777778,
              "#fb9f3a"
             ],
             [
              0.8888888888888888,
              "#fdca26"
             ],
             [
              1,
              "#f0f921"
             ]
            ],
            "type": "heatmap"
           }
          ],
          "heatmapgl": [
           {
            "colorbar": {
             "outlinewidth": 0,
             "ticks": ""
            },
            "colorscale": [
             [
              0,
              "#0d0887"
             ],
             [
              0.1111111111111111,
              "#46039f"
             ],
             [
              0.2222222222222222,
              "#7201a8"
             ],
             [
              0.3333333333333333,
              "#9c179e"
             ],
             [
              0.4444444444444444,
              "#bd3786"
             ],
             [
              0.5555555555555556,
              "#d8576b"
             ],
             [
              0.6666666666666666,
              "#ed7953"
             ],
             [
              0.7777777777777778,
              "#fb9f3a"
             ],
             [
              0.8888888888888888,
              "#fdca26"
             ],
             [
              1,
              "#f0f921"
             ]
            ],
            "type": "heatmapgl"
           }
          ],
          "histogram": [
           {
            "marker": {
             "pattern": {
              "fillmode": "overlay",
              "size": 10,
              "solidity": 0.2
             }
            },
            "type": "histogram"
           }
          ],
          "histogram2d": [
           {
            "colorbar": {
             "outlinewidth": 0,
             "ticks": ""
            },
            "colorscale": [
             [
              0,
              "#0d0887"
             ],
             [
              0.1111111111111111,
              "#46039f"
             ],
             [
              0.2222222222222222,
              "#7201a8"
             ],
             [
              0.3333333333333333,
              "#9c179e"
             ],
             [
              0.4444444444444444,
              "#bd3786"
             ],
             [
              0.5555555555555556,
              "#d8576b"
             ],
             [
              0.6666666666666666,
              "#ed7953"
             ],
             [
              0.7777777777777778,
              "#fb9f3a"
             ],
             [
              0.8888888888888888,
              "#fdca26"
             ],
             [
              1,
              "#f0f921"
             ]
            ],
            "type": "histogram2d"
           }
          ],
          "histogram2dcontour": [
           {
            "colorbar": {
             "outlinewidth": 0,
             "ticks": ""
            },
            "colorscale": [
             [
              0,
              "#0d0887"
             ],
             [
              0.1111111111111111,
              "#46039f"
             ],
             [
              0.2222222222222222,
              "#7201a8"
             ],
             [
              0.3333333333333333,
              "#9c179e"
             ],
             [
              0.4444444444444444,
              "#bd3786"
             ],
             [
              0.5555555555555556,
              "#d8576b"
             ],
             [
              0.6666666666666666,
              "#ed7953"
             ],
             [
              0.7777777777777778,
              "#fb9f3a"
             ],
             [
              0.8888888888888888,
              "#fdca26"
             ],
             [
              1,
              "#f0f921"
             ]
            ],
            "type": "histogram2dcontour"
           }
          ],
          "mesh3d": [
           {
            "colorbar": {
             "outlinewidth": 0,
             "ticks": ""
            },
            "type": "mesh3d"
           }
          ],
          "parcoords": [
           {
            "line": {
             "colorbar": {
              "outlinewidth": 0,
              "ticks": ""
             }
            },
            "type": "parcoords"
           }
          ],
          "pie": [
           {
            "automargin": true,
            "type": "pie"
           }
          ],
          "scatter": [
           {
            "fillpattern": {
             "fillmode": "overlay",
             "size": 10,
             "solidity": 0.2
            },
            "type": "scatter"
           }
          ],
          "scatter3d": [
           {
            "line": {
             "colorbar": {
              "outlinewidth": 0,
              "ticks": ""
             }
            },
            "marker": {
             "colorbar": {
              "outlinewidth": 0,
              "ticks": ""
             }
            },
            "type": "scatter3d"
           }
          ],
          "scattercarpet": [
           {
            "marker": {
             "colorbar": {
              "outlinewidth": 0,
              "ticks": ""
             }
            },
            "type": "scattercarpet"
           }
          ],
          "scattergeo": [
           {
            "marker": {
             "colorbar": {
              "outlinewidth": 0,
              "ticks": ""
             }
            },
            "type": "scattergeo"
           }
          ],
          "scattergl": [
           {
            "marker": {
             "colorbar": {
              "outlinewidth": 0,
              "ticks": ""
             }
            },
            "type": "scattergl"
           }
          ],
          "scattermapbox": [
           {
            "marker": {
             "colorbar": {
              "outlinewidth": 0,
              "ticks": ""
             }
            },
            "type": "scattermapbox"
           }
          ],
          "scatterpolar": [
           {
            "marker": {
             "colorbar": {
              "outlinewidth": 0,
              "ticks": ""
             }
            },
            "type": "scatterpolar"
           }
          ],
          "scatterpolargl": [
           {
            "marker": {
             "colorbar": {
              "outlinewidth": 0,
              "ticks": ""
             }
            },
            "type": "scatterpolargl"
           }
          ],
          "scatterternary": [
           {
            "marker": {
             "colorbar": {
              "outlinewidth": 0,
              "ticks": ""
             }
            },
            "type": "scatterternary"
           }
          ],
          "surface": [
           {
            "colorbar": {
             "outlinewidth": 0,
             "ticks": ""
            },
            "colorscale": [
             [
              0,
              "#0d0887"
             ],
             [
              0.1111111111111111,
              "#46039f"
             ],
             [
              0.2222222222222222,
              "#7201a8"
             ],
             [
              0.3333333333333333,
              "#9c179e"
             ],
             [
              0.4444444444444444,
              "#bd3786"
             ],
             [
              0.5555555555555556,
              "#d8576b"
             ],
             [
              0.6666666666666666,
              "#ed7953"
             ],
             [
              0.7777777777777778,
              "#fb9f3a"
             ],
             [
              0.8888888888888888,
              "#fdca26"
             ],
             [
              1,
              "#f0f921"
             ]
            ],
            "type": "surface"
           }
          ],
          "table": [
           {
            "cells": {
             "fill": {
              "color": "#EBF0F8"
             },
             "line": {
              "color": "white"
             }
            },
            "header": {
             "fill": {
              "color": "#C8D4E3"
             },
             "line": {
              "color": "white"
             }
            },
            "type": "table"
           }
          ]
         },
         "layout": {
          "annotationdefaults": {
           "arrowcolor": "#2a3f5f",
           "arrowhead": 0,
           "arrowwidth": 1
          },
          "autotypenumbers": "strict",
          "coloraxis": {
           "colorbar": {
            "outlinewidth": 0,
            "ticks": ""
           }
          },
          "colorscale": {
           "diverging": [
            [
             0,
             "#8e0152"
            ],
            [
             0.1,
             "#c51b7d"
            ],
            [
             0.2,
             "#de77ae"
            ],
            [
             0.3,
             "#f1b6da"
            ],
            [
             0.4,
             "#fde0ef"
            ],
            [
             0.5,
             "#f7f7f7"
            ],
            [
             0.6,
             "#e6f5d0"
            ],
            [
             0.7,
             "#b8e186"
            ],
            [
             0.8,
             "#7fbc41"
            ],
            [
             0.9,
             "#4d9221"
            ],
            [
             1,
             "#276419"
            ]
           ],
           "sequential": [
            [
             0,
             "#0d0887"
            ],
            [
             0.1111111111111111,
             "#46039f"
            ],
            [
             0.2222222222222222,
             "#7201a8"
            ],
            [
             0.3333333333333333,
             "#9c179e"
            ],
            [
             0.4444444444444444,
             "#bd3786"
            ],
            [
             0.5555555555555556,
             "#d8576b"
            ],
            [
             0.6666666666666666,
             "#ed7953"
            ],
            [
             0.7777777777777778,
             "#fb9f3a"
            ],
            [
             0.8888888888888888,
             "#fdca26"
            ],
            [
             1,
             "#f0f921"
            ]
           ],
           "sequentialminus": [
            [
             0,
             "#0d0887"
            ],
            [
             0.1111111111111111,
             "#46039f"
            ],
            [
             0.2222222222222222,
             "#7201a8"
            ],
            [
             0.3333333333333333,
             "#9c179e"
            ],
            [
             0.4444444444444444,
             "#bd3786"
            ],
            [
             0.5555555555555556,
             "#d8576b"
            ],
            [
             0.6666666666666666,
             "#ed7953"
            ],
            [
             0.7777777777777778,
             "#fb9f3a"
            ],
            [
             0.8888888888888888,
             "#fdca26"
            ],
            [
             1,
             "#f0f921"
            ]
           ]
          },
          "colorway": [
           "#636efa",
           "#EF553B",
           "#00cc96",
           "#ab63fa",
           "#FFA15A",
           "#19d3f3",
           "#FF6692",
           "#B6E880",
           "#FF97FF",
           "#FECB52"
          ],
          "font": {
           "color": "#2a3f5f"
          },
          "geo": {
           "bgcolor": "white",
           "lakecolor": "white",
           "landcolor": "#E5ECF6",
           "showlakes": true,
           "showland": true,
           "subunitcolor": "white"
          },
          "hoverlabel": {
           "align": "left"
          },
          "hovermode": "closest",
          "mapbox": {
           "style": "light"
          },
          "paper_bgcolor": "white",
          "plot_bgcolor": "#E5ECF6",
          "polar": {
           "angularaxis": {
            "gridcolor": "white",
            "linecolor": "white",
            "ticks": ""
           },
           "bgcolor": "#E5ECF6",
           "radialaxis": {
            "gridcolor": "white",
            "linecolor": "white",
            "ticks": ""
           }
          },
          "scene": {
           "xaxis": {
            "backgroundcolor": "#E5ECF6",
            "gridcolor": "white",
            "gridwidth": 2,
            "linecolor": "white",
            "showbackground": true,
            "ticks": "",
            "zerolinecolor": "white"
           },
           "yaxis": {
            "backgroundcolor": "#E5ECF6",
            "gridcolor": "white",
            "gridwidth": 2,
            "linecolor": "white",
            "showbackground": true,
            "ticks": "",
            "zerolinecolor": "white"
           },
           "zaxis": {
            "backgroundcolor": "#E5ECF6",
            "gridcolor": "white",
            "gridwidth": 2,
            "linecolor": "white",
            "showbackground": true,
            "ticks": "",
            "zerolinecolor": "white"
           }
          },
          "shapedefaults": {
           "line": {
            "color": "#2a3f5f"
           }
          },
          "ternary": {
           "aaxis": {
            "gridcolor": "white",
            "linecolor": "white",
            "ticks": ""
           },
           "baxis": {
            "gridcolor": "white",
            "linecolor": "white",
            "ticks": ""
           },
           "bgcolor": "#E5ECF6",
           "caxis": {
            "gridcolor": "white",
            "linecolor": "white",
            "ticks": ""
           }
          },
          "title": {
           "x": 0.05
          },
          "xaxis": {
           "automargin": true,
           "gridcolor": "white",
           "linecolor": "white",
           "ticks": "",
           "title": {
            "standoff": 15
           },
           "zerolinecolor": "white",
           "zerolinewidth": 2
          },
          "yaxis": {
           "automargin": true,
           "gridcolor": "white",
           "linecolor": "white",
           "ticks": "",
           "title": {
            "standoff": 15
           },
           "zerolinecolor": "white",
           "zerolinewidth": 2
          }
         }
        },
        "title": {
         "text": "Distribution of the number of public transports stops depending on the altitude"
        },
        "xaxis": {
         "anchor": "y",
         "categoryarray": [
          "TL",
          "SBB",
          "LEB",
          "MBC",
          "PAG",
          "CGN",
          "TPF"
         ],
         "categoryorder": "array",
         "domain": [
          0,
          1
         ],
         "title": {
          "text": "company_name"
         }
        },
        "yaxis": {
         "anchor": "x",
         "domain": [
          0,
          1
         ],
         "title": {
          "text": "altitude"
         }
        }
       }
      }
     },
     "metadata": {},
     "output_type": "display_data"
    }
   ],
   "source": [
    "fig = px.scatter(stops, x=\"company_name\", y=\"altitude\", color=\"company_name\", title=\"Distribution of the number of public transports stops depending on the altitude\")\n",
    "fig.add_hline(y=372, line_width=1, line_dash=\"dash\", line_color=\"blue\", annotation_text=\"Leman\", annotation_font_color=\"blue\")\n",
    "fig.show()"
   ]
  },
  {
   "cell_type": "code",
   "execution_count": 10,
   "metadata": {},
   "outputs": [
    {
     "data": {
      "application/vnd.plotly.v1+json": {
       "config": {
        "plotlyServerURL": "https://plot.ly"
       },
       "data": [
        {
         "alignmentgroup": "True",
         "bingroup": "x",
         "hovertemplate": "company_name=%{x}<br>count=%{y}<extra></extra>",
         "legendgroup": "TL",
         "marker": {
          "color": "#636efa",
          "pattern": {
           "shape": ""
          }
         },
         "name": "TL",
         "offsetgroup": "TL",
         "orientation": "v",
         "showlegend": true,
         "type": "histogram",
         "x": [
          "TL",
          "TL",
          "TL",
          "TL",
          "TL",
          "TL",
          "TL",
          "TL",
          "TL",
          "TL",
          "TL",
          "TL",
          "TL",
          "TL",
          "TL",
          "TL",
          "TL",
          "TL",
          "TL",
          "TL",
          "TL",
          "TL",
          "TL",
          "TL",
          "TL",
          "TL",
          "TL",
          "TL",
          "TL",
          "TL",
          "TL",
          "TL",
          "TL",
          "TL",
          "TL",
          "TL",
          "TL",
          "TL",
          "TL",
          "TL",
          "TL",
          "TL",
          "TL",
          "TL",
          "TL",
          "TL",
          "TL",
          "TL",
          "TL",
          "TL",
          "TL",
          "TL",
          "TL",
          "TL",
          "TL",
          "TL",
          "TL",
          "TL",
          "TL",
          "TL",
          "TL",
          "TL",
          "TL",
          "TL",
          "TL",
          "TL",
          "TL",
          "TL",
          "TL",
          "TL",
          "TL",
          "TL",
          "TL",
          "TL",
          "TL",
          "TL",
          "TL",
          "TL",
          "TL",
          "TL",
          "TL",
          "TL",
          "TL",
          "TL",
          "TL",
          "TL",
          "TL",
          "TL",
          "TL",
          "TL",
          "TL",
          "TL",
          "TL",
          "TL",
          "TL",
          "TL",
          "TL",
          "TL",
          "TL",
          "TL",
          "TL",
          "TL",
          "TL",
          "TL",
          "TL",
          "TL",
          "TL",
          "TL",
          "TL",
          "TL",
          "TL",
          "TL",
          "TL",
          "TL",
          "TL",
          "TL",
          "TL",
          "TL",
          "TL",
          "TL",
          "TL",
          "TL",
          "TL",
          "TL",
          "TL",
          "TL",
          "TL",
          "TL",
          "TL",
          "TL",
          "TL",
          "TL",
          "TL",
          "TL",
          "TL",
          "TL",
          "TL",
          "TL",
          "TL",
          "TL",
          "TL",
          "TL",
          "TL",
          "TL",
          "TL",
          "TL",
          "TL",
          "TL",
          "TL",
          "TL",
          "TL",
          "TL",
          "TL",
          "TL",
          "TL",
          "TL",
          "TL",
          "TL",
          "TL",
          "TL",
          "TL",
          "TL",
          "TL",
          "TL",
          "TL",
          "TL",
          "TL",
          "TL",
          "TL",
          "TL",
          "TL",
          "TL",
          "TL",
          "TL",
          "TL",
          "TL",
          "TL",
          "TL",
          "TL",
          "TL",
          "TL",
          "TL",
          "TL",
          "TL",
          "TL",
          "TL",
          "TL",
          "TL",
          "TL",
          "TL",
          "TL",
          "TL",
          "TL",
          "TL",
          "TL",
          "TL",
          "TL",
          "TL",
          "TL",
          "TL",
          "TL",
          "TL",
          "TL",
          "TL",
          "TL",
          "TL",
          "TL",
          "TL",
          "TL",
          "TL",
          "TL",
          "TL",
          "TL",
          "TL",
          "TL",
          "TL",
          "TL",
          "TL",
          "TL",
          "TL",
          "TL",
          "TL",
          "TL",
          "TL",
          "TL",
          "TL",
          "TL",
          "TL",
          "TL",
          "TL",
          "TL",
          "TL",
          "TL",
          "TL",
          "TL",
          "TL",
          "TL",
          "TL",
          "TL",
          "TL",
          "TL",
          "TL",
          "TL",
          "TL",
          "TL",
          "TL",
          "TL",
          "TL",
          "TL",
          "TL",
          "TL",
          "TL",
          "TL",
          "TL",
          "TL",
          "TL",
          "TL",
          "TL",
          "TL",
          "TL",
          "TL",
          "TL",
          "TL",
          "TL",
          "TL",
          "TL",
          "TL",
          "TL",
          "TL",
          "TL",
          "TL",
          "TL",
          "TL",
          "TL",
          "TL",
          "TL",
          "TL",
          "TL",
          "TL",
          "TL",
          "TL",
          "TL",
          "TL",
          "TL",
          "TL",
          "TL",
          "TL",
          "TL",
          "TL",
          "TL",
          "TL",
          "TL",
          "TL",
          "TL",
          "TL",
          "TL",
          "TL",
          "TL",
          "TL",
          "TL",
          "TL",
          "TL",
          "TL",
          "TL",
          "TL",
          "TL",
          "TL",
          "TL",
          "TL",
          "TL",
          "TL",
          "TL",
          "TL",
          "TL",
          "TL",
          "TL",
          "TL",
          "TL",
          "TL",
          "TL",
          "TL",
          "TL",
          "TL",
          "TL",
          "TL",
          "TL",
          "TL",
          "TL",
          "TL",
          "TL",
          "TL",
          "TL",
          "TL",
          "TL",
          "TL",
          "TL",
          "TL",
          "TL",
          "TL",
          "TL",
          "TL",
          "TL",
          "TL",
          "TL",
          "TL",
          "TL",
          "TL",
          "TL",
          "TL",
          "TL",
          "TL",
          "TL",
          "TL",
          "TL",
          "TL",
          "TL",
          "TL",
          "TL",
          "TL",
          "TL",
          "TL",
          "TL",
          "TL",
          "TL",
          "TL",
          "TL",
          "TL",
          "TL",
          "TL",
          "TL",
          "TL",
          "TL",
          "TL",
          "TL",
          "TL",
          "TL",
          "TL",
          "TL",
          "TL",
          "TL",
          "TL",
          "TL",
          "TL",
          "TL",
          "TL",
          "TL",
          "TL",
          "TL",
          "TL",
          "TL",
          "TL",
          "TL",
          "TL",
          "TL",
          "TL",
          "TL",
          "TL",
          "TL",
          "TL",
          "TL",
          "TL",
          "TL",
          "TL",
          "TL",
          "TL",
          "TL",
          "TL",
          "TL",
          "TL",
          "TL",
          "TL",
          "TL",
          "TL",
          "TL",
          "TL",
          "TL",
          "TL",
          "TL",
          "TL",
          "TL",
          "TL",
          "TL",
          "TL",
          "TL",
          "TL",
          "TL",
          "TL",
          "TL",
          "TL",
          "TL",
          "TL",
          "TL",
          "TL",
          "TL",
          "TL",
          "TL",
          "TL",
          "TL",
          "TL",
          "TL",
          "TL",
          "TL",
          "TL",
          "TL",
          "TL",
          "TL",
          "TL",
          "TL",
          "TL",
          "TL",
          "TL",
          "TL",
          "TL",
          "TL",
          "TL",
          "TL",
          "TL",
          "TL",
          "TL",
          "TL",
          "TL",
          "TL",
          "TL",
          "TL",
          "TL",
          "TL",
          "TL",
          "TL",
          "TL",
          "TL",
          "TL",
          "TL",
          "TL",
          "TL",
          "TL",
          "TL",
          "TL",
          "TL",
          "TL",
          "TL",
          "TL",
          "TL",
          "TL",
          "TL",
          "TL",
          "TL",
          "TL",
          "TL",
          "TL",
          "TL",
          "TL",
          "TL",
          "TL",
          "TL",
          "TL",
          "TL",
          "TL",
          "TL",
          "TL",
          "TL",
          "TL",
          "TL",
          "TL"
         ],
         "xaxis": "x",
         "yaxis": "y"
        },
        {
         "alignmentgroup": "True",
         "bingroup": "x",
         "hovertemplate": "company_name=%{x}<br>count=%{y}<extra></extra>",
         "legendgroup": "SBB",
         "marker": {
          "color": "#EF553B",
          "pattern": {
           "shape": ""
          }
         },
         "name": "SBB",
         "offsetgroup": "SBB",
         "orientation": "v",
         "showlegend": true,
         "type": "histogram",
         "x": [
          "SBB",
          "SBB",
          "SBB",
          "SBB",
          "SBB",
          "SBB",
          "SBB",
          "SBB",
          "SBB",
          "SBB",
          "SBB",
          "SBB",
          "SBB",
          "SBB",
          "SBB",
          "SBB",
          "SBB",
          "SBB",
          "SBB",
          "SBB",
          "SBB",
          "SBB",
          "SBB",
          "SBB",
          "SBB",
          "SBB",
          "SBB",
          "SBB",
          "SBB",
          "SBB",
          "SBB",
          "SBB",
          "SBB",
          "SBB",
          "SBB",
          "SBB",
          "SBB",
          "SBB",
          "SBB",
          "SBB",
          "SBB",
          "SBB",
          "SBB",
          "SBB",
          "SBB",
          "SBB",
          "SBB",
          "SBB",
          "SBB"
         ],
         "xaxis": "x",
         "yaxis": "y"
        },
        {
         "alignmentgroup": "True",
         "bingroup": "x",
         "hovertemplate": "company_name=%{x}<br>count=%{y}<extra></extra>",
         "legendgroup": "LEB",
         "marker": {
          "color": "#00cc96",
          "pattern": {
           "shape": ""
          }
         },
         "name": "LEB",
         "offsetgroup": "LEB",
         "orientation": "v",
         "showlegend": true,
         "type": "histogram",
         "x": [
          "LEB",
          "LEB",
          "LEB",
          "LEB",
          "LEB",
          "LEB",
          "LEB",
          "LEB",
          "LEB",
          "LEB"
         ],
         "xaxis": "x",
         "yaxis": "y"
        },
        {
         "alignmentgroup": "True",
         "bingroup": "x",
         "hovertemplate": "company_name=%{x}<br>count=%{y}<extra></extra>",
         "legendgroup": "MBC",
         "marker": {
          "color": "#ab63fa",
          "pattern": {
           "shape": ""
          }
         },
         "name": "MBC",
         "offsetgroup": "MBC",
         "orientation": "v",
         "showlegend": true,
         "type": "histogram",
         "x": [
          "MBC",
          "MBC",
          "MBC",
          "MBC",
          "MBC",
          "MBC",
          "MBC",
          "MBC",
          "MBC",
          "MBC",
          "MBC",
          "MBC",
          "MBC",
          "MBC",
          "MBC",
          "MBC",
          "MBC",
          "MBC",
          "MBC",
          "MBC",
          "MBC",
          "MBC",
          "MBC",
          "MBC",
          "MBC",
          "MBC",
          "MBC",
          "MBC",
          "MBC",
          "MBC",
          "MBC",
          "MBC",
          "MBC",
          "MBC",
          "MBC",
          "MBC",
          "MBC",
          "MBC",
          "MBC",
          "MBC",
          "MBC",
          "MBC"
         ],
         "xaxis": "x",
         "yaxis": "y"
        },
        {
         "alignmentgroup": "True",
         "bingroup": "x",
         "hovertemplate": "company_name=%{x}<br>count=%{y}<extra></extra>",
         "legendgroup": "PAG",
         "marker": {
          "color": "#FFA15A",
          "pattern": {
           "shape": ""
          }
         },
         "name": "PAG",
         "offsetgroup": "PAG",
         "orientation": "v",
         "showlegend": true,
         "type": "histogram",
         "x": [
          "PAG",
          "PAG",
          "PAG",
          "PAG",
          "PAG",
          "PAG",
          "PAG",
          "PAG",
          "PAG",
          "PAG",
          "PAG",
          "PAG",
          "PAG"
         ],
         "xaxis": "x",
         "yaxis": "y"
        },
        {
         "alignmentgroup": "True",
         "bingroup": "x",
         "hovertemplate": "company_name=%{x}<br>count=%{y}<extra></extra>",
         "legendgroup": "CGN",
         "marker": {
          "color": "#19d3f3",
          "pattern": {
           "shape": ""
          }
         },
         "name": "CGN",
         "offsetgroup": "CGN",
         "orientation": "v",
         "showlegend": true,
         "type": "histogram",
         "x": [
          "CGN",
          "CGN",
          "CGN",
          "CGN"
         ],
         "xaxis": "x",
         "yaxis": "y"
        },
        {
         "alignmentgroup": "True",
         "bingroup": "x",
         "hovertemplate": "company_name=%{x}<br>count=%{y}<extra></extra>",
         "legendgroup": "TPF",
         "marker": {
          "color": "#FF6692",
          "pattern": {
           "shape": ""
          }
         },
         "name": "TPF",
         "offsetgroup": "TPF",
         "orientation": "v",
         "showlegend": true,
         "type": "histogram",
         "x": [
          "TPF"
         ],
         "xaxis": "x",
         "yaxis": "y"
        }
       ],
       "layout": {
        "barmode": "relative",
        "legend": {
         "title": {
          "text": "company_name"
         },
         "tracegroupgap": 0
        },
        "template": {
         "data": {
          "bar": [
           {
            "error_x": {
             "color": "#2a3f5f"
            },
            "error_y": {
             "color": "#2a3f5f"
            },
            "marker": {
             "line": {
              "color": "#E5ECF6",
              "width": 0.5
             },
             "pattern": {
              "fillmode": "overlay",
              "size": 10,
              "solidity": 0.2
             }
            },
            "type": "bar"
           }
          ],
          "barpolar": [
           {
            "marker": {
             "line": {
              "color": "#E5ECF6",
              "width": 0.5
             },
             "pattern": {
              "fillmode": "overlay",
              "size": 10,
              "solidity": 0.2
             }
            },
            "type": "barpolar"
           }
          ],
          "carpet": [
           {
            "aaxis": {
             "endlinecolor": "#2a3f5f",
             "gridcolor": "white",
             "linecolor": "white",
             "minorgridcolor": "white",
             "startlinecolor": "#2a3f5f"
            },
            "baxis": {
             "endlinecolor": "#2a3f5f",
             "gridcolor": "white",
             "linecolor": "white",
             "minorgridcolor": "white",
             "startlinecolor": "#2a3f5f"
            },
            "type": "carpet"
           }
          ],
          "choropleth": [
           {
            "colorbar": {
             "outlinewidth": 0,
             "ticks": ""
            },
            "type": "choropleth"
           }
          ],
          "contour": [
           {
            "colorbar": {
             "outlinewidth": 0,
             "ticks": ""
            },
            "colorscale": [
             [
              0,
              "#0d0887"
             ],
             [
              0.1111111111111111,
              "#46039f"
             ],
             [
              0.2222222222222222,
              "#7201a8"
             ],
             [
              0.3333333333333333,
              "#9c179e"
             ],
             [
              0.4444444444444444,
              "#bd3786"
             ],
             [
              0.5555555555555556,
              "#d8576b"
             ],
             [
              0.6666666666666666,
              "#ed7953"
             ],
             [
              0.7777777777777778,
              "#fb9f3a"
             ],
             [
              0.8888888888888888,
              "#fdca26"
             ],
             [
              1,
              "#f0f921"
             ]
            ],
            "type": "contour"
           }
          ],
          "contourcarpet": [
           {
            "colorbar": {
             "outlinewidth": 0,
             "ticks": ""
            },
            "type": "contourcarpet"
           }
          ],
          "heatmap": [
           {
            "colorbar": {
             "outlinewidth": 0,
             "ticks": ""
            },
            "colorscale": [
             [
              0,
              "#0d0887"
             ],
             [
              0.1111111111111111,
              "#46039f"
             ],
             [
              0.2222222222222222,
              "#7201a8"
             ],
             [
              0.3333333333333333,
              "#9c179e"
             ],
             [
              0.4444444444444444,
              "#bd3786"
             ],
             [
              0.5555555555555556,
              "#d8576b"
             ],
             [
              0.6666666666666666,
              "#ed7953"
             ],
             [
              0.7777777777777778,
              "#fb9f3a"
             ],
             [
              0.8888888888888888,
              "#fdca26"
             ],
             [
              1,
              "#f0f921"
             ]
            ],
            "type": "heatmap"
           }
          ],
          "heatmapgl": [
           {
            "colorbar": {
             "outlinewidth": 0,
             "ticks": ""
            },
            "colorscale": [
             [
              0,
              "#0d0887"
             ],
             [
              0.1111111111111111,
              "#46039f"
             ],
             [
              0.2222222222222222,
              "#7201a8"
             ],
             [
              0.3333333333333333,
              "#9c179e"
             ],
             [
              0.4444444444444444,
              "#bd3786"
             ],
             [
              0.5555555555555556,
              "#d8576b"
             ],
             [
              0.6666666666666666,
              "#ed7953"
             ],
             [
              0.7777777777777778,
              "#fb9f3a"
             ],
             [
              0.8888888888888888,
              "#fdca26"
             ],
             [
              1,
              "#f0f921"
             ]
            ],
            "type": "heatmapgl"
           }
          ],
          "histogram": [
           {
            "marker": {
             "pattern": {
              "fillmode": "overlay",
              "size": 10,
              "solidity": 0.2
             }
            },
            "type": "histogram"
           }
          ],
          "histogram2d": [
           {
            "colorbar": {
             "outlinewidth": 0,
             "ticks": ""
            },
            "colorscale": [
             [
              0,
              "#0d0887"
             ],
             [
              0.1111111111111111,
              "#46039f"
             ],
             [
              0.2222222222222222,
              "#7201a8"
             ],
             [
              0.3333333333333333,
              "#9c179e"
             ],
             [
              0.4444444444444444,
              "#bd3786"
             ],
             [
              0.5555555555555556,
              "#d8576b"
             ],
             [
              0.6666666666666666,
              "#ed7953"
             ],
             [
              0.7777777777777778,
              "#fb9f3a"
             ],
             [
              0.8888888888888888,
              "#fdca26"
             ],
             [
              1,
              "#f0f921"
             ]
            ],
            "type": "histogram2d"
           }
          ],
          "histogram2dcontour": [
           {
            "colorbar": {
             "outlinewidth": 0,
             "ticks": ""
            },
            "colorscale": [
             [
              0,
              "#0d0887"
             ],
             [
              0.1111111111111111,
              "#46039f"
             ],
             [
              0.2222222222222222,
              "#7201a8"
             ],
             [
              0.3333333333333333,
              "#9c179e"
             ],
             [
              0.4444444444444444,
              "#bd3786"
             ],
             [
              0.5555555555555556,
              "#d8576b"
             ],
             [
              0.6666666666666666,
              "#ed7953"
             ],
             [
              0.7777777777777778,
              "#fb9f3a"
             ],
             [
              0.8888888888888888,
              "#fdca26"
             ],
             [
              1,
              "#f0f921"
             ]
            ],
            "type": "histogram2dcontour"
           }
          ],
          "mesh3d": [
           {
            "colorbar": {
             "outlinewidth": 0,
             "ticks": ""
            },
            "type": "mesh3d"
           }
          ],
          "parcoords": [
           {
            "line": {
             "colorbar": {
              "outlinewidth": 0,
              "ticks": ""
             }
            },
            "type": "parcoords"
           }
          ],
          "pie": [
           {
            "automargin": true,
            "type": "pie"
           }
          ],
          "scatter": [
           {
            "fillpattern": {
             "fillmode": "overlay",
             "size": 10,
             "solidity": 0.2
            },
            "type": "scatter"
           }
          ],
          "scatter3d": [
           {
            "line": {
             "colorbar": {
              "outlinewidth": 0,
              "ticks": ""
             }
            },
            "marker": {
             "colorbar": {
              "outlinewidth": 0,
              "ticks": ""
             }
            },
            "type": "scatter3d"
           }
          ],
          "scattercarpet": [
           {
            "marker": {
             "colorbar": {
              "outlinewidth": 0,
              "ticks": ""
             }
            },
            "type": "scattercarpet"
           }
          ],
          "scattergeo": [
           {
            "marker": {
             "colorbar": {
              "outlinewidth": 0,
              "ticks": ""
             }
            },
            "type": "scattergeo"
           }
          ],
          "scattergl": [
           {
            "marker": {
             "colorbar": {
              "outlinewidth": 0,
              "ticks": ""
             }
            },
            "type": "scattergl"
           }
          ],
          "scattermapbox": [
           {
            "marker": {
             "colorbar": {
              "outlinewidth": 0,
              "ticks": ""
             }
            },
            "type": "scattermapbox"
           }
          ],
          "scatterpolar": [
           {
            "marker": {
             "colorbar": {
              "outlinewidth": 0,
              "ticks": ""
             }
            },
            "type": "scatterpolar"
           }
          ],
          "scatterpolargl": [
           {
            "marker": {
             "colorbar": {
              "outlinewidth": 0,
              "ticks": ""
             }
            },
            "type": "scatterpolargl"
           }
          ],
          "scatterternary": [
           {
            "marker": {
             "colorbar": {
              "outlinewidth": 0,
              "ticks": ""
             }
            },
            "type": "scatterternary"
           }
          ],
          "surface": [
           {
            "colorbar": {
             "outlinewidth": 0,
             "ticks": ""
            },
            "colorscale": [
             [
              0,
              "#0d0887"
             ],
             [
              0.1111111111111111,
              "#46039f"
             ],
             [
              0.2222222222222222,
              "#7201a8"
             ],
             [
              0.3333333333333333,
              "#9c179e"
             ],
             [
              0.4444444444444444,
              "#bd3786"
             ],
             [
              0.5555555555555556,
              "#d8576b"
             ],
             [
              0.6666666666666666,
              "#ed7953"
             ],
             [
              0.7777777777777778,
              "#fb9f3a"
             ],
             [
              0.8888888888888888,
              "#fdca26"
             ],
             [
              1,
              "#f0f921"
             ]
            ],
            "type": "surface"
           }
          ],
          "table": [
           {
            "cells": {
             "fill": {
              "color": "#EBF0F8"
             },
             "line": {
              "color": "white"
             }
            },
            "header": {
             "fill": {
              "color": "#C8D4E3"
             },
             "line": {
              "color": "white"
             }
            },
            "type": "table"
           }
          ]
         },
         "layout": {
          "annotationdefaults": {
           "arrowcolor": "#2a3f5f",
           "arrowhead": 0,
           "arrowwidth": 1
          },
          "autotypenumbers": "strict",
          "coloraxis": {
           "colorbar": {
            "outlinewidth": 0,
            "ticks": ""
           }
          },
          "colorscale": {
           "diverging": [
            [
             0,
             "#8e0152"
            ],
            [
             0.1,
             "#c51b7d"
            ],
            [
             0.2,
             "#de77ae"
            ],
            [
             0.3,
             "#f1b6da"
            ],
            [
             0.4,
             "#fde0ef"
            ],
            [
             0.5,
             "#f7f7f7"
            ],
            [
             0.6,
             "#e6f5d0"
            ],
            [
             0.7,
             "#b8e186"
            ],
            [
             0.8,
             "#7fbc41"
            ],
            [
             0.9,
             "#4d9221"
            ],
            [
             1,
             "#276419"
            ]
           ],
           "sequential": [
            [
             0,
             "#0d0887"
            ],
            [
             0.1111111111111111,
             "#46039f"
            ],
            [
             0.2222222222222222,
             "#7201a8"
            ],
            [
             0.3333333333333333,
             "#9c179e"
            ],
            [
             0.4444444444444444,
             "#bd3786"
            ],
            [
             0.5555555555555556,
             "#d8576b"
            ],
            [
             0.6666666666666666,
             "#ed7953"
            ],
            [
             0.7777777777777778,
             "#fb9f3a"
            ],
            [
             0.8888888888888888,
             "#fdca26"
            ],
            [
             1,
             "#f0f921"
            ]
           ],
           "sequentialminus": [
            [
             0,
             "#0d0887"
            ],
            [
             0.1111111111111111,
             "#46039f"
            ],
            [
             0.2222222222222222,
             "#7201a8"
            ],
            [
             0.3333333333333333,
             "#9c179e"
            ],
            [
             0.4444444444444444,
             "#bd3786"
            ],
            [
             0.5555555555555556,
             "#d8576b"
            ],
            [
             0.6666666666666666,
             "#ed7953"
            ],
            [
             0.7777777777777778,
             "#fb9f3a"
            ],
            [
             0.8888888888888888,
             "#fdca26"
            ],
            [
             1,
             "#f0f921"
            ]
           ]
          },
          "colorway": [
           "#636efa",
           "#EF553B",
           "#00cc96",
           "#ab63fa",
           "#FFA15A",
           "#19d3f3",
           "#FF6692",
           "#B6E880",
           "#FF97FF",
           "#FECB52"
          ],
          "font": {
           "color": "#2a3f5f"
          },
          "geo": {
           "bgcolor": "white",
           "lakecolor": "white",
           "landcolor": "#E5ECF6",
           "showlakes": true,
           "showland": true,
           "subunitcolor": "white"
          },
          "hoverlabel": {
           "align": "left"
          },
          "hovermode": "closest",
          "mapbox": {
           "style": "light"
          },
          "paper_bgcolor": "white",
          "plot_bgcolor": "#E5ECF6",
          "polar": {
           "angularaxis": {
            "gridcolor": "white",
            "linecolor": "white",
            "ticks": ""
           },
           "bgcolor": "#E5ECF6",
           "radialaxis": {
            "gridcolor": "white",
            "linecolor": "white",
            "ticks": ""
           }
          },
          "scene": {
           "xaxis": {
            "backgroundcolor": "#E5ECF6",
            "gridcolor": "white",
            "gridwidth": 2,
            "linecolor": "white",
            "showbackground": true,
            "ticks": "",
            "zerolinecolor": "white"
           },
           "yaxis": {
            "backgroundcolor": "#E5ECF6",
            "gridcolor": "white",
            "gridwidth": 2,
            "linecolor": "white",
            "showbackground": true,
            "ticks": "",
            "zerolinecolor": "white"
           },
           "zaxis": {
            "backgroundcolor": "#E5ECF6",
            "gridcolor": "white",
            "gridwidth": 2,
            "linecolor": "white",
            "showbackground": true,
            "ticks": "",
            "zerolinecolor": "white"
           }
          },
          "shapedefaults": {
           "line": {
            "color": "#2a3f5f"
           }
          },
          "ternary": {
           "aaxis": {
            "gridcolor": "white",
            "linecolor": "white",
            "ticks": ""
           },
           "baxis": {
            "gridcolor": "white",
            "linecolor": "white",
            "ticks": ""
           },
           "bgcolor": "#E5ECF6",
           "caxis": {
            "gridcolor": "white",
            "linecolor": "white",
            "ticks": ""
           }
          },
          "title": {
           "x": 0.05
          },
          "xaxis": {
           "automargin": true,
           "gridcolor": "white",
           "linecolor": "white",
           "ticks": "",
           "title": {
            "standoff": 15
           },
           "zerolinecolor": "white",
           "zerolinewidth": 2
          },
          "yaxis": {
           "automargin": true,
           "gridcolor": "white",
           "linecolor": "white",
           "ticks": "",
           "title": {
            "standoff": 15
           },
           "zerolinecolor": "white",
           "zerolinewidth": 2
          }
         }
        },
        "title": {
         "text": "Number of stops for each public transport company"
        },
        "xaxis": {
         "anchor": "y",
         "categoryarray": [
          "TL",
          "SBB",
          "LEB",
          "MBC",
          "PAG",
          "CGN",
          "TPF"
         ],
         "categoryorder": "array",
         "domain": [
          0,
          1
         ],
         "title": {
          "text": "company_name"
         }
        },
        "yaxis": {
         "anchor": "x",
         "domain": [
          0,
          1
         ],
         "title": {
          "text": "count"
         }
        }
       }
      }
     },
     "metadata": {},
     "output_type": "display_data"
    }
   ],
   "source": [
    "fig = px.histogram(stops, x=\"company_name\", color=\"company_name\", title=\"Number of stops for each public transport company\")\n",
    "fig.show()"
   ]
  },
  {
   "cell_type": "code",
   "execution_count": 44,
   "metadata": {},
   "outputs": [],
   "source": [
    "def map_modes(date):\n",
    "    transactions = pd.read_csv('data/timetables/{}_istdaten.csv'.format(date), sep=';')\n",
    "    modes = dict()\n",
    "\n",
    "    for _, trx in transactions.iterrows():\n",
    "        mode = trx['PRODUKT_ID']\n",
    "        if mode not in modes:\n",
    "            modes[mode] = 0\n",
    "        modes[mode] += 1\n",
    "    \n",
    "    return modes\n",
    "\n",
    "def map_companies(date):\n",
    "    transactions = pd.read_csv('data/timetables/{}_istdaten.csv'.format(date), sep=';')\n",
    "    companies = dict()\n",
    "\n",
    "    for _, trx in transactions.iterrows():\n",
    "        company = trx['BETREIBER_ABK']\n",
    "        if company not in companies:\n",
    "            companies[company] = 0\n",
    "        companies[company] += 1\n",
    "    \n",
    "    return companies\n",
    "\n",
    "def map_vehicles(date):\n",
    "    transactions = pd.read_csv('data/timetables/{}_istdaten.csv'.format(date), sep=';')\n",
    "    vehicles = dict()\n",
    "\n",
    "    for _, trx in transactions.iterrows():\n",
    "        vehicle = trx['LINIEN_ID']\n",
    "        if vehicle not in vehicles:\n",
    "            vehicles[vehicle] = 0\n",
    "        vehicles[vehicle] += 1\n",
    "\n",
    "    vehicles = {k: v for k, v in sorted(vehicles.items(), key=lambda item: -item[1])}\n",
    "\n",
    "    return vehicles\n",
    "\n",
    "def map_stops(date):\n",
    "    transactions = pd.read_csv('data/timetables/{}_istdaten.csv'.format(date), sep=';')\n",
    "    stops = dict()\n",
    "\n",
    "    for _, trx in transactions.iterrows():\n",
    "        stop = trx['BPUIC']\n",
    "        if stop not in stops:\n",
    "            stops[stop] = 0\n",
    "        stops[stop] += 1\n",
    "\n",
    "    stops = {k: v for k, v in sorted(stops.items(), key=lambda item: -item[1])}\n",
    "\n",
    "    return stops\n",
    "\n",
    "def day_transactions(date):\n",
    "    transactions = pd.read_csv('data/timetables/{}_istdaten.csv'.format(date), sep=';')\n",
    "\n",
    "    # Plot transactions per hour of the day grouped by company name\n",
    "    transactions['ANKUNFTSZEIT'] = pd.to_datetime(transactions['ANKUNFTSZEIT'], format='%d.%m.%Y %H:%M')\n",
    "    transactions['ABFAHRTSZEIT'] = pd.to_datetime(transactions['ABFAHRTSZEIT'], format='%d.%m.%Y %H:%M')\n",
    "    transactions['AN_HOUR'] = transactions['ANKUNFTSZEIT'].dt.hour\n",
    "    transactions['AB_HOUR'] = transactions['ABFAHRTSZEIT'].dt.hour\n",
    "\n",
    "    # Define the line colors for each company\n",
    "    colors = {'SBB': '#EB0000', 'TL': '#005198', 'LEB': '#5AB034', 'MBC Auto': '#03A84B', 'PAG': 'orange'}\n",
    "\n",
    "    # Create a single subplot\n",
    "    fig = make_subplots(rows=1, cols=1)\n",
    "\n",
    "    # Loop over companies and add each trace to the subplot\n",
    "    for company in transactions['BETREIBER_ABK'].unique():\n",
    "        hourly_counts = transactions[transactions['BETREIBER_ABK'] == company].groupby('AN_HOUR').size().reset_index(name='TRANSACTION_COUNT')\n",
    "        fig.add_trace(\n",
    "            go.Scatter(x=hourly_counts['AN_HOUR'], \n",
    "                    y=hourly_counts['TRANSACTION_COUNT'],\n",
    "                    mode='lines',\n",
    "                    name=company,\n",
    "                    line=dict(color=colors[company]))\n",
    "        )\n",
    "\n",
    "    # Update the layout and show the plot\n",
    "    fig.update_layout(\n",
    "        title_text='Number of transactions per hour on {date} ({day})'.format(date=date, day=pd.Timestamp(date).day_name()),\n",
    "        height=600,\n",
    "        xaxis_title='Hour of the Day',\n",
    "        yaxis_title='Number of Transactions'\n",
    "    )\n",
    "    fig.show()\n",
    "\n",
    "\n",
    "\n",
    "\n",
    "def day_delays(date):\n",
    "    transactions = pd.read_csv('data/timetables/{}_istdaten.csv'.format(date), sep=';')\n",
    "\n",
    "    # Plot median delays per hour of the day grouped by company name\n",
    "    transactions['ANKUNFTSZEIT'] = pd.to_datetime(transactions['ANKUNFTSZEIT'], format='%d.%m.%Y %H:%M')\n",
    "    transactions['ABFAHRTSZEIT'] = pd.to_datetime(transactions['ABFAHRTSZEIT'], format='%d.%m.%Y %H:%M')\n",
    "    transactions['AN_PROGNOSE'] = pd.to_datetime(transactions['AN_PROGNOSE'], format='%d.%m.%Y %H:%M:%S')\n",
    "    transactions['AB_PROGNOSE'] = pd.to_datetime(transactions['AB_PROGNOSE'], format='%d.%m.%Y %H:%M:%S')\n",
    "    transactions['AN_DELAY'] = transactions['AN_PROGNOSE'] - transactions['ANKUNFTSZEIT']\n",
    "    transactions['AB_DELAY'] = transactions['AB_PROGNOSE'] - transactions['ABFAHRTSZEIT']\n",
    "\n",
    "    # Group by company name and hour of the day and compute median delay\n",
    "    transactions['AN_HOUR'] = transactions['ANKUNFTSZEIT'].dt.hour\n",
    "    transactions['AB_HOUR'] = transactions['ABFAHRTSZEIT'].dt.hour\n",
    "    transactions['AN_DELAY'] = transactions['AN_DELAY'].dt.total_seconds() / 60\n",
    "    transactions['AB_DELAY'] = transactions['AB_DELAY'].dt.total_seconds() / 60\n",
    "    transactions = transactions.groupby(['BETREIBER_ABK', 'AN_HOUR']).median().reset_index()\n",
    "    transactions = transactions.groupby(['BETREIBER_ABK', 'AB_HOUR']).median().reset_index()\n",
    "\n",
    "    # Plot median delays per hour of the day with one subplot per company in transactions['BETREIBER_ABK'].unique()\n",
    "    fig = make_subplots(rows=3, cols=2, subplot_titles=transactions['BETREIBER_ABK'].unique())\n",
    "    for i, company in enumerate(transactions['BETREIBER_ABK'].unique()):\n",
    "        # Departure delays same color for all companies\n",
    "        fig.add_trace(go.Scatter(x=transactions[transactions['BETREIBER_ABK'] == company]['AN_HOUR'], y=transactions[transactions['BETREIBER_ABK'] == company]['AN_DELAY'], name=\"{}_arrival\".format(company)), row=i//2 + 1, col=i%2 + 1)\n",
    "        fig.add_trace(go.Scatter(x=transactions[transactions['BETREIBER_ABK'] == company]['AB_HOUR'], y=transactions[transactions['BETREIBER_ABK'] == company]['AB_DELAY'], name=\"{}_departure\".format(company)), row=i//2 + 1, col=i%2 + 1)\n",
    "    fig.update_layout(title_text='Median delays per hour on {date} ({day}) (in minutes)'.format(date=date, day=pd.Timestamp(date).day_name()), height=800)\n",
    "    fig.show()"
   ]
  },
  {
   "cell_type": "code",
   "execution_count": 35,
   "metadata": {},
   "outputs": [
    {
     "ename": "TypeError",
     "evalue": "could not convert string to float: 'Zug'",
     "output_type": "error",
     "traceback": [
      "\u001b[0;31m---------------------------------------------------------------------------\u001b[0m",
      "\u001b[0;31mNotImplementedError\u001b[0m                       Traceback (most recent call last)",
      "File \u001b[0;32m/Applications/anaconda3/envs/dataviz/lib/python3.9/site-packages/pandas/core/groupby/groupby.py:1490\u001b[0m, in \u001b[0;36mGroupBy._cython_agg_general.<locals>.array_func\u001b[0;34m(values)\u001b[0m\n\u001b[1;32m   1489\u001b[0m \u001b[39mtry\u001b[39;00m:\n\u001b[0;32m-> 1490\u001b[0m     result \u001b[39m=\u001b[39m \u001b[39mself\u001b[39;49m\u001b[39m.\u001b[39;49mgrouper\u001b[39m.\u001b[39;49m_cython_operation(\n\u001b[1;32m   1491\u001b[0m         \u001b[39m\"\u001b[39;49m\u001b[39maggregate\u001b[39;49m\u001b[39m\"\u001b[39;49m,\n\u001b[1;32m   1492\u001b[0m         values,\n\u001b[1;32m   1493\u001b[0m         how,\n\u001b[1;32m   1494\u001b[0m         axis\u001b[39m=\u001b[39;49mdata\u001b[39m.\u001b[39;49mndim \u001b[39m-\u001b[39;49m \u001b[39m1\u001b[39;49m,\n\u001b[1;32m   1495\u001b[0m         min_count\u001b[39m=\u001b[39;49mmin_count,\n\u001b[1;32m   1496\u001b[0m         \u001b[39m*\u001b[39;49m\u001b[39m*\u001b[39;49mkwargs,\n\u001b[1;32m   1497\u001b[0m     )\n\u001b[1;32m   1498\u001b[0m \u001b[39mexcept\u001b[39;00m \u001b[39mNotImplementedError\u001b[39;00m:\n\u001b[1;32m   1499\u001b[0m     \u001b[39m# generally if we have numeric_only=False\u001b[39;00m\n\u001b[1;32m   1500\u001b[0m     \u001b[39m# and non-applicable functions\u001b[39;00m\n\u001b[1;32m   1501\u001b[0m     \u001b[39m# try to python agg\u001b[39;00m\n\u001b[1;32m   1502\u001b[0m     \u001b[39m# TODO: shouldn't min_count matter?\u001b[39;00m\n",
      "File \u001b[0;32m/Applications/anaconda3/envs/dataviz/lib/python3.9/site-packages/pandas/core/groupby/ops.py:959\u001b[0m, in \u001b[0;36mBaseGrouper._cython_operation\u001b[0;34m(self, kind, values, how, axis, min_count, **kwargs)\u001b[0m\n\u001b[1;32m    958\u001b[0m ngroups \u001b[39m=\u001b[39m \u001b[39mself\u001b[39m\u001b[39m.\u001b[39mngroups\n\u001b[0;32m--> 959\u001b[0m \u001b[39mreturn\u001b[39;00m cy_op\u001b[39m.\u001b[39;49mcython_operation(\n\u001b[1;32m    960\u001b[0m     values\u001b[39m=\u001b[39;49mvalues,\n\u001b[1;32m    961\u001b[0m     axis\u001b[39m=\u001b[39;49maxis,\n\u001b[1;32m    962\u001b[0m     min_count\u001b[39m=\u001b[39;49mmin_count,\n\u001b[1;32m    963\u001b[0m     comp_ids\u001b[39m=\u001b[39;49mids,\n\u001b[1;32m    964\u001b[0m     ngroups\u001b[39m=\u001b[39;49mngroups,\n\u001b[1;32m    965\u001b[0m     \u001b[39m*\u001b[39;49m\u001b[39m*\u001b[39;49mkwargs,\n\u001b[1;32m    966\u001b[0m )\n",
      "File \u001b[0;32m/Applications/anaconda3/envs/dataviz/lib/python3.9/site-packages/pandas/core/groupby/ops.py:657\u001b[0m, in \u001b[0;36mWrappedCythonOp.cython_operation\u001b[0;34m(self, values, axis, min_count, comp_ids, ngroups, **kwargs)\u001b[0m\n\u001b[1;32m    649\u001b[0m     \u001b[39mreturn\u001b[39;00m \u001b[39mself\u001b[39m\u001b[39m.\u001b[39m_ea_wrap_cython_operation(\n\u001b[1;32m    650\u001b[0m         values,\n\u001b[1;32m    651\u001b[0m         min_count\u001b[39m=\u001b[39mmin_count,\n\u001b[0;32m   (...)\u001b[0m\n\u001b[1;32m    654\u001b[0m         \u001b[39m*\u001b[39m\u001b[39m*\u001b[39mkwargs,\n\u001b[1;32m    655\u001b[0m     )\n\u001b[0;32m--> 657\u001b[0m \u001b[39mreturn\u001b[39;00m \u001b[39mself\u001b[39;49m\u001b[39m.\u001b[39;49m_cython_op_ndim_compat(\n\u001b[1;32m    658\u001b[0m     values,\n\u001b[1;32m    659\u001b[0m     min_count\u001b[39m=\u001b[39;49mmin_count,\n\u001b[1;32m    660\u001b[0m     ngroups\u001b[39m=\u001b[39;49mngroups,\n\u001b[1;32m    661\u001b[0m     comp_ids\u001b[39m=\u001b[39;49mcomp_ids,\n\u001b[1;32m    662\u001b[0m     mask\u001b[39m=\u001b[39;49m\u001b[39mNone\u001b[39;49;00m,\n\u001b[1;32m    663\u001b[0m     \u001b[39m*\u001b[39;49m\u001b[39m*\u001b[39;49mkwargs,\n\u001b[1;32m    664\u001b[0m )\n",
      "File \u001b[0;32m/Applications/anaconda3/envs/dataviz/lib/python3.9/site-packages/pandas/core/groupby/ops.py:497\u001b[0m, in \u001b[0;36mWrappedCythonOp._cython_op_ndim_compat\u001b[0;34m(self, values, min_count, ngroups, comp_ids, mask, result_mask, **kwargs)\u001b[0m\n\u001b[1;32m    495\u001b[0m     \u001b[39mreturn\u001b[39;00m res\u001b[39m.\u001b[39mT\n\u001b[0;32m--> 497\u001b[0m \u001b[39mreturn\u001b[39;00m \u001b[39mself\u001b[39;49m\u001b[39m.\u001b[39;49m_call_cython_op(\n\u001b[1;32m    498\u001b[0m     values,\n\u001b[1;32m    499\u001b[0m     min_count\u001b[39m=\u001b[39;49mmin_count,\n\u001b[1;32m    500\u001b[0m     ngroups\u001b[39m=\u001b[39;49mngroups,\n\u001b[1;32m    501\u001b[0m     comp_ids\u001b[39m=\u001b[39;49mcomp_ids,\n\u001b[1;32m    502\u001b[0m     mask\u001b[39m=\u001b[39;49mmask,\n\u001b[1;32m    503\u001b[0m     result_mask\u001b[39m=\u001b[39;49mresult_mask,\n\u001b[1;32m    504\u001b[0m     \u001b[39m*\u001b[39;49m\u001b[39m*\u001b[39;49mkwargs,\n\u001b[1;32m    505\u001b[0m )\n",
      "File \u001b[0;32m/Applications/anaconda3/envs/dataviz/lib/python3.9/site-packages/pandas/core/groupby/ops.py:541\u001b[0m, in \u001b[0;36mWrappedCythonOp._call_cython_op\u001b[0;34m(self, values, min_count, ngroups, comp_ids, mask, result_mask, **kwargs)\u001b[0m\n\u001b[1;32m    540\u001b[0m out_shape \u001b[39m=\u001b[39m \u001b[39mself\u001b[39m\u001b[39m.\u001b[39m_get_output_shape(ngroups, values)\n\u001b[0;32m--> 541\u001b[0m func \u001b[39m=\u001b[39m \u001b[39mself\u001b[39;49m\u001b[39m.\u001b[39;49m_get_cython_function(\u001b[39mself\u001b[39;49m\u001b[39m.\u001b[39;49mkind, \u001b[39mself\u001b[39;49m\u001b[39m.\u001b[39;49mhow, values\u001b[39m.\u001b[39;49mdtype, is_numeric)\n\u001b[1;32m    542\u001b[0m values \u001b[39m=\u001b[39m \u001b[39mself\u001b[39m\u001b[39m.\u001b[39m_get_cython_vals(values)\n",
      "File \u001b[0;32m/Applications/anaconda3/envs/dataviz/lib/python3.9/site-packages/pandas/core/groupby/ops.py:167\u001b[0m, in \u001b[0;36mWrappedCythonOp._get_cython_function\u001b[0;34m(cls, kind, how, dtype, is_numeric)\u001b[0m\n\u001b[1;32m    165\u001b[0m \u001b[39mif\u001b[39;00m how \u001b[39min\u001b[39;00m [\u001b[39m\"\u001b[39m\u001b[39mmedian\u001b[39m\u001b[39m\"\u001b[39m, \u001b[39m\"\u001b[39m\u001b[39mcumprod\u001b[39m\u001b[39m\"\u001b[39m]:\n\u001b[1;32m    166\u001b[0m     \u001b[39m# no fused types -> no __signatures__\u001b[39;00m\n\u001b[0;32m--> 167\u001b[0m     \u001b[39mraise\u001b[39;00m \u001b[39mNotImplementedError\u001b[39;00m(\n\u001b[1;32m    168\u001b[0m         \u001b[39mf\u001b[39m\u001b[39m\"\u001b[39m\u001b[39mfunction is not implemented for this dtype: \u001b[39m\u001b[39m\"\u001b[39m\n\u001b[1;32m    169\u001b[0m         \u001b[39mf\u001b[39m\u001b[39m\"\u001b[39m\u001b[39m[how->\u001b[39m\u001b[39m{\u001b[39;00mhow\u001b[39m}\u001b[39;00m\u001b[39m,dtype->\u001b[39m\u001b[39m{\u001b[39;00mdtype_str\u001b[39m}\u001b[39;00m\u001b[39m]\u001b[39m\u001b[39m\"\u001b[39m\n\u001b[1;32m    170\u001b[0m     )\n\u001b[1;32m    171\u001b[0m \u001b[39mif\u001b[39;00m \u001b[39m\"\u001b[39m\u001b[39mobject\u001b[39m\u001b[39m\"\u001b[39m \u001b[39mnot\u001b[39;00m \u001b[39min\u001b[39;00m f\u001b[39m.\u001b[39m__signatures__:\n\u001b[1;32m    172\u001b[0m     \u001b[39m# raise NotImplementedError here rather than TypeError later\u001b[39;00m\n",
      "\u001b[0;31mNotImplementedError\u001b[0m: function is not implemented for this dtype: [how->median,dtype->object]",
      "\nDuring handling of the above exception, another exception occurred:\n",
      "\u001b[0;31mValueError\u001b[0m                                Traceback (most recent call last)",
      "File \u001b[0;32m/Applications/anaconda3/envs/dataviz/lib/python3.9/site-packages/pandas/core/nanops.py:786\u001b[0m, in \u001b[0;36mnanmedian\u001b[0;34m(values, axis, skipna, mask)\u001b[0m\n\u001b[1;32m    785\u001b[0m \u001b[39mtry\u001b[39;00m:\n\u001b[0;32m--> 786\u001b[0m     values \u001b[39m=\u001b[39m values\u001b[39m.\u001b[39;49mastype(\u001b[39m\"\u001b[39;49m\u001b[39mf8\u001b[39;49m\u001b[39m\"\u001b[39;49m)\n\u001b[1;32m    787\u001b[0m \u001b[39mexcept\u001b[39;00m \u001b[39mValueError\u001b[39;00m \u001b[39mas\u001b[39;00m err:\n\u001b[1;32m    788\u001b[0m     \u001b[39m# e.g. \"could not convert string to float: 'a'\"\u001b[39;00m\n",
      "\u001b[0;31mValueError\u001b[0m: could not convert string to float: 'Zug'",
      "\nThe above exception was the direct cause of the following exception:\n",
      "\u001b[0;31mTypeError\u001b[0m                                 Traceback (most recent call last)",
      "Cell \u001b[0;32mIn[35], line 1\u001b[0m\n\u001b[0;32m----> 1\u001b[0m day_delays(\u001b[39m'\u001b[39;49m\u001b[39m2023-03-21\u001b[39;49m\u001b[39m'\u001b[39;49m)\n",
      "Cell \u001b[0;32mIn[33], line 102\u001b[0m, in \u001b[0;36mday_delays\u001b[0;34m(date)\u001b[0m\n\u001b[1;32m    100\u001b[0m transactions[\u001b[39m'\u001b[39m\u001b[39mAN_DELAY\u001b[39m\u001b[39m'\u001b[39m] \u001b[39m=\u001b[39m transactions[\u001b[39m'\u001b[39m\u001b[39mAN_DELAY\u001b[39m\u001b[39m'\u001b[39m]\u001b[39m.\u001b[39mdt\u001b[39m.\u001b[39mtotal_seconds() \u001b[39m/\u001b[39m \u001b[39m60\u001b[39m\n\u001b[1;32m    101\u001b[0m transactions[\u001b[39m'\u001b[39m\u001b[39mAB_DELAY\u001b[39m\u001b[39m'\u001b[39m] \u001b[39m=\u001b[39m transactions[\u001b[39m'\u001b[39m\u001b[39mAB_DELAY\u001b[39m\u001b[39m'\u001b[39m]\u001b[39m.\u001b[39mdt\u001b[39m.\u001b[39mtotal_seconds() \u001b[39m/\u001b[39m \u001b[39m60\u001b[39m\n\u001b[0;32m--> 102\u001b[0m transactions \u001b[39m=\u001b[39m transactions\u001b[39m.\u001b[39;49mgroupby([\u001b[39m'\u001b[39;49m\u001b[39mBETREIBER_ABK\u001b[39;49m\u001b[39m'\u001b[39;49m, \u001b[39m'\u001b[39;49m\u001b[39mAN_HOUR\u001b[39;49m\u001b[39m'\u001b[39;49m])\u001b[39m.\u001b[39;49mmedian()\u001b[39m.\u001b[39mreset_index()\n\u001b[1;32m    103\u001b[0m transactions \u001b[39m=\u001b[39m transactions\u001b[39m.\u001b[39mgroupby([\u001b[39m'\u001b[39m\u001b[39mBETREIBER_ABK\u001b[39m\u001b[39m'\u001b[39m, \u001b[39m'\u001b[39m\u001b[39mAB_HOUR\u001b[39m\u001b[39m'\u001b[39m])\u001b[39m.\u001b[39mmedian()\u001b[39m.\u001b[39mreset_index()\n\u001b[1;32m    105\u001b[0m \u001b[39m# Plot median delays per hour of the day with one subplot per company in transactions['BETREIBER_ABK'].unique()\u001b[39;00m\n",
      "File \u001b[0;32m/Applications/anaconda3/envs/dataviz/lib/python3.9/site-packages/pandas/core/groupby/groupby.py:1883\u001b[0m, in \u001b[0;36mGroupBy.median\u001b[0;34m(self, numeric_only)\u001b[0m\n\u001b[1;32m   1862\u001b[0m \u001b[39m@final\u001b[39m\n\u001b[1;32m   1863\u001b[0m \u001b[39mdef\u001b[39;00m \u001b[39mmedian\u001b[39m(\u001b[39mself\u001b[39m, numeric_only: \u001b[39mbool\u001b[39m \u001b[39m=\u001b[39m \u001b[39mFalse\u001b[39;00m):\n\u001b[1;32m   1864\u001b[0m \u001b[39m    \u001b[39m\u001b[39m\"\"\"\u001b[39;00m\n\u001b[1;32m   1865\u001b[0m \u001b[39m    Compute median of groups, excluding missing values.\u001b[39;00m\n\u001b[1;32m   1866\u001b[0m \n\u001b[0;32m   (...)\u001b[0m\n\u001b[1;32m   1881\u001b[0m \u001b[39m        Median of values within each group.\u001b[39;00m\n\u001b[1;32m   1882\u001b[0m \u001b[39m    \"\"\"\u001b[39;00m\n\u001b[0;32m-> 1883\u001b[0m     result \u001b[39m=\u001b[39m \u001b[39mself\u001b[39;49m\u001b[39m.\u001b[39;49m_cython_agg_general(\n\u001b[1;32m   1884\u001b[0m         \u001b[39m\"\u001b[39;49m\u001b[39mmedian\u001b[39;49m\u001b[39m\"\u001b[39;49m,\n\u001b[1;32m   1885\u001b[0m         alt\u001b[39m=\u001b[39;49m\u001b[39mlambda\u001b[39;49;00m x: Series(x)\u001b[39m.\u001b[39;49mmedian(numeric_only\u001b[39m=\u001b[39;49mnumeric_only),\n\u001b[1;32m   1886\u001b[0m         numeric_only\u001b[39m=\u001b[39;49mnumeric_only,\n\u001b[1;32m   1887\u001b[0m     )\n\u001b[1;32m   1888\u001b[0m     \u001b[39mreturn\u001b[39;00m result\u001b[39m.\u001b[39m__finalize__(\u001b[39mself\u001b[39m\u001b[39m.\u001b[39mobj, method\u001b[39m=\u001b[39m\u001b[39m\"\u001b[39m\u001b[39mgroupby\u001b[39m\u001b[39m\"\u001b[39m)\n",
      "File \u001b[0;32m/Applications/anaconda3/envs/dataviz/lib/python3.9/site-packages/pandas/core/groupby/groupby.py:1507\u001b[0m, in \u001b[0;36mGroupBy._cython_agg_general\u001b[0;34m(self, how, alt, numeric_only, min_count, **kwargs)\u001b[0m\n\u001b[1;32m   1503\u001b[0m         result \u001b[39m=\u001b[39m \u001b[39mself\u001b[39m\u001b[39m.\u001b[39m_agg_py_fallback(values, ndim\u001b[39m=\u001b[39mdata\u001b[39m.\u001b[39mndim, alt\u001b[39m=\u001b[39malt)\n\u001b[1;32m   1505\u001b[0m     \u001b[39mreturn\u001b[39;00m result\n\u001b[0;32m-> 1507\u001b[0m new_mgr \u001b[39m=\u001b[39m data\u001b[39m.\u001b[39;49mgrouped_reduce(array_func)\n\u001b[1;32m   1508\u001b[0m res \u001b[39m=\u001b[39m \u001b[39mself\u001b[39m\u001b[39m.\u001b[39m_wrap_agged_manager(new_mgr)\n\u001b[1;32m   1509\u001b[0m out \u001b[39m=\u001b[39m \u001b[39mself\u001b[39m\u001b[39m.\u001b[39m_wrap_aggregated_output(res)\n",
      "File \u001b[0;32m/Applications/anaconda3/envs/dataviz/lib/python3.9/site-packages/pandas/core/internals/managers.py:1503\u001b[0m, in \u001b[0;36mBlockManager.grouped_reduce\u001b[0;34m(self, func)\u001b[0m\n\u001b[1;32m   1499\u001b[0m \u001b[39mif\u001b[39;00m blk\u001b[39m.\u001b[39mis_object:\n\u001b[1;32m   1500\u001b[0m     \u001b[39m# split on object-dtype blocks bc some columns may raise\u001b[39;00m\n\u001b[1;32m   1501\u001b[0m     \u001b[39m#  while others do not.\u001b[39;00m\n\u001b[1;32m   1502\u001b[0m     \u001b[39mfor\u001b[39;00m sb \u001b[39min\u001b[39;00m blk\u001b[39m.\u001b[39m_split():\n\u001b[0;32m-> 1503\u001b[0m         applied \u001b[39m=\u001b[39m sb\u001b[39m.\u001b[39;49mapply(func)\n\u001b[1;32m   1504\u001b[0m         result_blocks \u001b[39m=\u001b[39m extend_blocks(applied, result_blocks)\n\u001b[1;32m   1505\u001b[0m \u001b[39melse\u001b[39;00m:\n",
      "File \u001b[0;32m/Applications/anaconda3/envs/dataviz/lib/python3.9/site-packages/pandas/core/internals/blocks.py:329\u001b[0m, in \u001b[0;36mBlock.apply\u001b[0;34m(self, func, **kwargs)\u001b[0m\n\u001b[1;32m    323\u001b[0m \u001b[39m@final\u001b[39m\n\u001b[1;32m    324\u001b[0m \u001b[39mdef\u001b[39;00m \u001b[39mapply\u001b[39m(\u001b[39mself\u001b[39m, func, \u001b[39m*\u001b[39m\u001b[39m*\u001b[39mkwargs) \u001b[39m-\u001b[39m\u001b[39m>\u001b[39m \u001b[39mlist\u001b[39m[Block]:\n\u001b[1;32m    325\u001b[0m \u001b[39m    \u001b[39m\u001b[39m\"\"\"\u001b[39;00m\n\u001b[1;32m    326\u001b[0m \u001b[39m    apply the function to my values; return a block if we are not\u001b[39;00m\n\u001b[1;32m    327\u001b[0m \u001b[39m    one\u001b[39;00m\n\u001b[1;32m    328\u001b[0m \u001b[39m    \"\"\"\u001b[39;00m\n\u001b[0;32m--> 329\u001b[0m     result \u001b[39m=\u001b[39m func(\u001b[39mself\u001b[39;49m\u001b[39m.\u001b[39;49mvalues, \u001b[39m*\u001b[39;49m\u001b[39m*\u001b[39;49mkwargs)\n\u001b[1;32m    331\u001b[0m     \u001b[39mreturn\u001b[39;00m \u001b[39mself\u001b[39m\u001b[39m.\u001b[39m_split_op_result(result)\n",
      "File \u001b[0;32m/Applications/anaconda3/envs/dataviz/lib/python3.9/site-packages/pandas/core/groupby/groupby.py:1503\u001b[0m, in \u001b[0;36mGroupBy._cython_agg_general.<locals>.array_func\u001b[0;34m(values)\u001b[0m\n\u001b[1;32m   1490\u001b[0m     result \u001b[39m=\u001b[39m \u001b[39mself\u001b[39m\u001b[39m.\u001b[39mgrouper\u001b[39m.\u001b[39m_cython_operation(\n\u001b[1;32m   1491\u001b[0m         \u001b[39m\"\u001b[39m\u001b[39maggregate\u001b[39m\u001b[39m\"\u001b[39m,\n\u001b[1;32m   1492\u001b[0m         values,\n\u001b[0;32m   (...)\u001b[0m\n\u001b[1;32m   1496\u001b[0m         \u001b[39m*\u001b[39m\u001b[39m*\u001b[39mkwargs,\n\u001b[1;32m   1497\u001b[0m     )\n\u001b[1;32m   1498\u001b[0m \u001b[39mexcept\u001b[39;00m \u001b[39mNotImplementedError\u001b[39;00m:\n\u001b[1;32m   1499\u001b[0m     \u001b[39m# generally if we have numeric_only=False\u001b[39;00m\n\u001b[1;32m   1500\u001b[0m     \u001b[39m# and non-applicable functions\u001b[39;00m\n\u001b[1;32m   1501\u001b[0m     \u001b[39m# try to python agg\u001b[39;00m\n\u001b[1;32m   1502\u001b[0m     \u001b[39m# TODO: shouldn't min_count matter?\u001b[39;00m\n\u001b[0;32m-> 1503\u001b[0m     result \u001b[39m=\u001b[39m \u001b[39mself\u001b[39;49m\u001b[39m.\u001b[39;49m_agg_py_fallback(values, ndim\u001b[39m=\u001b[39;49mdata\u001b[39m.\u001b[39;49mndim, alt\u001b[39m=\u001b[39;49malt)\n\u001b[1;32m   1505\u001b[0m \u001b[39mreturn\u001b[39;00m result\n",
      "File \u001b[0;32m/Applications/anaconda3/envs/dataviz/lib/python3.9/site-packages/pandas/core/groupby/groupby.py:1457\u001b[0m, in \u001b[0;36mGroupBy._agg_py_fallback\u001b[0;34m(self, values, ndim, alt)\u001b[0m\n\u001b[1;32m   1452\u001b[0m     ser \u001b[39m=\u001b[39m df\u001b[39m.\u001b[39miloc[:, \u001b[39m0\u001b[39m]\n\u001b[1;32m   1454\u001b[0m \u001b[39m# We do not get here with UDFs, so we know that our dtype\u001b[39;00m\n\u001b[1;32m   1455\u001b[0m \u001b[39m#  should always be preserved by the implemented aggregations\u001b[39;00m\n\u001b[1;32m   1456\u001b[0m \u001b[39m# TODO: Is this exactly right; see WrappedCythonOp get_result_dtype?\u001b[39;00m\n\u001b[0;32m-> 1457\u001b[0m res_values \u001b[39m=\u001b[39m \u001b[39mself\u001b[39;49m\u001b[39m.\u001b[39;49mgrouper\u001b[39m.\u001b[39;49magg_series(ser, alt, preserve_dtype\u001b[39m=\u001b[39;49m\u001b[39mTrue\u001b[39;49;00m)\n\u001b[1;32m   1459\u001b[0m \u001b[39mif\u001b[39;00m \u001b[39misinstance\u001b[39m(values, Categorical):\n\u001b[1;32m   1460\u001b[0m     \u001b[39m# Because we only get here with known dtype-preserving\u001b[39;00m\n\u001b[1;32m   1461\u001b[0m     \u001b[39m#  reductions, we cast back to Categorical.\u001b[39;00m\n\u001b[1;32m   1462\u001b[0m     \u001b[39m# TODO: if we ever get \"rank\" working, exclude it here.\u001b[39;00m\n\u001b[1;32m   1463\u001b[0m     res_values \u001b[39m=\u001b[39m \u001b[39mtype\u001b[39m(values)\u001b[39m.\u001b[39m_from_sequence(res_values, dtype\u001b[39m=\u001b[39mvalues\u001b[39m.\u001b[39mdtype)\n",
      "File \u001b[0;32m/Applications/anaconda3/envs/dataviz/lib/python3.9/site-packages/pandas/core/groupby/ops.py:994\u001b[0m, in \u001b[0;36mBaseGrouper.agg_series\u001b[0;34m(self, obj, func, preserve_dtype)\u001b[0m\n\u001b[1;32m    987\u001b[0m \u001b[39mif\u001b[39;00m \u001b[39mlen\u001b[39m(obj) \u001b[39m>\u001b[39m \u001b[39m0\u001b[39m \u001b[39mand\u001b[39;00m \u001b[39mnot\u001b[39;00m \u001b[39misinstance\u001b[39m(obj\u001b[39m.\u001b[39m_values, np\u001b[39m.\u001b[39mndarray):\n\u001b[1;32m    988\u001b[0m     \u001b[39m# we can preserve a little bit more aggressively with EA dtype\u001b[39;00m\n\u001b[1;32m    989\u001b[0m     \u001b[39m#  because maybe_cast_pointwise_result will do a try/except\u001b[39;00m\n\u001b[1;32m    990\u001b[0m     \u001b[39m#  with _from_sequence.  NB we are assuming here that _from_sequence\u001b[39;00m\n\u001b[1;32m    991\u001b[0m     \u001b[39m#  is sufficiently strict that it casts appropriately.\u001b[39;00m\n\u001b[1;32m    992\u001b[0m     preserve_dtype \u001b[39m=\u001b[39m \u001b[39mTrue\u001b[39;00m\n\u001b[0;32m--> 994\u001b[0m result \u001b[39m=\u001b[39m \u001b[39mself\u001b[39;49m\u001b[39m.\u001b[39;49m_aggregate_series_pure_python(obj, func)\n\u001b[1;32m    996\u001b[0m npvalues \u001b[39m=\u001b[39m lib\u001b[39m.\u001b[39mmaybe_convert_objects(result, try_float\u001b[39m=\u001b[39m\u001b[39mFalse\u001b[39;00m)\n\u001b[1;32m    997\u001b[0m \u001b[39mif\u001b[39;00m preserve_dtype:\n",
      "File \u001b[0;32m/Applications/anaconda3/envs/dataviz/lib/python3.9/site-packages/pandas/core/groupby/ops.py:1015\u001b[0m, in \u001b[0;36mBaseGrouper._aggregate_series_pure_python\u001b[0;34m(self, obj, func)\u001b[0m\n\u001b[1;32m   1012\u001b[0m splitter \u001b[39m=\u001b[39m \u001b[39mself\u001b[39m\u001b[39m.\u001b[39m_get_splitter(obj, axis\u001b[39m=\u001b[39m\u001b[39m0\u001b[39m)\n\u001b[1;32m   1014\u001b[0m \u001b[39mfor\u001b[39;00m i, group \u001b[39min\u001b[39;00m \u001b[39menumerate\u001b[39m(splitter):\n\u001b[0;32m-> 1015\u001b[0m     res \u001b[39m=\u001b[39m func(group)\n\u001b[1;32m   1016\u001b[0m     res \u001b[39m=\u001b[39m libreduction\u001b[39m.\u001b[39mextract_result(res)\n\u001b[1;32m   1018\u001b[0m     \u001b[39mif\u001b[39;00m \u001b[39mnot\u001b[39;00m initialized:\n\u001b[1;32m   1019\u001b[0m         \u001b[39m# We only do this validation on the first iteration\u001b[39;00m\n",
      "File \u001b[0;32m/Applications/anaconda3/envs/dataviz/lib/python3.9/site-packages/pandas/core/groupby/groupby.py:1885\u001b[0m, in \u001b[0;36mGroupBy.median.<locals>.<lambda>\u001b[0;34m(x)\u001b[0m\n\u001b[1;32m   1862\u001b[0m \u001b[39m@final\u001b[39m\n\u001b[1;32m   1863\u001b[0m \u001b[39mdef\u001b[39;00m \u001b[39mmedian\u001b[39m(\u001b[39mself\u001b[39m, numeric_only: \u001b[39mbool\u001b[39m \u001b[39m=\u001b[39m \u001b[39mFalse\u001b[39;00m):\n\u001b[1;32m   1864\u001b[0m \u001b[39m    \u001b[39m\u001b[39m\"\"\"\u001b[39;00m\n\u001b[1;32m   1865\u001b[0m \u001b[39m    Compute median of groups, excluding missing values.\u001b[39;00m\n\u001b[1;32m   1866\u001b[0m \n\u001b[0;32m   (...)\u001b[0m\n\u001b[1;32m   1881\u001b[0m \u001b[39m        Median of values within each group.\u001b[39;00m\n\u001b[1;32m   1882\u001b[0m \u001b[39m    \"\"\"\u001b[39;00m\n\u001b[1;32m   1883\u001b[0m     result \u001b[39m=\u001b[39m \u001b[39mself\u001b[39m\u001b[39m.\u001b[39m_cython_agg_general(\n\u001b[1;32m   1884\u001b[0m         \u001b[39m\"\u001b[39m\u001b[39mmedian\u001b[39m\u001b[39m\"\u001b[39m,\n\u001b[0;32m-> 1885\u001b[0m         alt\u001b[39m=\u001b[39m\u001b[39mlambda\u001b[39;00m x: Series(x)\u001b[39m.\u001b[39;49mmedian(numeric_only\u001b[39m=\u001b[39;49mnumeric_only),\n\u001b[1;32m   1886\u001b[0m         numeric_only\u001b[39m=\u001b[39mnumeric_only,\n\u001b[1;32m   1887\u001b[0m     )\n\u001b[1;32m   1888\u001b[0m     \u001b[39mreturn\u001b[39;00m result\u001b[39m.\u001b[39m__finalize__(\u001b[39mself\u001b[39m\u001b[39m.\u001b[39mobj, method\u001b[39m=\u001b[39m\u001b[39m\"\u001b[39m\u001b[39mgroupby\u001b[39m\u001b[39m\"\u001b[39m)\n",
      "File \u001b[0;32m/Applications/anaconda3/envs/dataviz/lib/python3.9/site-packages/pandas/core/generic.py:11630\u001b[0m, in \u001b[0;36mNDFrame._add_numeric_operations.<locals>.median\u001b[0;34m(self, axis, skipna, numeric_only, **kwargs)\u001b[0m\n\u001b[1;32m  11613\u001b[0m \u001b[39m@doc\u001b[39m(\n\u001b[1;32m  11614\u001b[0m     _num_doc,\n\u001b[1;32m  11615\u001b[0m     desc\u001b[39m=\u001b[39m\u001b[39m\"\u001b[39m\u001b[39mReturn the median of the values over the requested axis.\u001b[39m\u001b[39m\"\u001b[39m,\n\u001b[0;32m   (...)\u001b[0m\n\u001b[1;32m  11628\u001b[0m     \u001b[39m*\u001b[39m\u001b[39m*\u001b[39mkwargs,\n\u001b[1;32m  11629\u001b[0m ):\n\u001b[0;32m> 11630\u001b[0m     \u001b[39mreturn\u001b[39;00m NDFrame\u001b[39m.\u001b[39;49mmedian(\u001b[39mself\u001b[39;49m, axis, skipna, numeric_only, \u001b[39m*\u001b[39;49m\u001b[39m*\u001b[39;49mkwargs)\n",
      "File \u001b[0;32m/Applications/anaconda3/envs/dataviz/lib/python3.9/site-packages/pandas/core/generic.py:11219\u001b[0m, in \u001b[0;36mNDFrame.median\u001b[0;34m(self, axis, skipna, numeric_only, **kwargs)\u001b[0m\n\u001b[1;32m  11212\u001b[0m \u001b[39mdef\u001b[39;00m \u001b[39mmedian\u001b[39m(\n\u001b[1;32m  11213\u001b[0m     \u001b[39mself\u001b[39m,\n\u001b[1;32m  11214\u001b[0m     axis: Axis \u001b[39m|\u001b[39m \u001b[39mNone\u001b[39;00m \u001b[39m=\u001b[39m \u001b[39m0\u001b[39m,\n\u001b[0;32m   (...)\u001b[0m\n\u001b[1;32m  11217\u001b[0m     \u001b[39m*\u001b[39m\u001b[39m*\u001b[39mkwargs,\n\u001b[1;32m  11218\u001b[0m ) \u001b[39m-\u001b[39m\u001b[39m>\u001b[39m Series \u001b[39m|\u001b[39m \u001b[39mfloat\u001b[39m:\n\u001b[0;32m> 11219\u001b[0m     \u001b[39mreturn\u001b[39;00m \u001b[39mself\u001b[39;49m\u001b[39m.\u001b[39;49m_stat_function(\n\u001b[1;32m  11220\u001b[0m         \u001b[39m\"\u001b[39;49m\u001b[39mmedian\u001b[39;49m\u001b[39m\"\u001b[39;49m, nanops\u001b[39m.\u001b[39;49mnanmedian, axis, skipna, numeric_only, \u001b[39m*\u001b[39;49m\u001b[39m*\u001b[39;49mkwargs\n\u001b[1;32m  11221\u001b[0m     )\n",
      "File \u001b[0;32m/Applications/anaconda3/envs/dataviz/lib/python3.9/site-packages/pandas/core/generic.py:11165\u001b[0m, in \u001b[0;36mNDFrame._stat_function\u001b[0;34m(self, name, func, axis, skipna, numeric_only, **kwargs)\u001b[0m\n\u001b[1;32m  11161\u001b[0m     nv\u001b[39m.\u001b[39mvalidate_stat_func((), kwargs, fname\u001b[39m=\u001b[39mname)\n\u001b[1;32m  11163\u001b[0m validate_bool_kwarg(skipna, \u001b[39m\"\u001b[39m\u001b[39mskipna\u001b[39m\u001b[39m\"\u001b[39m, none_allowed\u001b[39m=\u001b[39m\u001b[39mFalse\u001b[39;00m)\n\u001b[0;32m> 11165\u001b[0m \u001b[39mreturn\u001b[39;00m \u001b[39mself\u001b[39;49m\u001b[39m.\u001b[39;49m_reduce(\n\u001b[1;32m  11166\u001b[0m     func, name\u001b[39m=\u001b[39;49mname, axis\u001b[39m=\u001b[39;49maxis, skipna\u001b[39m=\u001b[39;49mskipna, numeric_only\u001b[39m=\u001b[39;49mnumeric_only\n\u001b[1;32m  11167\u001b[0m )\n",
      "File \u001b[0;32m/Applications/anaconda3/envs/dataviz/lib/python3.9/site-packages/pandas/core/series.py:4671\u001b[0m, in \u001b[0;36mSeries._reduce\u001b[0;34m(self, op, name, axis, skipna, numeric_only, filter_type, **kwds)\u001b[0m\n\u001b[1;32m   4666\u001b[0m     \u001b[39mraise\u001b[39;00m \u001b[39mTypeError\u001b[39;00m(\n\u001b[1;32m   4667\u001b[0m         \u001b[39mf\u001b[39m\u001b[39m\"\u001b[39m\u001b[39mSeries.\u001b[39m\u001b[39m{\u001b[39;00mname\u001b[39m}\u001b[39;00m\u001b[39m does not allow \u001b[39m\u001b[39m{\u001b[39;00mkwd_name\u001b[39m}\u001b[39;00m\u001b[39m=\u001b[39m\u001b[39m{\u001b[39;00mnumeric_only\u001b[39m}\u001b[39;00m\u001b[39m \u001b[39m\u001b[39m\"\u001b[39m\n\u001b[1;32m   4668\u001b[0m         \u001b[39m\"\u001b[39m\u001b[39mwith non-numeric dtypes.\u001b[39m\u001b[39m\"\u001b[39m\n\u001b[1;32m   4669\u001b[0m     )\n\u001b[1;32m   4670\u001b[0m \u001b[39mwith\u001b[39;00m np\u001b[39m.\u001b[39merrstate(\u001b[39mall\u001b[39m\u001b[39m=\u001b[39m\u001b[39m\"\u001b[39m\u001b[39mignore\u001b[39m\u001b[39m\"\u001b[39m):\n\u001b[0;32m-> 4671\u001b[0m     \u001b[39mreturn\u001b[39;00m op(delegate, skipna\u001b[39m=\u001b[39;49mskipna, \u001b[39m*\u001b[39;49m\u001b[39m*\u001b[39;49mkwds)\n",
      "File \u001b[0;32m/Applications/anaconda3/envs/dataviz/lib/python3.9/site-packages/pandas/core/nanops.py:158\u001b[0m, in \u001b[0;36mbottleneck_switch.__call__.<locals>.f\u001b[0;34m(values, axis, skipna, **kwds)\u001b[0m\n\u001b[1;32m    156\u001b[0m         result \u001b[39m=\u001b[39m alt(values, axis\u001b[39m=\u001b[39maxis, skipna\u001b[39m=\u001b[39mskipna, \u001b[39m*\u001b[39m\u001b[39m*\u001b[39mkwds)\n\u001b[1;32m    157\u001b[0m \u001b[39melse\u001b[39;00m:\n\u001b[0;32m--> 158\u001b[0m     result \u001b[39m=\u001b[39m alt(values, axis\u001b[39m=\u001b[39;49maxis, skipna\u001b[39m=\u001b[39;49mskipna, \u001b[39m*\u001b[39;49m\u001b[39m*\u001b[39;49mkwds)\n\u001b[1;32m    160\u001b[0m \u001b[39mreturn\u001b[39;00m result\n",
      "File \u001b[0;32m/Applications/anaconda3/envs/dataviz/lib/python3.9/site-packages/pandas/core/nanops.py:789\u001b[0m, in \u001b[0;36mnanmedian\u001b[0;34m(values, axis, skipna, mask)\u001b[0m\n\u001b[1;32m    786\u001b[0m         values \u001b[39m=\u001b[39m values\u001b[39m.\u001b[39mastype(\u001b[39m\"\u001b[39m\u001b[39mf8\u001b[39m\u001b[39m\"\u001b[39m)\n\u001b[1;32m    787\u001b[0m     \u001b[39mexcept\u001b[39;00m \u001b[39mValueError\u001b[39;00m \u001b[39mas\u001b[39;00m err:\n\u001b[1;32m    788\u001b[0m         \u001b[39m# e.g. \"could not convert string to float: 'a'\"\u001b[39;00m\n\u001b[0;32m--> 789\u001b[0m         \u001b[39mraise\u001b[39;00m \u001b[39mTypeError\u001b[39;00m(\u001b[39mstr\u001b[39m(err)) \u001b[39mfrom\u001b[39;00m \u001b[39merr\u001b[39;00m\n\u001b[1;32m    790\u001b[0m \u001b[39mif\u001b[39;00m mask \u001b[39mis\u001b[39;00m \u001b[39mnot\u001b[39;00m \u001b[39mNone\u001b[39;00m:\n\u001b[1;32m    791\u001b[0m     values[mask] \u001b[39m=\u001b[39m np\u001b[39m.\u001b[39mnan\n",
      "\u001b[0;31mTypeError\u001b[0m: could not convert string to float: 'Zug'"
     ]
    }
   ],
   "source": [
    "day_delays('2023-03-21')"
   ]
  },
  {
   "cell_type": "code",
   "execution_count": 45,
   "metadata": {},
   "outputs": [
    {
     "data": {
      "application/vnd.plotly.v1+json": {
       "config": {
        "plotlyServerURL": "https://plot.ly"
       },
       "data": [
        {
         "line": {
          "color": "#EB0000"
         },
         "mode": "lines",
         "name": "SBB",
         "type": "scatter",
         "x": [
          0,
          1,
          3,
          4,
          5,
          6,
          7,
          8,
          9,
          10,
          11,
          12,
          13,
          14,
          15,
          16,
          17,
          18,
          19,
          20,
          21,
          22,
          23
         ],
         "y": [
          58,
          8,
          1,
          4,
          54,
          96,
          100,
          101,
          96,
          97,
          98,
          97,
          97,
          97,
          97,
          98,
          98,
          97,
          97,
          96,
          84,
          81,
          79
         ]
        },
        {
         "line": {
          "color": "#005198"
         },
         "mode": "lines",
         "name": "TL",
         "type": "scatter",
         "x": [
          0,
          1,
          4,
          5,
          6,
          7,
          8,
          9,
          10,
          11,
          12,
          13,
          14,
          15,
          16,
          17,
          18,
          19,
          20,
          21,
          22,
          23
         ],
         "y": [
          2647,
          10,
          45,
          2781,
          5816,
          6419,
          6366,
          6005,
          5515,
          5503,
          5582,
          5545,
          5557,
          5958,
          6069,
          6047,
          6239,
          6018,
          5391,
          4544,
          3718,
          3688
         ]
        },
        {
         "line": {
          "color": "#5AB034"
         },
         "mode": "lines",
         "name": "LEB",
         "type": "scatter",
         "x": [
          0,
          5,
          6,
          7,
          8,
          9,
          10,
          11,
          12,
          13,
          14,
          15,
          16,
          17,
          18,
          19,
          20,
          21,
          22,
          23
         ],
         "y": [
          9,
          8,
          36,
          65,
          68,
          68,
          68,
          68,
          68,
          68,
          68,
          68,
          68,
          68,
          68,
          68,
          68,
          34,
          34,
          34
         ]
        },
        {
         "line": {
          "color": "#03A84B"
         },
         "mode": "lines",
         "name": "MBC Auto",
         "type": "scatter",
         "x": [
          0,
          5,
          6,
          7,
          8,
          9,
          10,
          11,
          12,
          13,
          14,
          15,
          16,
          17,
          18,
          19,
          20,
          21,
          22,
          23
         ],
         "y": [
          88,
          97,
          330,
          477,
          482,
          397,
          295,
          298,
          307,
          301,
          285,
          310,
          346,
          423,
          455,
          398,
          275,
          237,
          197,
          182
         ]
        },
        {
         "line": {
          "color": "orange"
         },
         "mode": "lines",
         "name": "PAG",
         "type": "scatter",
         "x": [
          0,
          5,
          6,
          7,
          8,
          9,
          10,
          11,
          12,
          13,
          14,
          15,
          16,
          17,
          18,
          19,
          20,
          21,
          22,
          23
         ],
         "y": [
          17,
          8,
          69,
          92,
          87,
          61,
          28,
          28,
          35,
          22,
          33,
          34,
          79,
          92,
          81,
          48,
          28,
          28,
          17,
          17
         ]
        }
       ],
       "layout": {
        "height": 600,
        "template": {
         "data": {
          "bar": [
           {
            "error_x": {
             "color": "#2a3f5f"
            },
            "error_y": {
             "color": "#2a3f5f"
            },
            "marker": {
             "line": {
              "color": "#E5ECF6",
              "width": 0.5
             },
             "pattern": {
              "fillmode": "overlay",
              "size": 10,
              "solidity": 0.2
             }
            },
            "type": "bar"
           }
          ],
          "barpolar": [
           {
            "marker": {
             "line": {
              "color": "#E5ECF6",
              "width": 0.5
             },
             "pattern": {
              "fillmode": "overlay",
              "size": 10,
              "solidity": 0.2
             }
            },
            "type": "barpolar"
           }
          ],
          "carpet": [
           {
            "aaxis": {
             "endlinecolor": "#2a3f5f",
             "gridcolor": "white",
             "linecolor": "white",
             "minorgridcolor": "white",
             "startlinecolor": "#2a3f5f"
            },
            "baxis": {
             "endlinecolor": "#2a3f5f",
             "gridcolor": "white",
             "linecolor": "white",
             "minorgridcolor": "white",
             "startlinecolor": "#2a3f5f"
            },
            "type": "carpet"
           }
          ],
          "choropleth": [
           {
            "colorbar": {
             "outlinewidth": 0,
             "ticks": ""
            },
            "type": "choropleth"
           }
          ],
          "contour": [
           {
            "colorbar": {
             "outlinewidth": 0,
             "ticks": ""
            },
            "colorscale": [
             [
              0,
              "#0d0887"
             ],
             [
              0.1111111111111111,
              "#46039f"
             ],
             [
              0.2222222222222222,
              "#7201a8"
             ],
             [
              0.3333333333333333,
              "#9c179e"
             ],
             [
              0.4444444444444444,
              "#bd3786"
             ],
             [
              0.5555555555555556,
              "#d8576b"
             ],
             [
              0.6666666666666666,
              "#ed7953"
             ],
             [
              0.7777777777777778,
              "#fb9f3a"
             ],
             [
              0.8888888888888888,
              "#fdca26"
             ],
             [
              1,
              "#f0f921"
             ]
            ],
            "type": "contour"
           }
          ],
          "contourcarpet": [
           {
            "colorbar": {
             "outlinewidth": 0,
             "ticks": ""
            },
            "type": "contourcarpet"
           }
          ],
          "heatmap": [
           {
            "colorbar": {
             "outlinewidth": 0,
             "ticks": ""
            },
            "colorscale": [
             [
              0,
              "#0d0887"
             ],
             [
              0.1111111111111111,
              "#46039f"
             ],
             [
              0.2222222222222222,
              "#7201a8"
             ],
             [
              0.3333333333333333,
              "#9c179e"
             ],
             [
              0.4444444444444444,
              "#bd3786"
             ],
             [
              0.5555555555555556,
              "#d8576b"
             ],
             [
              0.6666666666666666,
              "#ed7953"
             ],
             [
              0.7777777777777778,
              "#fb9f3a"
             ],
             [
              0.8888888888888888,
              "#fdca26"
             ],
             [
              1,
              "#f0f921"
             ]
            ],
            "type": "heatmap"
           }
          ],
          "heatmapgl": [
           {
            "colorbar": {
             "outlinewidth": 0,
             "ticks": ""
            },
            "colorscale": [
             [
              0,
              "#0d0887"
             ],
             [
              0.1111111111111111,
              "#46039f"
             ],
             [
              0.2222222222222222,
              "#7201a8"
             ],
             [
              0.3333333333333333,
              "#9c179e"
             ],
             [
              0.4444444444444444,
              "#bd3786"
             ],
             [
              0.5555555555555556,
              "#d8576b"
             ],
             [
              0.6666666666666666,
              "#ed7953"
             ],
             [
              0.7777777777777778,
              "#fb9f3a"
             ],
             [
              0.8888888888888888,
              "#fdca26"
             ],
             [
              1,
              "#f0f921"
             ]
            ],
            "type": "heatmapgl"
           }
          ],
          "histogram": [
           {
            "marker": {
             "pattern": {
              "fillmode": "overlay",
              "size": 10,
              "solidity": 0.2
             }
            },
            "type": "histogram"
           }
          ],
          "histogram2d": [
           {
            "colorbar": {
             "outlinewidth": 0,
             "ticks": ""
            },
            "colorscale": [
             [
              0,
              "#0d0887"
             ],
             [
              0.1111111111111111,
              "#46039f"
             ],
             [
              0.2222222222222222,
              "#7201a8"
             ],
             [
              0.3333333333333333,
              "#9c179e"
             ],
             [
              0.4444444444444444,
              "#bd3786"
             ],
             [
              0.5555555555555556,
              "#d8576b"
             ],
             [
              0.6666666666666666,
              "#ed7953"
             ],
             [
              0.7777777777777778,
              "#fb9f3a"
             ],
             [
              0.8888888888888888,
              "#fdca26"
             ],
             [
              1,
              "#f0f921"
             ]
            ],
            "type": "histogram2d"
           }
          ],
          "histogram2dcontour": [
           {
            "colorbar": {
             "outlinewidth": 0,
             "ticks": ""
            },
            "colorscale": [
             [
              0,
              "#0d0887"
             ],
             [
              0.1111111111111111,
              "#46039f"
             ],
             [
              0.2222222222222222,
              "#7201a8"
             ],
             [
              0.3333333333333333,
              "#9c179e"
             ],
             [
              0.4444444444444444,
              "#bd3786"
             ],
             [
              0.5555555555555556,
              "#d8576b"
             ],
             [
              0.6666666666666666,
              "#ed7953"
             ],
             [
              0.7777777777777778,
              "#fb9f3a"
             ],
             [
              0.8888888888888888,
              "#fdca26"
             ],
             [
              1,
              "#f0f921"
             ]
            ],
            "type": "histogram2dcontour"
           }
          ],
          "mesh3d": [
           {
            "colorbar": {
             "outlinewidth": 0,
             "ticks": ""
            },
            "type": "mesh3d"
           }
          ],
          "parcoords": [
           {
            "line": {
             "colorbar": {
              "outlinewidth": 0,
              "ticks": ""
             }
            },
            "type": "parcoords"
           }
          ],
          "pie": [
           {
            "automargin": true,
            "type": "pie"
           }
          ],
          "scatter": [
           {
            "fillpattern": {
             "fillmode": "overlay",
             "size": 10,
             "solidity": 0.2
            },
            "type": "scatter"
           }
          ],
          "scatter3d": [
           {
            "line": {
             "colorbar": {
              "outlinewidth": 0,
              "ticks": ""
             }
            },
            "marker": {
             "colorbar": {
              "outlinewidth": 0,
              "ticks": ""
             }
            },
            "type": "scatter3d"
           }
          ],
          "scattercarpet": [
           {
            "marker": {
             "colorbar": {
              "outlinewidth": 0,
              "ticks": ""
             }
            },
            "type": "scattercarpet"
           }
          ],
          "scattergeo": [
           {
            "marker": {
             "colorbar": {
              "outlinewidth": 0,
              "ticks": ""
             }
            },
            "type": "scattergeo"
           }
          ],
          "scattergl": [
           {
            "marker": {
             "colorbar": {
              "outlinewidth": 0,
              "ticks": ""
             }
            },
            "type": "scattergl"
           }
          ],
          "scattermapbox": [
           {
            "marker": {
             "colorbar": {
              "outlinewidth": 0,
              "ticks": ""
             }
            },
            "type": "scattermapbox"
           }
          ],
          "scatterpolar": [
           {
            "marker": {
             "colorbar": {
              "outlinewidth": 0,
              "ticks": ""
             }
            },
            "type": "scatterpolar"
           }
          ],
          "scatterpolargl": [
           {
            "marker": {
             "colorbar": {
              "outlinewidth": 0,
              "ticks": ""
             }
            },
            "type": "scatterpolargl"
           }
          ],
          "scatterternary": [
           {
            "marker": {
             "colorbar": {
              "outlinewidth": 0,
              "ticks": ""
             }
            },
            "type": "scatterternary"
           }
          ],
          "surface": [
           {
            "colorbar": {
             "outlinewidth": 0,
             "ticks": ""
            },
            "colorscale": [
             [
              0,
              "#0d0887"
             ],
             [
              0.1111111111111111,
              "#46039f"
             ],
             [
              0.2222222222222222,
              "#7201a8"
             ],
             [
              0.3333333333333333,
              "#9c179e"
             ],
             [
              0.4444444444444444,
              "#bd3786"
             ],
             [
              0.5555555555555556,
              "#d8576b"
             ],
             [
              0.6666666666666666,
              "#ed7953"
             ],
             [
              0.7777777777777778,
              "#fb9f3a"
             ],
             [
              0.8888888888888888,
              "#fdca26"
             ],
             [
              1,
              "#f0f921"
             ]
            ],
            "type": "surface"
           }
          ],
          "table": [
           {
            "cells": {
             "fill": {
              "color": "#EBF0F8"
             },
             "line": {
              "color": "white"
             }
            },
            "header": {
             "fill": {
              "color": "#C8D4E3"
             },
             "line": {
              "color": "white"
             }
            },
            "type": "table"
           }
          ]
         },
         "layout": {
          "annotationdefaults": {
           "arrowcolor": "#2a3f5f",
           "arrowhead": 0,
           "arrowwidth": 1
          },
          "autotypenumbers": "strict",
          "coloraxis": {
           "colorbar": {
            "outlinewidth": 0,
            "ticks": ""
           }
          },
          "colorscale": {
           "diverging": [
            [
             0,
             "#8e0152"
            ],
            [
             0.1,
             "#c51b7d"
            ],
            [
             0.2,
             "#de77ae"
            ],
            [
             0.3,
             "#f1b6da"
            ],
            [
             0.4,
             "#fde0ef"
            ],
            [
             0.5,
             "#f7f7f7"
            ],
            [
             0.6,
             "#e6f5d0"
            ],
            [
             0.7,
             "#b8e186"
            ],
            [
             0.8,
             "#7fbc41"
            ],
            [
             0.9,
             "#4d9221"
            ],
            [
             1,
             "#276419"
            ]
           ],
           "sequential": [
            [
             0,
             "#0d0887"
            ],
            [
             0.1111111111111111,
             "#46039f"
            ],
            [
             0.2222222222222222,
             "#7201a8"
            ],
            [
             0.3333333333333333,
             "#9c179e"
            ],
            [
             0.4444444444444444,
             "#bd3786"
            ],
            [
             0.5555555555555556,
             "#d8576b"
            ],
            [
             0.6666666666666666,
             "#ed7953"
            ],
            [
             0.7777777777777778,
             "#fb9f3a"
            ],
            [
             0.8888888888888888,
             "#fdca26"
            ],
            [
             1,
             "#f0f921"
            ]
           ],
           "sequentialminus": [
            [
             0,
             "#0d0887"
            ],
            [
             0.1111111111111111,
             "#46039f"
            ],
            [
             0.2222222222222222,
             "#7201a8"
            ],
            [
             0.3333333333333333,
             "#9c179e"
            ],
            [
             0.4444444444444444,
             "#bd3786"
            ],
            [
             0.5555555555555556,
             "#d8576b"
            ],
            [
             0.6666666666666666,
             "#ed7953"
            ],
            [
             0.7777777777777778,
             "#fb9f3a"
            ],
            [
             0.8888888888888888,
             "#fdca26"
            ],
            [
             1,
             "#f0f921"
            ]
           ]
          },
          "colorway": [
           "#636efa",
           "#EF553B",
           "#00cc96",
           "#ab63fa",
           "#FFA15A",
           "#19d3f3",
           "#FF6692",
           "#B6E880",
           "#FF97FF",
           "#FECB52"
          ],
          "font": {
           "color": "#2a3f5f"
          },
          "geo": {
           "bgcolor": "white",
           "lakecolor": "white",
           "landcolor": "#E5ECF6",
           "showlakes": true,
           "showland": true,
           "subunitcolor": "white"
          },
          "hoverlabel": {
           "align": "left"
          },
          "hovermode": "closest",
          "mapbox": {
           "style": "light"
          },
          "paper_bgcolor": "white",
          "plot_bgcolor": "#E5ECF6",
          "polar": {
           "angularaxis": {
            "gridcolor": "white",
            "linecolor": "white",
            "ticks": ""
           },
           "bgcolor": "#E5ECF6",
           "radialaxis": {
            "gridcolor": "white",
            "linecolor": "white",
            "ticks": ""
           }
          },
          "scene": {
           "xaxis": {
            "backgroundcolor": "#E5ECF6",
            "gridcolor": "white",
            "gridwidth": 2,
            "linecolor": "white",
            "showbackground": true,
            "ticks": "",
            "zerolinecolor": "white"
           },
           "yaxis": {
            "backgroundcolor": "#E5ECF6",
            "gridcolor": "white",
            "gridwidth": 2,
            "linecolor": "white",
            "showbackground": true,
            "ticks": "",
            "zerolinecolor": "white"
           },
           "zaxis": {
            "backgroundcolor": "#E5ECF6",
            "gridcolor": "white",
            "gridwidth": 2,
            "linecolor": "white",
            "showbackground": true,
            "ticks": "",
            "zerolinecolor": "white"
           }
          },
          "shapedefaults": {
           "line": {
            "color": "#2a3f5f"
           }
          },
          "ternary": {
           "aaxis": {
            "gridcolor": "white",
            "linecolor": "white",
            "ticks": ""
           },
           "baxis": {
            "gridcolor": "white",
            "linecolor": "white",
            "ticks": ""
           },
           "bgcolor": "#E5ECF6",
           "caxis": {
            "gridcolor": "white",
            "linecolor": "white",
            "ticks": ""
           }
          },
          "title": {
           "x": 0.05
          },
          "xaxis": {
           "automargin": true,
           "gridcolor": "white",
           "linecolor": "white",
           "ticks": "",
           "title": {
            "standoff": 15
           },
           "zerolinecolor": "white",
           "zerolinewidth": 2
          },
          "yaxis": {
           "automargin": true,
           "gridcolor": "white",
           "linecolor": "white",
           "ticks": "",
           "title": {
            "standoff": 15
           },
           "zerolinecolor": "white",
           "zerolinewidth": 2
          }
         }
        },
        "title": {
         "text": "Number of transactions per hour on 2023-03-21 (Tuesday)"
        },
        "xaxis": {
         "anchor": "y",
         "domain": [
          0,
          1
         ],
         "title": {
          "text": "Hour of the Day"
         }
        },
        "yaxis": {
         "anchor": "x",
         "domain": [
          0,
          1
         ],
         "title": {
          "text": "Number of Transactions"
         }
        }
       }
      }
     },
     "metadata": {},
     "output_type": "display_data"
    }
   ],
   "source": [
    "day_transactions('2023-03-21')"
   ]
  },
  {
   "attachments": {},
   "cell_type": "markdown",
   "metadata": {
    "id": "F1qTyHWGIa1s"
   },
   "source": [
    "---\n",
    "## Part 4 - Related work\n",
    "\n",
    "- What others have already done with the data?\n",
    "\n",
    "We took our data from the website https://opentransportdata.swiss/de/showcase-5/, which already labels and organize its data.\n",
    "\n",
    "- Why is your approach original?\n",
    "\n",
    "We would like to concentrate our visualizations only on Lausanne, to allow any Lausanne habitant or future habitant to have access to a full view of the public transports of the city\n",
    "\n",
    "- What source of inspiration do you take? Visualizations that you found on other websites or magazines (might be unrelated to your data).\n",
    "\n",
    "Other visualisations of that type have been done, for instance in Switzerland: https://observablehq.com/@alexmasselot/mapping-swiss-trains-delays-over-one-day/2, which shows the delays of the trains in Switzerland, and https://mobility.portal.geops.io/world.geops.transit?baselayer=world.geops, which displays most of the public transports in the world and their position in real time.\n",
    "\n",
    "- In case you are using a dataset that you have already explored in another context (ML or ADA course, semester project...), you are required to share the report of that work to outline the differences with the submission for this class.\n",
    "\n",
    "N/A\n",
    "\n"
   ]
  },
  {
   "cell_type": "markdown",
   "metadata": {},
   "source": []
  }
 ],
 "metadata": {
  "colab": {
   "provenance": []
  },
  "kernelspec": {
   "display_name": "Python 3 (ipykernel)",
   "language": "python",
   "name": "python3"
  },
  "language_info": {
   "codemirror_mode": {
    "name": "ipython",
    "version": 3
   },
   "file_extension": ".py",
   "mimetype": "text/x-python",
   "name": "python",
   "nbconvert_exporter": "python",
   "pygments_lexer": "ipython3",
   "version": "3.9.16"
  }
 },
 "nbformat": 4,
 "nbformat_minor": 1
}
