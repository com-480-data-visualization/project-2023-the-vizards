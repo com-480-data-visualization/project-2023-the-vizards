{
 "cells": [
  {
   "attachments": {},
   "cell_type": "markdown",
   "metadata": {
    "id": "8uJCioevSmGc"
   },
   "source": [
    "# [DataViz]: Milestone 1 (10% of the final grade)\n",
    "\n",
    "**Group ID:** The Vizards\n",
    "\n",
    "**Author 1 (sciper):** Salma Ed-dahabi (282284)\n",
    "\n",
    "**Author 2 (sciper):** Antonin Faure (302686)   \n",
    "\n",
    "**Author 3 (sciper):** Lena Vogel (297026) \n",
    "\n",
    "**Due date:** 07.04.2023 (11:59 pm)\n",
    "\n",
    "[Github link] : https://github.com/com-480-data-visualization/project-2023-the-vizards"
   ]
  },
  {
   "attachments": {},
   "cell_type": "markdown",
   "metadata": {
    "id": "mpWlhTRnSmGn"
   },
   "source": [
    "---\n",
    "## Part 1 - Dataset\n",
    "\n",
    "- We found our dataset on https://opentransportdata.swiss/de/showcase-5/ which is a website that has data on all public transports in Switzerland. As we need to import everything in order to, afterwards, filter only the data that concerns Lausanne, it is very heavy (~15GO per month).\n",
    "\n",
    "- For the lines geojson paths we used https://openstreetmap.org data\n",
    "\n",
    "- For the lines color we used https://t-l.ch map's data\n",
    "\n"
   ]
  },
  {
   "cell_type": "code",
   "execution_count": 1,
   "metadata": {},
   "outputs": [],
   "source": [
    "from plotly.subplots import make_subplots\n",
    "import plotly.express as px\n",
    "import plotly.graph_objects as go\n",
    "import pandas as pd\n",
    "from pyproj import Proj, transform\n",
    "import numpy as np\n",
    "from zipfile import ZipFile\n",
    "import os\n",
    "from tqdm import tqdm\n",
    "import json"
   ]
  },
  {
   "attachments": {},
   "cell_type": "markdown",
   "metadata": {},
   "source": [
    "### 1.1) Pre processing of stops"
   ]
  },
  {
   "cell_type": "code",
   "execution_count": 3,
   "metadata": {
    "id": "1n8r-exRIa1m",
    "outputId": "73ce8f06-ec49-4c02-be3e-ce08954bb6a0"
   },
   "outputs": [],
   "source": [
    "stops = pd.read_excel('../data/bav_list_current_timetable.xlsx', header=1).drop(index=[0])"
   ]
  },
  {
   "cell_type": "code",
   "execution_count": 4,
   "metadata": {},
   "outputs": [],
   "source": [
    "lausanne_box = {\n",
    "    \"lat\": [2529114.807, 2544879.291],\n",
    "    \"lon\": [1159080.496, 1149116.298]\n",
    "}\n",
    "\n",
    "# Filter stops in Lausanne area\n",
    "stops = stops[(stops['Coord. E'] < lausanne_box[\"lat\"][1])\n",
    "            & (stops['Coord. E'] > lausanne_box[\"lat\"][0])\n",
    "            & (stops['Coord. N'] < lausanne_box[\"lon\"][0])\n",
    "            & (stops['Coord. N'] > lausanne_box[\"lon\"][1])\n",
    "            ]\n",
    "\n",
    "# Keep only relevant columns\n",
    "stops = stops[[\"N° sv.85\", \"Nom (ordre alphab.)\", \"Statut\", \"Moyen de transport\", \"N° ET\", \"Sigle ET\", \"Coord. E\", \"Coord. N\", \"Altitude\"]]"
   ]
  },
  {
   "cell_type": "code",
   "execution_count": 5,
   "metadata": {},
   "outputs": [
    {
     "data": {
      "text/html": [
       "<div>\n",
       "<style scoped>\n",
       "    .dataframe tbody tr th:only-of-type {\n",
       "        vertical-align: middle;\n",
       "    }\n",
       "\n",
       "    .dataframe tbody tr th {\n",
       "        vertical-align: top;\n",
       "    }\n",
       "\n",
       "    .dataframe thead th {\n",
       "        text-align: right;\n",
       "    }\n",
       "</style>\n",
       "<table border=\"1\" class=\"dataframe\">\n",
       "  <thead>\n",
       "    <tr style=\"text-align: right;\">\n",
       "      <th></th>\n",
       "      <th>N° sv.85</th>\n",
       "      <th>Nom (ordre alphab.)</th>\n",
       "      <th>Statut</th>\n",
       "      <th>Moyen de transport</th>\n",
       "      <th>N° ET</th>\n",
       "      <th>Sigle ET</th>\n",
       "      <th>Coord. E</th>\n",
       "      <th>Coord. N</th>\n",
       "      <th>Altitude</th>\n",
       "    </tr>\n",
       "  </thead>\n",
       "  <tbody>\n",
       "    <tr>\n",
       "      <th>890</th>\n",
       "      <td>8588453</td>\n",
       "      <td>Aran, Pra Forny</td>\n",
       "      <td>3</td>\n",
       "      <td>Bus</td>\n",
       "      <td>#0519</td>\n",
       "      <td>TL</td>\n",
       "      <td>2544176</td>\n",
       "      <td>1150706</td>\n",
       "      <td>638</td>\n",
       "    </tr>\n",
       "    <tr>\n",
       "      <th>942</th>\n",
       "      <td>8501147</td>\n",
       "      <td>Archy (bif)</td>\n",
       "      <td>3</td>\n",
       "      <td>NaN</td>\n",
       "      <td>#0001</td>\n",
       "      <td>SBB</td>\n",
       "      <td>2532512</td>\n",
       "      <td>1154929</td>\n",
       "      <td>404</td>\n",
       "    </tr>\n",
       "    <tr>\n",
       "      <th>943</th>\n",
       "      <td>8515301</td>\n",
       "      <td>Archy A (bif)</td>\n",
       "      <td>3</td>\n",
       "      <td>NaN</td>\n",
       "      <td>#0001</td>\n",
       "      <td>SBB</td>\n",
       "      <td>2532896</td>\n",
       "      <td>1155064</td>\n",
       "      <td>408</td>\n",
       "    </tr>\n",
       "    <tr>\n",
       "      <th>2040</th>\n",
       "      <td>8501170</td>\n",
       "      <td>Bel-Air LEB</td>\n",
       "      <td>3</td>\n",
       "      <td>Zug</td>\n",
       "      <td>#0139</td>\n",
       "      <td>LEB</td>\n",
       "      <td>2536140</td>\n",
       "      <td>1158941</td>\n",
       "      <td>604</td>\n",
       "    </tr>\n",
       "    <tr>\n",
       "      <th>2160</th>\n",
       "      <td>8593796</td>\n",
       "      <td>Belmont-sur-L., Arnier</td>\n",
       "      <td>3</td>\n",
       "      <td>Bus</td>\n",
       "      <td>#0519</td>\n",
       "      <td>TL</td>\n",
       "      <td>2541644</td>\n",
       "      <td>1152701</td>\n",
       "      <td>610</td>\n",
       "    </tr>\n",
       "  </tbody>\n",
       "</table>\n",
       "</div>"
      ],
      "text/plain": [
       "     N° sv.85     Nom (ordre alphab.) Statut Moyen de transport  N° ET  \\\n",
       "890   8588453         Aran, Pra Forny      3                Bus  #0519   \n",
       "942   8501147             Archy (bif)      3                NaN  #0001   \n",
       "943   8515301           Archy A (bif)      3                NaN  #0001   \n",
       "2040  8501170             Bel-Air LEB      3                Zug  #0139   \n",
       "2160  8593796  Belmont-sur-L., Arnier      3                Bus  #0519   \n",
       "\n",
       "     Sigle ET Coord. E Coord. N Altitude  \n",
       "890        TL  2544176  1150706      638  \n",
       "942       SBB  2532512  1154929      404  \n",
       "943       SBB  2532896  1155064      408  \n",
       "2040      LEB  2536140  1158941      604  \n",
       "2160       TL  2541644  1152701      610  "
      ]
     },
     "execution_count": 5,
     "metadata": {},
     "output_type": "execute_result"
    }
   ],
   "source": [
    "stops.head()"
   ]
  },
  {
   "cell_type": "code",
   "execution_count": 6,
   "metadata": {},
   "outputs": [
    {
     "name": "stderr",
     "output_type": "stream",
     "text": [
      "c:\\Users\\anton\\AppData\\Local\\Programs\\Python\\Python39\\lib\\site-packages\\pyproj\\crs\\crs.py:141: FutureWarning: '+init=<authority>:<code>' syntax is deprecated. '<authority>:<code>' is the preferred initialization method. When making the change, be mindful of axis order changes: https://pyproj4.github.io/pyproj/stable/gotchas.html#axis-order-changes-in-proj-6\n",
      "  in_crs_string = _prepare_from_proj_string(in_crs_string)\n",
      "c:\\Users\\anton\\AppData\\Local\\Programs\\Python\\Python39\\lib\\site-packages\\pyproj\\crs\\crs.py:141: FutureWarning: '+init=<authority>:<code>' syntax is deprecated. '<authority>:<code>' is the preferred initialization method. When making the change, be mindful of axis order changes: https://pyproj4.github.io/pyproj/stable/gotchas.html#axis-order-changes-in-proj-6\n",
      "  in_crs_string = _prepare_from_proj_string(in_crs_string)\n",
      "C:\\Users\\anton\\AppData\\Local\\Temp\\ipykernel_12072\\1530203831.py:5: FutureWarning: This function is deprecated. See: https://pyproj4.github.io/pyproj/stable/gotchas.html#upgrading-to-pyproj-2-from-pyproj-1\n",
      "  lon, lat, _ = transform(pCH,pWorld, stops[\"Coord. E\"], stops[\"Coord. N\"], np.zeros(stops[\"Coord. E\"].shape))\n"
     ]
    }
   ],
   "source": [
    "pWorld = Proj(init=\"epsg:4326\")\n",
    "pCH = Proj(init=\"epsg:2056\")\n",
    "\n",
    "# Convert LV95 projection to WGS84 projection\n",
    "lon, lat, _ = transform(pCH,pWorld, stops[\"Coord. E\"], stops[\"Coord. N\"], np.zeros(stops[\"Coord. E\"].shape))\n",
    "stops[\"lon\"] = lon\n",
    "stops[\"lat\"] = lat\n",
    "stops = stops.drop(labels=[\"Coord. E\", \"Coord. N\"], axis=1)\n",
    "stops.rename({\n",
    "    \"N° sv.85\": \"stop_id\",\n",
    "    \"Nom (ordre alphab.)\": \"stop_name\",\n",
    "    \"Statut\": \"stop_status\",\n",
    "    \"Moyen de transport\": \"transport_mode\",\n",
    "    \"N° ET\": \"transport_id\",\n",
    "    \"Sigle ET\": \"company_name\",\n",
    "    \"Altitude\": \"altitude\"\n",
    "}, axis=1, inplace=True)"
   ]
  },
  {
   "attachments": {},
   "cell_type": "markdown",
   "metadata": {},
   "source": [
    "### 1.2) Pre processing of timetables"
   ]
  },
  {
   "cell_type": "code",
   "execution_count": 7,
   "metadata": {},
   "outputs": [],
   "source": [
    "keep_columns = [\n",
    "    'PRODUKT_ID',\n",
    "    'BETREIBER_ABK',\n",
    "    'LINIEN_ID',\n",
    "    'LINIEN_TEXT',\n",
    "    'BPUIC',\n",
    "    'FAHRT_BEZEICHNER',\n",
    "    'ANKUNFTSZEIT',\n",
    "    'AN_PROGNOSE',\n",
    "    'AN_PROGNOSE_STATUS',\n",
    "    'ABFAHRTSZEIT',\n",
    "    'AB_PROGNOSE',\n",
    "    'AB_PROGNOSE_STATUS'\n",
    "]\n",
    "\n",
    "map_columns = {\n",
    "    'PRODUKT_ID': 'type',\n",
    "    'BETREIBER_ABK': 'company',\n",
    "    'LINIEN_ID': 'line_id',\n",
    "    'LINIEN_TEXT': 'line_name',\n",
    "    'BPUIC': 'stop_id',\n",
    "    'FAHRT_BEZEICHNER': 'vehicle_id',\n",
    "    'ANKUNFTSZEIT': 'arrival_time_target',\n",
    "    'AN_PROGNOSE': 'arrival_time_real',\n",
    "    'AN_PROGNOSE_STATUS': 'arrival_time_status',\n",
    "    'ABFAHRTSZEIT': 'departure_time_target',\n",
    "    'AB_PROGNOSE': 'departure_time_real',\n",
    "    'AB_PROGNOSE_STATUS': 'departure_time_status'\n",
    "}\n"
   ]
  },
  {
   "attachments": {},
   "cell_type": "markdown",
   "metadata": {},
   "source": [
    "#### Process timetable to extract csv data for each line"
   ]
  },
  {
   "cell_type": "code",
   "execution_count": 10,
   "metadata": {},
   "outputs": [],
   "source": [
    "def lines_process(date, timetable):\n",
    "    \"\"\"\n",
    "    Process the lines data from the provided timetable for a given date.\n",
    "    Computes the arrival and departure delays for each line, merges the stop names,\n",
    "    and saves the line data in separate CSV files for each line in 'data/lines' folder.\n",
    "\n",
    "    Args:\n",
    "        date (str): The date in the format 'YYYY-MM-DD'.\n",
    "        timetable (pandas.DataFrame): The timetable data for the given date.\n",
    "\n",
    "    Returns:\n",
    "        None\n",
    "\n",
    "    Raises:\n",
    "        None\n",
    "\n",
    "    \"\"\"\n",
    "\n",
    "    # Copy the relevant columns from the timetable\n",
    "    line_data = timetable[['arrival_time_target', 'arrival_time_real', 'departure_time_real', 'departure_time_target', 'line_name', 'company', 'vehicle_id', 'stop_id']].copy()\n",
    "\n",
    "    # Convert arrival and departure times to datetime format\n",
    "    line_data['arrival_time_target'] = pd.to_datetime(line_data['arrival_time_target'], format='%d.%m.%Y %H:%M')\n",
    "    line_data['arrival_time_real'] = pd.to_datetime(line_data['arrival_time_real'], format='%d.%m.%Y %H:%M:%S')\n",
    "    line_data['departure_time_target'] = pd.to_datetime(line_data['departure_time_target'], format='%d.%m.%Y %H:%M')\n",
    "    line_data['departure_time_real'] = pd.to_datetime(line_data['departure_time_real'], format='%d.%m.%Y %H:%M:%S')\n",
    "\n",
    "    # Compute delays\n",
    "    line_data['departure_delay'] = line_data.apply(lambda row: (row['departure_time_real'] - row['departure_time_target']).total_seconds() if pd.notna(row['departure_time_real']) else np.NaN, axis=1)\n",
    "    line_data['arrival_delay'] = line_data.apply(lambda row: (row['arrival_time_real'] - row['arrival_time_target']).total_seconds() if pd.notna(row['arrival_time_real']) else np.NaN, axis=1)\n",
    "\n",
    "    # Select necessary columns and merge with stop names\n",
    "    line_data = line_data[['line_name', 'stop_id', 'arrival_delay', 'departure_delay']]\n",
    "    line_data = line_data.merge(stops[['stop_id', 'stop_name']], on='stop_id', how='left')\n",
    "    line_data['date'] = date\n",
    "\n",
    "    # Process each line separately\n",
    "    unique_lines = line_data['line_name'].unique()\n",
    "    for line in unique_lines:\n",
    "        line_data_specific = line_data[line_data['line_name'] == line]\n",
    "\n",
    "        # Save line data to a CSV file\n",
    "        if not os.path.isfile(f'../data/lines/{line}.csv'):\n",
    "            line_data_specific.to_csv(f'../data/lines/{line}.csv', index=False)\n",
    "        else:\n",
    "            old_data = pd.read_csv(f'../data/lines/{line}.csv', sep=',')\n",
    "            old_data = old_data[old_data['date'] != date]\n",
    "            old_data = old_data.append(line_data_specific, ignore_index=True)\n",
    "            old_data.to_csv(f'../data/lines/{line}.csv', index=False)\n",
    "    \n",
    "    # Clean up line_data DataFrame\n",
    "    del line_data"
   ]
  },
  {
   "attachments": {},
   "cell_type": "markdown",
   "metadata": {},
   "source": [
    "### Process zip files"
   ]
  },
  {
   "cell_type": "code",
   "execution_count": 11,
   "metadata": {},
   "outputs": [],
   "source": [
    "def process_zip_file(path):\n",
    "    zip_file = ZipFile(path)\n",
    "\n",
    "    activities = pd.DataFrame()\n",
    "    for i, text_file in tqdm(enumerate(zip_file.infolist()), total=len(zip_file.infolist())):\n",
    "        if text_file.filename.endswith('.csv') and not str(text_file.filename).startswith('__MACOSX/'):\n",
    "            timetable = pd.read_csv(zip_file.open(text_file.filename), sep=\";\", low_memory=False)\n",
    "\n",
    "            # Filter Lausanne area\n",
    "            timetable = timetable[timetable[\"BPUIC\"].isin(stops['stop_id'].to_list())]\n",
    "\n",
    "            # Filter only TL\n",
    "            timetable = timetable[timetable['BETREIBER_ABK'] == 'TL']\n",
    "\n",
    "            # Keep non-cancelled trips\n",
    "            timetable = timetable[timetable['FAELLT_AUS_TF'] == False]\n",
    "            \n",
    "            # Keep only rows with arrival or departure target\n",
    "            timetable = timetable[~((timetable['ANKUNFTSZEIT'].isna()) & (timetable['ABFAHRTSZEIT'].isna()))]\n",
    "\n",
    "            # Keep only relevant columns\n",
    "            timetable = timetable[keep_columns]\n",
    "            timetable.rename(map_columns, axis=1, inplace=True)\n",
    "            \n",
    "            date = os.path.basename(text_file.filename).split('_')[0]\n",
    "\n",
    "            # Compute activities\n",
    "            activities = pd.concat([activities, compute_stops_activity(timetable)], axis=0, ignore_index=True)\n",
    "            \n",
    "            # Compute lines data\n",
    "            lines_process(date, timetable, False)\n",
    "\n",
    "            del timetable\n",
    "\n",
    "    avg_activities = activities.groupby(['stop_id', 'day_of_week', 'hour']).mean().reset_index()\n",
    "\n",
    "    avg_activities.to_csv('../data/activities.csv', index=False)"
   ]
  },
  {
   "attachments": {},
   "cell_type": "markdown",
   "metadata": {},
   "source": [
    "#### One zip"
   ]
  },
  {
   "cell_type": "code",
   "execution_count": 45,
   "metadata": {},
   "outputs": [
    {
     "name": "stderr",
     "output_type": "stream",
     "text": [
      "100%|██████████| 28/28 [03:04<00:00,  6.60s/it]\n"
     ]
    }
   ],
   "source": [
    "import warnings\n",
    "warnings.simplefilter(action='ignore', category=FutureWarning)\n",
    "\n",
    "process_zip_file('data/raw/ist-daten-2023-02.zip')"
   ]
  },
  {
   "attachments": {},
   "cell_type": "markdown",
   "metadata": {},
   "source": [
    "#### All zip in /raw folder"
   ]
  },
  {
   "cell_type": "code",
   "execution_count": 270,
   "metadata": {},
   "outputs": [
    {
     "name": "stdout",
     "output_type": "stream",
     "text": [
      "reading ist-daten-2023-03.zip ...\n"
     ]
    },
    {
     "name": "stderr",
     "output_type": "stream",
     "text": [
      "100%|██████████| 61/61 [07:28<00:00,  7.35s/it]\n"
     ]
    }
   ],
   "source": [
    "import warnings\n",
    "warnings.simplefilter(action='ignore', category=FutureWarning)\n",
    "\n",
    "# PROCESS ALL ZIP FILES IN RAW FOLDER\n",
    "for month_file in os.listdir('../data/raw'):\n",
    "    if month_file.endswith('.zip'):\n",
    "        print('reading {} ...'.format(month_file))\n",
    "        process_zip_file('../data/raw/{}'.format(month_file))"
   ]
  },
  {
   "attachments": {},
   "cell_type": "markdown",
   "metadata": {},
   "source": [
    "#### Compute activity by stop"
   ]
  },
  {
   "cell_type": "code",
   "execution_count": 26,
   "metadata": {},
   "outputs": [],
   "source": [
    "def compute_stops_activity(df):\n",
    "    \"\"\"\n",
    "    Compute stops activity based on the provided DataFrame.\n",
    "\n",
    "    Args:\n",
    "        df (pandas.DataFrame): The timetable data for the given date.\n",
    "\n",
    "    Returns:\n",
    "        pandas.DataFrame: DataFrame with computed stop activity.\n",
    "\n",
    "    Raises:\n",
    "        None\n",
    "\n",
    "    Documentation:\n",
    "    This function computes the activity of each stop based on the provided DataFrame.\n",
    "    It extracts the day of the week and hour from the 'arrival_time_target' column,\n",
    "    groups the data by stop, day of the week, and hour, and counts the number of occurrences.\n",
    "    The resulting DataFrame includes the stop_id, day of the week, hour, and activity count.\n",
    "\n",
    "    \"\"\"\n",
    "    # Convert 'arrival_time_target' to datetime format\n",
    "    df['arrival_time_target'] = pd.to_datetime(df['arrival_time_target'], format='%d.%m.%Y %H:%M')\n",
    "\n",
    "    # Extract day of the week and hour\n",
    "    df['day_of_week'] = df['arrival_time_target'].dt.dayofweek\n",
    "    df['hour'] = df['arrival_time_target'].dt.hour\n",
    "\n",
    "    # Group by stop, day of the week, and hour, and count occurrences\n",
    "    grouped = df.groupby(['stop_id', 'day_of_week', 'hour']).count().reset_index()\n",
    "\n",
    "    # Select necessary columns and rename 'arrival_time_target' to 'activity'\n",
    "    grouped = grouped[['stop_id', 'day_of_week', 'hour', 'arrival_time_target']]\n",
    "    grouped = grouped.rename(columns={'arrival_time_target': 'activity'})\n",
    "\n",
    "    return grouped"
   ]
  },
  {
   "attachments": {},
   "cell_type": "markdown",
   "metadata": {},
   "source": [
    "#### Compute median delay by day of week for each line"
   ]
  },
  {
   "cell_type": "code",
   "execution_count": 13,
   "metadata": {},
   "outputs": [],
   "source": [
    "def compute_median_delay_by_day_of_week(line):\n",
    "    \"\"\"\n",
    "    Compute the median delay for each stop on the specified line by day of the week.\n",
    "\n",
    "    Args:\n",
    "        line (str): Name of the line.\n",
    "\n",
    "    Returns:\n",
    "        None\n",
    "\n",
    "    Raises:\n",
    "        None\n",
    "\n",
    "    Documentation:\n",
    "    This function computes the median delay for each stop on the specified line by day of the week.\n",
    "    It reads the line data from the corresponding CSV file, converts the date to datetime format,\n",
    "    extracts the day of the week, and fills missing delays with zero.\n",
    "    Then, it calculates the median arrival delay and median departure delay for each stop\n",
    "    by grouping the data by stop ID and day of the week.\n",
    "    The resulting DataFrame includes the stop_id, day of the week, median arrival delay,\n",
    "    median departure delay, and stop name.\n",
    "    Finally, the computed data is saved to a CSV file.\n",
    "    \"\"\"\n",
    "\n",
    "    # Read line data from the corresponding CSV file\n",
    "    line_data = pd.read_csv(f'lines/{line}.csv', sep=',')\n",
    "\n",
    "    # Convert 'date' column to datetime format\n",
    "    line_data['date'] = pd.to_datetime(line_data['date'], format='%Y-%m-%d')\n",
    "\n",
    "    # Extract day of the week and fill missing delays with zero\n",
    "    line_data['day_of_week'] = line_data['date'].dt.dayofweek\n",
    "    line_data['arrival_delay'] = line_data['arrival_delay'].fillna(0)\n",
    "    line_data['departure_delay'] = line_data['departure_delay'].fillna(0)\n",
    "\n",
    "    # Compute median arrival_delay and median departure_delay by day of week for each stop\n",
    "    delays_by_line_by_dow = line_data.groupby(['stop_id', 'day_of_week']).agg({'arrival_delay': 'median', 'departure_delay': 'median'}).reset_index()\n",
    "    \n",
    "    # Merge with stops DataFrame to include stop names\n",
    "    line_data = delays_by_line_by_dow.merge(stops[['stop_id', 'stop_name']], on=['stop_id'], how='left')\n",
    "\n",
    "    # Save the computed data to a CSV file\n",
    "    line_data.to_csv(f'lines_delays/{line}.csv', index=False)\n"
   ]
  },
  {
   "attachments": {},
   "cell_type": "markdown",
   "metadata": {},
   "source": [
    "For all lines .csv files in 'data/lines' folder, compute the median delay by day of week: "
   ]
  },
  {
   "cell_type": "code",
   "execution_count": 15,
   "metadata": {},
   "outputs": [],
   "source": [
    "for line_file in os.listdir('../data/lines'):\n",
    "    if line_file.endswith('.csv'):\n",
    "        compute_median_delay_by_day_of_week(line_file.split('.')[0])"
   ]
  },
  {
   "attachments": {},
   "cell_type": "markdown",
   "metadata": {},
   "source": [
    "#### Compute lines championship by day of week"
   ]
  },
  {
   "cell_type": "code",
   "execution_count": null,
   "metadata": {},
   "outputs": [],
   "source": [
    "def compute_championship_by_day_of_week():\n",
    "    \"\"\"\n",
    "    Compute the championship rankings of delays by day of the week for all lines data in folder 'data/lines_delays' and save the results to 'data/championship.json' file.\n",
    "\n",
    "    Args:\n",
    "        None\n",
    "\n",
    "    Returns:\n",
    "        None\n",
    "    \"\"\"\n",
    "\n",
    "    # Create an empty DataFrame to store the delays by line and day of the week\n",
    "    delays_by_line_by_dow = pd.DataFrame()\n",
    "\n",
    "    # Iterate through line CSV files in the 'data/lines_delays' directory\n",
    "    for line in os.listdir('../data/lines_delays'):\n",
    "        if line.endswith('.csv'):\n",
    "            # Read line data from the corresponding CSV file\n",
    "            line_data = pd.read_csv(f'../data/lines_delays/{line}', sep=',')\n",
    "\n",
    "            # Append line data to the DataFrame\n",
    "            delays_by_line_by_dow = delays_by_line_by_dow.append(line_data, ignore_index=True)\n",
    "    \n",
    "    # Sort the delays by day of the week, arrival delay, and departure delay in ascending order\n",
    "    delays_by_line_by_dow = delays_by_line_by_dow.sort_values(['day_of_week', 'arrival_delay', 'departure_delay'], ascending=[True, True, True])\n",
    "\n",
    "    # Rank the delays within each day of week\n",
    "    delays_by_line_by_dow['arrival_delay_rank'] = delays_by_line_by_dow.groupby('day_of_week')['arrival_delay'].rank()\n",
    "    delays_by_line_by_dow['departure_delay_rank'] = delays_by_line_by_dow.groupby('day_of_week')['departure_delay'].rank()\n",
    "    \n",
    "    # Save the computed data to a JSON file\n",
    "    delays_by_line_by_dow.to_json('../data/championship.json', orient='records')"
   ]
  },
  {
   "cell_type": "code",
   "execution_count": 17,
   "metadata": {},
   "outputs": [],
   "source": [
    "compute_championship_by_day_of_week()"
   ]
  },
  {
   "attachments": {},
   "cell_type": "markdown",
   "metadata": {},
   "source": [
    "## 1.3) Compute stops order by line\n",
    "\n",
    "In order to compute the order of stops along the lines we use the timetable of March 24th 2023 as a reference as it's a Friday recent enough to have the same route as today."
   ]
  },
  {
   "cell_type": "code",
   "execution_count": 22,
   "metadata": {},
   "outputs": [],
   "source": [
    "def compute_lines_stop_order(date):\n",
    "    timetable = pd.read_csv(f\"../data/raw/{date}_istdaten.csv\", sep=\";\", low_memory=False)\n",
    "\n",
    "    # Filter Lausanne area\n",
    "    timetable = timetable[timetable[\"BPUIC\"].isin(stops['stop_id'].to_list())]\n",
    "\n",
    "    # Filter only TL\n",
    "    timetable = timetable[timetable['BETREIBER_ABK'] == 'TL']\n",
    "\n",
    "    # Keep non-cancelled trips\n",
    "    timetable = timetable[timetable['FAELLT_AUS_TF'] == False]\n",
    "\n",
    "    # Keep only rows with arrival or departure target\n",
    "    timetable = timetable[~((timetable['ANKUNFTSZEIT'].isna()) & (timetable['ABFAHRTSZEIT'].isna()))]\n",
    "\n",
    "    # Keep only relevant columns\n",
    "    timetable = timetable[keep_columns]\n",
    "    timetable.rename(map_columns, axis=1, inplace=True)\n",
    "\n",
    "    line_data = timetable[['arrival_time_target', 'arrival_time_real', 'departure_time_real', 'departure_time_target', 'line_name', 'company', 'vehicle_id', 'stop_id']]\n",
    "\n",
    "    # Format dates\n",
    "    line_data['arrival_time_target'] = pd.to_datetime(line_data['arrival_time_target'], format='%d.%m.%Y %H:%M')\n",
    "    line_data['arrival_time_real'] = pd.to_datetime(line_data['arrival_time_real'], format='%d.%m.%Y %H:%M:%S')\n",
    "    line_data['departure_time_target'] = pd.to_datetime(line_data['departure_time_target'], format='%d.%m.%Y %H:%M')\n",
    "    line_data['departure_time_real'] = pd.to_datetime(line_data['departure_time_real'], format='%d.%m.%Y %H:%M:%S')\n",
    "\n",
    "    # Fill missing arrival time with departure time\n",
    "    line_data['arrival_time_target'] = line_data['arrival_time_target'].fillna(line_data['departure_time_target'])\n",
    "\n",
    "    # Sort by arrival time target and rank (line_name, vehicle_id) by arrival time target\n",
    "    line_data = line_data.sort_values(by=['arrival_time_target'])\n",
    "    line_data['stop_line_idx'] = line_data.groupby(['line_name', 'vehicle_id'])['arrival_time_target'].rank()\n",
    "\n",
    "    # Compute the size of each group\n",
    "    grouped = line_data.groupby(['line_name', 'vehicle_id']).size().reset_index(name='size')\n",
    "\n",
    "    # Sort the groups by size in descending order\n",
    "    sorted_grouped = grouped.sort_values(['line_name', 'size'], ascending=[True, False])\n",
    "\n",
    "    # Select the vehicle_id with the longest sequence for each line_name\n",
    "    best_vehicle_per_line = sorted_grouped.drop_duplicates(subset='line_name')\n",
    "\n",
    "    # Create an empty DataFrame to store the result\n",
    "    result = pd.DataFrame()\n",
    "\n",
    "    # For each line_name and vehicle_id in best_vehicle_per_line, select the corresponding rows\n",
    "    for _, row in best_vehicle_per_line.iterrows():\n",
    "        selected_rows = line_data[(line_data['line_name'] == row['line_name']) & (line_data['vehicle_id'] == row['vehicle_id'])]\n",
    "        selected_rows = selected_rows[['line_name', 'stop_id', 'stop_line_idx']]\n",
    "        selected_rows = selected_rows.merge(stops[['stop_id', 'stop_name']], on='stop_id', how='left')\n",
    "        result = result.append(selected_rows)\n",
    "\n",
    "    # Create a dictionary from the result dataframe\n",
    "    result_dict = result.to_dict('records')\n",
    "\n",
    "    # Convert the result DataFrame to a dictionary\n",
    "    output_list = []\n",
    "\n",
    "    # Iterate through the result dictionary and arrange data in the desired format\n",
    "    for line_name in result['line_name'].unique():\n",
    "        line_dict = {\"name\": line_name, \"stops\": []}\n",
    "\n",
    "        line_df = result[result['line_name'] == line_name]\n",
    "        for _, row in line_df.iterrows():\n",
    "            line_dict['stops'].append([row['stop_line_idx'], row['stop_id'], row['stop_name']])\n",
    "\n",
    "        output_list.append(line_dict)\n",
    "\n",
    "    # Write the output dictionary to a JSON file\n",
    "    with open('../data/lines.json', 'w') as f:\n",
    "        json.dump(output_list, f)"
   ]
  },
  {
   "cell_type": "code",
   "execution_count": 23,
   "metadata": {},
   "outputs": [
    {
     "name": "stderr",
     "output_type": "stream",
     "text": [
      "C:\\Users\\anton\\AppData\\Local\\Temp\\ipykernel_6408\\3736498104.py:56: FutureWarning: The frame.append method is deprecated and will be removed from pandas in a future version. Use pandas.concat instead.\n",
      "  result = result.append(selected_rows)\n",
      "C:\\Users\\anton\\AppData\\Local\\Temp\\ipykernel_6408\\3736498104.py:56: FutureWarning: The frame.append method is deprecated and will be removed from pandas in a future version. Use pandas.concat instead.\n",
      "  result = result.append(selected_rows)\n",
      "C:\\Users\\anton\\AppData\\Local\\Temp\\ipykernel_6408\\3736498104.py:56: FutureWarning: The frame.append method is deprecated and will be removed from pandas in a future version. Use pandas.concat instead.\n",
      "  result = result.append(selected_rows)\n",
      "C:\\Users\\anton\\AppData\\Local\\Temp\\ipykernel_6408\\3736498104.py:56: FutureWarning: The frame.append method is deprecated and will be removed from pandas in a future version. Use pandas.concat instead.\n",
      "  result = result.append(selected_rows)\n",
      "C:\\Users\\anton\\AppData\\Local\\Temp\\ipykernel_6408\\3736498104.py:56: FutureWarning: The frame.append method is deprecated and will be removed from pandas in a future version. Use pandas.concat instead.\n",
      "  result = result.append(selected_rows)\n",
      "C:\\Users\\anton\\AppData\\Local\\Temp\\ipykernel_6408\\3736498104.py:56: FutureWarning: The frame.append method is deprecated and will be removed from pandas in a future version. Use pandas.concat instead.\n",
      "  result = result.append(selected_rows)\n",
      "C:\\Users\\anton\\AppData\\Local\\Temp\\ipykernel_6408\\3736498104.py:56: FutureWarning: The frame.append method is deprecated and will be removed from pandas in a future version. Use pandas.concat instead.\n",
      "  result = result.append(selected_rows)\n",
      "C:\\Users\\anton\\AppData\\Local\\Temp\\ipykernel_6408\\3736498104.py:56: FutureWarning: The frame.append method is deprecated and will be removed from pandas in a future version. Use pandas.concat instead.\n",
      "  result = result.append(selected_rows)\n",
      "C:\\Users\\anton\\AppData\\Local\\Temp\\ipykernel_6408\\3736498104.py:56: FutureWarning: The frame.append method is deprecated and will be removed from pandas in a future version. Use pandas.concat instead.\n",
      "  result = result.append(selected_rows)\n",
      "C:\\Users\\anton\\AppData\\Local\\Temp\\ipykernel_6408\\3736498104.py:56: FutureWarning: The frame.append method is deprecated and will be removed from pandas in a future version. Use pandas.concat instead.\n",
      "  result = result.append(selected_rows)\n",
      "C:\\Users\\anton\\AppData\\Local\\Temp\\ipykernel_6408\\3736498104.py:56: FutureWarning: The frame.append method is deprecated and will be removed from pandas in a future version. Use pandas.concat instead.\n",
      "  result = result.append(selected_rows)\n",
      "C:\\Users\\anton\\AppData\\Local\\Temp\\ipykernel_6408\\3736498104.py:56: FutureWarning: The frame.append method is deprecated and will be removed from pandas in a future version. Use pandas.concat instead.\n",
      "  result = result.append(selected_rows)\n",
      "C:\\Users\\anton\\AppData\\Local\\Temp\\ipykernel_6408\\3736498104.py:56: FutureWarning: The frame.append method is deprecated and will be removed from pandas in a future version. Use pandas.concat instead.\n",
      "  result = result.append(selected_rows)\n",
      "C:\\Users\\anton\\AppData\\Local\\Temp\\ipykernel_6408\\3736498104.py:56: FutureWarning: The frame.append method is deprecated and will be removed from pandas in a future version. Use pandas.concat instead.\n",
      "  result = result.append(selected_rows)\n",
      "C:\\Users\\anton\\AppData\\Local\\Temp\\ipykernel_6408\\3736498104.py:56: FutureWarning: The frame.append method is deprecated and will be removed from pandas in a future version. Use pandas.concat instead.\n",
      "  result = result.append(selected_rows)\n",
      "C:\\Users\\anton\\AppData\\Local\\Temp\\ipykernel_6408\\3736498104.py:56: FutureWarning: The frame.append method is deprecated and will be removed from pandas in a future version. Use pandas.concat instead.\n",
      "  result = result.append(selected_rows)\n",
      "C:\\Users\\anton\\AppData\\Local\\Temp\\ipykernel_6408\\3736498104.py:56: FutureWarning: The frame.append method is deprecated and will be removed from pandas in a future version. Use pandas.concat instead.\n",
      "  result = result.append(selected_rows)\n",
      "C:\\Users\\anton\\AppData\\Local\\Temp\\ipykernel_6408\\3736498104.py:56: FutureWarning: The frame.append method is deprecated and will be removed from pandas in a future version. Use pandas.concat instead.\n",
      "  result = result.append(selected_rows)\n",
      "C:\\Users\\anton\\AppData\\Local\\Temp\\ipykernel_6408\\3736498104.py:56: FutureWarning: The frame.append method is deprecated and will be removed from pandas in a future version. Use pandas.concat instead.\n",
      "  result = result.append(selected_rows)\n",
      "C:\\Users\\anton\\AppData\\Local\\Temp\\ipykernel_6408\\3736498104.py:56: FutureWarning: The frame.append method is deprecated and will be removed from pandas in a future version. Use pandas.concat instead.\n",
      "  result = result.append(selected_rows)\n",
      "C:\\Users\\anton\\AppData\\Local\\Temp\\ipykernel_6408\\3736498104.py:56: FutureWarning: The frame.append method is deprecated and will be removed from pandas in a future version. Use pandas.concat instead.\n",
      "  result = result.append(selected_rows)\n",
      "C:\\Users\\anton\\AppData\\Local\\Temp\\ipykernel_6408\\3736498104.py:56: FutureWarning: The frame.append method is deprecated and will be removed from pandas in a future version. Use pandas.concat instead.\n",
      "  result = result.append(selected_rows)\n",
      "C:\\Users\\anton\\AppData\\Local\\Temp\\ipykernel_6408\\3736498104.py:56: FutureWarning: The frame.append method is deprecated and will be removed from pandas in a future version. Use pandas.concat instead.\n",
      "  result = result.append(selected_rows)\n",
      "C:\\Users\\anton\\AppData\\Local\\Temp\\ipykernel_6408\\3736498104.py:56: FutureWarning: The frame.append method is deprecated and will be removed from pandas in a future version. Use pandas.concat instead.\n",
      "  result = result.append(selected_rows)\n",
      "C:\\Users\\anton\\AppData\\Local\\Temp\\ipykernel_6408\\3736498104.py:56: FutureWarning: The frame.append method is deprecated and will be removed from pandas in a future version. Use pandas.concat instead.\n",
      "  result = result.append(selected_rows)\n",
      "C:\\Users\\anton\\AppData\\Local\\Temp\\ipykernel_6408\\3736498104.py:56: FutureWarning: The frame.append method is deprecated and will be removed from pandas in a future version. Use pandas.concat instead.\n",
      "  result = result.append(selected_rows)\n",
      "C:\\Users\\anton\\AppData\\Local\\Temp\\ipykernel_6408\\3736498104.py:56: FutureWarning: The frame.append method is deprecated and will be removed from pandas in a future version. Use pandas.concat instead.\n",
      "  result = result.append(selected_rows)\n",
      "C:\\Users\\anton\\AppData\\Local\\Temp\\ipykernel_6408\\3736498104.py:56: FutureWarning: The frame.append method is deprecated and will be removed from pandas in a future version. Use pandas.concat instead.\n",
      "  result = result.append(selected_rows)\n",
      "C:\\Users\\anton\\AppData\\Local\\Temp\\ipykernel_6408\\3736498104.py:56: FutureWarning: The frame.append method is deprecated and will be removed from pandas in a future version. Use pandas.concat instead.\n",
      "  result = result.append(selected_rows)\n",
      "C:\\Users\\anton\\AppData\\Local\\Temp\\ipykernel_6408\\3736498104.py:56: FutureWarning: The frame.append method is deprecated and will be removed from pandas in a future version. Use pandas.concat instead.\n",
      "  result = result.append(selected_rows)\n",
      "C:\\Users\\anton\\AppData\\Local\\Temp\\ipykernel_6408\\3736498104.py:56: FutureWarning: The frame.append method is deprecated and will be removed from pandas in a future version. Use pandas.concat instead.\n",
      "  result = result.append(selected_rows)\n",
      "C:\\Users\\anton\\AppData\\Local\\Temp\\ipykernel_6408\\3736498104.py:56: FutureWarning: The frame.append method is deprecated and will be removed from pandas in a future version. Use pandas.concat instead.\n",
      "  result = result.append(selected_rows)\n",
      "C:\\Users\\anton\\AppData\\Local\\Temp\\ipykernel_6408\\3736498104.py:56: FutureWarning: The frame.append method is deprecated and will be removed from pandas in a future version. Use pandas.concat instead.\n",
      "  result = result.append(selected_rows)\n",
      "C:\\Users\\anton\\AppData\\Local\\Temp\\ipykernel_6408\\3736498104.py:56: FutureWarning: The frame.append method is deprecated and will be removed from pandas in a future version. Use pandas.concat instead.\n",
      "  result = result.append(selected_rows)\n",
      "C:\\Users\\anton\\AppData\\Local\\Temp\\ipykernel_6408\\3736498104.py:56: FutureWarning: The frame.append method is deprecated and will be removed from pandas in a future version. Use pandas.concat instead.\n",
      "  result = result.append(selected_rows)\n",
      "C:\\Users\\anton\\AppData\\Local\\Temp\\ipykernel_6408\\3736498104.py:56: FutureWarning: The frame.append method is deprecated and will be removed from pandas in a future version. Use pandas.concat instead.\n",
      "  result = result.append(selected_rows)\n",
      "C:\\Users\\anton\\AppData\\Local\\Temp\\ipykernel_6408\\3736498104.py:56: FutureWarning: The frame.append method is deprecated and will be removed from pandas in a future version. Use pandas.concat instead.\n",
      "  result = result.append(selected_rows)\n",
      "C:\\Users\\anton\\AppData\\Local\\Temp\\ipykernel_6408\\3736498104.py:56: FutureWarning: The frame.append method is deprecated and will be removed from pandas in a future version. Use pandas.concat instead.\n",
      "  result = result.append(selected_rows)\n",
      "C:\\Users\\anton\\AppData\\Local\\Temp\\ipykernel_6408\\3736498104.py:56: FutureWarning: The frame.append method is deprecated and will be removed from pandas in a future version. Use pandas.concat instead.\n",
      "  result = result.append(selected_rows)\n"
     ]
    },
    {
     "data": {
      "text/html": [
       "<div>\n",
       "<style scoped>\n",
       "    .dataframe tbody tr th:only-of-type {\n",
       "        vertical-align: middle;\n",
       "    }\n",
       "\n",
       "    .dataframe tbody tr th {\n",
       "        vertical-align: top;\n",
       "    }\n",
       "\n",
       "    .dataframe thead th {\n",
       "        text-align: right;\n",
       "    }\n",
       "</style>\n",
       "<table border=\"1\" class=\"dataframe\">\n",
       "  <thead>\n",
       "    <tr style=\"text-align: right;\">\n",
       "      <th></th>\n",
       "      <th>line_name</th>\n",
       "      <th>stop_id</th>\n",
       "      <th>stop_line_idx</th>\n",
       "      <th>stop_name</th>\n",
       "    </tr>\n",
       "  </thead>\n",
       "  <tbody>\n",
       "    <tr>\n",
       "      <th>0</th>\n",
       "      <td>1</td>\n",
       "      <td>8592068</td>\n",
       "      <td>1.0</td>\n",
       "      <td>Lausanne, Maladière</td>\n",
       "    </tr>\n",
       "    <tr>\n",
       "      <th>1</th>\n",
       "      <td>1</td>\n",
       "      <td>8592080</td>\n",
       "      <td>2.0</td>\n",
       "      <td>Lausanne, Montoie</td>\n",
       "    </tr>\n",
       "    <tr>\n",
       "      <th>2</th>\n",
       "      <td>1</td>\n",
       "      <td>8592110</td>\n",
       "      <td>3.5</td>\n",
       "      <td>Lausanne, Riant-Cour</td>\n",
       "    </tr>\n",
       "    <tr>\n",
       "      <th>3</th>\n",
       "      <td>1</td>\n",
       "      <td>8591983</td>\n",
       "      <td>3.5</td>\n",
       "      <td>Lausanne, Batelière</td>\n",
       "    </tr>\n",
       "    <tr>\n",
       "      <th>4</th>\n",
       "      <td>1</td>\n",
       "      <td>8592005</td>\n",
       "      <td>5.0</td>\n",
       "      <td>Lausanne, Cèdres</td>\n",
       "    </tr>\n",
       "    <tr>\n",
       "      <th>...</th>\n",
       "      <td>...</td>\n",
       "      <td>...</td>\n",
       "      <td>...</td>\n",
       "      <td>...</td>\n",
       "    </tr>\n",
       "    <tr>\n",
       "      <th>10</th>\n",
       "      <td>m1</td>\n",
       "      <td>8501215</td>\n",
       "      <td>11.0</td>\n",
       "      <td>Ecublens VD, Bassenges</td>\n",
       "    </tr>\n",
       "    <tr>\n",
       "      <th>11</th>\n",
       "      <td>m1</td>\n",
       "      <td>8501216</td>\n",
       "      <td>12.0</td>\n",
       "      <td>Ecublens VD, Cerisaie</td>\n",
       "    </tr>\n",
       "    <tr>\n",
       "      <th>12</th>\n",
       "      <td>m1</td>\n",
       "      <td>8501217</td>\n",
       "      <td>13.0</td>\n",
       "      <td>Chavannes-R., Crochy</td>\n",
       "    </tr>\n",
       "    <tr>\n",
       "      <th>13</th>\n",
       "      <td>m1</td>\n",
       "      <td>8501218</td>\n",
       "      <td>14.0</td>\n",
       "      <td>Ecublens VD, Epenex</td>\n",
       "    </tr>\n",
       "    <tr>\n",
       "      <th>14</th>\n",
       "      <td>m1</td>\n",
       "      <td>8530749</td>\n",
       "      <td>15.0</td>\n",
       "      <td>Renens VD, gare</td>\n",
       "    </tr>\n",
       "  </tbody>\n",
       "</table>\n",
       "<p>620 rows × 4 columns</p>\n",
       "</div>"
      ],
      "text/plain": [
       "   line_name  stop_id  stop_line_idx               stop_name\n",
       "0          1  8592068            1.0     Lausanne, Maladière\n",
       "1          1  8592080            2.0       Lausanne, Montoie\n",
       "2          1  8592110            3.5    Lausanne, Riant-Cour\n",
       "3          1  8591983            3.5     Lausanne, Batelière\n",
       "4          1  8592005            5.0        Lausanne, Cèdres\n",
       "..       ...      ...            ...                     ...\n",
       "10        m1  8501215           11.0  Ecublens VD, Bassenges\n",
       "11        m1  8501216           12.0   Ecublens VD, Cerisaie\n",
       "12        m1  8501217           13.0    Chavannes-R., Crochy\n",
       "13        m1  8501218           14.0     Ecublens VD, Epenex\n",
       "14        m1  8530749           15.0         Renens VD, gare\n",
       "\n",
       "[620 rows x 4 columns]"
      ]
     },
     "execution_count": 23,
     "metadata": {},
     "output_type": "execute_result"
    }
   ],
   "source": [
    "compute_lines_stop_order('2023-03-24')"
   ]
  },
  {
   "attachments": {},
   "cell_type": "markdown",
   "metadata": {},
   "source": [
    "## 1.4) Output data to GeoJSON format"
   ]
  },
  {
   "cell_type": "code",
   "execution_count": 18,
   "metadata": {},
   "outputs": [],
   "source": [
    "import json\n",
    "\n",
    "def create_square_polygon(center_lon, center_lat, offset=0.00015):\n",
    "    return [\n",
    "        [center_lon - offset, center_lat - offset],\n",
    "        [center_lon + offset, center_lat - offset],\n",
    "        [center_lon + offset, center_lat + offset],\n",
    "        [center_lon - offset, center_lat + offset],\n",
    "        [center_lon - offset, center_lat - offset]\n",
    "    ]\n",
    "\n",
    "def lines_to_geojson():\n",
    "    # for each file in lines_delays folder append the features to geojson file\n",
    "    geojson = {\n",
    "        \"type\": \"FeatureCollection\",\n",
    "        \"features\": []\n",
    "    }\n",
    "\n",
    "    for line_file in os.listdir('../data/lines_delays'):\n",
    "        if line_file.endswith('.csv'):\n",
    "            line_data = pd.read_csv(f'../data/lines_delays/{line_file}', sep=',')\n",
    "            line_data['stop_id'] = line_data['stop_id']\n",
    "            #line_data['stop_line_idx'] = line_data['stop_line_idx'].astype(str)\n",
    "            line_data['day_of_week'] = line_data['day_of_week'].astype(str)\n",
    "            line_data['arrival_delay'] = line_data['arrival_delay'].fillna(0)\n",
    "            line_data['departure_delay'] = line_data['departure_delay'].fillna(0)\n",
    "            line_data['stop_name'] = line_data['stop_name'].astype(str)\n",
    "\n",
    "            for i, row in line_data.iterrows():\n",
    "                stop_coordinates = stops[stops['stop_id'] == row['stop_id']].iloc[0]\n",
    "                polygon_coordinates = create_square_polygon(stop_coordinates['lon'], stop_coordinates['lat'])\n",
    "\n",
    "                geojson['features'].append({\n",
    "                    \"type\": \"Feature\",\n",
    "                    \"geometry\": {\n",
    "                        \"type\": \"Polygon\",\n",
    "                        \"coordinates\": [polygon_coordinates]\n",
    "                    },\n",
    "                    \"properties\": {\n",
    "                        \"stop_id\": row['stop_id'],\n",
    "                        \"day_of_week\": row['day_of_week'],\n",
    "                        \"arrival_delay\": row['arrival_delay'],\n",
    "                        \"departure_delay\": row['departure_delay'],\n",
    "                        \"stop_name\": row['stop_name'],\n",
    "                        \"line_name\": line_file.split('.')[0]\n",
    "                    }\n",
    "                })\n",
    "\n",
    "    with open('../data/lines_delays.geojson', 'w') as outfile:\n",
    "        json.dump(geojson, outfile)\n"
   ]
  },
  {
   "cell_type": "code",
   "execution_count": null,
   "metadata": {},
   "outputs": [],
   "source": [
    "lines_to_geojson()"
   ]
  },
  {
   "cell_type": "code",
   "execution_count": 50,
   "metadata": {},
   "outputs": [],
   "source": [
    "def stops_to_geojson():\n",
    "    # for each file in lines_delays folder append the features to geojson file\n",
    "    geojson = {\n",
    "        \"type\": \"FeatureCollection\",\n",
    "        \"features\": []\n",
    "    }\n",
    "\n",
    "    stops_data = pd.read_csv(f'../data/activities.csv', sep=',')\n",
    "    stops_data['stop_id'] = stops_data['stop_id']\n",
    "    stops_data['day_of_week'] = stops_data['day_of_week'].astype(str)\n",
    "    stops_data['hour'] = stops_data['hour'].astype(str)\n",
    "    \n",
    "    for i, row in stops_data.iterrows():\n",
    "        stop_coordinates = stops[stops['stop_id'] == row['stop_id']].iloc[0]\n",
    "        stop_name = stops[stops['stop_id'] == row['stop_id']].iloc[0]['stop_name']\n",
    "\n",
    "        geojson['features'].append({\n",
    "            \"type\": \"Feature\",\n",
    "            \"geometry\": {\n",
    "                \"type\": \"Point\",\n",
    "                \"coordinates\": [stop_coordinates['lon'], stop_coordinates['lat']]\n",
    "            },\n",
    "            \"properties\": {\n",
    "                \"stop_id\": row['stop_id'],\n",
    "                \"day_of_week\": row['day_of_week'],\n",
    "                \"hour\": row['hour'],\n",
    "                \"stop_name\": stop_name,\n",
    "                \"activity\": row['activity']\n",
    "            }\n",
    "        })\n",
    "\n",
    "    with open('../data/stops.geojson', 'w') as outfile:\n",
    "        json.dump(geojson, outfile)"
   ]
  },
  {
   "cell_type": "code",
   "execution_count": 51,
   "metadata": {},
   "outputs": [],
   "source": [
    "stops_to_geojson()"
   ]
  },
  {
   "attachments": {},
   "cell_type": "markdown",
   "metadata": {
    "id": "3fsqzRcUIa1r"
   },
   "source": [
    "---\n",
    "## PART 2 - Problematic"
   ]
  },
  {
   "attachments": {},
   "cell_type": "markdown",
   "metadata": {
    "id": "xqbxtS5rIa1s"
   },
   "source": [
    "**Objectives overview**:\n",
    "\n",
    "Frame the general topic of your visualization and the main axis that you want to develop.\n",
    "\n",
    "**1)** What am I trying to show with my visualization? With our visualisations we would like to show: \n",
    "- Lausanne traffic depending on the day and time: the punctuality of the buses is a good estimation of the traffic.\n",
    "- Lausanne connectivity through the city and its suburbs: seing the concentration of the public transports (and not only the lines/trajectories) allows anyone to judge whether a region is well served or not.\n",
    "\n",
    "**2)** Think of an overview for the project, your motivation, and the target audience.\n",
    "- The main target audience is people who would like to move to Lausanne in a near future.\n",
    "- Another audience could be the TL themselves, as it is useful to know what are the problematic areas, which make the buses late. In general, it could be used in an analytic way for other entities such as geographists or sociologists"
   ]
  },
  {
   "attachments": {},
   "cell_type": "markdown",
   "metadata": {
    "id": "k6XdedutIa1s"
   },
   "source": [
    "---\n",
    "## Part 3 - Exploratory Data Analysis\n",
    "\n",
    "Pre-processing of the data set you chose.\n",
    "\n",
    "Show some basic statistics and get insights about the data\n",
    "\n"
   ]
  },
  {
   "cell_type": "code",
   "execution_count": 12,
   "metadata": {},
   "outputs": [
    {
     "data": {
      "application/vnd.plotly.v1+json": {
       "config": {
        "plotlyServerURL": "https://plot.ly"
       },
       "data": [
        {
         "hovertemplate": "<b>%{hovertext}</b><br><br>company_name=TL<br>lat=%{lat}<br>lon=%{lon}<extra></extra>",
         "hovertext": [
          "Aran, Pra Forny",
          "Belmont-sur-L., Arnier",
          "Belmont-sur-L., Au Devin",
          "Belmont-sur-L., Bas-Monts",
          "Belmont-sur-L., Blessoney",
          "Belmont-sur-L., Burenoz",
          "Belmont-sur-L., Chaffeises",
          "Belmont-sur-L., Chaffiause",
          "Belmont-sur-L., Champ Preveire",
          "Belmont-sur-L., Champ-Chamot",
          "Belmont-sur-L., Chapons",
          "Belmont-sur-L., Chatruffe",
          "Belmont-sur-L., Cita",
          "Belmont-sur-L., Cochène",
          "Belmont-sur-L., Courtillet",
          "Belmont-sur-L., Crau-au-Fer",
          "Belmont-sur-L., Grands Champs",
          "Belmont-sur-L., Léchire",
          "Belmont-sur-L., Malavaux",
          "Belmont-sur-L., Pertuis",
          "Belmont-sur-L., Pâquis",
          "Belmont-sur-L., Raffort",
          "Belmont-sur-L., Rouvène",
          "Belmont-sur-L., Rueyres",
          "Belmont-sur-L., Signal",
          "Belmont-sur-L., centre",
          "Bussigny VD, ch. de Rente",
          "Bussigny, Buyère",
          "Bussigny, Cocagne",
          "Bussigny, Colline",
          "Bussigny, Condémine",
          "Bussigny, Croix de Plan",
          "Bussigny, Dallaz",
          "Bussigny, Grand-Record",
          "Bussigny, Jordil",
          "Bussigny, Rente",
          "Bussigny, Riettaz",
          "Bussigny, Sauge",
          "Bussigny, Sottelles",
          "Bussigny, St-Germain",
          "Bussigny, Sullens",
          "Bussigny, Tatironne",
          "Bussigny, Vieux-Four",
          "Bussigny, gare",
          "Cery-Fleur-de-Lys, gare",
          "Chavannes-R., Berges",
          "Chavannes-R., Concorde",
          "Chavannes-R., Crochy",
          "Chavannes-R., Cèdres",
          "Chavannes-R., Dorigny",
          "Chavannes-R., Glycines",
          "Chavannes-R., Mouline",
          "Chavannes-R., Plaine",
          "Chavannes-R., Planta",
          "Chavannes-R., Préfaully",
          "Chavannes-R., Talluchet",
          "Chavannes-R., UNIL-Chamberonne",
          "Chavannes-R., UNIL-Mouline",
          "Cheseaux-sur-L., Bel-Air",
          "Cheseaux-sur-L., Châtelard",
          "Crissier, Arc-en-Ciel",
          "Crissier, Bré",
          "Crissier, Bré-Château",
          "Crissier, Casard Plan Soleil",
          "Crissier, Chicorée",
          "Crissier, Chisaz",
          "Crissier, Closalet",
          "Crissier, Couchant",
          "Crissier, Crésentine",
          "Crissier, Falaises",
          "Crissier, Feleire",
          "Crissier, Gottrause",
          "Crissier, Jura",
          "Crissier, Lentillières",
          "Crissier, Marcolet",
          "Crissier, Mongevon",
          "Crissier, Montremoën",
          "Crissier, Noutes",
          "Crissier, Pré-Fontaine",
          "Crissier, Sorge",
          "Crissier, Timonet",
          "Crissier, Zinguerie",
          "Crissier, centre",
          "Crissier, scierie",
          "Cugy VD, Cavenette",
          "Ecublens VD, Argand",
          "Ecublens VD, Bassenges",
          "Ecublens VD, Cerisaie",
          "Ecublens VD, Champs-Courbes",
          "Ecublens VD, Croset",
          "Ecublens VD, EPFL",
          "Ecublens VD, EPFL/Colladon",
          "Ecublens VD, En Enjalin",
          "Ecublens VD, Epenex",
          "Ecublens VD, Epenex/Pont-Bleu",
          "Ecublens VD, Montaney",
          "Ecublens VD, Parc",
          "Ecublens VD, Perrettes",
          "Ecublens VD, Pontet",
          "Ecublens VD, Renges",
          "Ecublens VD, Stand",
          "Ecublens VD, Suchet-Forêt",
          "Ecublens VD, UNIL-Sorge",
          "Ecublens VD, Veilloud",
          "Ecublens VD, Villars",
          "Ecublens VD, place de sport",
          "Epalinges, Ballègue",
          "Epalinges, Biolleyre",
          "Epalinges, Bois de Ban",
          "Epalinges, Bois-Murat",
          "Epalinges, Croisettes",
          "Epalinges, Croix-Blanche",
          "Epalinges, En Praz Bin",
          "Epalinges, Florimont",
          "Epalinges, Girarde",
          "Epalinges, Grand Chemin",
          "Epalinges, Lion d'Or",
          "Epalinges, Marcel Regamey",
          "Epalinges, Montéclard",
          "Epalinges, Pierraz",
          "Epalinges, Planches",
          "Epalinges, Polny",
          "Epalinges, Praz-Buchilly",
          "Epalinges, Près-les-bois",
          "Epalinges, Pré-d'Yverdon",
          "Epalinges, Raidillon",
          "Epalinges, Sylvana",
          "Epalinges, Tuileries",
          "Epalinges, Vuilletaz",
          "Grandvaux, Pra Grana",
          "Jordils",
          "Jouxtens-Mézery, gare",
          "La Conversion, gare",
          "Lausanne, Abeilles",
          "Lausanne, Allières/CHUV",
          "Lausanne, Alpes",
          "Lausanne, Aubépines",
          "Lausanne, Barre",
          "Lausanne, Batelière",
          "Lausanne, Beau-Rivage",
          "Lausanne, Beau-Site",
          "Lausanne, Beaulieu",
          "Lausanne, Beaulieu-Jomini",
          "Lausanne, Bel-Air",
          "Lausanne, Bellerive",
          "Lausanne, Bellevaux",
          "Lausanne, Belvédère",
          "Lausanne, Benj. Constant",
          "Lausanne, Bergières",
          "Lausanne, Bessières",
          "Lausanne, Blécherette",
          "Lausanne, Bois de Vaux",
          "Lausanne, Bois-Gentil",
          "Lausanne, Boissonnet",
          "Lausanne, Boisy",
          "Lausanne, Bonne-Espérance",
          "Lausanne, Bossons",
          "Lausanne, Boston",
          "Lausanne, Bourdonnette",
          "Lausanne, Bourdonnette nord",
          "Lausanne, Boveresses",
          "Lausanne, Béthanie",
          "Lausanne, Béthusy",
          "Lausanne, CHUV",
          "Lausanne, Cascades",
          "Lausanne, Chailly-Village",
          "Lausanne, Chalet à Matthey",
          "Lausanne, Chalet-à-Gobet",
          "Lausanne, Chalet-à-Gobet/Jorat",
          "Lausanne, Champ-Rond",
          "Lausanne, Champ-Soleil",
          "Lausanne, Chandolin",
          "Lausanne, Chauderon",
          "Lausanne, Chauderon-Ale",
          "Lausanne, Chevreuils",
          "Lausanne, Chocolatière",
          "Lausanne, Cigale",
          "Lausanne, Clochatte",
          "Lausanne, Closelet",
          "Lausanne, Cojonnex/EHL",
          "Lausanne, Cottages",
          "Lausanne, Couchirard",
          "Lausanne, Coudrette",
          "Lausanne, Cour",
          "Lausanne, Craivavers",
          "Lausanne, Croix d'Ouchy",
          "Lausanne, Cèdres",
          "Lausanne, Cécil",
          "Lausanne, César-Roux",
          "Lausanne, Dapples",
          "Lausanne, Denantou",
          "Lausanne, Devin",
          "Lausanne, Dranse",
          "Lausanne, Druey",
          "Lausanne, Druey-Collège",
          "Lausanne, Délices",
          "Lausanne, Désert",
          "Lausanne, EPSIC",
          "Lausanne, Ecole Commerce",
          "Lausanne, Ecole des Métiers",
          "Lausanne, Eglantine",
          "Lausanne, Elysée",
          "Lausanne, En Marin",
          "Lausanne, Entre-Bois",
          "Lausanne, Epinettes",
          "Lausanne, Esplanade",
          "Lausanne, Eugène-Rambert",
          "Lausanne, Fauconnières",
          "Lausanne, Faverges",
          "Lausanne, Figuiers",
          "Lausanne, Floreyres",
          "Lausanne, Fontenay",
          "Lausanne, Forêt",
          "Lausanne, Fourmi",
          "Lausanne, Foyer",
          "Lausanne, Gare (Fpl)",
          "Lausanne, Georgette",
          "Lausanne, Grancy",
          "Lausanne, Grand Vennes",
          "Lausanne, Grande-Borde",
          "Lausanne, Grangette",
          "Lausanne, Grattapaille",
          "Lausanne, Grey",
          "Lausanne, Grésy",
          "Lausanne, Haute Combe",
          "Lausanne, Haute-Vue",
          "Lausanne, Hermitage",
          "Lausanne, Jaman",
          "Lausanne, Jordils",
          "Lausanne, Jurigoz",
          "Lausanne, La Cure",
          "Lausanne, Lac Sauvabelin",
          "Lausanne, Languedoc",
          "Lausanne, Les Chavannes",
          "Lausanne, Libellules",
          "Lausanne, Lisière",
          "Lausanne, Maladière",
          "Lausanne, Maladière-Figuiers",
          "Lausanne, Maladière-Lac",
          "Lausanne, Maladière/chapelle",
          "Lausanne, Malley",
          "Lausanne, Mauvernay",
          "Lausanne, Mayoresses",
          "Lausanne, Mirabeau",
          "Lausanne, Molliettes",
          "Lausanne, Mon Repos",
          "Lausanne, Mont d'Or",
          "Lausanne, Mont-Blanc",
          "Lausanne, Mont-Fleuri",
          "Lausanne, Montbenon",
          "Lausanne, Montchoisi",
          "Lausanne, Montelly",
          "Lausanne, Montoie",
          "Lausanne, Montolieu",
          "Lausanne, Montétan",
          "Lausanne, Motte",
          "Lausanne, Mousquines",
          "Lausanne, Musée Olympique",
          "Lausanne, Mémise",
          "Lausanne, Oiseaux",
          "Lausanne, Ouchy-Olympique",
          "Lausanne, Ours",
          "Lausanne, Parc Bourget",
          "Lausanne, Parc Musée Olympique",
          "Lausanne, Parc Rivier",
          "Lausanne, Parc Vélodrome",
          "Lausanne, Pavement",
          "Lausanne, Petit Château",
          "Lausanne, Pierre Viret",
          "Lausanne, Pierrefleur",
          "Lausanne, Piécettes",
          "Lausanne, Pont Bessières",
          "Lausanne, Pont Chauderon",
          "Lausanne, Pont Marc Dufour",
          "Lausanne, Pont-de-Chailly",
          "Lausanne, Port-Franc",
          "Lausanne, Praz-Berthoud",
          "Lausanne, Praz-Collet",
          "Lausanne, Praz-Séchaud",
          "Lausanne, Presbytère",
          "Lausanne, Provence",
          "Lausanne, Provence nord",
          "Lausanne, Provence sud",
          "Lausanne, Prélaz",
          "Lausanne, Prélaz-les-Roses",
          "Lausanne, Pêcheurs",
          "Lausanne, Rapille",
          "Lausanne, Rasude",
          "Lausanne, Recordon",
          "Lausanne, Riant-Cour",
          "Lausanne, Riponne-M. Béjart",
          "Lausanne, Rosière",
          "Lausanne, Rouvraie",
          "Lausanne, Rozavère",
          "Lausanne, Rôtillon",
          "Lausanne, Sablons",
          "Lausanne, Sallaz",
          "Lausanne, Secrétan",
          "Lausanne, Signal",
          "Lausanne, Siège du CIO",
          "Lausanne, St-Etienne",
          "Lausanne, St-François",
          "Lausanne, St-Paul",
          "Lausanne, St-Roch",
          "Lausanne, Stade Olympique",
          "Lausanne, Stade de Coubertin",
          "Lausanne, Théâtre de Vidy",
          "Lausanne, Tivoli",
          "Lausanne, Tour Haldimand-Lac",
          "Lausanne, Trabandan",
          "Lausanne, Tunnel",
          "Lausanne, Valency",
          "Lausanne, Valentin",
          "Lausanne, Vallonnette",
          "Lausanne, Valmont",
          "Lausanne, Vennes",
          "Lausanne, Verdeil",
          "Lausanne, Vers-chez-les-Blanc",
          "Lausanne, Vert-Bois/EHL",
          "Lausanne, Victor-Ruffy",
          "Lausanne, Vidy-Port",
          "Lausanne, Vieux-Moulin",
          "Lausanne, Vigie",
          "Lausanne, Villard",
          "Lausanne, Vinet",
          "Lausanne, Virgile-Rossel",
          "Lausanne, Vuachère",
          "Lausanne, Vulliemin",
          "Lausanne, Vulliette",
          "Lausanne, avenue du Léman",
          "Lausanne, casernes",
          "Lausanne, chemin du Cap",
          "Lausanne, chemin du Village",
          "Lausanne, gare",
          "Lausanne, jardin botanique",
          "Lausanne, place du Nord",
          "Lausanne, rue Neuve",
          "Lausanne, sports UNIL-EPFL",
          "Lausanne,Vallée de la Jeunesse",
          "Lausanne-Flon",
          "Lausanne-Flon (m1)",
          "Lausanne-Flon (m2)",
          "Lausanne-Flon, pl. de l'Europe",
          "Le Mont-sur-L., Budron",
          "Le Mont-sur-L., Coppoz",
          "Le Mont-sur-L., Coppoz-Poste",
          "Le Mont-sur-L., Côtes",
          "Le Mont-sur-L., Etavez",
          "Le Mont-sur-L., Fougères",
          "Le Mont-sur-L., Grand-Mont",
          "Le Mont-sur-L., Maillefer",
          "Le Mont-sur-L., Martines",
          "Le Mont-sur-L., Petit-Mont",
          "Le Mont-sur-L., Rionzi",
          "Lutry, Bossières",
          "Lutry, Bouttettes",
          "Lutry, Bras-de-Fer",
          "Lutry, Brélaz",
          "Lutry, Brûlées",
          "Lutry, Ciblerie",
          "Lutry, Colline",
          "Lutry, Corniche",
          "Lutry, Corsy-Dessous",
          "Lutry, Corsy-Dessus",
          "Lutry, Coullènes",
          "Lutry, Croix/Lutry",
          "Lutry, Crêt-Ministre",
          "Lutry, Crêt-de-Foux",
          "Lutry, Culturaz",
          "Lutry, Echerins",
          "Lutry, Echerins/Collège",
          "Lutry, Flon-de-Vaux",
          "Lutry, Fénix",
          "Lutry, Grand-Pont",
          "Lutry, Gravesse",
          "Lutry, Jordillon",
          "Lutry, Landar",
          "Lutry, Les Champs",
          "Lutry, Les Hugonnet",
          "Lutry, Marionnettes",
          "Lutry, Mourat",
          "Lutry, Orzens",
          "Lutry, Ponfilet",
          "Lutry, Poses-Franches",
          "Lutry, Péraulaz",
          "Lutry, Rive",
          "Lutry, Sapelle",
          "Lutry, Savoie",
          "Lutry, Savuit-place",
          "Lutry, Taillepied",
          "Lutry, Voisinand",
          "Lutry, avenue William",
          "Lutry, gare",
          "Lutry, port",
          "Mex VD, En Verney",
          "Mex VD, Faraz",
          "Mex VD, Les Esserts",
          "Mex VD, Trésy",
          "Mex VD, village",
          "Montblesson, Perronnaz",
          "Ouchy",
          "Paudex, Bernadaz",
          "Paudex, Bochat",
          "Paudex, Grangette",
          "Paudex, Marronnier",
          "Paudex, Verrière",
          "Paudex, village",
          "Prilly, Cery-les-Cèdres",
          "Prilly, Cery-les-Marroniers",
          "Prilly, Chasseur",
          "Prilly, Coudraie",
          "Prilly, Flumeaux",
          "Prilly, Galicien",
          "Prilly, Galicien/aréna",
          "Prilly, Grand Vigne",
          "Prilly, Huttins",
          "Prilly, Mont-Goulin",
          "Prilly, Perréaz",
          "Prilly, centre",
          "Prilly, église",
          "Pully, Bourdonnière",
          "Pully, Boverattes",
          "Pully, Bruyère",
          "Pully, C. F. Ramuz",
          "Pully, Caudoz",
          "Pully, Chenaulaz",
          "Pully, Châtaignier",
          "Pully, Clergère",
          "Pully, Daillettes",
          "Pully, Joliette",
          "Pully, Les Liaudes",
          "Pully, Margerol",
          "Pully, Montillier",
          "Pully, Moulins",
          "Pully, Métairie",
          "Pully, Osches",
          "Pully, Pavillard",
          "Pully, Perraudettaz",
          "Pully, Pierraz-Portay",
          "Pully, Pré Pariset",
          "Pully, Préau",
          "Pully, Reymondin",
          "Pully, Rochettaz",
          "Pully, Roses",
          "Pully, Rosiaz",
          "Pully, Ruisselet",
          "Pully, Somais",
          "Pully, Tour Haldimand",
          "Pully, Val-Vert",
          "Pully, Vallon",
          "Pully, Verney",
          "Pully, Vignes",
          "Pully, centre",
          "Pully, gare",
          "Pully, port",
          "Pully,Centre Sportif Rochettaz",
          "Renens VD, 14 Avril",
          "Renens VD, 1er Août",
          "Renens VD, 1er Mai",
          "Renens VD, Avenir",
          "Renens VD, Baumettes",
          "Renens VD, Bois-Genoud",
          "Renens VD, Borjod",
          "Renens VD, Bourg-Dessus",
          "Renens VD, Broye",
          "Renens VD, Bugnon",
          "Renens VD, Caudray",
          "Renens VD, Censuy",
          "Renens VD, Chêne",
          "Renens VD, Florissant",
          "Renens VD, Follieu",
          "Renens VD, Hôtel-de-Ville",
          "Renens VD, Industrie",
          "Renens VD, Longemalle",
          "Renens VD, Perrelet",
          "Renens VD, Saugiaz",
          "Renens VD, Simplon",
          "Renens VD, Sous l'Eglise",
          "Renens VD, Sur-la-Croix",
          "Renens VD, gare",
          "Renens VD, gare nord",
          "Renens VD, gare sud",
          "Renens VD, piscine",
          "Renens VD, rue du Lac",
          "Renens VD, village",
          "Romanel-sur-Lausanne, gare",
          "St-Sulpice VD, Bochet",
          "St-Sulpice VD, Chantres",
          "St-Sulpice VD, Laviau",
          "St-Sulpice VD, Pâqueret",
          "St-Sulpice VD, Russel",
          "St-Sulpice VD, Venoge nord",
          "St-Sulpice VD, Venoge sud",
          "St-Sulpice VD, centre",
          "Vernand-Camarès, gare",
          "Villars-Ste-Croix, Colice",
          "Villars-Ste-Croix, Croix Péage",
          "Villars-Ste-Croix, En Coulaye",
          "Villars-Ste-Croix, Le Sansy",
          "Villars-Ste-Croix, village",
          "Vufflens-Aclens, zone industr.",
          "Vufflens-la-Ville, gare",
          "Vufflens-la-Ville, église"
         ],
         "lat": [
          46.505326784587716,
          46.52305581580579,
          46.524464682118555,
          46.53252235706733,
          46.51951429040541,
          46.52119209108641,
          46.514119400131506,
          46.52997418322071,
          46.52809189656726,
          46.522663915576,
          46.51728064054511,
          46.52198975890962,
          46.51837699292603,
          46.516412398287564,
          46.52219016440286,
          46.52447493884856,
          46.5224115640434,
          46.52057175268027,
          46.52060605340599,
          46.52484295419422,
          46.520224774795096,
          46.52525713953116,
          46.52139610460443,
          46.51516852438834,
          46.52640700736735,
          46.51960350312494,
          46.55761288678055,
          46.549937921958275,
          46.554728687762726,
          46.55711311188462,
          46.55550268879043,
          46.548084343647645,
          46.552318037424754,
          46.55001888056769,
          46.552194891192315,
          46.55709031605553,
          46.55352218388739,
          46.55561953382394,
          46.555253287897834,
          46.55109440420791,
          46.552753438746926,
          46.55280696664795,
          46.553659933781475,
          46.5475027212628,
          46.54464739521723,
          46.527490230863265,
          46.53234319047161,
          46.53271482596743,
          46.53015536077546,
          46.52675727165654,
          46.536282678931194,
          46.52617402195309,
          46.52856775659137,
          46.5341955280614,
          46.53358495932187,
          46.52865198879825,
          46.52421736051204,
          46.524992115589,
          46.578485513443646,
          46.57809776024438,
          46.545373148196305,
          46.550481016654786,
          46.55290086204335,
          46.55664183128656,
          46.540750151977555,
          46.550400556925574,
          46.55349256086785,
          46.560371004896815,
          46.55853386719337,
          46.5594395390554,
          46.55141209898091,
          46.54796580431889,
          46.54200600858459,
          46.550834363273545,
          46.54693011105802,
          46.54840366824516,
          46.56198389968361,
          46.543510447911466,
          46.54483515925228,
          46.548319215638486,
          46.55576439024944,
          46.54363149350904,
          46.55369333570735,
          46.546811235500165,
          46.58011316841779,
          46.52033261039717,
          46.52458595072872,
          46.52774965708211,
          46.51634077012093,
          46.53469332501055,
          46.52219591027445,
          46.518082994801574,
          46.52421295028539,
          46.537717261601344,
          46.53848495609434,
          46.51881781063151,
          46.536973386024904,
          46.526202783430136,
          46.529787723269564,
          46.52253051924508,
          46.532756154471464,
          46.53987116890482,
          46.52245077934366,
          46.531260368072424,
          46.529525056425555,
          46.53525853775227,
          46.554882053665985,
          46.55246127636377,
          46.55840441512917,
          46.54508787125117,
          46.543094577938895,
          46.54763831527977,
          46.55072797296181,
          46.54869154369361,
          46.54933810639402,
          46.55441972621364,
          46.551905565373474,
          46.54864351096378,
          46.551366647945834,
          46.552662221100654,
          46.544515152814654,
          46.55404291051968,
          46.55693853698248,
          46.561413181244156,
          46.5438892640932,
          46.54143536001569,
          46.54516382326744,
          46.544404301975334,
          46.55338209504274,
          46.502811057177965,
          46.510019948713875,
          46.54901691282579,
          46.51276507274041,
          46.541066068918234,
          46.523944420064346,
          46.51505205930224,
          46.52736002437002,
          46.52575248216641,
          46.516375023508296,
          46.50830243967109,
          46.53490929892797,
          46.52811988629551,
          46.5272762627482,
          46.522284612937085,
          46.51156687206233,
          46.53889905006263,
          46.52090332051664,
          46.519348444530166,
          46.53073728679217,
          46.52071312654874,
          46.54224396941923,
          46.51942704005187,
          46.53866252510302,
          46.53907577421807,
          46.5331094949714,
          46.51505818720111,
          46.539337206127385,
          46.52389537290392,
          46.523266041542534,
          46.52488995521234,
          46.53548068715229,
          46.53458697924102,
          46.52176341491374,
          46.5264027414397,
          46.54015574177403,
          46.523169860177084,
          46.55111231826197,
          46.56476887790924,
          46.564854382740336,
          46.53187092262983,
          46.523021778009344,
          46.51750013177145,
          46.5235945830452,
          46.5238012148865,
          46.55849730398681,
          46.536338968586264,
          46.54330122179359,
          46.54278140565046,
          46.515467061764554,
          46.56182219589809,
          46.521310515632464,
          46.52513852621091,
          46.52240928552477,
          46.51256346262689,
          46.53140180084546,
          46.51203268598026,
          46.514809591712655,
          46.520818670319244,
          46.52421904088891,
          46.51475574968287,
          46.5079251020827,
          46.5302181296985,
          46.530128330104134,
          46.529573882972365,
          46.528394080226505,
          46.51202170923233,
          46.53986831601266,
          46.52343051150603,
          46.526444546209106,
          46.524231980624826,
          46.5163299319569,
          46.51083792000811,
          46.557109887347174,
          46.54088078602392,
          46.515926702622664,
          46.526585946393894,
          46.51527719164462,
          46.524498920632126,
          46.513786168607005,
          46.516844043604806,
          46.517142090755875,
          46.5166965873729,
          46.535548243249316,
          46.538812147450344,
          46.53340454057424,
          46.5175567127911,
          46.517823780174254,
          46.51492437334443,
          46.54011003215953,
          46.52994161361114,
          46.54135899550306,
          46.536686156271905,
          46.533548278471024,
          46.52885487249891,
          46.544825866788706,
          46.524823999442596,
          46.53018001887998,
          46.52049118681984,
          46.509930277057165,
          46.512729841731975,
          46.52760642057763,
          46.53799049751212,
          46.51789838933218,
          46.53025352904524,
          46.54071620430876,
          46.53242910646312,
          46.51705113742027,
          46.51691879760631,
          46.51619383288643,
          46.51787902190735,
          46.52413444923747,
          46.56454530868881,
          46.53197187590722,
          46.516918668257865,
          46.55291470504892,
          46.518816273133226,
          46.51694863215209,
          46.53013200368531,
          46.514486327477165,
          46.51979686936538,
          46.5111229371032,
          46.521821989140996,
          46.518295103516934,
          46.543170413457574,
          46.529613639283575,
          46.53320070253603,
          46.51683453283932,
          46.50960756751623,
          46.52744197601879,
          46.53104104452585,
          46.50746864257226,
          46.52124230141048,
          46.51888647201626,
          46.50734233381607,
          46.536076564288514,
          46.53601955629552,
          46.54112241487272,
          46.52765622058895,
          46.522940043675185,
          46.534682021858686,
          46.541740223186466,
          46.520794266846714,
          46.523231692882845,
          46.5190391288019,
          46.52611544128115,
          46.5221626125757,
          46.536556231548886,
          46.56015876878983,
          46.537581396976215,
          46.52905789981525,
          46.52326153948577,
          46.5241337212826,
          46.521738317274554,
          46.526330226059315,
          46.527044583489705,
          46.50979643511767,
          46.53654770368032,
          46.51710371179415,
          46.52555167886877,
          46.51557862088254,
          46.523070269104494,
          46.52069979277918,
          46.53261242186756,
          46.52889347276936,
          46.52096277996207,
          46.522383755506134,
          46.53281388806505,
          46.51925921866468,
          46.53258479275353,
          46.51755956330723,
          46.53467806264009,
          46.51936528115063,
          46.52721501874511,
          46.52557413349888,
          46.53383201885867,
          46.515382229447376,
          46.51418805279387,
          46.52116047686537,
          46.505319720925,
          46.5145394541081,
          46.52544484596654,
          46.53158228840236,
          46.52454936559024,
          46.52845797725129,
          46.53523486952764,
          46.54129541809083,
          46.51823766729253,
          46.554778917066386,
          46.560497873137024,
          46.5316514324621,
          46.514514229374996,
          46.533240126224854,
          46.52153705667949,
          46.51955644725481,
          46.52640195797481,
          46.526154858785034,
          46.5178781475449,
          46.52772683514675,
          46.55803657935157,
          46.51569767030395,
          46.53168857241852,
          46.51462771379855,
          46.52412233787906,
          46.51760178132036,
          46.51257970915432,
          46.52493616729152,
          46.523343370348734,
          46.52105923327657,
          46.523290460886365,
          46.520800250669126,
          46.52010567630592,
          46.520225027206436,
          46.52032443771017,
          46.57549207017128,
          46.55954118351062,
          46.556910830173074,
          46.549965662347965,
          46.56617536543166,
          46.570988391756025,
          46.56300726025212,
          46.54245502339034,
          46.546332935789756,
          46.55354605146338,
          46.543451432856564,
          46.50976755291357,
          46.508914103822626,
          46.512163201358135,
          46.51318082157309,
          46.51444818491392,
          46.504970095964914,
          46.510631378063955,
          46.50069866176528,
          46.51357846864984,
          46.51487002034751,
          46.52138391879621,
          46.51711061015259,
          46.51982210602376,
          46.521109178386276,
          46.50395113914983,
          46.51846476059874,
          46.52409524650482,
          46.51091223679332,
          46.50684055537377,
          46.50411133196771,
          46.511315535632114,
          46.50910275236407,
          46.51774641054234,
          46.50475397561991,
          46.522466135527054,
          46.51265832891642,
          46.50962962738445,
          46.50698865853239,
          46.51311944210812,
          46.51906606813419,
          46.51742811670202,
          46.501372581093655,
          46.51191974255915,
          46.516118792850484,
          46.50727244056566,
          46.504435429565405,
          46.50367914221162,
          46.50942440569307,
          46.50378595916846,
          46.50181998144419,
          46.571138606944615,
          46.56621880831494,
          46.57647982712675,
          46.57542185444928,
          46.57807695710475,
          46.54241411667021,
          46.50740530362495,
          46.51090425533404,
          46.50825029501875,
          46.510251739411416,
          46.505738313528724,
          46.5058077168301,
          46.50666603340664,
          46.54753508247013,
          46.544591046911414,
          46.53914268807974,
          46.54028968211489,
          46.52995899032867,
          46.52809480548806,
          46.52838278210059,
          46.53172843617947,
          46.53323652303582,
          46.53862649015892,
          46.53695301795738,
          46.53487098542631,
          46.53896920181397,
          46.506530182978196,
          46.51632480796197,
          46.523943110568986,
          46.5095370186102,
          46.51181757337021,
          46.52705922777306,
          46.50646342177072,
          46.51120658067058,
          46.52298415632625,
          46.50989596218756,
          46.51784445836704,
          46.519934718848454,
          46.512364417536645,
          46.508409610469045,
          46.51007016153065,
          46.50886837219621,
          46.519720272692155,
          46.514041395140914,
          46.50936921507795,
          46.51907658232266,
          46.51013183816815,
          46.50924339435604,
          46.514122000888975,
          46.51509194184851,
          46.5215986646449,
          46.512834350835625,
          46.506705028963545,
          46.50662756372486,
          46.52189215673334,
          46.51804258174806,
          46.50647111038738,
          46.507218505275844,
          46.510124366905465,
          46.51032141089048,
          46.50626386407182,
          46.51177433369477,
          46.5393201363406,
          46.536746999535,
          46.54073323456168,
          46.53839442206127,
          46.543781321951066,
          46.54629954148989,
          46.53959473949836,
          46.538228038170956,
          46.53541035775153,
          46.53983014077604,
          46.53172923994986,
          46.532380264052314,
          46.52905289276526,
          46.53241808569058,
          46.539671460993524,
          46.536026247536554,
          46.541056650334774,
          46.52557468991172,
          46.530144453225844,
          46.54027856159833,
          46.534291054345125,
          46.535069442065705,
          46.541035735790835,
          46.53748150120685,
          46.5375450523701,
          46.536618562121916,
          46.530401968888505,
          46.52739557884006,
          46.532675976642544,
          46.56270097712048,
          46.5133371560909,
          46.51048420043901,
          46.511280040498086,
          46.51665137152476,
          46.515134731924796,
          46.513822744949955,
          46.512829731820894,
          46.51007893301721,
          46.56995120552486,
          46.56253584542762,
          46.56116238724293,
          46.56599877405605,
          46.56815061493981,
          46.56802382624251,
          46.56477291336408,
          46.57717759642328,
          46.57700742616709
         ],
         "legendgroup": "TL",
         "lon": [
          6.711357191449385,
          6.678119533022935,
          6.685685015283394,
          6.694814629754814,
          6.683942530495115,
          6.672541826257908,
          6.67360632950752,
          6.6889972198340555,
          6.684604790195125,
          6.685449447098423,
          6.676819452612046,
          6.682826261735864,
          6.680674419500143,
          6.678812437545404,
          6.680503651925827,
          6.688591268684656,
          6.67729450625041,
          6.6846836349471985,
          6.676355551149121,
          6.691192811711163,
          6.67718195434664,
          6.68175093332927,
          6.674780515652149,
          6.6771098372883815,
          6.688277715070415,
          6.678441779296739,
          6.5601963508371615,
          6.563528853492318,
          6.561821168602274,
          6.553762095259925,
          6.5607001333912685,
          6.563480639591005,
          6.551441247689841,
          6.551935384515484,
          6.54720524125523,
          6.5624218597455055,
          6.559363075708922,
          6.553734394699014,
          6.5506105967513575,
          6.545684698138013,
          6.561162094242082,
          6.549542385207255,
          6.557404770270198,
          6.552289609905032,
          6.605258555138089,
          6.574971260323647,
          6.574320159721631,
          6.569973444786963,
          6.5729082905317595,
          6.583911194623159,
          6.576577599853879,
          6.5793455684748965,
          6.572347173103805,
          6.573026073100299,
          6.579097384192819,
          6.58345109896752,
          6.584707286509311,
          6.578895151801527,
          6.605780033010988,
          6.592270104907647,
          6.567722919241004,
          6.57927193430117,
          6.580446182146426,
          6.579069602733032,
          6.579661352864632,
          6.576965204581539,
          6.569535048220825,
          6.576141021698625,
          6.573522914805662,
          6.581437814378597,
          6.5704030654405905,
          6.570301975094961,
          6.57326601256219,
          6.5724987044342695,
          6.5748691516720985,
          6.573450408130734,
          6.577667313985899,
          6.57946101889275,
          6.575019984625308,
          6.567114750870033,
          6.573697672784949,
          6.570541118826243,
          6.5769909297239195,
          6.579356377964512,
          6.635670992495257,
          6.571866617930086,
          6.564590945898884,
          6.566547049552765,
          6.5500899435567765,
          6.5663698259327,
          6.566141397820636,
          6.56358837529056,
          6.557076749150456,
          6.57358238233915,
          6.575160575521434,
          6.552785960860003,
          6.568066864709049,
          6.558451948926345,
          6.566018848936407,
          6.554745225591768,
          6.562477441880304,
          6.570549376007095,
          6.573579060234286,
          6.564496046668102,
          6.5611220806208825,
          6.563831724149807,
          6.669860176634202,
          6.6684080741726275,
          6.662650327197121,
          6.654444999507224,
          6.661540363435037,
          6.670902046721354,
          6.671497074363182,
          6.659125867013801,
          6.673498766290361,
          6.684080791597087,
          6.68073860569777,
          6.674551724757158,
          6.662229832076035,
          6.663567371460315,
          6.66669603038524,
          6.665516650952148,
          6.674656083177061,
          6.667210963659548,
          6.672572015570449,
          6.671537750822488,
          6.676152478906679,
          6.658379364605761,
          6.676884086501259,
          6.714661037913501,
          6.627395707761078,
          6.601240272032822,
          6.678225214604862,
          6.647880459433397,
          6.6475705248275485,
          6.636715539399574,
          6.619275959084076,
          6.636022403594198,
          6.612965878707178,
          6.627499653840531,
          6.620738830731776,
          6.623604813449963,
          6.626393765314147,
          6.629075320450442,
          6.617339266843066,
          6.633949846167843,
          6.617132251261354,
          6.63745978736287,
          6.618546949123086,
          6.637074654889014,
          6.621136273264881,
          6.599795949575212,
          6.622246426646634,
          6.646279991665431,
          6.619410391742222,
          6.650424030776439,
          6.617256152874263,
          6.6228604586718545,
          6.589805203035486,
          6.58921926429905,
          6.663696485310068,
          6.613495848228103,
          6.647002945375755,
          6.641486906303485,
          6.641205792742401,
          6.655219147114283,
          6.691350919199841,
          6.691448895993894,
          6.693508489721799,
          6.650296130595175,
          6.653318494238825,
          6.644550288469443,
          6.6248199574239885,
          6.627293136689102,
          6.696726113811535,
          6.640857996474552,
          6.647182821405725,
          6.638481284974817,
          6.633073710554888,
          6.682542734530358,
          6.610036367147301,
          6.613144814490349,
          6.658423187084571,
          6.625806923746921,
          6.659218837721681,
          6.62958065195669,
          6.619153430725553,
          6.622854761021067,
          6.637987119043861,
          6.625422126873046,
          6.638971074392431,
          6.651949566098459,
          6.616444576666685,
          6.62815799566585,
          6.630495776516376,
          6.628043244829774,
          6.612346168875297,
          6.620769157405295,
          6.622066026445037,
          6.617146827527177,
          6.641883034680005,
          6.632347856285145,
          6.684134498601809,
          6.63178223167561,
          6.625626043100477,
          6.656173227780459,
          6.648283751148118,
          6.649686826782073,
          6.646038214827618,
          6.610665178900451,
          6.648673491948306,
          6.618851166533257,
          6.633347945440519,
          6.651055283828123,
          6.660037250928987,
          6.629641324834574,
          6.638120934924372,
          6.628872796791182,
          6.646238751406794,
          6.631789128729018,
          6.63324830872435,
          6.618886866808718,
          6.619129995527441,
          6.66037651577529,
          6.684814534201575,
          6.66159452053987,
          6.636230378269013,
          6.649041579669948,
          6.6274361425475465,
          6.636541498600419,
          6.658048379413475,
          6.639047613383673,
          6.617099725466848,
          6.657071653541161,
          6.64415695530538,
          6.6375135365972895,
          6.604550227039049,
          6.606129078695891,
          6.605410489257409,
          6.602139616978338,
          6.602564141481339,
          6.6889216820954145,
          6.654478902585297,
          6.634798291649499,
          6.693203746657515,
          6.64109053845555,
          6.615146406150243,
          6.626950440124362,
          6.631785239158956,
          6.629659927476195,
          6.637021389894944,
          6.613560376509571,
          6.608570896531949,
          6.643912264792979,
          6.61370212138234,
          6.633408996996849,
          6.647140282150639,
          6.635180614707675,
          6.633234113080209,
          6.629530722056605,
          6.626639207903287,
          6.640676801634746,
          6.5936271813162985,
          6.632895091066393,
          6.615454588844469,
          6.623759428326276,
          6.634138369099671,
          6.635537942213409,
          6.633952837750231,
          6.6166751193627755,
          6.6362673063820194,
          6.637099516404386,
          6.624395332980925,
          6.6180988832292575,
          6.651878945927873,
          6.627109208609941,
          6.648767730386364,
          6.69629899685949,
          6.667016702939134,
          6.621439995641931,
          6.608651026996367,
          6.606135256458603,
          6.608257370483629,
          6.612487960977862,
          6.606833356097529,
          6.620076348066154,
          6.612201398611277,
          6.632984164258162,
          6.618013051219295,
          6.616027330490845,
          6.632022027060022,
          6.655776239366662,
          6.631644972579686,
          6.65552720805841,
          6.634216855702754,
          6.595748992522875,
          6.646189309578407,
          6.646531371972989,
          6.64045718400786,
          6.599082122614956,
          6.649055896304681,
          6.633484770943181,
          6.61788352547764,
          6.626132606292008,
          6.62606059438344,
          6.602699494227868,
          6.611604981723173,
          6.621598484730223,
          6.64074241507208,
          6.6444113458965655,
          6.634502053866642,
          6.611025966427986,
          6.631283123960737,
          6.648508093026922,
          6.6554092390517,
          6.657615948052487,
          6.649686987938624,
          6.694886320159745,
          6.684960974612129,
          6.648487473237514,
          6.607000084202865,
          6.630097425436073,
          6.623925622314335,
          6.623720895323963,
          6.628674773269505,
          6.648489627667474,
          6.65232462600375,
          6.634077080762722,
          6.681448095167026,
          6.645371663831716,
          6.6282435976078835,
          6.649322684391878,
          6.657668603593549,
          6.62965368197985,
          6.623057263405929,
          6.6376245954864554,
          6.631209906407486,
          6.585838873149353,
          6.6076861397778615,
          6.630335627073175,
          6.630072336725723,
          6.630409389674602,
          6.630473064616798,
          6.633535008522489,
          6.635950718460932,
          6.635455120225,
          6.631620473740334,
          6.633986928806465,
          6.634006527775652,
          6.63250814788452,
          6.626726212506945,
          6.631857273683911,
          6.6341489597470185,
          6.632734719772801,
          6.696964888807992,
          6.705445706313886,
          6.700137446166291,
          6.697543518916792,
          6.690528635214105,
          6.688366773081561,
          6.679323674105725,
          6.694079950499464,
          6.680129264757765,
          6.686300801027735,
          6.694603009067993,
          6.702845534057115,
          6.693764393835083,
          6.6911271542988935,
          6.688003094292254,
          6.700807187250174,
          6.700652121986407,
          6.691815407488561,
          6.680145621271185,
          6.6809786331976495,
          6.695692772478087,
          6.708192358563779,
          6.690026882987482,
          6.686975731357493,
          6.703293931108281,
          6.685145821762788,
          6.686947029951744,
          6.683465929798948,
          6.689569741645611,
          6.69097296351641,
          6.681378393326584,
          6.689862756119478,
          6.704206169666001,
          6.701112863296209,
          6.6937288362932215,
          6.685064993274074,
          6.68632623776471,
          6.681790182385393,
          6.690233206905465,
          6.684072255384483,
          6.552671361362222,
          6.5505085808673815,
          6.566295005245749,
          6.562085300225866,
          6.554123090944852,
          6.6792942095604015,
          6.6265880424881045,
          6.6730785109232285,
          6.674392961255495,
          6.673700149980495,
          6.675418648185158,
          6.67104002672177,
          6.672917031931323,
          6.6077044367308595,
          6.60984885235948,
          6.606608021601741,
          6.609680156165988,
          6.600675261565543,
          6.6040669820982,
          6.601638164741159,
          6.603958731908137,
          6.6084196232123436,
          6.611061487005326,
          6.602444041804813,
          6.605578779841304,
          6.598932016470853,
          6.646587565580432,
          6.665847596155375,
          6.663014757261613,
          6.648185249701605,
          6.667136860272328,
          6.672797538537136,
          6.653806549568915,
          6.661972665881726,
          6.666182466748293,
          6.653235531943572,
          6.656560393923926,
          6.660948039812723,
          6.657656034183158,
          6.6700128564619146,
          6.64081563511572,
          6.654240699013004,
          6.6585401927252565,
          6.65428291597401,
          6.643484018024766,
          6.6670202218003904,
          6.656124713598186,
          6.665623079900718,
          6.663390220221624,
          6.656600215115785,
          6.6622143183249065,
          6.664529300232438,
          6.657529319465363,
          6.642508080581785,
          6.666993060029455,
          6.667100140108697,
          6.649728395113107,
          6.665508711576937,
          6.660268285234391,
          6.658832169802723,
          6.661405254906462,
          6.670043198423991,
          6.579710157034854,
          6.5820584793227885,
          6.583377242397835,
          6.583401220192054,
          6.590356474698091,
          6.584267031310512,
          6.588701312806733,
          6.594823956844971,
          6.598205155987911,
          6.596141753298179,
          6.585918180387197,
          6.583965657136456,
          6.590118389955451,
          6.598668814365065,
          6.592950165687719,
          6.58669772785952,
          6.580934140731431,
          6.596598551170597,
          6.598990912280548,
          6.586317797068468,
          6.582058297369896,
          6.588668194201955,
          6.593737128428376,
          6.5780707094848125,
          6.579334238214424,
          6.579348969785698,
          6.585274347401455,
          6.592255920713682,
          6.592212333370035,
          6.603819228749401,
          6.559469297773421,
          6.553534904003516,
          6.550616135861815,
          6.570453079884841,
          6.5639097468692285,
          6.545622652050942,
          6.546329675355274,
          6.558102013553923,
          6.604959409478178,
          6.566298465209233,
          6.565512027157921,
          6.559225193984523,
          6.565281665205171,
          6.561670561000881,
          6.524746059566115,
          6.531346238984005,
          6.5393594027377135
         ],
         "marker": {
          "color": "#636efa"
         },
         "mode": "markers",
         "name": "TL",
         "showlegend": true,
         "subplot": "mapbox",
         "type": "scattermapbox"
        },
        {
         "hovertemplate": "<b>%{hovertext}</b><br><br>company_name=SBB<br>lat=%{lat}<br>lon=%{lon}<extra></extra>",
         "hovertext": [
          "Archy (bif)",
          "Archy A (bif)",
          "Bossière",
          "Bussigny",
          "Bussigny Est (bif)",
          "Bussigny-Scheuchzer (bif)",
          "Denges A (bif)",
          "Denges B (bif)",
          "Denges-Echandens",
          "La Conversion",
          "Lausanne",
          "Lausanne (bif)",
          "Lausanne Est",
          "Lausanne Paleyres",
          "Lausanne TRIDEL",
          "Lausanne-Sébeillon",
          "Lausanne-Triage",
          "Lausanne-Triage A/B",
          "Lausanne-Triage B",
          "Lausanne-Triage C",
          "Lausanne-Triage D",
          "Lausanne-Triage Est",
          "Lausanne-Triage F",
          "Lausanne-Triage K",
          "Lausanne-Triage Nord",
          "Lausanne-Triage Ouest",
          "Lausanne-Triage P1",
          "Lausanne-Triage SALT",
          "Lausanne-Triage Sud",
          "Lausanne-Triage sectionnement",
          "Lonay A (bif)",
          "Lonay B (bif)",
          "Lonay-Préverenges",
          "Lutry",
          "Lécheires (bif)",
          "Malley (B)",
          "Prilly-Malley",
          "Pully",
          "Pully-Nord",
          "Renens VD",
          "Renens VD Entrepôts",
          "Renens VD Est (bif)",
          "Renens VD Larges Pièces (embr)",
          "Renens VD Ouest (bif)",
          "Taillepied (diag)",
          "Villette VD",
          "Vufflens-la-Ville",
          "Vufflens-la-Ville coté BY (B)",
          "Vufflens-la-Ville coté COS (B)"
         ],
         "lat": [
          46.54223656919311,
          46.543489593342386,
          46.50974696958683,
          46.5475891073928,
          46.54495963492394,
          46.544874392256645,
          46.529554048526215,
          46.53077044203845,
          46.52912986732329,
          46.51308060275005,
          46.516788130312484,
          46.520877398533045,
          46.51419927682214,
          46.51300753653868,
          46.53350186881525,
          46.52427751164492,
          46.52715915017575,
          46.52979589898843,
          46.528067852150116,
          46.530839259392266,
          46.53243357559069,
          46.535682008006745,
          46.52531039563873,
          46.52404503713871,
          46.539030469202324,
          46.52415457222741,
          46.52572951258422,
          46.52349279197558,
          46.52498486031702,
          46.52106855233141,
          46.52361213015707,
          46.524808514320355,
          46.523132472527486,
          46.50378845186236,
          46.53478912836078,
          46.525000768985166,
          46.52668982155703,
          46.510919478874236,
          46.51467868372711,
          46.53703826915346,
          46.534826581825264,
          46.53325821444536,
          46.540099003957714,
          46.54079152253855,
          46.505844757265415,
          46.4954235623091,
          46.57624631972227,
          46.56836079635175,
          46.57623742902411
         ],
         "legendgroup": "SBB",
         "lon": [
          6.5587905218738065,
          6.5637766992351425,
          6.699323529467779,
          6.55183182882155,
          6.558433263313064,
          6.555566223901556,
          6.541817325893377,
          6.544338956074313,
          6.540507874651453,
          6.678325019744914,
          6.6290924759666545,
          6.616037921973442,
          6.634434772223374,
          6.638921957883527,
          6.645514415279655,
          6.611033544755306,
          6.539302381557788,
          6.54396403907772,
          6.539313331382609,
          6.545080809628027,
          6.547622412205051,
          6.553474213587812,
          6.529701280440317,
          6.5267248866052485,
          6.556026749623707,
          6.523568961361626,
          6.528117149450258,
          6.5274119294891,
          6.533994796961072,
          6.521301386470667,
          6.521010592512199,
          6.52433990401863,
          6.519545989368778,
          6.690610989676997,
          6.550881659503884,
          6.607829281691073,
          6.602628885254736,
          6.659462010715067,
          6.657987464321825,
          6.578938168575626,
          6.582688565698789,
          6.587067247610913,
          6.574469891961416,
          6.5720860299064965,
          6.681905436061722,
          6.707374128307593,
          6.530761771669815,
          6.529029016785845,
          6.530774967049356
         ],
         "marker": {
          "color": "#EF553B"
         },
         "mode": "markers",
         "name": "SBB",
         "showlegend": true,
         "subplot": "mapbox",
         "type": "scattermapbox"
        },
        {
         "hovertemplate": "<b>%{hovertext}</b><br><br>company_name=LEB<br>lat=%{lat}<br>lon=%{lon}<extra></extra>",
         "hovertext": [
          "Bel-Air LEB",
          "Cery-Fleur-de-Lys",
          "Jouxtens-Mézery",
          "Lausanne-Chauderon",
          "Lausanne-Flon (LEB)",
          "Le Lussex",
          "Prilly-Chasseur",
          "Romanel-sur-Lausanne",
          "Union-Prilly",
          "Vernand-Camarès"
         ],
         "lat": [
          46.57868158691012,
          46.5445826106184,
          46.548336556726746,
          46.523225662225535,
          46.52051277821012,
          46.556877064955714,
          46.53965252624522,
          46.56247130405969,
          46.534722293799405,
          46.57093960931311
         ],
         "legendgroup": "LEB",
         "lon": [
          6.6055291277819,
          6.605011829484578,
          6.601694144856327,
          6.626063643963096,
          6.6303920549488815,
          6.600909771694073,
          6.607434536930307,
          6.603170655084413,
          6.609843768608344,
          6.6048006624075954
         ],
         "marker": {
          "color": "#00cc96"
         },
         "mode": "markers",
         "name": "LEB",
         "showlegend": true,
         "subplot": "mapbox",
         "type": "scattermapbox"
        },
        {
         "hovertemplate": "<b>%{hovertext}</b><br><br>company_name=MBC<br>lat=%{lat}<br>lon=%{lon}<extra></extra>",
         "hovertext": [
          "Bremblens, bas du village",
          "Bussigny, Bosquet",
          "Bussigny, Reculan",
          "Bussigny, Vallon",
          "Bussigny, gare sud",
          "Denges, La Pale",
          "Denges, Les Oches",
          "Denges, Pierraz-Mur",
          "Denges, Sur les Moulins",
          "Denges, village",
          "Echandens, Chocolatière",
          "Echandens, Riaz",
          "Echandens, centre",
          "Echandens, collège",
          "Echandens, poste",
          "Ecublens VD, Blévallaire",
          "Ecublens VD, Champagne",
          "Ecublens VD, Cocarde",
          "Ecublens VD, Coquerellaz",
          "Ecublens VD, EPFL (bus)",
          "Ecublens VD, EPFL Piccard",
          "Ecublens VD, Larges Pièces",
          "Ecublens VD, Motty",
          "Ecublens VD, Ormet",
          "Ecublens VD, allée de Dorigny",
          "Lonay, Carouge",
          "Lonay, Levant",
          "Lonay, Vozy",
          "Lonay, collège nord",
          "Lonay, collège sud",
          "Lonay, gare",
          "Lonay, parc",
          "Lonay, église",
          "Préverenges, Capellan",
          "Préverenges, Taudaz",
          "Préverenges, village",
          "Romanel-sur-M., Moulin-du-Choc",
          "St-Sulpice VD, Castolin",
          "St-Sulpice VD, En Champagny",
          "St-Sulpice VD, Ochettaz-Ormet",
          "St-Sulpice VD, Parc Scient.",
          "St-Sulpice VD, Pré-Fleuri"
         ],
         "lat": [
          46.54477309729402,
          46.545460350601964,
          46.54170861639216,
          46.54388403960928,
          46.54695137821476,
          46.51896019357437,
          46.525820090513385,
          46.515154838606655,
          46.514862313989774,
          46.52305823816812,
          46.536465475351704,
          46.536664015785696,
          46.53460388271976,
          46.53240031300536,
          46.53013336566369,
          46.51950107925,
          46.51854871535481,
          46.52796337046594,
          46.52374480131767,
          46.52205759919677,
          46.52036944064531,
          46.53174277787409,
          46.5258760961862,
          46.52360615079551,
          46.52048334409465,
          46.52681067385667,
          46.52280337342055,
          46.52805334606262,
          46.52471506105016,
          46.524585906396965,
          46.52320756676826,
          46.52840778293661,
          46.52649762159604,
          46.519557673533384,
          46.517810007863964,
          46.5173393697413,
          46.56276137223728,
          46.51342401796864,
          46.51384086801554,
          46.51379942052275,
          46.516582129619145,
          46.51514443868218
         ],
         "legendgroup": "MBC",
         "lon": [
          6.514588419458228,
          6.554565725446675,
          6.554522802560195,
          6.553157326203311,
          6.551959644540189,
          6.542279767996452,
          6.541748936975763,
          6.536609135496726,
          6.541696150092352,
          6.5406087483327635,
          6.5466825079489865,
          6.542194725406194,
          6.541055667696309,
          6.541118332330079,
          6.541129905017069,
          6.577262233788732,
          6.57387607380221,
          6.560430551250507,
          6.5605121192386955,
          6.5668734666299855,
          6.5684515436028725,
          6.555924158404736,
          6.561572328940204,
          6.55887219087143,
          6.582237988040274,
          6.526078666105348,
          6.5155764988613365,
          6.529589985647305,
          6.519453914834223,
          6.521280799698439,
          6.521043526008309,
          6.516653893770514,
          6.5207269992306225,
          6.525823157329829,
          6.517733817535222,
          6.526290657406674,
          6.521845485670725,
          6.546398052115967,
          6.550222243067489,
          6.55643863031894,
          6.563782076778429,
          6.560508462879788
         ],
         "marker": {
          "color": "#ab63fa"
         },
         "mode": "markers",
         "name": "MBC",
         "showlegend": true,
         "subplot": "mapbox",
         "type": "scattermapbox"
        },
        {
         "hovertemplate": "<b>%{hovertext}</b><br><br>company_name=PAG<br>lat=%{lat}<br>lon=%{lon}<extra></extra>",
         "hovertext": [
          "Grandvaux, Crêt-Mouton",
          "Grandvaux, Genevrey",
          "Grandvaux, Le Bougnon",
          "Grandvaux, Le Signal",
          "Lausanne, Chalet-Fontaine",
          "Lausanne, Rovéréaz",
          "Lausanne, Ste-Catherine",
          "Montblesson, Centenaire",
          "Pully, Monts-de-Pully",
          "Pully, Ravessoud",
          "Pully, Trois-Chasseurs",
          "Savigny, Claie-aux-Moines",
          "Savigny, Publoz"
         ],
         "lat": [
          46.508812882029815,
          46.498781591110706,
          46.49485734880095,
          46.504747773611115,
          46.56775559481226,
          46.53272835391007,
          46.5709710381593,
          46.53661965904165,
          46.53597190160384,
          46.53917514088077,
          46.534360928597344,
          46.540634194353025,
          46.54183318974649
         ],
         "legendgroup": "PAG",
         "lon": [
          6.717720734196449,
          6.7161870350620445,
          6.715874737132626,
          6.715065039444638,
          6.699703292159289,
          6.667724721921511,
          6.708646847049509,
          6.677798268523812,
          6.688601149867501,
          6.69691320900258,
          6.684426063403738,
          6.704089624449201,
          6.715689569181506
         ],
         "marker": {
          "color": "#FFA15A"
         },
         "mode": "markers",
         "name": "PAG",
         "showlegend": true,
         "subplot": "mapbox",
         "type": "scattermapbox"
        },
        {
         "hovertemplate": "<b>%{hovertext}</b><br><br>company_name=CGN<br>lat=%{lat}<br>lon=%{lon}<extra></extra>",
         "hovertext": [
          "Lausanne-Ouchy (lac)",
          "Lutry (lac)",
          "Pully (lac)",
          "St-Sulpice VD (lac)"
         ],
         "lat": [
          46.505662022108694,
          46.501226125642084,
          46.505399524957646,
          46.50852124472589
         ],
         "legendgroup": "CGN",
         "lon": [
          6.626861769803414,
          6.684054487670196,
          6.661300422326532,
          6.56141082573061
         ],
         "marker": {
          "color": "#19d3f3"
         },
         "mode": "markers",
         "name": "CGN",
         "showlegend": true,
         "subplot": "mapbox",
         "type": "scattermapbox"
        },
        {
         "hovertemplate": "<b>%{hovertext}</b><br><br>company_name=TPF<br>lat=%{lat}<br>lon=%{lon}<extra></extra>",
         "hovertext": [
          "Villette (Lavaux), gare"
         ],
         "lat": [
          46.49556404007787
         ],
         "legendgroup": "TPF",
         "lon": [
          6.7068381553184215
         ],
         "marker": {
          "color": "#FF6692"
         },
         "mode": "markers",
         "name": "TPF",
         "showlegend": true,
         "subplot": "mapbox",
         "type": "scattermapbox"
        }
       ],
       "layout": {
        "autosize": true,
        "height": 800,
        "hovermode": "closest",
        "legend": {
         "title": {
          "text": "company_name"
         },
         "tracegroupgap": 0
        },
        "mapbox": {
         "bearing": 0,
         "center": {
          "lat": 46.52097182546228,
          "lon": 6.633647865079138
         },
         "domain": {
          "x": [
           0,
           1
          ],
          "y": [
           0,
           1
          ]
         },
         "pitch": 0,
         "style": "open-street-map",
         "zoom": 11
        },
        "margin": {
         "t": 60
        },
        "template": {
         "data": {
          "bar": [
           {
            "error_x": {
             "color": "#2a3f5f"
            },
            "error_y": {
             "color": "#2a3f5f"
            },
            "marker": {
             "line": {
              "color": "#E5ECF6",
              "width": 0.5
             },
             "pattern": {
              "fillmode": "overlay",
              "size": 10,
              "solidity": 0.2
             }
            },
            "type": "bar"
           }
          ],
          "barpolar": [
           {
            "marker": {
             "line": {
              "color": "#E5ECF6",
              "width": 0.5
             },
             "pattern": {
              "fillmode": "overlay",
              "size": 10,
              "solidity": 0.2
             }
            },
            "type": "barpolar"
           }
          ],
          "carpet": [
           {
            "aaxis": {
             "endlinecolor": "#2a3f5f",
             "gridcolor": "white",
             "linecolor": "white",
             "minorgridcolor": "white",
             "startlinecolor": "#2a3f5f"
            },
            "baxis": {
             "endlinecolor": "#2a3f5f",
             "gridcolor": "white",
             "linecolor": "white",
             "minorgridcolor": "white",
             "startlinecolor": "#2a3f5f"
            },
            "type": "carpet"
           }
          ],
          "choropleth": [
           {
            "colorbar": {
             "outlinewidth": 0,
             "ticks": ""
            },
            "type": "choropleth"
           }
          ],
          "contour": [
           {
            "colorbar": {
             "outlinewidth": 0,
             "ticks": ""
            },
            "colorscale": [
             [
              0,
              "#0d0887"
             ],
             [
              0.1111111111111111,
              "#46039f"
             ],
             [
              0.2222222222222222,
              "#7201a8"
             ],
             [
              0.3333333333333333,
              "#9c179e"
             ],
             [
              0.4444444444444444,
              "#bd3786"
             ],
             [
              0.5555555555555556,
              "#d8576b"
             ],
             [
              0.6666666666666666,
              "#ed7953"
             ],
             [
              0.7777777777777778,
              "#fb9f3a"
             ],
             [
              0.8888888888888888,
              "#fdca26"
             ],
             [
              1,
              "#f0f921"
             ]
            ],
            "type": "contour"
           }
          ],
          "contourcarpet": [
           {
            "colorbar": {
             "outlinewidth": 0,
             "ticks": ""
            },
            "type": "contourcarpet"
           }
          ],
          "heatmap": [
           {
            "colorbar": {
             "outlinewidth": 0,
             "ticks": ""
            },
            "colorscale": [
             [
              0,
              "#0d0887"
             ],
             [
              0.1111111111111111,
              "#46039f"
             ],
             [
              0.2222222222222222,
              "#7201a8"
             ],
             [
              0.3333333333333333,
              "#9c179e"
             ],
             [
              0.4444444444444444,
              "#bd3786"
             ],
             [
              0.5555555555555556,
              "#d8576b"
             ],
             [
              0.6666666666666666,
              "#ed7953"
             ],
             [
              0.7777777777777778,
              "#fb9f3a"
             ],
             [
              0.8888888888888888,
              "#fdca26"
             ],
             [
              1,
              "#f0f921"
             ]
            ],
            "type": "heatmap"
           }
          ],
          "heatmapgl": [
           {
            "colorbar": {
             "outlinewidth": 0,
             "ticks": ""
            },
            "colorscale": [
             [
              0,
              "#0d0887"
             ],
             [
              0.1111111111111111,
              "#46039f"
             ],
             [
              0.2222222222222222,
              "#7201a8"
             ],
             [
              0.3333333333333333,
              "#9c179e"
             ],
             [
              0.4444444444444444,
              "#bd3786"
             ],
             [
              0.5555555555555556,
              "#d8576b"
             ],
             [
              0.6666666666666666,
              "#ed7953"
             ],
             [
              0.7777777777777778,
              "#fb9f3a"
             ],
             [
              0.8888888888888888,
              "#fdca26"
             ],
             [
              1,
              "#f0f921"
             ]
            ],
            "type": "heatmapgl"
           }
          ],
          "histogram": [
           {
            "marker": {
             "pattern": {
              "fillmode": "overlay",
              "size": 10,
              "solidity": 0.2
             }
            },
            "type": "histogram"
           }
          ],
          "histogram2d": [
           {
            "colorbar": {
             "outlinewidth": 0,
             "ticks": ""
            },
            "colorscale": [
             [
              0,
              "#0d0887"
             ],
             [
              0.1111111111111111,
              "#46039f"
             ],
             [
              0.2222222222222222,
              "#7201a8"
             ],
             [
              0.3333333333333333,
              "#9c179e"
             ],
             [
              0.4444444444444444,
              "#bd3786"
             ],
             [
              0.5555555555555556,
              "#d8576b"
             ],
             [
              0.6666666666666666,
              "#ed7953"
             ],
             [
              0.7777777777777778,
              "#fb9f3a"
             ],
             [
              0.8888888888888888,
              "#fdca26"
             ],
             [
              1,
              "#f0f921"
             ]
            ],
            "type": "histogram2d"
           }
          ],
          "histogram2dcontour": [
           {
            "colorbar": {
             "outlinewidth": 0,
             "ticks": ""
            },
            "colorscale": [
             [
              0,
              "#0d0887"
             ],
             [
              0.1111111111111111,
              "#46039f"
             ],
             [
              0.2222222222222222,
              "#7201a8"
             ],
             [
              0.3333333333333333,
              "#9c179e"
             ],
             [
              0.4444444444444444,
              "#bd3786"
             ],
             [
              0.5555555555555556,
              "#d8576b"
             ],
             [
              0.6666666666666666,
              "#ed7953"
             ],
             [
              0.7777777777777778,
              "#fb9f3a"
             ],
             [
              0.8888888888888888,
              "#fdca26"
             ],
             [
              1,
              "#f0f921"
             ]
            ],
            "type": "histogram2dcontour"
           }
          ],
          "mesh3d": [
           {
            "colorbar": {
             "outlinewidth": 0,
             "ticks": ""
            },
            "type": "mesh3d"
           }
          ],
          "parcoords": [
           {
            "line": {
             "colorbar": {
              "outlinewidth": 0,
              "ticks": ""
             }
            },
            "type": "parcoords"
           }
          ],
          "pie": [
           {
            "automargin": true,
            "type": "pie"
           }
          ],
          "scatter": [
           {
            "fillpattern": {
             "fillmode": "overlay",
             "size": 10,
             "solidity": 0.2
            },
            "type": "scatter"
           }
          ],
          "scatter3d": [
           {
            "line": {
             "colorbar": {
              "outlinewidth": 0,
              "ticks": ""
             }
            },
            "marker": {
             "colorbar": {
              "outlinewidth": 0,
              "ticks": ""
             }
            },
            "type": "scatter3d"
           }
          ],
          "scattercarpet": [
           {
            "marker": {
             "colorbar": {
              "outlinewidth": 0,
              "ticks": ""
             }
            },
            "type": "scattercarpet"
           }
          ],
          "scattergeo": [
           {
            "marker": {
             "colorbar": {
              "outlinewidth": 0,
              "ticks": ""
             }
            },
            "type": "scattergeo"
           }
          ],
          "scattergl": [
           {
            "marker": {
             "colorbar": {
              "outlinewidth": 0,
              "ticks": ""
             }
            },
            "type": "scattergl"
           }
          ],
          "scattermapbox": [
           {
            "marker": {
             "colorbar": {
              "outlinewidth": 0,
              "ticks": ""
             }
            },
            "type": "scattermapbox"
           }
          ],
          "scatterpolar": [
           {
            "marker": {
             "colorbar": {
              "outlinewidth": 0,
              "ticks": ""
             }
            },
            "type": "scatterpolar"
           }
          ],
          "scatterpolargl": [
           {
            "marker": {
             "colorbar": {
              "outlinewidth": 0,
              "ticks": ""
             }
            },
            "type": "scatterpolargl"
           }
          ],
          "scatterternary": [
           {
            "marker": {
             "colorbar": {
              "outlinewidth": 0,
              "ticks": ""
             }
            },
            "type": "scatterternary"
           }
          ],
          "surface": [
           {
            "colorbar": {
             "outlinewidth": 0,
             "ticks": ""
            },
            "colorscale": [
             [
              0,
              "#0d0887"
             ],
             [
              0.1111111111111111,
              "#46039f"
             ],
             [
              0.2222222222222222,
              "#7201a8"
             ],
             [
              0.3333333333333333,
              "#9c179e"
             ],
             [
              0.4444444444444444,
              "#bd3786"
             ],
             [
              0.5555555555555556,
              "#d8576b"
             ],
             [
              0.6666666666666666,
              "#ed7953"
             ],
             [
              0.7777777777777778,
              "#fb9f3a"
             ],
             [
              0.8888888888888888,
              "#fdca26"
             ],
             [
              1,
              "#f0f921"
             ]
            ],
            "type": "surface"
           }
          ],
          "table": [
           {
            "cells": {
             "fill": {
              "color": "#EBF0F8"
             },
             "line": {
              "color": "white"
             }
            },
            "header": {
             "fill": {
              "color": "#C8D4E3"
             },
             "line": {
              "color": "white"
             }
            },
            "type": "table"
           }
          ]
         },
         "layout": {
          "annotationdefaults": {
           "arrowcolor": "#2a3f5f",
           "arrowhead": 0,
           "arrowwidth": 1
          },
          "autotypenumbers": "strict",
          "coloraxis": {
           "colorbar": {
            "outlinewidth": 0,
            "ticks": ""
           }
          },
          "colorscale": {
           "diverging": [
            [
             0,
             "#8e0152"
            ],
            [
             0.1,
             "#c51b7d"
            ],
            [
             0.2,
             "#de77ae"
            ],
            [
             0.3,
             "#f1b6da"
            ],
            [
             0.4,
             "#fde0ef"
            ],
            [
             0.5,
             "#f7f7f7"
            ],
            [
             0.6,
             "#e6f5d0"
            ],
            [
             0.7,
             "#b8e186"
            ],
            [
             0.8,
             "#7fbc41"
            ],
            [
             0.9,
             "#4d9221"
            ],
            [
             1,
             "#276419"
            ]
           ],
           "sequential": [
            [
             0,
             "#0d0887"
            ],
            [
             0.1111111111111111,
             "#46039f"
            ],
            [
             0.2222222222222222,
             "#7201a8"
            ],
            [
             0.3333333333333333,
             "#9c179e"
            ],
            [
             0.4444444444444444,
             "#bd3786"
            ],
            [
             0.5555555555555556,
             "#d8576b"
            ],
            [
             0.6666666666666666,
             "#ed7953"
            ],
            [
             0.7777777777777778,
             "#fb9f3a"
            ],
            [
             0.8888888888888888,
             "#fdca26"
            ],
            [
             1,
             "#f0f921"
            ]
           ],
           "sequentialminus": [
            [
             0,
             "#0d0887"
            ],
            [
             0.1111111111111111,
             "#46039f"
            ],
            [
             0.2222222222222222,
             "#7201a8"
            ],
            [
             0.3333333333333333,
             "#9c179e"
            ],
            [
             0.4444444444444444,
             "#bd3786"
            ],
            [
             0.5555555555555556,
             "#d8576b"
            ],
            [
             0.6666666666666666,
             "#ed7953"
            ],
            [
             0.7777777777777778,
             "#fb9f3a"
            ],
            [
             0.8888888888888888,
             "#fdca26"
            ],
            [
             1,
             "#f0f921"
            ]
           ]
          },
          "colorway": [
           "#636efa",
           "#EF553B",
           "#00cc96",
           "#ab63fa",
           "#FFA15A",
           "#19d3f3",
           "#FF6692",
           "#B6E880",
           "#FF97FF",
           "#FECB52"
          ],
          "font": {
           "color": "#2a3f5f"
          },
          "geo": {
           "bgcolor": "white",
           "lakecolor": "white",
           "landcolor": "#E5ECF6",
           "showlakes": true,
           "showland": true,
           "subunitcolor": "white"
          },
          "hoverlabel": {
           "align": "left"
          },
          "hovermode": "closest",
          "mapbox": {
           "style": "light"
          },
          "paper_bgcolor": "white",
          "plot_bgcolor": "#E5ECF6",
          "polar": {
           "angularaxis": {
            "gridcolor": "white",
            "linecolor": "white",
            "ticks": ""
           },
           "bgcolor": "#E5ECF6",
           "radialaxis": {
            "gridcolor": "white",
            "linecolor": "white",
            "ticks": ""
           }
          },
          "scene": {
           "xaxis": {
            "backgroundcolor": "#E5ECF6",
            "gridcolor": "white",
            "gridwidth": 2,
            "linecolor": "white",
            "showbackground": true,
            "ticks": "",
            "zerolinecolor": "white"
           },
           "yaxis": {
            "backgroundcolor": "#E5ECF6",
            "gridcolor": "white",
            "gridwidth": 2,
            "linecolor": "white",
            "showbackground": true,
            "ticks": "",
            "zerolinecolor": "white"
           },
           "zaxis": {
            "backgroundcolor": "#E5ECF6",
            "gridcolor": "white",
            "gridwidth": 2,
            "linecolor": "white",
            "showbackground": true,
            "ticks": "",
            "zerolinecolor": "white"
           }
          },
          "shapedefaults": {
           "line": {
            "color": "#2a3f5f"
           }
          },
          "ternary": {
           "aaxis": {
            "gridcolor": "white",
            "linecolor": "white",
            "ticks": ""
           },
           "baxis": {
            "gridcolor": "white",
            "linecolor": "white",
            "ticks": ""
           },
           "bgcolor": "#E5ECF6",
           "caxis": {
            "gridcolor": "white",
            "linecolor": "white",
            "ticks": ""
           }
          },
          "title": {
           "x": 0.05
          },
          "xaxis": {
           "automargin": true,
           "gridcolor": "white",
           "linecolor": "white",
           "ticks": "",
           "title": {
            "standoff": 15
           },
           "zerolinecolor": "white",
           "zerolinewidth": 2
          },
          "yaxis": {
           "automargin": true,
           "gridcolor": "white",
           "linecolor": "white",
           "ticks": "",
           "title": {
            "standoff": 15
           },
           "zerolinecolor": "white",
           "zerolinewidth": 2
          }
         }
        },
        "title": {
         "text": "Public transports stops in Lausanne"
        }
       }
      }
     },
     "metadata": {},
     "output_type": "display_data"
    }
   ],
   "source": [
    "fig = px.scatter_mapbox(\n",
    "    stops, lat=\"lat\",\n",
    "    lon=\"lon\",\n",
    "    color=\"company_name\", # which column to use to set the color of markers\n",
    "    hover_name=\"stop_name\", # column added to hover information,\n",
    "    zoom=3, mapbox_style='open-street-map', height=800\n",
    "    )\n",
    "\n",
    "fig.update_layout(\n",
    "    autosize=True,\n",
    "    hovermode='closest',\n",
    "    mapbox=dict(\n",
    "        bearing=0,\n",
    "        center=dict(lat=46.52097182546228, lon=6.633647865079138),\n",
    "        pitch=0,\n",
    "        zoom=11\n",
    "    ),\n",
    "    title=\"Public transports stops in Lausanne\",\n",
    ")\n",
    "fig.show()"
   ]
  },
  {
   "cell_type": "code",
   "execution_count": 13,
   "metadata": {},
   "outputs": [
    {
     "data": {
      "application/vnd.plotly.v1+json": {
       "config": {
        "plotlyServerURL": "https://plot.ly"
       },
       "data": [
        {
         "alignmentgroup": "True",
         "bingroup": "x",
         "hovertemplate": "company_name=%{x}<br>count=%{y}<extra></extra>",
         "legendgroup": "TL",
         "marker": {
          "color": "#636efa",
          "pattern": {
           "shape": ""
          }
         },
         "name": "TL",
         "offsetgroup": "TL",
         "orientation": "v",
         "showlegend": true,
         "type": "histogram",
         "x": [
          "TL",
          "TL",
          "TL",
          "TL",
          "TL",
          "TL",
          "TL",
          "TL",
          "TL",
          "TL",
          "TL",
          "TL",
          "TL",
          "TL",
          "TL",
          "TL",
          "TL",
          "TL",
          "TL",
          "TL",
          "TL",
          "TL",
          "TL",
          "TL",
          "TL",
          "TL",
          "TL",
          "TL",
          "TL",
          "TL",
          "TL",
          "TL",
          "TL",
          "TL",
          "TL",
          "TL",
          "TL",
          "TL",
          "TL",
          "TL",
          "TL",
          "TL",
          "TL",
          "TL",
          "TL",
          "TL",
          "TL",
          "TL",
          "TL",
          "TL",
          "TL",
          "TL",
          "TL",
          "TL",
          "TL",
          "TL",
          "TL",
          "TL",
          "TL",
          "TL",
          "TL",
          "TL",
          "TL",
          "TL",
          "TL",
          "TL",
          "TL",
          "TL",
          "TL",
          "TL",
          "TL",
          "TL",
          "TL",
          "TL",
          "TL",
          "TL",
          "TL",
          "TL",
          "TL",
          "TL",
          "TL",
          "TL",
          "TL",
          "TL",
          "TL",
          "TL",
          "TL",
          "TL",
          "TL",
          "TL",
          "TL",
          "TL",
          "TL",
          "TL",
          "TL",
          "TL",
          "TL",
          "TL",
          "TL",
          "TL",
          "TL",
          "TL",
          "TL",
          "TL",
          "TL",
          "TL",
          "TL",
          "TL",
          "TL",
          "TL",
          "TL",
          "TL",
          "TL",
          "TL",
          "TL",
          "TL",
          "TL",
          "TL",
          "TL",
          "TL",
          "TL",
          "TL",
          "TL",
          "TL",
          "TL",
          "TL",
          "TL",
          "TL",
          "TL",
          "TL",
          "TL",
          "TL",
          "TL",
          "TL",
          "TL",
          "TL",
          "TL",
          "TL",
          "TL",
          "TL",
          "TL",
          "TL",
          "TL",
          "TL",
          "TL",
          "TL",
          "TL",
          "TL",
          "TL",
          "TL",
          "TL",
          "TL",
          "TL",
          "TL",
          "TL",
          "TL",
          "TL",
          "TL",
          "TL",
          "TL",
          "TL",
          "TL",
          "TL",
          "TL",
          "TL",
          "TL",
          "TL",
          "TL",
          "TL",
          "TL",
          "TL",
          "TL",
          "TL",
          "TL",
          "TL",
          "TL",
          "TL",
          "TL",
          "TL",
          "TL",
          "TL",
          "TL",
          "TL",
          "TL",
          "TL",
          "TL",
          "TL",
          "TL",
          "TL",
          "TL",
          "TL",
          "TL",
          "TL",
          "TL",
          "TL",
          "TL",
          "TL",
          "TL",
          "TL",
          "TL",
          "TL",
          "TL",
          "TL",
          "TL",
          "TL",
          "TL",
          "TL",
          "TL",
          "TL",
          "TL",
          "TL",
          "TL",
          "TL",
          "TL",
          "TL",
          "TL",
          "TL",
          "TL",
          "TL",
          "TL",
          "TL",
          "TL",
          "TL",
          "TL",
          "TL",
          "TL",
          "TL",
          "TL",
          "TL",
          "TL",
          "TL",
          "TL",
          "TL",
          "TL",
          "TL",
          "TL",
          "TL",
          "TL",
          "TL",
          "TL",
          "TL",
          "TL",
          "TL",
          "TL",
          "TL",
          "TL",
          "TL",
          "TL",
          "TL",
          "TL",
          "TL",
          "TL",
          "TL",
          "TL",
          "TL",
          "TL",
          "TL",
          "TL",
          "TL",
          "TL",
          "TL",
          "TL",
          "TL",
          "TL",
          "TL",
          "TL",
          "TL",
          "TL",
          "TL",
          "TL",
          "TL",
          "TL",
          "TL",
          "TL",
          "TL",
          "TL",
          "TL",
          "TL",
          "TL",
          "TL",
          "TL",
          "TL",
          "TL",
          "TL",
          "TL",
          "TL",
          "TL",
          "TL",
          "TL",
          "TL",
          "TL",
          "TL",
          "TL",
          "TL",
          "TL",
          "TL",
          "TL",
          "TL",
          "TL",
          "TL",
          "TL",
          "TL",
          "TL",
          "TL",
          "TL",
          "TL",
          "TL",
          "TL",
          "TL",
          "TL",
          "TL",
          "TL",
          "TL",
          "TL",
          "TL",
          "TL",
          "TL",
          "TL",
          "TL",
          "TL",
          "TL",
          "TL",
          "TL",
          "TL",
          "TL",
          "TL",
          "TL",
          "TL",
          "TL",
          "TL",
          "TL",
          "TL",
          "TL",
          "TL",
          "TL",
          "TL",
          "TL",
          "TL",
          "TL",
          "TL",
          "TL",
          "TL",
          "TL",
          "TL",
          "TL",
          "TL",
          "TL",
          "TL",
          "TL",
          "TL",
          "TL",
          "TL",
          "TL",
          "TL",
          "TL",
          "TL",
          "TL",
          "TL",
          "TL",
          "TL",
          "TL",
          "TL",
          "TL",
          "TL",
          "TL",
          "TL",
          "TL",
          "TL",
          "TL",
          "TL",
          "TL",
          "TL",
          "TL",
          "TL",
          "TL",
          "TL",
          "TL",
          "TL",
          "TL",
          "TL",
          "TL",
          "TL",
          "TL",
          "TL",
          "TL",
          "TL",
          "TL",
          "TL",
          "TL",
          "TL",
          "TL",
          "TL",
          "TL",
          "TL",
          "TL",
          "TL",
          "TL",
          "TL",
          "TL",
          "TL",
          "TL",
          "TL",
          "TL",
          "TL",
          "TL",
          "TL",
          "TL",
          "TL",
          "TL",
          "TL",
          "TL",
          "TL",
          "TL",
          "TL",
          "TL",
          "TL",
          "TL",
          "TL",
          "TL",
          "TL",
          "TL",
          "TL",
          "TL",
          "TL",
          "TL",
          "TL",
          "TL",
          "TL",
          "TL",
          "TL",
          "TL",
          "TL",
          "TL",
          "TL",
          "TL",
          "TL",
          "TL",
          "TL",
          "TL",
          "TL",
          "TL",
          "TL",
          "TL",
          "TL",
          "TL",
          "TL",
          "TL",
          "TL",
          "TL",
          "TL",
          "TL",
          "TL",
          "TL",
          "TL",
          "TL",
          "TL",
          "TL",
          "TL",
          "TL",
          "TL",
          "TL",
          "TL",
          "TL",
          "TL",
          "TL",
          "TL",
          "TL",
          "TL",
          "TL",
          "TL",
          "TL",
          "TL",
          "TL",
          "TL",
          "TL",
          "TL",
          "TL",
          "TL",
          "TL",
          "TL",
          "TL",
          "TL",
          "TL",
          "TL",
          "TL",
          "TL",
          "TL",
          "TL",
          "TL",
          "TL",
          "TL",
          "TL",
          "TL",
          "TL",
          "TL",
          "TL",
          "TL",
          "TL",
          "TL",
          "TL",
          "TL",
          "TL",
          "TL"
         ],
         "xaxis": "x",
         "yaxis": "y"
        },
        {
         "alignmentgroup": "True",
         "bingroup": "x",
         "hovertemplate": "company_name=%{x}<br>count=%{y}<extra></extra>",
         "legendgroup": "SBB",
         "marker": {
          "color": "#EF553B",
          "pattern": {
           "shape": ""
          }
         },
         "name": "SBB",
         "offsetgroup": "SBB",
         "orientation": "v",
         "showlegend": true,
         "type": "histogram",
         "x": [
          "SBB",
          "SBB",
          "SBB",
          "SBB",
          "SBB",
          "SBB",
          "SBB",
          "SBB",
          "SBB",
          "SBB",
          "SBB",
          "SBB",
          "SBB",
          "SBB",
          "SBB",
          "SBB",
          "SBB",
          "SBB",
          "SBB",
          "SBB",
          "SBB",
          "SBB",
          "SBB",
          "SBB",
          "SBB",
          "SBB",
          "SBB",
          "SBB",
          "SBB",
          "SBB",
          "SBB",
          "SBB",
          "SBB",
          "SBB",
          "SBB",
          "SBB",
          "SBB",
          "SBB",
          "SBB",
          "SBB",
          "SBB",
          "SBB",
          "SBB",
          "SBB",
          "SBB",
          "SBB",
          "SBB",
          "SBB",
          "SBB"
         ],
         "xaxis": "x",
         "yaxis": "y"
        },
        {
         "alignmentgroup": "True",
         "bingroup": "x",
         "hovertemplate": "company_name=%{x}<br>count=%{y}<extra></extra>",
         "legendgroup": "LEB",
         "marker": {
          "color": "#00cc96",
          "pattern": {
           "shape": ""
          }
         },
         "name": "LEB",
         "offsetgroup": "LEB",
         "orientation": "v",
         "showlegend": true,
         "type": "histogram",
         "x": [
          "LEB",
          "LEB",
          "LEB",
          "LEB",
          "LEB",
          "LEB",
          "LEB",
          "LEB",
          "LEB",
          "LEB"
         ],
         "xaxis": "x",
         "yaxis": "y"
        },
        {
         "alignmentgroup": "True",
         "bingroup": "x",
         "hovertemplate": "company_name=%{x}<br>count=%{y}<extra></extra>",
         "legendgroup": "MBC",
         "marker": {
          "color": "#ab63fa",
          "pattern": {
           "shape": ""
          }
         },
         "name": "MBC",
         "offsetgroup": "MBC",
         "orientation": "v",
         "showlegend": true,
         "type": "histogram",
         "x": [
          "MBC",
          "MBC",
          "MBC",
          "MBC",
          "MBC",
          "MBC",
          "MBC",
          "MBC",
          "MBC",
          "MBC",
          "MBC",
          "MBC",
          "MBC",
          "MBC",
          "MBC",
          "MBC",
          "MBC",
          "MBC",
          "MBC",
          "MBC",
          "MBC",
          "MBC",
          "MBC",
          "MBC",
          "MBC",
          "MBC",
          "MBC",
          "MBC",
          "MBC",
          "MBC",
          "MBC",
          "MBC",
          "MBC",
          "MBC",
          "MBC",
          "MBC",
          "MBC",
          "MBC",
          "MBC",
          "MBC",
          "MBC",
          "MBC"
         ],
         "xaxis": "x",
         "yaxis": "y"
        },
        {
         "alignmentgroup": "True",
         "bingroup": "x",
         "hovertemplate": "company_name=%{x}<br>count=%{y}<extra></extra>",
         "legendgroup": "PAG",
         "marker": {
          "color": "#FFA15A",
          "pattern": {
           "shape": ""
          }
         },
         "name": "PAG",
         "offsetgroup": "PAG",
         "orientation": "v",
         "showlegend": true,
         "type": "histogram",
         "x": [
          "PAG",
          "PAG",
          "PAG",
          "PAG",
          "PAG",
          "PAG",
          "PAG",
          "PAG",
          "PAG",
          "PAG",
          "PAG",
          "PAG",
          "PAG"
         ],
         "xaxis": "x",
         "yaxis": "y"
        },
        {
         "alignmentgroup": "True",
         "bingroup": "x",
         "hovertemplate": "company_name=%{x}<br>count=%{y}<extra></extra>",
         "legendgroup": "CGN",
         "marker": {
          "color": "#19d3f3",
          "pattern": {
           "shape": ""
          }
         },
         "name": "CGN",
         "offsetgroup": "CGN",
         "orientation": "v",
         "showlegend": true,
         "type": "histogram",
         "x": [
          "CGN",
          "CGN",
          "CGN",
          "CGN"
         ],
         "xaxis": "x",
         "yaxis": "y"
        },
        {
         "alignmentgroup": "True",
         "bingroup": "x",
         "hovertemplate": "company_name=%{x}<br>count=%{y}<extra></extra>",
         "legendgroup": "TPF",
         "marker": {
          "color": "#FF6692",
          "pattern": {
           "shape": ""
          }
         },
         "name": "TPF",
         "offsetgroup": "TPF",
         "orientation": "v",
         "showlegend": true,
         "type": "histogram",
         "x": [
          "TPF"
         ],
         "xaxis": "x",
         "yaxis": "y"
        }
       ],
       "layout": {
        "barmode": "relative",
        "legend": {
         "title": {
          "text": "company_name"
         },
         "tracegroupgap": 0
        },
        "template": {
         "data": {
          "bar": [
           {
            "error_x": {
             "color": "#2a3f5f"
            },
            "error_y": {
             "color": "#2a3f5f"
            },
            "marker": {
             "line": {
              "color": "#E5ECF6",
              "width": 0.5
             },
             "pattern": {
              "fillmode": "overlay",
              "size": 10,
              "solidity": 0.2
             }
            },
            "type": "bar"
           }
          ],
          "barpolar": [
           {
            "marker": {
             "line": {
              "color": "#E5ECF6",
              "width": 0.5
             },
             "pattern": {
              "fillmode": "overlay",
              "size": 10,
              "solidity": 0.2
             }
            },
            "type": "barpolar"
           }
          ],
          "carpet": [
           {
            "aaxis": {
             "endlinecolor": "#2a3f5f",
             "gridcolor": "white",
             "linecolor": "white",
             "minorgridcolor": "white",
             "startlinecolor": "#2a3f5f"
            },
            "baxis": {
             "endlinecolor": "#2a3f5f",
             "gridcolor": "white",
             "linecolor": "white",
             "minorgridcolor": "white",
             "startlinecolor": "#2a3f5f"
            },
            "type": "carpet"
           }
          ],
          "choropleth": [
           {
            "colorbar": {
             "outlinewidth": 0,
             "ticks": ""
            },
            "type": "choropleth"
           }
          ],
          "contour": [
           {
            "colorbar": {
             "outlinewidth": 0,
             "ticks": ""
            },
            "colorscale": [
             [
              0,
              "#0d0887"
             ],
             [
              0.1111111111111111,
              "#46039f"
             ],
             [
              0.2222222222222222,
              "#7201a8"
             ],
             [
              0.3333333333333333,
              "#9c179e"
             ],
             [
              0.4444444444444444,
              "#bd3786"
             ],
             [
              0.5555555555555556,
              "#d8576b"
             ],
             [
              0.6666666666666666,
              "#ed7953"
             ],
             [
              0.7777777777777778,
              "#fb9f3a"
             ],
             [
              0.8888888888888888,
              "#fdca26"
             ],
             [
              1,
              "#f0f921"
             ]
            ],
            "type": "contour"
           }
          ],
          "contourcarpet": [
           {
            "colorbar": {
             "outlinewidth": 0,
             "ticks": ""
            },
            "type": "contourcarpet"
           }
          ],
          "heatmap": [
           {
            "colorbar": {
             "outlinewidth": 0,
             "ticks": ""
            },
            "colorscale": [
             [
              0,
              "#0d0887"
             ],
             [
              0.1111111111111111,
              "#46039f"
             ],
             [
              0.2222222222222222,
              "#7201a8"
             ],
             [
              0.3333333333333333,
              "#9c179e"
             ],
             [
              0.4444444444444444,
              "#bd3786"
             ],
             [
              0.5555555555555556,
              "#d8576b"
             ],
             [
              0.6666666666666666,
              "#ed7953"
             ],
             [
              0.7777777777777778,
              "#fb9f3a"
             ],
             [
              0.8888888888888888,
              "#fdca26"
             ],
             [
              1,
              "#f0f921"
             ]
            ],
            "type": "heatmap"
           }
          ],
          "heatmapgl": [
           {
            "colorbar": {
             "outlinewidth": 0,
             "ticks": ""
            },
            "colorscale": [
             [
              0,
              "#0d0887"
             ],
             [
              0.1111111111111111,
              "#46039f"
             ],
             [
              0.2222222222222222,
              "#7201a8"
             ],
             [
              0.3333333333333333,
              "#9c179e"
             ],
             [
              0.4444444444444444,
              "#bd3786"
             ],
             [
              0.5555555555555556,
              "#d8576b"
             ],
             [
              0.6666666666666666,
              "#ed7953"
             ],
             [
              0.7777777777777778,
              "#fb9f3a"
             ],
             [
              0.8888888888888888,
              "#fdca26"
             ],
             [
              1,
              "#f0f921"
             ]
            ],
            "type": "heatmapgl"
           }
          ],
          "histogram": [
           {
            "marker": {
             "pattern": {
              "fillmode": "overlay",
              "size": 10,
              "solidity": 0.2
             }
            },
            "type": "histogram"
           }
          ],
          "histogram2d": [
           {
            "colorbar": {
             "outlinewidth": 0,
             "ticks": ""
            },
            "colorscale": [
             [
              0,
              "#0d0887"
             ],
             [
              0.1111111111111111,
              "#46039f"
             ],
             [
              0.2222222222222222,
              "#7201a8"
             ],
             [
              0.3333333333333333,
              "#9c179e"
             ],
             [
              0.4444444444444444,
              "#bd3786"
             ],
             [
              0.5555555555555556,
              "#d8576b"
             ],
             [
              0.6666666666666666,
              "#ed7953"
             ],
             [
              0.7777777777777778,
              "#fb9f3a"
             ],
             [
              0.8888888888888888,
              "#fdca26"
             ],
             [
              1,
              "#f0f921"
             ]
            ],
            "type": "histogram2d"
           }
          ],
          "histogram2dcontour": [
           {
            "colorbar": {
             "outlinewidth": 0,
             "ticks": ""
            },
            "colorscale": [
             [
              0,
              "#0d0887"
             ],
             [
              0.1111111111111111,
              "#46039f"
             ],
             [
              0.2222222222222222,
              "#7201a8"
             ],
             [
              0.3333333333333333,
              "#9c179e"
             ],
             [
              0.4444444444444444,
              "#bd3786"
             ],
             [
              0.5555555555555556,
              "#d8576b"
             ],
             [
              0.6666666666666666,
              "#ed7953"
             ],
             [
              0.7777777777777778,
              "#fb9f3a"
             ],
             [
              0.8888888888888888,
              "#fdca26"
             ],
             [
              1,
              "#f0f921"
             ]
            ],
            "type": "histogram2dcontour"
           }
          ],
          "mesh3d": [
           {
            "colorbar": {
             "outlinewidth": 0,
             "ticks": ""
            },
            "type": "mesh3d"
           }
          ],
          "parcoords": [
           {
            "line": {
             "colorbar": {
              "outlinewidth": 0,
              "ticks": ""
             }
            },
            "type": "parcoords"
           }
          ],
          "pie": [
           {
            "automargin": true,
            "type": "pie"
           }
          ],
          "scatter": [
           {
            "fillpattern": {
             "fillmode": "overlay",
             "size": 10,
             "solidity": 0.2
            },
            "type": "scatter"
           }
          ],
          "scatter3d": [
           {
            "line": {
             "colorbar": {
              "outlinewidth": 0,
              "ticks": ""
             }
            },
            "marker": {
             "colorbar": {
              "outlinewidth": 0,
              "ticks": ""
             }
            },
            "type": "scatter3d"
           }
          ],
          "scattercarpet": [
           {
            "marker": {
             "colorbar": {
              "outlinewidth": 0,
              "ticks": ""
             }
            },
            "type": "scattercarpet"
           }
          ],
          "scattergeo": [
           {
            "marker": {
             "colorbar": {
              "outlinewidth": 0,
              "ticks": ""
             }
            },
            "type": "scattergeo"
           }
          ],
          "scattergl": [
           {
            "marker": {
             "colorbar": {
              "outlinewidth": 0,
              "ticks": ""
             }
            },
            "type": "scattergl"
           }
          ],
          "scattermapbox": [
           {
            "marker": {
             "colorbar": {
              "outlinewidth": 0,
              "ticks": ""
             }
            },
            "type": "scattermapbox"
           }
          ],
          "scatterpolar": [
           {
            "marker": {
             "colorbar": {
              "outlinewidth": 0,
              "ticks": ""
             }
            },
            "type": "scatterpolar"
           }
          ],
          "scatterpolargl": [
           {
            "marker": {
             "colorbar": {
              "outlinewidth": 0,
              "ticks": ""
             }
            },
            "type": "scatterpolargl"
           }
          ],
          "scatterternary": [
           {
            "marker": {
             "colorbar": {
              "outlinewidth": 0,
              "ticks": ""
             }
            },
            "type": "scatterternary"
           }
          ],
          "surface": [
           {
            "colorbar": {
             "outlinewidth": 0,
             "ticks": ""
            },
            "colorscale": [
             [
              0,
              "#0d0887"
             ],
             [
              0.1111111111111111,
              "#46039f"
             ],
             [
              0.2222222222222222,
              "#7201a8"
             ],
             [
              0.3333333333333333,
              "#9c179e"
             ],
             [
              0.4444444444444444,
              "#bd3786"
             ],
             [
              0.5555555555555556,
              "#d8576b"
             ],
             [
              0.6666666666666666,
              "#ed7953"
             ],
             [
              0.7777777777777778,
              "#fb9f3a"
             ],
             [
              0.8888888888888888,
              "#fdca26"
             ],
             [
              1,
              "#f0f921"
             ]
            ],
            "type": "surface"
           }
          ],
          "table": [
           {
            "cells": {
             "fill": {
              "color": "#EBF0F8"
             },
             "line": {
              "color": "white"
             }
            },
            "header": {
             "fill": {
              "color": "#C8D4E3"
             },
             "line": {
              "color": "white"
             }
            },
            "type": "table"
           }
          ]
         },
         "layout": {
          "annotationdefaults": {
           "arrowcolor": "#2a3f5f",
           "arrowhead": 0,
           "arrowwidth": 1
          },
          "autotypenumbers": "strict",
          "coloraxis": {
           "colorbar": {
            "outlinewidth": 0,
            "ticks": ""
           }
          },
          "colorscale": {
           "diverging": [
            [
             0,
             "#8e0152"
            ],
            [
             0.1,
             "#c51b7d"
            ],
            [
             0.2,
             "#de77ae"
            ],
            [
             0.3,
             "#f1b6da"
            ],
            [
             0.4,
             "#fde0ef"
            ],
            [
             0.5,
             "#f7f7f7"
            ],
            [
             0.6,
             "#e6f5d0"
            ],
            [
             0.7,
             "#b8e186"
            ],
            [
             0.8,
             "#7fbc41"
            ],
            [
             0.9,
             "#4d9221"
            ],
            [
             1,
             "#276419"
            ]
           ],
           "sequential": [
            [
             0,
             "#0d0887"
            ],
            [
             0.1111111111111111,
             "#46039f"
            ],
            [
             0.2222222222222222,
             "#7201a8"
            ],
            [
             0.3333333333333333,
             "#9c179e"
            ],
            [
             0.4444444444444444,
             "#bd3786"
            ],
            [
             0.5555555555555556,
             "#d8576b"
            ],
            [
             0.6666666666666666,
             "#ed7953"
            ],
            [
             0.7777777777777778,
             "#fb9f3a"
            ],
            [
             0.8888888888888888,
             "#fdca26"
            ],
            [
             1,
             "#f0f921"
            ]
           ],
           "sequentialminus": [
            [
             0,
             "#0d0887"
            ],
            [
             0.1111111111111111,
             "#46039f"
            ],
            [
             0.2222222222222222,
             "#7201a8"
            ],
            [
             0.3333333333333333,
             "#9c179e"
            ],
            [
             0.4444444444444444,
             "#bd3786"
            ],
            [
             0.5555555555555556,
             "#d8576b"
            ],
            [
             0.6666666666666666,
             "#ed7953"
            ],
            [
             0.7777777777777778,
             "#fb9f3a"
            ],
            [
             0.8888888888888888,
             "#fdca26"
            ],
            [
             1,
             "#f0f921"
            ]
           ]
          },
          "colorway": [
           "#636efa",
           "#EF553B",
           "#00cc96",
           "#ab63fa",
           "#FFA15A",
           "#19d3f3",
           "#FF6692",
           "#B6E880",
           "#FF97FF",
           "#FECB52"
          ],
          "font": {
           "color": "#2a3f5f"
          },
          "geo": {
           "bgcolor": "white",
           "lakecolor": "white",
           "landcolor": "#E5ECF6",
           "showlakes": true,
           "showland": true,
           "subunitcolor": "white"
          },
          "hoverlabel": {
           "align": "left"
          },
          "hovermode": "closest",
          "mapbox": {
           "style": "light"
          },
          "paper_bgcolor": "white",
          "plot_bgcolor": "#E5ECF6",
          "polar": {
           "angularaxis": {
            "gridcolor": "white",
            "linecolor": "white",
            "ticks": ""
           },
           "bgcolor": "#E5ECF6",
           "radialaxis": {
            "gridcolor": "white",
            "linecolor": "white",
            "ticks": ""
           }
          },
          "scene": {
           "xaxis": {
            "backgroundcolor": "#E5ECF6",
            "gridcolor": "white",
            "gridwidth": 2,
            "linecolor": "white",
            "showbackground": true,
            "ticks": "",
            "zerolinecolor": "white"
           },
           "yaxis": {
            "backgroundcolor": "#E5ECF6",
            "gridcolor": "white",
            "gridwidth": 2,
            "linecolor": "white",
            "showbackground": true,
            "ticks": "",
            "zerolinecolor": "white"
           },
           "zaxis": {
            "backgroundcolor": "#E5ECF6",
            "gridcolor": "white",
            "gridwidth": 2,
            "linecolor": "white",
            "showbackground": true,
            "ticks": "",
            "zerolinecolor": "white"
           }
          },
          "shapedefaults": {
           "line": {
            "color": "#2a3f5f"
           }
          },
          "ternary": {
           "aaxis": {
            "gridcolor": "white",
            "linecolor": "white",
            "ticks": ""
           },
           "baxis": {
            "gridcolor": "white",
            "linecolor": "white",
            "ticks": ""
           },
           "bgcolor": "#E5ECF6",
           "caxis": {
            "gridcolor": "white",
            "linecolor": "white",
            "ticks": ""
           }
          },
          "title": {
           "x": 0.05
          },
          "xaxis": {
           "automargin": true,
           "gridcolor": "white",
           "linecolor": "white",
           "ticks": "",
           "title": {
            "standoff": 15
           },
           "zerolinecolor": "white",
           "zerolinewidth": 2
          },
          "yaxis": {
           "automargin": true,
           "gridcolor": "white",
           "linecolor": "white",
           "ticks": "",
           "title": {
            "standoff": 15
           },
           "zerolinecolor": "white",
           "zerolinewidth": 2
          }
         }
        },
        "title": {
         "text": "Number of stops for each public transport company"
        },
        "xaxis": {
         "anchor": "y",
         "categoryarray": [
          "TL",
          "SBB",
          "LEB",
          "MBC",
          "PAG",
          "CGN",
          "TPF"
         ],
         "categoryorder": "array",
         "domain": [
          0,
          1
         ],
         "title": {
          "text": "company_name"
         }
        },
        "yaxis": {
         "anchor": "x",
         "domain": [
          0,
          1
         ],
         "title": {
          "text": "count"
         }
        }
       }
      }
     },
     "metadata": {},
     "output_type": "display_data"
    }
   ],
   "source": [
    "fig = px.histogram(stops, x=\"company_name\", color=\"company_name\", title=\"Number of stops for each public transport company\")\n",
    "fig.show()"
   ]
  },
  {
   "cell_type": "code",
   "execution_count": 26,
   "metadata": {},
   "outputs": [],
   "source": [
    "def plot_activity_by_line(date):\n",
    "    # Read the data\n",
    "    timetable = pd.read_csv(f\"../data/raw/{date}_istdaten.csv\", sep=\";\", low_memory=False)\n",
    "\n",
    "    # Filter Lausanne area\n",
    "    timetable = timetable[timetable[\"BPUIC\"].isin(stops['stop_id'].to_list())]\n",
    "\n",
    "    # Filter only TL\n",
    "    timetable = timetable[timetable['BETREIBER_ABK'] == 'TL']\n",
    "\n",
    "    # Keep non-cancelled trips\n",
    "    timetable = timetable[timetable['FAELLT_AUS_TF'] == False]\n",
    "\n",
    "    # Keep only rows with arrival or departure target\n",
    "    timetable = timetable[~((timetable['ANKUNFTSZEIT'].isna()) & (timetable['ABFAHRTSZEIT'].isna()))]\n",
    "\n",
    "    # Keep only relevant columns\n",
    "    timetable = timetable[keep_columns]\n",
    "    timetable.rename(map_columns, axis=1, inplace=True)\n",
    "\n",
    "    line_data = timetable[['line_name', 'company', 'vehicle_id', 'stop_id']]\n",
    "\n",
    "    # Compute number of records per line_name \n",
    "    grouped = line_data.groupby(['line_name']).count().reset_index()\n",
    "\n",
    "    # rename columns\n",
    "    grouped.rename({'vehicle_id': 'count'}, axis=1, inplace=True)\n",
    "\n",
    "    # Plot the number of records per line_name\n",
    "    fig = px.bar(grouped, x='line_name', y='count', title=f\"Number of records per line on {date}\")\n",
    "    fig.show()"
   ]
  },
  {
   "cell_type": "code",
   "execution_count": 27,
   "metadata": {},
   "outputs": [
    {
     "data": {
      "application/vnd.plotly.v1+json": {
       "config": {
        "plotlyServerURL": "https://plot.ly"
       },
       "data": [
        {
         "alignmentgroup": "True",
         "hovertemplate": "line_name=%{x}<br>count=%{y}<extra></extra>",
         "legendgroup": "",
         "marker": {
          "color": "#636efa",
          "pattern": {
           "shape": ""
          }
         },
         "name": "",
         "offsetgroup": "",
         "orientation": "v",
         "showlegend": false,
         "textposition": "auto",
         "type": "bar",
         "x": [
          "1",
          "13",
          "16",
          "17",
          "18",
          "19",
          "2",
          "20",
          "21",
          "23",
          "24",
          "25",
          "3",
          "31",
          "32",
          "33",
          "35",
          "36",
          "38",
          "4",
          "41",
          "42",
          "45",
          "46",
          "47",
          "48",
          "49",
          "54",
          "56",
          "58",
          "6",
          "60",
          "64",
          "68",
          "69",
          "7",
          "8",
          "9",
          "m1"
         ],
         "xaxis": "x",
         "y": [
          6179,
          1168,
          3278,
          5644,
          6667,
          806,
          5582,
          1383,
          6265,
          570,
          1572,
          6140,
          2688,
          2584,
          3731,
          4408,
          663,
          1232,
          1045,
          3602,
          1705,
          1168,
          1913,
          1453,
          3102,
          2080,
          1021,
          780,
          98,
          324,
          5502,
          805,
          1655,
          841,
          352,
          5001,
          6418,
          7060,
          5191
         ],
         "yaxis": "y"
        }
       ],
       "layout": {
        "barmode": "relative",
        "legend": {
         "tracegroupgap": 0
        },
        "template": {
         "data": {
          "bar": [
           {
            "error_x": {
             "color": "#2a3f5f"
            },
            "error_y": {
             "color": "#2a3f5f"
            },
            "marker": {
             "line": {
              "color": "#E5ECF6",
              "width": 0.5
             },
             "pattern": {
              "fillmode": "overlay",
              "size": 10,
              "solidity": 0.2
             }
            },
            "type": "bar"
           }
          ],
          "barpolar": [
           {
            "marker": {
             "line": {
              "color": "#E5ECF6",
              "width": 0.5
             },
             "pattern": {
              "fillmode": "overlay",
              "size": 10,
              "solidity": 0.2
             }
            },
            "type": "barpolar"
           }
          ],
          "carpet": [
           {
            "aaxis": {
             "endlinecolor": "#2a3f5f",
             "gridcolor": "white",
             "linecolor": "white",
             "minorgridcolor": "white",
             "startlinecolor": "#2a3f5f"
            },
            "baxis": {
             "endlinecolor": "#2a3f5f",
             "gridcolor": "white",
             "linecolor": "white",
             "minorgridcolor": "white",
             "startlinecolor": "#2a3f5f"
            },
            "type": "carpet"
           }
          ],
          "choropleth": [
           {
            "colorbar": {
             "outlinewidth": 0,
             "ticks": ""
            },
            "type": "choropleth"
           }
          ],
          "contour": [
           {
            "colorbar": {
             "outlinewidth": 0,
             "ticks": ""
            },
            "colorscale": [
             [
              0,
              "#0d0887"
             ],
             [
              0.1111111111111111,
              "#46039f"
             ],
             [
              0.2222222222222222,
              "#7201a8"
             ],
             [
              0.3333333333333333,
              "#9c179e"
             ],
             [
              0.4444444444444444,
              "#bd3786"
             ],
             [
              0.5555555555555556,
              "#d8576b"
             ],
             [
              0.6666666666666666,
              "#ed7953"
             ],
             [
              0.7777777777777778,
              "#fb9f3a"
             ],
             [
              0.8888888888888888,
              "#fdca26"
             ],
             [
              1,
              "#f0f921"
             ]
            ],
            "type": "contour"
           }
          ],
          "contourcarpet": [
           {
            "colorbar": {
             "outlinewidth": 0,
             "ticks": ""
            },
            "type": "contourcarpet"
           }
          ],
          "heatmap": [
           {
            "colorbar": {
             "outlinewidth": 0,
             "ticks": ""
            },
            "colorscale": [
             [
              0,
              "#0d0887"
             ],
             [
              0.1111111111111111,
              "#46039f"
             ],
             [
              0.2222222222222222,
              "#7201a8"
             ],
             [
              0.3333333333333333,
              "#9c179e"
             ],
             [
              0.4444444444444444,
              "#bd3786"
             ],
             [
              0.5555555555555556,
              "#d8576b"
             ],
             [
              0.6666666666666666,
              "#ed7953"
             ],
             [
              0.7777777777777778,
              "#fb9f3a"
             ],
             [
              0.8888888888888888,
              "#fdca26"
             ],
             [
              1,
              "#f0f921"
             ]
            ],
            "type": "heatmap"
           }
          ],
          "heatmapgl": [
           {
            "colorbar": {
             "outlinewidth": 0,
             "ticks": ""
            },
            "colorscale": [
             [
              0,
              "#0d0887"
             ],
             [
              0.1111111111111111,
              "#46039f"
             ],
             [
              0.2222222222222222,
              "#7201a8"
             ],
             [
              0.3333333333333333,
              "#9c179e"
             ],
             [
              0.4444444444444444,
              "#bd3786"
             ],
             [
              0.5555555555555556,
              "#d8576b"
             ],
             [
              0.6666666666666666,
              "#ed7953"
             ],
             [
              0.7777777777777778,
              "#fb9f3a"
             ],
             [
              0.8888888888888888,
              "#fdca26"
             ],
             [
              1,
              "#f0f921"
             ]
            ],
            "type": "heatmapgl"
           }
          ],
          "histogram": [
           {
            "marker": {
             "pattern": {
              "fillmode": "overlay",
              "size": 10,
              "solidity": 0.2
             }
            },
            "type": "histogram"
           }
          ],
          "histogram2d": [
           {
            "colorbar": {
             "outlinewidth": 0,
             "ticks": ""
            },
            "colorscale": [
             [
              0,
              "#0d0887"
             ],
             [
              0.1111111111111111,
              "#46039f"
             ],
             [
              0.2222222222222222,
              "#7201a8"
             ],
             [
              0.3333333333333333,
              "#9c179e"
             ],
             [
              0.4444444444444444,
              "#bd3786"
             ],
             [
              0.5555555555555556,
              "#d8576b"
             ],
             [
              0.6666666666666666,
              "#ed7953"
             ],
             [
              0.7777777777777778,
              "#fb9f3a"
             ],
             [
              0.8888888888888888,
              "#fdca26"
             ],
             [
              1,
              "#f0f921"
             ]
            ],
            "type": "histogram2d"
           }
          ],
          "histogram2dcontour": [
           {
            "colorbar": {
             "outlinewidth": 0,
             "ticks": ""
            },
            "colorscale": [
             [
              0,
              "#0d0887"
             ],
             [
              0.1111111111111111,
              "#46039f"
             ],
             [
              0.2222222222222222,
              "#7201a8"
             ],
             [
              0.3333333333333333,
              "#9c179e"
             ],
             [
              0.4444444444444444,
              "#bd3786"
             ],
             [
              0.5555555555555556,
              "#d8576b"
             ],
             [
              0.6666666666666666,
              "#ed7953"
             ],
             [
              0.7777777777777778,
              "#fb9f3a"
             ],
             [
              0.8888888888888888,
              "#fdca26"
             ],
             [
              1,
              "#f0f921"
             ]
            ],
            "type": "histogram2dcontour"
           }
          ],
          "mesh3d": [
           {
            "colorbar": {
             "outlinewidth": 0,
             "ticks": ""
            },
            "type": "mesh3d"
           }
          ],
          "parcoords": [
           {
            "line": {
             "colorbar": {
              "outlinewidth": 0,
              "ticks": ""
             }
            },
            "type": "parcoords"
           }
          ],
          "pie": [
           {
            "automargin": true,
            "type": "pie"
           }
          ],
          "scatter": [
           {
            "fillpattern": {
             "fillmode": "overlay",
             "size": 10,
             "solidity": 0.2
            },
            "type": "scatter"
           }
          ],
          "scatter3d": [
           {
            "line": {
             "colorbar": {
              "outlinewidth": 0,
              "ticks": ""
             }
            },
            "marker": {
             "colorbar": {
              "outlinewidth": 0,
              "ticks": ""
             }
            },
            "type": "scatter3d"
           }
          ],
          "scattercarpet": [
           {
            "marker": {
             "colorbar": {
              "outlinewidth": 0,
              "ticks": ""
             }
            },
            "type": "scattercarpet"
           }
          ],
          "scattergeo": [
           {
            "marker": {
             "colorbar": {
              "outlinewidth": 0,
              "ticks": ""
             }
            },
            "type": "scattergeo"
           }
          ],
          "scattergl": [
           {
            "marker": {
             "colorbar": {
              "outlinewidth": 0,
              "ticks": ""
             }
            },
            "type": "scattergl"
           }
          ],
          "scattermapbox": [
           {
            "marker": {
             "colorbar": {
              "outlinewidth": 0,
              "ticks": ""
             }
            },
            "type": "scattermapbox"
           }
          ],
          "scatterpolar": [
           {
            "marker": {
             "colorbar": {
              "outlinewidth": 0,
              "ticks": ""
             }
            },
            "type": "scatterpolar"
           }
          ],
          "scatterpolargl": [
           {
            "marker": {
             "colorbar": {
              "outlinewidth": 0,
              "ticks": ""
             }
            },
            "type": "scatterpolargl"
           }
          ],
          "scatterternary": [
           {
            "marker": {
             "colorbar": {
              "outlinewidth": 0,
              "ticks": ""
             }
            },
            "type": "scatterternary"
           }
          ],
          "surface": [
           {
            "colorbar": {
             "outlinewidth": 0,
             "ticks": ""
            },
            "colorscale": [
             [
              0,
              "#0d0887"
             ],
             [
              0.1111111111111111,
              "#46039f"
             ],
             [
              0.2222222222222222,
              "#7201a8"
             ],
             [
              0.3333333333333333,
              "#9c179e"
             ],
             [
              0.4444444444444444,
              "#bd3786"
             ],
             [
              0.5555555555555556,
              "#d8576b"
             ],
             [
              0.6666666666666666,
              "#ed7953"
             ],
             [
              0.7777777777777778,
              "#fb9f3a"
             ],
             [
              0.8888888888888888,
              "#fdca26"
             ],
             [
              1,
              "#f0f921"
             ]
            ],
            "type": "surface"
           }
          ],
          "table": [
           {
            "cells": {
             "fill": {
              "color": "#EBF0F8"
             },
             "line": {
              "color": "white"
             }
            },
            "header": {
             "fill": {
              "color": "#C8D4E3"
             },
             "line": {
              "color": "white"
             }
            },
            "type": "table"
           }
          ]
         },
         "layout": {
          "annotationdefaults": {
           "arrowcolor": "#2a3f5f",
           "arrowhead": 0,
           "arrowwidth": 1
          },
          "autotypenumbers": "strict",
          "coloraxis": {
           "colorbar": {
            "outlinewidth": 0,
            "ticks": ""
           }
          },
          "colorscale": {
           "diverging": [
            [
             0,
             "#8e0152"
            ],
            [
             0.1,
             "#c51b7d"
            ],
            [
             0.2,
             "#de77ae"
            ],
            [
             0.3,
             "#f1b6da"
            ],
            [
             0.4,
             "#fde0ef"
            ],
            [
             0.5,
             "#f7f7f7"
            ],
            [
             0.6,
             "#e6f5d0"
            ],
            [
             0.7,
             "#b8e186"
            ],
            [
             0.8,
             "#7fbc41"
            ],
            [
             0.9,
             "#4d9221"
            ],
            [
             1,
             "#276419"
            ]
           ],
           "sequential": [
            [
             0,
             "#0d0887"
            ],
            [
             0.1111111111111111,
             "#46039f"
            ],
            [
             0.2222222222222222,
             "#7201a8"
            ],
            [
             0.3333333333333333,
             "#9c179e"
            ],
            [
             0.4444444444444444,
             "#bd3786"
            ],
            [
             0.5555555555555556,
             "#d8576b"
            ],
            [
             0.6666666666666666,
             "#ed7953"
            ],
            [
             0.7777777777777778,
             "#fb9f3a"
            ],
            [
             0.8888888888888888,
             "#fdca26"
            ],
            [
             1,
             "#f0f921"
            ]
           ],
           "sequentialminus": [
            [
             0,
             "#0d0887"
            ],
            [
             0.1111111111111111,
             "#46039f"
            ],
            [
             0.2222222222222222,
             "#7201a8"
            ],
            [
             0.3333333333333333,
             "#9c179e"
            ],
            [
             0.4444444444444444,
             "#bd3786"
            ],
            [
             0.5555555555555556,
             "#d8576b"
            ],
            [
             0.6666666666666666,
             "#ed7953"
            ],
            [
             0.7777777777777778,
             "#fb9f3a"
            ],
            [
             0.8888888888888888,
             "#fdca26"
            ],
            [
             1,
             "#f0f921"
            ]
           ]
          },
          "colorway": [
           "#636efa",
           "#EF553B",
           "#00cc96",
           "#ab63fa",
           "#FFA15A",
           "#19d3f3",
           "#FF6692",
           "#B6E880",
           "#FF97FF",
           "#FECB52"
          ],
          "font": {
           "color": "#2a3f5f"
          },
          "geo": {
           "bgcolor": "white",
           "lakecolor": "white",
           "landcolor": "#E5ECF6",
           "showlakes": true,
           "showland": true,
           "subunitcolor": "white"
          },
          "hoverlabel": {
           "align": "left"
          },
          "hovermode": "closest",
          "mapbox": {
           "style": "light"
          },
          "paper_bgcolor": "white",
          "plot_bgcolor": "#E5ECF6",
          "polar": {
           "angularaxis": {
            "gridcolor": "white",
            "linecolor": "white",
            "ticks": ""
           },
           "bgcolor": "#E5ECF6",
           "radialaxis": {
            "gridcolor": "white",
            "linecolor": "white",
            "ticks": ""
           }
          },
          "scene": {
           "xaxis": {
            "backgroundcolor": "#E5ECF6",
            "gridcolor": "white",
            "gridwidth": 2,
            "linecolor": "white",
            "showbackground": true,
            "ticks": "",
            "zerolinecolor": "white"
           },
           "yaxis": {
            "backgroundcolor": "#E5ECF6",
            "gridcolor": "white",
            "gridwidth": 2,
            "linecolor": "white",
            "showbackground": true,
            "ticks": "",
            "zerolinecolor": "white"
           },
           "zaxis": {
            "backgroundcolor": "#E5ECF6",
            "gridcolor": "white",
            "gridwidth": 2,
            "linecolor": "white",
            "showbackground": true,
            "ticks": "",
            "zerolinecolor": "white"
           }
          },
          "shapedefaults": {
           "line": {
            "color": "#2a3f5f"
           }
          },
          "ternary": {
           "aaxis": {
            "gridcolor": "white",
            "linecolor": "white",
            "ticks": ""
           },
           "baxis": {
            "gridcolor": "white",
            "linecolor": "white",
            "ticks": ""
           },
           "bgcolor": "#E5ECF6",
           "caxis": {
            "gridcolor": "white",
            "linecolor": "white",
            "ticks": ""
           }
          },
          "title": {
           "x": 0.05
          },
          "xaxis": {
           "automargin": true,
           "gridcolor": "white",
           "linecolor": "white",
           "ticks": "",
           "title": {
            "standoff": 15
           },
           "zerolinecolor": "white",
           "zerolinewidth": 2
          },
          "yaxis": {
           "automargin": true,
           "gridcolor": "white",
           "linecolor": "white",
           "ticks": "",
           "title": {
            "standoff": 15
           },
           "zerolinecolor": "white",
           "zerolinewidth": 2
          }
         }
        },
        "title": {
         "text": "Number of records per line on 2023-03-24"
        },
        "xaxis": {
         "anchor": "y",
         "domain": [
          0,
          1
         ],
         "title": {
          "text": "line_name"
         }
        },
        "yaxis": {
         "anchor": "x",
         "domain": [
          0,
          1
         ],
         "title": {
          "text": "count"
         }
        }
       }
      }
     },
     "metadata": {},
     "output_type": "display_data"
    }
   ],
   "source": [
    "plot_activity_by_line('2023-03-24')"
   ]
  },
  {
   "cell_type": "code",
   "execution_count": 36,
   "metadata": {},
   "outputs": [],
   "source": [
    "def plot_median_delay_by_line(date):\n",
    "    # Read the data\n",
    "    timetable = pd.read_csv(f\"../data/raw/{date}_istdaten.csv\", sep=\";\", low_memory=False)\n",
    "\n",
    "    # Filter Lausanne area\n",
    "    timetable = timetable[timetable[\"BPUIC\"].isin(stops['stop_id'].to_list())]\n",
    "\n",
    "    # Filter only TL\n",
    "    timetable = timetable[timetable['BETREIBER_ABK'] == 'TL']\n",
    "\n",
    "    # Keep non-cancelled trips\n",
    "    timetable = timetable[timetable['FAELLT_AUS_TF'] == False]\n",
    "\n",
    "    # Keep only rows with arrival or departure target\n",
    "    timetable = timetable[~((timetable['ANKUNFTSZEIT'].isna()) & (timetable['ABFAHRTSZEIT'].isna()))]\n",
    "\n",
    "    # Keep only relevant columns\n",
    "    timetable = timetable[keep_columns]\n",
    "    timetable.rename(map_columns, axis=1, inplace=True)\n",
    "\n",
    "    # Convert 'arrival_time_target' and 'arrival_time_real' to datetime format\n",
    "    timetable['arrival_time_target'] = pd.to_datetime(timetable['arrival_time_target'], format='%d.%m.%Y %H:%M')\n",
    "    timetable['arrival_time_real'] = pd.to_datetime(timetable['arrival_time_real'], format='%d.%m.%Y %H:%M:%S')\n",
    "\n",
    "    # Compute arrival delay as the difference between real and target arrival times\n",
    "    timetable['arrival_delay'] = (timetable['arrival_time_real'] - timetable['arrival_time_target']).dt.total_seconds()\n",
    "\n",
    "    # Convert 'departure_time_target' and 'departure_time_real' to datetime format\n",
    "    timetable['departure_time_target'] = pd.to_datetime(timetable['departure_time_target'], format='%d.%m.%Y %H:%M')\n",
    "    timetable['departure_time_real'] = pd.to_datetime(timetable['departure_time_real'], format='%d.%m.%Y %H:%M:%S')\n",
    "\n",
    "    # Compute departure delay as the difference between real and target departure times\n",
    "    timetable['departure_delay'] = (timetable['departure_time_real'] - timetable['departure_time_target']).dt.total_seconds()\n",
    "\n",
    "    # Extract day of the week from 'arrival_time_target'\n",
    "    timetable['day_of_week'] = timetable['arrival_time_target'].dt.dayofweek\n",
    "\n",
    "    # Compute median arrival and departure delays per line\n",
    "    median_delays_by_line = timetable.groupby('line_name').agg({'arrival_delay': 'median', 'departure_delay': 'median'}).reset_index()\n",
    "\n",
    "    # Melt the DataFrame to combine arrival and departure delays into a single column\n",
    "    melted_delays = pd.melt(median_delays_by_line, id_vars='line_name', value_vars=['arrival_delay', 'departure_delay'], var_name='delay_type', value_name='median_delay')\n",
    "\n",
    "    # Plotting\n",
    "    fig = px.bar(melted_delays, x='line_name', y='median_delay', color='delay_type',\n",
    "                 labels={'line_name': 'Line', 'median_delay': 'Median Delay', 'delay_type': 'Delay Type'},\n",
    "                 title=f'Median Arrival and Departure Delays by Line - {date}')\n",
    "    fig.show()"
   ]
  },
  {
   "cell_type": "code",
   "execution_count": 37,
   "metadata": {},
   "outputs": [
    {
     "data": {
      "application/vnd.plotly.v1+json": {
       "config": {
        "plotlyServerURL": "https://plot.ly"
       },
       "data": [
        {
         "alignmentgroup": "True",
         "hovertemplate": "Delay Type=arrival_delay<br>Line=%{x}<br>Median Delay=%{y}<extra></extra>",
         "legendgroup": "arrival_delay",
         "marker": {
          "color": "#636efa",
          "pattern": {
           "shape": ""
          }
         },
         "name": "arrival_delay",
         "offsetgroup": "arrival_delay",
         "orientation": "v",
         "showlegend": true,
         "textposition": "auto",
         "type": "bar",
         "x": [
          "1",
          "13",
          "16",
          "17",
          "18",
          "19",
          "2",
          "20",
          "21",
          "23",
          "24",
          "25",
          "3",
          "31",
          "32",
          "33",
          "35",
          "36",
          "38",
          "4",
          "41",
          "42",
          "45",
          "46",
          "47",
          "48",
          "49",
          "54",
          "56",
          "58",
          "6",
          "60",
          "64",
          "68",
          "69",
          "7",
          "8",
          "9",
          "m1"
         ],
         "xaxis": "x",
         "y": [
          103,
          62,
          59,
          81,
          100,
          68.5,
          59,
          87,
          59,
          53,
          7,
          24,
          55,
          76,
          43,
          69,
          31,
          54,
          58,
          49,
          42,
          25,
          19,
          53,
          59,
          42,
          51,
          9,
          7,
          59.5,
          44,
          56,
          70,
          40,
          24,
          37,
          77,
          68,
          29.5
         ],
         "yaxis": "y"
        },
        {
         "alignmentgroup": "True",
         "hovertemplate": "Delay Type=departure_delay<br>Line=%{x}<br>Median Delay=%{y}<extra></extra>",
         "legendgroup": "departure_delay",
         "marker": {
          "color": "#EF553B",
          "pattern": {
           "shape": ""
          }
         },
         "name": "departure_delay",
         "offsetgroup": "departure_delay",
         "orientation": "v",
         "showlegend": true,
         "textposition": "auto",
         "type": "bar",
         "x": [
          "1",
          "13",
          "16",
          "17",
          "18",
          "19",
          "2",
          "20",
          "21",
          "23",
          "24",
          "25",
          "3",
          "31",
          "32",
          "33",
          "35",
          "36",
          "38",
          "4",
          "41",
          "42",
          "45",
          "46",
          "47",
          "48",
          "49",
          "54",
          "56",
          "58",
          "6",
          "60",
          "64",
          "68",
          "69",
          "7",
          "8",
          "9",
          "m1"
         ],
         "xaxis": "x",
         "y": [
          126,
          74,
          76,
          101,
          120,
          87,
          79,
          103,
          74,
          62,
          24,
          40,
          73,
          82,
          56,
          83,
          45,
          61,
          70,
          72,
          52,
          41,
          37,
          67,
          68,
          55,
          64,
          28,
          27,
          76,
          67,
          71,
          78,
          48,
          33.5,
          62,
          94,
          85,
          51
         ],
         "yaxis": "y"
        }
       ],
       "layout": {
        "barmode": "relative",
        "legend": {
         "title": {
          "text": "Delay Type"
         },
         "tracegroupgap": 0
        },
        "template": {
         "data": {
          "bar": [
           {
            "error_x": {
             "color": "#2a3f5f"
            },
            "error_y": {
             "color": "#2a3f5f"
            },
            "marker": {
             "line": {
              "color": "#E5ECF6",
              "width": 0.5
             },
             "pattern": {
              "fillmode": "overlay",
              "size": 10,
              "solidity": 0.2
             }
            },
            "type": "bar"
           }
          ],
          "barpolar": [
           {
            "marker": {
             "line": {
              "color": "#E5ECF6",
              "width": 0.5
             },
             "pattern": {
              "fillmode": "overlay",
              "size": 10,
              "solidity": 0.2
             }
            },
            "type": "barpolar"
           }
          ],
          "carpet": [
           {
            "aaxis": {
             "endlinecolor": "#2a3f5f",
             "gridcolor": "white",
             "linecolor": "white",
             "minorgridcolor": "white",
             "startlinecolor": "#2a3f5f"
            },
            "baxis": {
             "endlinecolor": "#2a3f5f",
             "gridcolor": "white",
             "linecolor": "white",
             "minorgridcolor": "white",
             "startlinecolor": "#2a3f5f"
            },
            "type": "carpet"
           }
          ],
          "choropleth": [
           {
            "colorbar": {
             "outlinewidth": 0,
             "ticks": ""
            },
            "type": "choropleth"
           }
          ],
          "contour": [
           {
            "colorbar": {
             "outlinewidth": 0,
             "ticks": ""
            },
            "colorscale": [
             [
              0,
              "#0d0887"
             ],
             [
              0.1111111111111111,
              "#46039f"
             ],
             [
              0.2222222222222222,
              "#7201a8"
             ],
             [
              0.3333333333333333,
              "#9c179e"
             ],
             [
              0.4444444444444444,
              "#bd3786"
             ],
             [
              0.5555555555555556,
              "#d8576b"
             ],
             [
              0.6666666666666666,
              "#ed7953"
             ],
             [
              0.7777777777777778,
              "#fb9f3a"
             ],
             [
              0.8888888888888888,
              "#fdca26"
             ],
             [
              1,
              "#f0f921"
             ]
            ],
            "type": "contour"
           }
          ],
          "contourcarpet": [
           {
            "colorbar": {
             "outlinewidth": 0,
             "ticks": ""
            },
            "type": "contourcarpet"
           }
          ],
          "heatmap": [
           {
            "colorbar": {
             "outlinewidth": 0,
             "ticks": ""
            },
            "colorscale": [
             [
              0,
              "#0d0887"
             ],
             [
              0.1111111111111111,
              "#46039f"
             ],
             [
              0.2222222222222222,
              "#7201a8"
             ],
             [
              0.3333333333333333,
              "#9c179e"
             ],
             [
              0.4444444444444444,
              "#bd3786"
             ],
             [
              0.5555555555555556,
              "#d8576b"
             ],
             [
              0.6666666666666666,
              "#ed7953"
             ],
             [
              0.7777777777777778,
              "#fb9f3a"
             ],
             [
              0.8888888888888888,
              "#fdca26"
             ],
             [
              1,
              "#f0f921"
             ]
            ],
            "type": "heatmap"
           }
          ],
          "heatmapgl": [
           {
            "colorbar": {
             "outlinewidth": 0,
             "ticks": ""
            },
            "colorscale": [
             [
              0,
              "#0d0887"
             ],
             [
              0.1111111111111111,
              "#46039f"
             ],
             [
              0.2222222222222222,
              "#7201a8"
             ],
             [
              0.3333333333333333,
              "#9c179e"
             ],
             [
              0.4444444444444444,
              "#bd3786"
             ],
             [
              0.5555555555555556,
              "#d8576b"
             ],
             [
              0.6666666666666666,
              "#ed7953"
             ],
             [
              0.7777777777777778,
              "#fb9f3a"
             ],
             [
              0.8888888888888888,
              "#fdca26"
             ],
             [
              1,
              "#f0f921"
             ]
            ],
            "type": "heatmapgl"
           }
          ],
          "histogram": [
           {
            "marker": {
             "pattern": {
              "fillmode": "overlay",
              "size": 10,
              "solidity": 0.2
             }
            },
            "type": "histogram"
           }
          ],
          "histogram2d": [
           {
            "colorbar": {
             "outlinewidth": 0,
             "ticks": ""
            },
            "colorscale": [
             [
              0,
              "#0d0887"
             ],
             [
              0.1111111111111111,
              "#46039f"
             ],
             [
              0.2222222222222222,
              "#7201a8"
             ],
             [
              0.3333333333333333,
              "#9c179e"
             ],
             [
              0.4444444444444444,
              "#bd3786"
             ],
             [
              0.5555555555555556,
              "#d8576b"
             ],
             [
              0.6666666666666666,
              "#ed7953"
             ],
             [
              0.7777777777777778,
              "#fb9f3a"
             ],
             [
              0.8888888888888888,
              "#fdca26"
             ],
             [
              1,
              "#f0f921"
             ]
            ],
            "type": "histogram2d"
           }
          ],
          "histogram2dcontour": [
           {
            "colorbar": {
             "outlinewidth": 0,
             "ticks": ""
            },
            "colorscale": [
             [
              0,
              "#0d0887"
             ],
             [
              0.1111111111111111,
              "#46039f"
             ],
             [
              0.2222222222222222,
              "#7201a8"
             ],
             [
              0.3333333333333333,
              "#9c179e"
             ],
             [
              0.4444444444444444,
              "#bd3786"
             ],
             [
              0.5555555555555556,
              "#d8576b"
             ],
             [
              0.6666666666666666,
              "#ed7953"
             ],
             [
              0.7777777777777778,
              "#fb9f3a"
             ],
             [
              0.8888888888888888,
              "#fdca26"
             ],
             [
              1,
              "#f0f921"
             ]
            ],
            "type": "histogram2dcontour"
           }
          ],
          "mesh3d": [
           {
            "colorbar": {
             "outlinewidth": 0,
             "ticks": ""
            },
            "type": "mesh3d"
           }
          ],
          "parcoords": [
           {
            "line": {
             "colorbar": {
              "outlinewidth": 0,
              "ticks": ""
             }
            },
            "type": "parcoords"
           }
          ],
          "pie": [
           {
            "automargin": true,
            "type": "pie"
           }
          ],
          "scatter": [
           {
            "fillpattern": {
             "fillmode": "overlay",
             "size": 10,
             "solidity": 0.2
            },
            "type": "scatter"
           }
          ],
          "scatter3d": [
           {
            "line": {
             "colorbar": {
              "outlinewidth": 0,
              "ticks": ""
             }
            },
            "marker": {
             "colorbar": {
              "outlinewidth": 0,
              "ticks": ""
             }
            },
            "type": "scatter3d"
           }
          ],
          "scattercarpet": [
           {
            "marker": {
             "colorbar": {
              "outlinewidth": 0,
              "ticks": ""
             }
            },
            "type": "scattercarpet"
           }
          ],
          "scattergeo": [
           {
            "marker": {
             "colorbar": {
              "outlinewidth": 0,
              "ticks": ""
             }
            },
            "type": "scattergeo"
           }
          ],
          "scattergl": [
           {
            "marker": {
             "colorbar": {
              "outlinewidth": 0,
              "ticks": ""
             }
            },
            "type": "scattergl"
           }
          ],
          "scattermapbox": [
           {
            "marker": {
             "colorbar": {
              "outlinewidth": 0,
              "ticks": ""
             }
            },
            "type": "scattermapbox"
           }
          ],
          "scatterpolar": [
           {
            "marker": {
             "colorbar": {
              "outlinewidth": 0,
              "ticks": ""
             }
            },
            "type": "scatterpolar"
           }
          ],
          "scatterpolargl": [
           {
            "marker": {
             "colorbar": {
              "outlinewidth": 0,
              "ticks": ""
             }
            },
            "type": "scatterpolargl"
           }
          ],
          "scatterternary": [
           {
            "marker": {
             "colorbar": {
              "outlinewidth": 0,
              "ticks": ""
             }
            },
            "type": "scatterternary"
           }
          ],
          "surface": [
           {
            "colorbar": {
             "outlinewidth": 0,
             "ticks": ""
            },
            "colorscale": [
             [
              0,
              "#0d0887"
             ],
             [
              0.1111111111111111,
              "#46039f"
             ],
             [
              0.2222222222222222,
              "#7201a8"
             ],
             [
              0.3333333333333333,
              "#9c179e"
             ],
             [
              0.4444444444444444,
              "#bd3786"
             ],
             [
              0.5555555555555556,
              "#d8576b"
             ],
             [
              0.6666666666666666,
              "#ed7953"
             ],
             [
              0.7777777777777778,
              "#fb9f3a"
             ],
             [
              0.8888888888888888,
              "#fdca26"
             ],
             [
              1,
              "#f0f921"
             ]
            ],
            "type": "surface"
           }
          ],
          "table": [
           {
            "cells": {
             "fill": {
              "color": "#EBF0F8"
             },
             "line": {
              "color": "white"
             }
            },
            "header": {
             "fill": {
              "color": "#C8D4E3"
             },
             "line": {
              "color": "white"
             }
            },
            "type": "table"
           }
          ]
         },
         "layout": {
          "annotationdefaults": {
           "arrowcolor": "#2a3f5f",
           "arrowhead": 0,
           "arrowwidth": 1
          },
          "autotypenumbers": "strict",
          "coloraxis": {
           "colorbar": {
            "outlinewidth": 0,
            "ticks": ""
           }
          },
          "colorscale": {
           "diverging": [
            [
             0,
             "#8e0152"
            ],
            [
             0.1,
             "#c51b7d"
            ],
            [
             0.2,
             "#de77ae"
            ],
            [
             0.3,
             "#f1b6da"
            ],
            [
             0.4,
             "#fde0ef"
            ],
            [
             0.5,
             "#f7f7f7"
            ],
            [
             0.6,
             "#e6f5d0"
            ],
            [
             0.7,
             "#b8e186"
            ],
            [
             0.8,
             "#7fbc41"
            ],
            [
             0.9,
             "#4d9221"
            ],
            [
             1,
             "#276419"
            ]
           ],
           "sequential": [
            [
             0,
             "#0d0887"
            ],
            [
             0.1111111111111111,
             "#46039f"
            ],
            [
             0.2222222222222222,
             "#7201a8"
            ],
            [
             0.3333333333333333,
             "#9c179e"
            ],
            [
             0.4444444444444444,
             "#bd3786"
            ],
            [
             0.5555555555555556,
             "#d8576b"
            ],
            [
             0.6666666666666666,
             "#ed7953"
            ],
            [
             0.7777777777777778,
             "#fb9f3a"
            ],
            [
             0.8888888888888888,
             "#fdca26"
            ],
            [
             1,
             "#f0f921"
            ]
           ],
           "sequentialminus": [
            [
             0,
             "#0d0887"
            ],
            [
             0.1111111111111111,
             "#46039f"
            ],
            [
             0.2222222222222222,
             "#7201a8"
            ],
            [
             0.3333333333333333,
             "#9c179e"
            ],
            [
             0.4444444444444444,
             "#bd3786"
            ],
            [
             0.5555555555555556,
             "#d8576b"
            ],
            [
             0.6666666666666666,
             "#ed7953"
            ],
            [
             0.7777777777777778,
             "#fb9f3a"
            ],
            [
             0.8888888888888888,
             "#fdca26"
            ],
            [
             1,
             "#f0f921"
            ]
           ]
          },
          "colorway": [
           "#636efa",
           "#EF553B",
           "#00cc96",
           "#ab63fa",
           "#FFA15A",
           "#19d3f3",
           "#FF6692",
           "#B6E880",
           "#FF97FF",
           "#FECB52"
          ],
          "font": {
           "color": "#2a3f5f"
          },
          "geo": {
           "bgcolor": "white",
           "lakecolor": "white",
           "landcolor": "#E5ECF6",
           "showlakes": true,
           "showland": true,
           "subunitcolor": "white"
          },
          "hoverlabel": {
           "align": "left"
          },
          "hovermode": "closest",
          "mapbox": {
           "style": "light"
          },
          "paper_bgcolor": "white",
          "plot_bgcolor": "#E5ECF6",
          "polar": {
           "angularaxis": {
            "gridcolor": "white",
            "linecolor": "white",
            "ticks": ""
           },
           "bgcolor": "#E5ECF6",
           "radialaxis": {
            "gridcolor": "white",
            "linecolor": "white",
            "ticks": ""
           }
          },
          "scene": {
           "xaxis": {
            "backgroundcolor": "#E5ECF6",
            "gridcolor": "white",
            "gridwidth": 2,
            "linecolor": "white",
            "showbackground": true,
            "ticks": "",
            "zerolinecolor": "white"
           },
           "yaxis": {
            "backgroundcolor": "#E5ECF6",
            "gridcolor": "white",
            "gridwidth": 2,
            "linecolor": "white",
            "showbackground": true,
            "ticks": "",
            "zerolinecolor": "white"
           },
           "zaxis": {
            "backgroundcolor": "#E5ECF6",
            "gridcolor": "white",
            "gridwidth": 2,
            "linecolor": "white",
            "showbackground": true,
            "ticks": "",
            "zerolinecolor": "white"
           }
          },
          "shapedefaults": {
           "line": {
            "color": "#2a3f5f"
           }
          },
          "ternary": {
           "aaxis": {
            "gridcolor": "white",
            "linecolor": "white",
            "ticks": ""
           },
           "baxis": {
            "gridcolor": "white",
            "linecolor": "white",
            "ticks": ""
           },
           "bgcolor": "#E5ECF6",
           "caxis": {
            "gridcolor": "white",
            "linecolor": "white",
            "ticks": ""
           }
          },
          "title": {
           "x": 0.05
          },
          "xaxis": {
           "automargin": true,
           "gridcolor": "white",
           "linecolor": "white",
           "ticks": "",
           "title": {
            "standoff": 15
           },
           "zerolinecolor": "white",
           "zerolinewidth": 2
          },
          "yaxis": {
           "automargin": true,
           "gridcolor": "white",
           "linecolor": "white",
           "ticks": "",
           "title": {
            "standoff": 15
           },
           "zerolinecolor": "white",
           "zerolinewidth": 2
          }
         }
        },
        "title": {
         "text": "Median Arrival and Departure Delays by Line - 2023-03-24"
        },
        "xaxis": {
         "anchor": "y",
         "domain": [
          0,
          1
         ],
         "title": {
          "text": "Line"
         }
        },
        "yaxis": {
         "anchor": "x",
         "domain": [
          0,
          1
         ],
         "title": {
          "text": "Median Delay"
         }
        }
       }
      }
     },
     "metadata": {},
     "output_type": "display_data"
    }
   ],
   "source": [
    "plot_median_delay_by_line('2023-03-24')"
   ]
  },
  {
   "attachments": {},
   "cell_type": "markdown",
   "metadata": {
    "id": "F1qTyHWGIa1s"
   },
   "source": [
    "---\n",
    "## Part 4 - Related work\n",
    "\n",
    "- What others have already done with the data?\n",
    "\n",
    "We took our data from the website https://opentransportdata.swiss/de/showcase-5/, which already labels and organize its data.\n",
    "\n",
    "- Why is your approach original?\n",
    "\n",
    "We would like to concentrate our visualizations only on Lausanne, to allow any Lausanne habitant or future habitant to have access to a full view of the public transports of the city\n",
    "\n",
    "- What source of inspiration do you take? Visualizations that you found on other websites or magazines (might be unrelated to your data).\n",
    "\n",
    "Other visualisations of that type have been done, for instance in Switzerland: https://observablehq.com/@alexmasselot/mapping-swiss-trains-delays-over-one-day/2, which shows the delays of the trains in Switzerland, and https://mobility.portal.geops.io/world.geops.transit?baselayer=world.geops, which displays most of the public transports in the world and their position in real time.\n",
    "\n",
    "- In case you are using a dataset that you have already explored in another context (ML or ADA course, semester project...), you are required to share the report of that work to outline the differences with the submission for this class.\n",
    "\n",
    "N/A\n",
    "\n"
   ]
  },
  {
   "attachments": {},
   "cell_type": "markdown",
   "metadata": {},
   "source": []
  }
 ],
 "metadata": {
  "colab": {
   "provenance": []
  },
  "kernelspec": {
   "display_name": "Python 3 (ipykernel)",
   "language": "python",
   "name": "python3"
  },
  "language_info": {
   "codemirror_mode": {
    "name": "ipython",
    "version": 3
   },
   "file_extension": ".py",
   "mimetype": "text/x-python",
   "name": "python",
   "nbconvert_exporter": "python",
   "pygments_lexer": "ipython3",
   "version": "3.9.0"
  }
 },
 "nbformat": 4,
 "nbformat_minor": 1
}
